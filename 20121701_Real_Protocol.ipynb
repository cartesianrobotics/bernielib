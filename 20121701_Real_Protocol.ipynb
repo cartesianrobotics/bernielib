{
 "cells": [
  {
   "cell_type": "code",
   "execution_count": 15,
   "metadata": {},
   "outputs": [
    {
     "data": {
      "text/plain": [
       "[]"
      ]
     },
     "execution_count": 15,
     "metadata": {},
     "output_type": "execute_result"
    }
   ],
   "source": [
    "import time\n",
    "import pandas as pd\n",
    "from datetime import datetime\n",
    "import threading\n",
    "\n",
    "import bernielib as bl\n",
    "\n",
    "bl.listSerialPorts()"
   ]
  },
  {
   "cell_type": "code",
   "execution_count": 2,
   "metadata": {},
   "outputs": [],
   "source": [
    "ber = bl.robot(cartesian_port_name='COM18', pipette_port_name='COM7', misc_port_name='COM20')"
   ]
  },
  {
   "cell_type": "code",
   "execution_count": 3,
   "metadata": {},
   "outputs": [],
   "source": [
    "ber.robotHome()\n",
    "ber.pipetteHome()"
   ]
  },
  {
   "cell_type": "markdown",
   "metadata": {},
   "source": [
    "# Refill tips"
   ]
  },
  {
   "cell_type": "code",
   "execution_count": 4,
   "metadata": {},
   "outputs": [],
   "source": [
    "ber.tips_rack.refill()"
   ]
  },
  {
   "cell_type": "markdown",
   "metadata": {},
   "source": [
    "# Recalibrate pipette tip rack"
   ]
  },
  {
   "cell_type": "code",
   "execution_count": 5,
   "metadata": {},
   "outputs": [
    {
     "data": {
      "text/plain": [
       "(76.80000000000001, 149.765, 168.7)"
      ]
     },
     "execution_count": 5,
     "metadata": {},
     "output_type": "execute_result"
    }
   ],
   "source": [
    "ber.calibrateRack(rack='tips')"
   ]
  },
  {
   "cell_type": "code",
   "execution_count": 8,
   "metadata": {},
   "outputs": [],
   "source": [
    "ber.move(z=50)"
   ]
  },
  {
   "cell_type": "markdown",
   "metadata": {},
   "source": [
    "# Preparing DNA for the experiment"
   ]
  },
  {
   "cell_type": "markdown",
   "metadata": {},
   "source": [
    "## Preparing fake DNA sample, only for testing. Don't run at a real run"
   ]
  },
  {
   "cell_type": "code",
   "execution_count": 6,
   "metadata": {},
   "outputs": [],
   "source": [
    "dna_500 = bl.createSample('eppendorf', 'dna_500', ber.samples_rack, 0, 10, 0)\n",
    "water = bl.createSample('50ml', 'water', ber.reagents_rack, 1, 1, 50000)"
   ]
  },
  {
   "cell_type": "code",
   "execution_count": 9,
   "metadata": {},
   "outputs": [],
   "source": [
    "ber.pickUpNextTip()"
   ]
  },
  {
   "cell_type": "code",
   "execution_count": 10,
   "metadata": {},
   "outputs": [],
   "source": [
    "ber.move(z=50)"
   ]
  },
  {
   "cell_type": "code",
   "execution_count": 11,
   "metadata": {},
   "outputs": [],
   "source": [
    "ber.transferLiquid(water, dna_500, 50)"
   ]
  },
  {
   "cell_type": "code",
   "execution_count": 12,
   "metadata": {},
   "outputs": [],
   "source": [
    "ber.move(z=50)"
   ]
  },
  {
   "cell_type": "code",
   "execution_count": 13,
   "metadata": {},
   "outputs": [],
   "source": [
    "ber.dumpTipToWaste()"
   ]
  },
  {
   "cell_type": "markdown",
   "metadata": {},
   "source": [
    "## Preparing diluted stock solution"
   ]
  },
  {
   "cell_type": "code",
   "execution_count": 5,
   "metadata": {},
   "outputs": [],
   "source": [
    "dna_500 = bl.createSample('eppendorf', 'dna_500', ber.samples_rack, 0, 10, 50)\n",
    "dna_stock = bl.createSample('eppendorf', 'dna_stock', ber.samples_rack, 0, 9, 0)\n",
    "water = bl.createSample('50ml', 'water', ber.reagents_rack, 1, 1, 50000)"
   ]
  },
  {
   "cell_type": "code",
   "execution_count": 6,
   "metadata": {},
   "outputs": [],
   "source": [
    "ber.pickUpNextTip()"
   ]
  },
  {
   "cell_type": "code",
   "execution_count": 7,
   "metadata": {},
   "outputs": [],
   "source": [
    "ber.move(z=50)"
   ]
  },
  {
   "cell_type": "code",
   "execution_count": 8,
   "metadata": {},
   "outputs": [],
   "source": [
    "ber.transferLiquid(water, dna_stock, 190)"
   ]
  },
  {
   "cell_type": "code",
   "execution_count": 9,
   "metadata": {},
   "outputs": [],
   "source": [
    "ber.transferLiquid(dna_500, dna_stock, 10, v_immerse_dispense=1600)"
   ]
  },
  {
   "cell_type": "code",
   "execution_count": 10,
   "metadata": {},
   "outputs": [],
   "source": [
    "script = pd.read_csv('mixing_pattern_eppendorf.csv')"
   ]
  },
  {
   "cell_type": "code",
   "execution_count": 11,
   "metadata": {},
   "outputs": [],
   "source": [
    "ber.mixByScript(dna_stock, script)"
   ]
  },
  {
   "cell_type": "code",
   "execution_count": 12,
   "metadata": {},
   "outputs": [],
   "source": [
    "ber.pipetteHome()"
   ]
  },
  {
   "cell_type": "markdown",
   "metadata": {},
   "source": [
    "## Preparing sample solutions with DNA ladder"
   ]
  },
  {
   "cell_type": "code",
   "execution_count": 13,
   "metadata": {},
   "outputs": [],
   "source": [
    "samples_list = bl.createSamplesToPurifyList(ber, [0,0,0,0,0,0])"
   ]
  },
  {
   "cell_type": "code",
   "execution_count": 14,
   "metadata": {},
   "outputs": [],
   "source": [
    "for sample in samples_list:\n",
    "    ber.transferLiquid(dna_stock, sample, 30, v_immerse_dispense=1600)"
   ]
  },
  {
   "cell_type": "code",
   "execution_count": 15,
   "metadata": {},
   "outputs": [],
   "source": [
    "ber.move(z=50)"
   ]
  },
  {
   "cell_type": "code",
   "execution_count": 16,
   "metadata": {},
   "outputs": [],
   "source": [
    "ber.dumpTipToWaste()"
   ]
  },
  {
   "cell_type": "code",
   "execution_count": 17,
   "metadata": {},
   "outputs": [],
   "source": [
    "ber.pipetteHome()"
   ]
  },
  {
   "cell_type": "markdown",
   "metadata": {},
   "source": [
    "# Running a protocol"
   ]
  },
  {
   "cell_type": "code",
   "execution_count": 4,
   "metadata": {},
   "outputs": [],
   "source": [
    "def getSampleTopZ(sample, rack):\n",
    "    z_above_rack = sample.getZAboveRack()\n",
    "    z_rack_top = rack.getZ()\n",
    "    return z_rack_top - z_above_rack"
   ]
  },
  {
   "cell_type": "code",
   "execution_count": 5,
   "metadata": {},
   "outputs": [],
   "source": [
    "def calcBeadsVolumeToAdd(robot, samples_list, cutoff_list):\n",
    "    v_beads_list = []\n",
    "    for sample, dna_size in zip(samples_list, cutoff_list):\n",
    "        v_beads = robot.calcBeadsVol(sample, dna_size)\n",
    "        v_beads_list.append(v_beads)\n",
    "    return v_beads_list"
   ]
  },
  {
   "cell_type": "code",
   "execution_count": 6,
   "metadata": {},
   "outputs": [],
   "source": [
    "def waitAfterTimestamp(timestamp, delay):\n",
    "    new_ts = time.time()\n",
    "    while (new_ts - timestamp) < delay:\n",
    "        time.sleep(1)\n",
    "        new_ts = time.time()"
   ]
  },
  {
   "cell_type": "code",
   "execution_count": 7,
   "metadata": {},
   "outputs": [],
   "source": [
    "def addBeads(robot, sample, beads, v_beads, sample_mix_scenario, beads_mix_scenario, z_safe=50):\n",
    "    robot.move(z=z_safe)\n",
    "    #robot.pickUpNextTip()\n",
    "    #robot.move(z=z_safe)\n",
    "    # Mixing beads before experiment\n",
    "    #robot.mixByScript(beads, beads_mix_scenario)\n",
    "    # Transferring beads to sample\n",
    "    robot.transferLiquid(beads, sample, v_beads)\n",
    "    # Mixing sample with beads\n",
    "    robot.mixByScript(sample, sample_mix_scenario)\n",
    "    robot.move(z=z_safe)\n",
    "    #robot.dumpTipToWaste()\n",
    "    robot.move(z=z_safe)"
   ]
  },
  {
   "cell_type": "code",
   "execution_count": 8,
   "metadata": {},
   "outputs": [],
   "source": [
    "def addBeadsToAll(robot, samples_list, v_beads_list, beads, sample_mix_scenario, beads_mix_scenario):\n",
    "    robot.moveMagnetsAway(poweroff=True)\n",
    "    robot.pickUpNextTip()\n",
    "    robot.move(z=50)\n",
    "    robot.mixByScript(beads, beads_mix_scenario)\n",
    "    robot.move(z=50)\n",
    "    \n",
    "    for sample, v_beads in zip(samples_list, v_beads_list):\n",
    "        robot.transferLiquid(beads, sample, v_beads)\n",
    "    \n",
    "    counter = 0\n",
    "    for sample, v_beads in zip(samples_list, v_beads_list):\n",
    "        if counter != 0:\n",
    "            robot.move(z=50)\n",
    "            robot.pickUpNextTip()\n",
    "        \n",
    "        robot.move(z=50)\n",
    "        \n",
    "        robot.mixByScript(sample, sample_mix_scenario)\n",
    "            \n",
    "        if counter == 0:\n",
    "            timestamp = time.time()\n",
    "        counter += 1\n",
    "        \n",
    "        robot.move(z=50)\n",
    "        robot.dumpTipToWaste()\n",
    "    \n",
    "    return timestamp"
   ]
  },
  {
   "cell_type": "code",
   "execution_count": 20,
   "metadata": {},
   "outputs": [],
   "source": [
    "def removeSupernatant(robot, sample, waste, z_safe=50, delay=0.5):\n",
    "    robot.pickUpNextTip()\n",
    "    robot.move(z=z_safe)\n",
    "    z0 = robot._getTubeZBottom(sample)\n",
    "    while sample.getVolume() > 200:\n",
    "        robot.movePipetteToVolume(200)\n",
    "        robot.moveToSample(sample)\n",
    "        robot.move(z=z0-0.5)\n",
    "        robot.movePipetteToVolume(0)\n",
    "        new_vol = sample.getVolume() - 200\n",
    "        if new_vol < 0:\n",
    "            new_vol = 0\n",
    "        sample.setVolume(new_vol)\n",
    "        robot.move(z=z_safe)\n",
    "        robot.dispenseLiquid(waste, 200, blow_extra=True)\n",
    "        robot.move(z=z_safe)\n",
    "    pipetteThread = threading.Thread(target=robot.movePipetteToVolume, args=(250,))\n",
    "    pipetteThread.start()\n",
    "    robot.moveToSample(sample)\n",
    "    #robot.movePipetteToVolume(250)\n",
    "    robot.move(z=z0)\n",
    "    pipetteThread.join()\n",
    "    robot.movePipetteToVolume(50)\n",
    "    time.sleep(delay)\n",
    "    robot.move(z=z0-0.5)\n",
    "    time.sleep(delay)\n",
    "    robot.moveAxisDelta('X', 1.5)\n",
    "    robot.movePipetteToVolume(40)\n",
    "    time.sleep(delay/4.0)\n",
    "    robot.moveAxisDelta('X', -1.5)\n",
    "    robot.moveAxisDelta('Y', 1.5)\n",
    "    robot.movePipetteToVolume(30)\n",
    "    time.sleep(delay/4.0)\n",
    "    robot.moveAxisDelta('Y', -1.5)\n",
    "    robot.moveAxisDelta('X', -1.5)    \n",
    "    robot.movePipetteToVolume(20)\n",
    "    time.sleep(delay/4.0)\n",
    "    robot.moveAxisDelta('X', 1.5)\n",
    "    robot.moveAxisDelta('Y', -1.5)\n",
    "    robot.movePipetteToVolume(0)\n",
    "    time.sleep(delay/4.0)\n",
    "    robot.move(z=z_safe)\n",
    "    robot.dispenseLiquid(waste, 250, blow_extra=True)\n",
    "    robot.move(z=z_safe)\n",
    "    robot.dumpTipToWaste()"
   ]
  },
  {
   "cell_type": "code",
   "execution_count": 26,
   "metadata": {},
   "outputs": [],
   "source": [
    "def removeSupernatantFast(robot, sample, waste, z_safe=50, delay=0.5):\n",
    "    robot.pickUpNextTip()\n",
    "    robot.move(z=z_safe)\n",
    "    z0 = robot._getTubeZBottom(sample)\n",
    "    while sample.getVolume() > 0:\n",
    "        pipetteThread = threading.Thread(target=robot.movePipetteToVolume, args=(200,))\n",
    "        pipetteThread.start()\n",
    "        robot.moveToSample(sample)\n",
    "        robot.move(z=z0-0.5)\n",
    "        pipetteThread.join()\n",
    "        robot.movePipetteToVolume(0)\n",
    "        new_vol = sample.getVolume() - 200\n",
    "        if new_vol < 0:\n",
    "            new_vol = 0\n",
    "        sample.setVolume(new_vol)\n",
    "        time.sleep(delay)\n",
    "        robot.move(z=z_safe)\n",
    "        robot.dispenseLiquid(waste, 200, blow_extra=True)\n",
    "        robot.move(z=z_safe)\n",
    "    robot.dumpTipToWaste()"
   ]
  },
  {
   "cell_type": "code",
   "execution_count": 10,
   "metadata": {},
   "outputs": [],
   "source": [
    "s = bl.createSamplesToPurifyList(ber, [0])[0]\n",
    "water = bl.createSample('50ml', 'water', ber.reagents_rack, 1, 1, 50000)\n",
    "waste = bl.createSample('50ml', 'liquid_waste', ber.reagents_rack, 0, 1, 0)"
   ]
  },
  {
   "cell_type": "code",
   "execution_count": 27,
   "metadata": {},
   "outputs": [],
   "source": [
    "ber.pickUpNextTip()"
   ]
  },
  {
   "cell_type": "code",
   "execution_count": 28,
   "metadata": {},
   "outputs": [],
   "source": [
    "ber.transferLiquid(water, s, 200)"
   ]
  },
  {
   "cell_type": "code",
   "execution_count": 29,
   "metadata": {},
   "outputs": [],
   "source": [
    "ber.move(z=50)"
   ]
  },
  {
   "cell_type": "code",
   "execution_count": 32,
   "metadata": {},
   "outputs": [],
   "source": [
    "ber.dumpTipToWaste()"
   ]
  },
  {
   "cell_type": "code",
   "execution_count": 31,
   "metadata": {},
   "outputs": [
    {
     "name": "stdout",
     "output_type": "stream",
     "text": [
      "11:53:13\n"
     ]
    },
    {
     "ename": "KeyboardInterrupt",
     "evalue": "",
     "output_type": "error",
     "traceback": [
      "\u001b[1;31m---------------------------------------------------------------------------\u001b[0m",
      "\u001b[1;31mKeyboardInterrupt\u001b[0m                         Traceback (most recent call last)",
      "\u001b[1;32m<ipython-input-31-820b9d4616aa>\u001b[0m in \u001b[0;36m<module>\u001b[1;34m\u001b[0m\n\u001b[0;32m      1\u001b[0m \u001b[0mprint\u001b[0m\u001b[1;33m(\u001b[0m\u001b[0mdatetime\u001b[0m\u001b[1;33m.\u001b[0m\u001b[0mnow\u001b[0m\u001b[1;33m(\u001b[0m\u001b[1;33m)\u001b[0m\u001b[1;33m.\u001b[0m\u001b[0mstrftime\u001b[0m\u001b[1;33m(\u001b[0m\u001b[1;34m\"%H:%M:%S\"\u001b[0m\u001b[1;33m)\u001b[0m\u001b[1;33m)\u001b[0m\u001b[1;33m\u001b[0m\u001b[1;33m\u001b[0m\u001b[0m\n\u001b[1;32m----> 2\u001b[1;33m \u001b[0mremoveSupernatant\u001b[0m\u001b[1;33m(\u001b[0m\u001b[0mber\u001b[0m\u001b[1;33m,\u001b[0m \u001b[0ms\u001b[0m\u001b[1;33m,\u001b[0m \u001b[0mwaste\u001b[0m\u001b[1;33m)\u001b[0m\u001b[1;33m\u001b[0m\u001b[1;33m\u001b[0m\u001b[0m\n\u001b[0m\u001b[0;32m      3\u001b[0m \u001b[0mprint\u001b[0m\u001b[1;33m(\u001b[0m\u001b[0mdatetime\u001b[0m\u001b[1;33m.\u001b[0m\u001b[0mnow\u001b[0m\u001b[1;33m(\u001b[0m\u001b[1;33m)\u001b[0m\u001b[1;33m.\u001b[0m\u001b[0mstrftime\u001b[0m\u001b[1;33m(\u001b[0m\u001b[1;34m\"%H:%M:%S\"\u001b[0m\u001b[1;33m)\u001b[0m\u001b[1;33m)\u001b[0m\u001b[1;33m\u001b[0m\u001b[1;33m\u001b[0m\u001b[0m\n",
      "\u001b[1;32m<ipython-input-20-a99d594cdad3>\u001b[0m in \u001b[0;36mremoveSupernatant\u001b[1;34m(robot, sample, waste, z_safe, delay)\u001b[0m\n\u001b[0;32m      1\u001b[0m \u001b[1;32mdef\u001b[0m \u001b[0mremoveSupernatant\u001b[0m\u001b[1;33m(\u001b[0m\u001b[0mrobot\u001b[0m\u001b[1;33m,\u001b[0m \u001b[0msample\u001b[0m\u001b[1;33m,\u001b[0m \u001b[0mwaste\u001b[0m\u001b[1;33m,\u001b[0m \u001b[0mz_safe\u001b[0m\u001b[1;33m=\u001b[0m\u001b[1;36m50\u001b[0m\u001b[1;33m,\u001b[0m \u001b[0mdelay\u001b[0m\u001b[1;33m=\u001b[0m\u001b[1;36m0.5\u001b[0m\u001b[1;33m)\u001b[0m\u001b[1;33m:\u001b[0m\u001b[1;33m\u001b[0m\u001b[1;33m\u001b[0m\u001b[0m\n\u001b[1;32m----> 2\u001b[1;33m     \u001b[0mrobot\u001b[0m\u001b[1;33m.\u001b[0m\u001b[0mpickUpNextTip\u001b[0m\u001b[1;33m(\u001b[0m\u001b[1;33m)\u001b[0m\u001b[1;33m\u001b[0m\u001b[1;33m\u001b[0m\u001b[0m\n\u001b[0m\u001b[0;32m      3\u001b[0m     \u001b[0mrobot\u001b[0m\u001b[1;33m.\u001b[0m\u001b[0mmove\u001b[0m\u001b[1;33m(\u001b[0m\u001b[0mz\u001b[0m\u001b[1;33m=\u001b[0m\u001b[0mz_safe\u001b[0m\u001b[1;33m)\u001b[0m\u001b[1;33m\u001b[0m\u001b[1;33m\u001b[0m\u001b[0m\n\u001b[0;32m      4\u001b[0m     \u001b[0mz0\u001b[0m \u001b[1;33m=\u001b[0m \u001b[0mrobot\u001b[0m\u001b[1;33m.\u001b[0m\u001b[0m_getTubeZBottom\u001b[0m\u001b[1;33m(\u001b[0m\u001b[0msample\u001b[0m\u001b[1;33m)\u001b[0m\u001b[1;33m\u001b[0m\u001b[1;33m\u001b[0m\u001b[0m\n\u001b[0;32m      5\u001b[0m     \u001b[1;32mwhile\u001b[0m \u001b[0msample\u001b[0m\u001b[1;33m.\u001b[0m\u001b[0mgetVolume\u001b[0m\u001b[1;33m(\u001b[0m\u001b[1;33m)\u001b[0m \u001b[1;33m>\u001b[0m \u001b[1;36m200\u001b[0m\u001b[1;33m:\u001b[0m\u001b[1;33m\u001b[0m\u001b[1;33m\u001b[0m\u001b[0m\n",
      "\u001b[1;32mc:\\Users\\sergi\\Dropbox\\workspace\\bernielib\\bernielib.py\u001b[0m in \u001b[0;36mpickUpNextTip\u001b[1;34m(self)\u001b[0m\n\u001b[0;32m    359\u001b[0m     \u001b[1;32mdef\u001b[0m \u001b[0mpickUpNextTip\u001b[0m\u001b[1;33m(\u001b[0m\u001b[0mself\u001b[0m\u001b[1;33m)\u001b[0m\u001b[1;33m:\u001b[0m\u001b[1;33m\u001b[0m\u001b[1;33m\u001b[0m\u001b[0m\n\u001b[0;32m    360\u001b[0m         \u001b[0mcol\u001b[0m\u001b[1;33m,\u001b[0m \u001b[0mrow\u001b[0m \u001b[1;33m=\u001b[0m \u001b[0mself\u001b[0m\u001b[1;33m.\u001b[0m\u001b[0mtips_rack\u001b[0m\u001b[1;33m.\u001b[0m\u001b[0mnext\u001b[0m\u001b[1;33m(\u001b[0m\u001b[1;33m)\u001b[0m\u001b[1;33m\u001b[0m\u001b[1;33m\u001b[0m\u001b[0m\n\u001b[1;32m--> 361\u001b[1;33m         \u001b[0mself\u001b[0m\u001b[1;33m.\u001b[0m\u001b[0mpickUpTip\u001b[0m\u001b[1;33m(\u001b[0m\u001b[0mcol\u001b[0m\u001b[1;33m,\u001b[0m \u001b[0mrow\u001b[0m\u001b[1;33m)\u001b[0m\u001b[1;33m\u001b[0m\u001b[1;33m\u001b[0m\u001b[0m\n\u001b[0m\u001b[0;32m    362\u001b[0m         \u001b[0mself\u001b[0m\u001b[1;33m.\u001b[0m\u001b[0mlast_tip_coord\u001b[0m \u001b[1;33m=\u001b[0m \u001b[1;33m(\u001b[0m\u001b[0mcol\u001b[0m\u001b[1;33m,\u001b[0m \u001b[0mrow\u001b[0m\u001b[1;33m)\u001b[0m\u001b[1;33m\u001b[0m\u001b[1;33m\u001b[0m\u001b[0m\n\u001b[0;32m    363\u001b[0m \u001b[1;33m\u001b[0m\u001b[0m\n",
      "\u001b[1;32mc:\\Users\\sergi\\Dropbox\\workspace\\bernielib\\bernielib.py\u001b[0m in \u001b[0;36mpickUpTip\u001b[1;34m(self, column, row, fine_approach_dz, raise_z, raise_dz_with_tip, dx, dy)\u001b[0m\n\u001b[0;32m    322\u001b[0m         \u001b[0mx\u001b[0m\u001b[1;33m,\u001b[0m \u001b[0my\u001b[0m\u001b[1;33m,\u001b[0m \u001b[0mz\u001b[0m \u001b[1;33m=\u001b[0m \u001b[0mself\u001b[0m\u001b[1;33m.\u001b[0m\u001b[0mgetPosition\u001b[0m\u001b[1;33m(\u001b[0m\u001b[1;33m)\u001b[0m\u001b[1;33m\u001b[0m\u001b[1;33m\u001b[0m\u001b[0m\n\u001b[0;32m    323\u001b[0m         \u001b[1;31m# Moving up with the tip\u001b[0m\u001b[1;33m\u001b[0m\u001b[1;33m\u001b[0m\u001b[1;33m\u001b[0m\u001b[0m\n\u001b[1;32m--> 324\u001b[1;33m         \u001b[0mself\u001b[0m\u001b[1;33m.\u001b[0m\u001b[0mmoveAxisDelta\u001b[0m\u001b[1;33m(\u001b[0m\u001b[1;34m'Z'\u001b[0m\u001b[1;33m,\u001b[0m \u001b[1;33m-\u001b[0m\u001b[0mraise_dz_with_tip\u001b[0m\u001b[1;33m)\u001b[0m\u001b[1;33m\u001b[0m\u001b[1;33m\u001b[0m\u001b[0m\n\u001b[0m\u001b[0;32m    325\u001b[0m         \u001b[0mself\u001b[0m\u001b[1;33m.\u001b[0m\u001b[0mtip_attached\u001b[0m \u001b[1;33m=\u001b[0m \u001b[1;36m1\u001b[0m\u001b[1;33m\u001b[0m\u001b[1;33m\u001b[0m\u001b[0m\n\u001b[0;32m    326\u001b[0m         \u001b[1;31m# Letting the rack know that the tip was picked from there\u001b[0m\u001b[1;33m\u001b[0m\u001b[1;33m\u001b[0m\u001b[1;33m\u001b[0m\u001b[0m\n",
      "\u001b[1;32mc:\\Users\\sergi\\Dropbox\\workspace\\bernielib\\bernielib.py\u001b[0m in \u001b[0;36mmoveAxisDelta\u001b[1;34m(self, axis, dist, speed)\u001b[0m\n\u001b[0;32m   1170\u001b[0m         \u001b[0mpos\u001b[0m \u001b[1;33m=\u001b[0m \u001b[0mself\u001b[0m\u001b[1;33m.\u001b[0m\u001b[0mgetPosition\u001b[0m\u001b[1;33m(\u001b[0m\u001b[0maxis\u001b[0m\u001b[1;33m=\u001b[0m\u001b[0maxis\u001b[0m\u001b[1;33m)\u001b[0m\u001b[1;33m\u001b[0m\u001b[1;33m\u001b[0m\u001b[0m\n\u001b[0;32m   1171\u001b[0m         \u001b[0mnew_pos\u001b[0m \u001b[1;33m=\u001b[0m \u001b[0mpos\u001b[0m \u001b[1;33m+\u001b[0m \u001b[0mdist\u001b[0m\u001b[1;33m\u001b[0m\u001b[1;33m\u001b[0m\u001b[0m\n\u001b[1;32m-> 1172\u001b[1;33m         \u001b[0mself\u001b[0m\u001b[1;33m.\u001b[0m\u001b[0mwriteAndWaitCartesian\u001b[0m\u001b[1;33m(\u001b[0m\u001b[1;34m'G0 '\u001b[0m\u001b[1;33m+\u001b[0m\u001b[0maxis\u001b[0m\u001b[1;33m+\u001b[0m\u001b[0mstr\u001b[0m\u001b[1;33m(\u001b[0m\u001b[0mnew_pos\u001b[0m\u001b[1;33m)\u001b[0m\u001b[1;33m+\u001b[0m\u001b[1;34m' F'\u001b[0m\u001b[1;33m+\u001b[0m\u001b[0mstr\u001b[0m\u001b[1;33m(\u001b[0m\u001b[0mspeed\u001b[0m\u001b[1;33m)\u001b[0m\u001b[1;33m)\u001b[0m\u001b[1;33m\u001b[0m\u001b[1;33m\u001b[0m\u001b[0m\n\u001b[0m\u001b[0;32m   1173\u001b[0m \u001b[1;33m\u001b[0m\u001b[0m\n\u001b[0;32m   1174\u001b[0m \u001b[1;33m\u001b[0m\u001b[0m\n",
      "\u001b[1;32mc:\\Users\\sergi\\Dropbox\\workspace\\bernielib\\bernielib.py\u001b[0m in \u001b[0;36mwriteAndWaitCartesian\u001b[1;34m(self, expression)\u001b[0m\n\u001b[0;32m   1038\u001b[0m \u001b[1;33m\u001b[0m\u001b[0m\n\u001b[0;32m   1039\u001b[0m     \u001b[1;32mdef\u001b[0m \u001b[0mwriteAndWaitCartesian\u001b[0m\u001b[1;33m(\u001b[0m\u001b[0mself\u001b[0m\u001b[1;33m,\u001b[0m \u001b[0mexpression\u001b[0m\u001b[1;33m)\u001b[0m\u001b[1;33m:\u001b[0m\u001b[1;33m\u001b[0m\u001b[1;33m\u001b[0m\u001b[0m\n\u001b[1;32m-> 1040\u001b[1;33m         \u001b[1;32mreturn\u001b[0m \u001b[0mself\u001b[0m\u001b[1;33m.\u001b[0m\u001b[0m_writeAndWait\u001b[0m\u001b[1;33m(\u001b[0m\u001b[0mport\u001b[0m\u001b[1;33m=\u001b[0m\u001b[0mself\u001b[0m\u001b[1;33m.\u001b[0m\u001b[0mcartesian_port\u001b[0m\u001b[1;33m,\u001b[0m \u001b[0mexpression\u001b[0m\u001b[1;33m=\u001b[0m\u001b[0mexpression\u001b[0m\u001b[1;33m,\u001b[0m \u001b[0meol\u001b[0m\u001b[1;33m=\u001b[0m\u001b[1;34m'\\r'\u001b[0m\u001b[1;33m,\u001b[0m \u001b[0mconfirm_message\u001b[0m\u001b[1;33m=\u001b[0m\u001b[1;34m'ok\\n'\u001b[0m\u001b[1;33m)\u001b[0m\u001b[1;33m\u001b[0m\u001b[1;33m\u001b[0m\u001b[0m\n\u001b[0m\u001b[0;32m   1041\u001b[0m \u001b[1;33m\u001b[0m\u001b[0m\n\u001b[0;32m   1042\u001b[0m \u001b[1;33m\u001b[0m\u001b[0m\n",
      "\u001b[1;32mc:\\Users\\sergi\\Dropbox\\workspace\\bernielib\\bernielib.py\u001b[0m in \u001b[0;36m_writeAndWait\u001b[1;34m(self, port, expression, eol, confirm_message)\u001b[0m\n\u001b[0;32m    120\u001b[0m     \u001b[1;32mdef\u001b[0m \u001b[0m_writeAndWait\u001b[0m\u001b[1;33m(\u001b[0m\u001b[0mself\u001b[0m\u001b[1;33m,\u001b[0m \u001b[0mport\u001b[0m\u001b[1;33m,\u001b[0m \u001b[0mexpression\u001b[0m\u001b[1;33m,\u001b[0m \u001b[0meol\u001b[0m\u001b[1;33m,\u001b[0m \u001b[0mconfirm_message\u001b[0m\u001b[1;33m)\u001b[0m\u001b[1;33m:\u001b[0m\u001b[1;33m\u001b[0m\u001b[1;33m\u001b[0m\u001b[0m\n\u001b[0;32m    121\u001b[0m         \u001b[0mself\u001b[0m\u001b[1;33m.\u001b[0m\u001b[0m_write\u001b[0m\u001b[1;33m(\u001b[0m\u001b[0mport\u001b[0m\u001b[1;33m,\u001b[0m \u001b[0mexpression\u001b[0m\u001b[1;33m,\u001b[0m \u001b[0meol\u001b[0m\u001b[1;33m)\u001b[0m\u001b[1;33m\u001b[0m\u001b[1;33m\u001b[0m\u001b[0m\n\u001b[1;32m--> 122\u001b[1;33m         \u001b[0mmessage\u001b[0m \u001b[1;33m=\u001b[0m \u001b[0mself\u001b[0m\u001b[1;33m.\u001b[0m\u001b[0m_readUntilMatch\u001b[0m\u001b[1;33m(\u001b[0m\u001b[0mport\u001b[0m\u001b[1;33m,\u001b[0m \u001b[0mconfirm_message\u001b[0m\u001b[1;33m)\u001b[0m\u001b[1;33m\u001b[0m\u001b[1;33m\u001b[0m\u001b[0m\n\u001b[0m\u001b[0;32m    123\u001b[0m         \u001b[1;32mreturn\u001b[0m \u001b[0mmessage\u001b[0m\u001b[1;33m\u001b[0m\u001b[1;33m\u001b[0m\u001b[0m\n\u001b[0;32m    124\u001b[0m \u001b[1;33m\u001b[0m\u001b[0m\n",
      "\u001b[1;32mc:\\Users\\sergi\\Dropbox\\workspace\\bernielib\\bernielib.py\u001b[0m in \u001b[0;36m_readUntilMatch\u001b[1;34m(self, port, pattern)\u001b[0m\n\u001b[0;32m     99\u001b[0m         \u001b[0mmessage\u001b[0m \u001b[1;33m=\u001b[0m \u001b[1;34m''\u001b[0m\u001b[1;33m\u001b[0m\u001b[1;33m\u001b[0m\u001b[0m\n\u001b[0;32m    100\u001b[0m         \u001b[1;32mwhile\u001b[0m \u001b[1;32mTrue\u001b[0m\u001b[1;33m:\u001b[0m\u001b[1;33m\u001b[0m\u001b[1;33m\u001b[0m\u001b[0m\n\u001b[1;32m--> 101\u001b[1;33m             \u001b[0mmessage\u001b[0m \u001b[1;33m+=\u001b[0m \u001b[0mself\u001b[0m\u001b[1;33m.\u001b[0m\u001b[0m_readAll\u001b[0m\u001b[1;33m(\u001b[0m\u001b[0mport\u001b[0m\u001b[1;33m)\u001b[0m\u001b[1;33m\u001b[0m\u001b[1;33m\u001b[0m\u001b[0m\n\u001b[0m\u001b[0;32m    102\u001b[0m             \u001b[1;32mif\u001b[0m \u001b[0mre\u001b[0m\u001b[1;33m.\u001b[0m\u001b[0msearch\u001b[0m\u001b[1;33m(\u001b[0m\u001b[0mpattern\u001b[0m\u001b[1;33m=\u001b[0m\u001b[0mpattern\u001b[0m\u001b[1;33m,\u001b[0m \u001b[0mstring\u001b[0m\u001b[1;33m=\u001b[0m\u001b[0mmessage\u001b[0m\u001b[1;33m)\u001b[0m\u001b[1;33m:\u001b[0m\u001b[1;33m\u001b[0m\u001b[1;33m\u001b[0m\u001b[0m\n\u001b[0;32m    103\u001b[0m                 \u001b[0mself\u001b[0m\u001b[1;33m.\u001b[0m\u001b[0mrecent_message\u001b[0m \u001b[1;33m=\u001b[0m \u001b[0mmessage\u001b[0m\u001b[1;33m\u001b[0m\u001b[1;33m\u001b[0m\u001b[0m\n",
      "\u001b[1;32mc:\\Users\\sergi\\Dropbox\\workspace\\bernielib\\bernielib.py\u001b[0m in \u001b[0;36m_readAll\u001b[1;34m(self, port)\u001b[0m\n\u001b[0;32m     88\u001b[0m \u001b[1;33m\u001b[0m\u001b[0m\n\u001b[0;32m     89\u001b[0m     \u001b[1;32mdef\u001b[0m \u001b[0m_readAll\u001b[0m\u001b[1;33m(\u001b[0m\u001b[0mself\u001b[0m\u001b[1;33m,\u001b[0m \u001b[0mport\u001b[0m\u001b[1;33m)\u001b[0m\u001b[1;33m:\u001b[0m\u001b[1;33m\u001b[0m\u001b[1;33m\u001b[0m\u001b[0m\n\u001b[1;32m---> 90\u001b[1;33m         \u001b[0mtime\u001b[0m\u001b[1;33m.\u001b[0m\u001b[0msleep\u001b[0m\u001b[1;33m(\u001b[0m\u001b[1;36m0.05\u001b[0m\u001b[1;33m)\u001b[0m\u001b[1;33m\u001b[0m\u001b[1;33m\u001b[0m\u001b[0m\n\u001b[0m\u001b[0;32m     91\u001b[0m         \u001b[0mmessage\u001b[0m \u001b[1;33m=\u001b[0m \u001b[1;34m''\u001b[0m\u001b[1;33m\u001b[0m\u001b[1;33m\u001b[0m\u001b[0m\n\u001b[0;32m     92\u001b[0m         \u001b[1;32mwhile\u001b[0m \u001b[0mport\u001b[0m\u001b[1;33m.\u001b[0m\u001b[0minWaiting\u001b[0m\u001b[1;33m(\u001b[0m\u001b[1;33m)\u001b[0m\u001b[1;33m:\u001b[0m\u001b[1;33m\u001b[0m\u001b[1;33m\u001b[0m\u001b[0m\n",
      "\u001b[1;31mKeyboardInterrupt\u001b[0m: "
     ]
    }
   ],
   "source": [
    "print(datetime.now().strftime(\"%H:%M:%S\"))\n",
    "removeSupernatant(ber, s, waste)\n",
    "print(datetime.now().strftime(\"%H:%M:%S\"))"
   ]
  },
  {
   "cell_type": "code",
   "execution_count": null,
   "metadata": {},
   "outputs": [],
   "source": [
    "# Baseline with probing the bottom: 1 min 7 sec\n",
    "# Baseline as in the experiment: 1 min 1 sec\n",
    "# Uptake everything once, mopping up immediately: 0 min 42 sec\n",
    "# Removed pressure sensors zeroing before tip heavy pickup: 0 min 37 sec\n",
    "# Removed zeroing also before fine approach: 0 min 37 sec\n",
    "# Fine tuning tip pickup: 0 min 37 sec\n",
    "# Plunger moves down simultaneously with the XYZ: 0 min 35 sec\n",
    "# Fast removal, without mopping liquid from corners: 0 min 30 sec"
   ]
  },
  {
   "cell_type": "code",
   "execution_count": 33,
   "metadata": {},
   "outputs": [
    {
     "name": "stdout",
     "output_type": "stream",
     "text": [
      "11:53:31\n",
      "11:54:01\n"
     ]
    }
   ],
   "source": [
    "print(datetime.now().strftime(\"%H:%M:%S\"))\n",
    "removeSupernatantFast(ber, s, waste)\n",
    "print(datetime.now().strftime(\"%H:%M:%S\"))"
   ]
  },
  {
   "cell_type": "code",
   "execution_count": 22,
   "metadata": {},
   "outputs": [
    {
     "data": {
      "text/plain": [
       "169.4"
      ]
     },
     "execution_count": 22,
     "metadata": {},
     "output_type": "execute_result"
    }
   ],
   "source": [
    "ber.tips_rack.getZ()"
   ]
  },
  {
   "cell_type": "code",
   "execution_count": 28,
   "metadata": {},
   "outputs": [
    {
     "data": {
      "text/plain": [
       "(99.625, 154.41000000000003)"
      ]
     },
     "execution_count": 28,
     "metadata": {},
     "output_type": "execute_result"
    }
   ],
   "source": [
    "ber.tips_rack.calcWellXY(8,4)"
   ]
  },
  {
   "cell_type": "code",
   "execution_count": 29,
   "metadata": {},
   "outputs": [],
   "source": [
    "ber.move(99.6, 154)"
   ]
  },
  {
   "cell_type": "code",
   "execution_count": 34,
   "metadata": {},
   "outputs": [],
   "source": [
    "ber.move(z=169.4-12.5)"
   ]
  },
  {
   "cell_type": "code",
   "execution_count": 14,
   "metadata": {},
   "outputs": [],
   "source": [
    "ber.dumpTipToPosition(0,4)"
   ]
  },
  {
   "cell_type": "code",
   "execution_count": 9,
   "metadata": {},
   "outputs": [],
   "source": [
    "def removeSupernatantAllSamples(robot, samples_list, waste):\n",
    "    counter = 0\n",
    "    for sample in samples_list:\n",
    "        removeSupernatant(robot, sample, waste)\n",
    "        if counter == 0:\n",
    "            sample_dried_timestamp = time.time()\n",
    "        counter += 1\n",
    "    return sample_dried_timestamp"
   ]
  },
  {
   "cell_type": "code",
   "execution_count": 10,
   "metadata": {},
   "outputs": [],
   "source": [
    "def add80PctEthanol(robot, samples_list, ethanol, volume, z_safe=50):\n",
    "    robot.pickUpNextTip()\n",
    "    robot.move(z=z_safe)\n",
    "    \n",
    "    counter = 0\n",
    "    for sample in samples_list:\n",
    "        robot.transferLiquid(ethanol, sample, volume, touch_wall=False)\n",
    "        if counter == 0:\n",
    "            ethanol_added_time = time.time()\n",
    "        counter += 1\n",
    "    \n",
    "    robot.move(z=z_safe)\n",
    "    robot.dumpTipToWaste()\n",
    "    \n",
    "    return ethanol_added_time"
   ]
  },
  {
   "cell_type": "code",
   "execution_count": 76,
   "metadata": {},
   "outputs": [],
   "source": [
    "def elutionMix(robot, sample, volume, delay=0.5):\n",
    "    z0 = robot._getTubeZBottom(sample)\n",
    "    z_top = sample.getSampleTopAbsZ(added_length=robot._calcExtraLength())\n",
    "    robot.movePipetteToVolume(0)\n",
    "    robot.movePipetteToVolume(volume+5)\n",
    "    robot.movePipetteToVolume(volume)\n",
    "    robot.move(z=z0-0.5)\n",
    "    robot.movePipetteToVolume(0)\n",
    "    time.sleep(delay)\n",
    "    # Washing steps, moving along the wall\n",
    "    # 1\n",
    "    z_curr = z_top + 24\n",
    "    #z_curr = sample.calcAbsLiquidLevelFromVol(500, added_length=robot._calcExtraLength())\n",
    "    robot.move(z=z_curr)\n",
    "    robot.moveAxisDelta('X', 3.0)\n",
    "    robot.movePipetteToVolume(volume/4.0)\n",
    "    time.sleep(delay/4.0)\n",
    "    # 2\n",
    "    z_curr = z_top + 28\n",
    "    #z_curr = sample.calcAbsLiquidLevelFromVol(300, added_length=robot._calcExtraLength())\n",
    "    robot.move(z=z_curr)\n",
    "    #robot.moveAxisDelta('X', -0.629)\n",
    "    robot.movePipetteToVolume(2 * (volume/4.0))\n",
    "    time.sleep(delay/4.0)\n",
    "    # 3\n",
    "    z_curr = z_top + 32\n",
    "    #z_curr = sample.calcAbsLiquidLevelFromVol(150, added_length=robot._calcExtraLength())\n",
    "    robot.move(z=z_curr)\n",
    "    robot.moveAxisDelta('X', -0.629)\n",
    "    robot.movePipetteToVolume(3 * (volume/4.0))\n",
    "    time.sleep(delay/4.0)\n",
    "    # 4\n",
    "    z_curr = z_top + 36\n",
    "    #z_curr = sample.calcAbsLiquidLevelFromVol(150, added_length=robot._calcExtraLength())\n",
    "    robot.move(z=z_curr)\n",
    "    robot.moveAxisDelta('X', -0.629)\n",
    "    robot.movePipetteToVolume(volume)\n",
    "    time.sleep(delay/4.0)\n",
    "    \n",
    "    x, y = sample.getCenterXY()\n",
    "    robot.move(x=x, y=y)\n",
    "    robot.movePipetteToVolume(volume+50)\n",
    "    \n",
    "    z_curr = sample.calcAbsLiquidLevelFromVol(volume+100, added_length=robot._calcExtraLength())\n",
    "    robot.move(z=z_curr)\n",
    "    robot.movePipetteToVolume(0)"
   ]
  },
  {
   "cell_type": "code",
   "execution_count": 173,
   "metadata": {},
   "outputs": [],
   "source": [
    "def elutionMixLrgVol(robot, sample, volume, delay=0.5):\n",
    "    z0 = robot._getTubeZBottom(sample)\n",
    "    z_top = sample.getSampleTopAbsZ(added_length=robot._calcExtraLength())\n",
    "    \n",
    "    # Uptaking\n",
    "    robot.movePipetteToVolume(0)\n",
    "    robot.movePipetteToVolume(volume+5)\n",
    "    robot.movePipetteToVolume(volume)\n",
    "    robot.move(z=z0-0.8)\n",
    "    robot.movePipetteToVolume(0)\n",
    "    time.sleep(delay)\n",
    "    \n",
    "    # Ejecting liquid\n",
    "    z_curr = sample.calcAbsLiquidLevelFromVol(1000, added_length=robot._calcExtraLength())\n",
    "    robot.move(z=z_curr)\n",
    "    robot.moveAxisDelta('X', 3.4)\n",
    "    robot.movePipetteToVolume(volume+50)\n",
    "    z_curr = sample.calcAbsLiquidLevelFromVol(500, added_length=robot._calcExtraLength())\n",
    "    robot.move(z=z_curr)\n",
    "    \n",
    "    # To back position\n",
    "    x, y = sample.getCenterXY()\n",
    "    robot.move(x=x, y=y)\n",
    "    \n",
    "    robot.movePipetteToVolume(0)"
   ]
  },
  {
   "cell_type": "code",
   "execution_count": 136,
   "metadata": {},
   "outputs": [],
   "source": [
    "s = bl.createSamplesToPurifyList(ber, [30])[0]"
   ]
  },
  {
   "cell_type": "code",
   "execution_count": 104,
   "metadata": {},
   "outputs": [],
   "source": [
    "ber.pickUpNextTip()"
   ]
  },
  {
   "cell_type": "code",
   "execution_count": 189,
   "metadata": {},
   "outputs": [],
   "source": [
    "ber.move(z=50)"
   ]
  },
  {
   "cell_type": "code",
   "execution_count": 52,
   "metadata": {},
   "outputs": [],
   "source": [
    "x, y = s.getCenterXY()"
   ]
  },
  {
   "cell_type": "code",
   "execution_count": 53,
   "metadata": {},
   "outputs": [],
   "source": [
    "ber.move(x=x, y=y)"
   ]
  },
  {
   "cell_type": "code",
   "execution_count": 85,
   "metadata": {},
   "outputs": [],
   "source": [
    "elutionMix(ber, s, 30)"
   ]
  },
  {
   "cell_type": "code",
   "execution_count": 186,
   "metadata": {},
   "outputs": [],
   "source": [
    "elutionMixLrgVol(ber, s, 30, delay=1.0)"
   ]
  },
  {
   "cell_type": "code",
   "execution_count": 41,
   "metadata": {},
   "outputs": [],
   "source": [
    "ber.dumpTipToWaste()"
   ]
  },
  {
   "cell_type": "code",
   "execution_count": 50,
   "metadata": {},
   "outputs": [],
   "source": [
    "water = bl.createSample('50ml', 'water', ber.reagents_rack, 1, 1, 50000)"
   ]
  },
  {
   "cell_type": "code",
   "execution_count": 180,
   "metadata": {},
   "outputs": [],
   "source": [
    "ber.transferLiquid(water, s, 30)"
   ]
  },
  {
   "cell_type": "code",
   "execution_count": 61,
   "metadata": {},
   "outputs": [],
   "source": [
    "ber.movePipetteToVolume(0)"
   ]
  },
  {
   "cell_type": "code",
   "execution_count": 147,
   "metadata": {},
   "outputs": [],
   "source": [
    "s.setVolume(500)"
   ]
  },
  {
   "cell_type": "code",
   "execution_count": 178,
   "metadata": {},
   "outputs": [],
   "source": [
    "ber.transferLiquid(s, waste, 500)"
   ]
  },
  {
   "cell_type": "code",
   "execution_count": 179,
   "metadata": {},
   "outputs": [],
   "source": [
    "ber.moveMagnetsAway(poweroff=True)"
   ]
  },
  {
   "cell_type": "code",
   "execution_count": 177,
   "metadata": {},
   "outputs": [],
   "source": [
    "ber.moveMagnetsTowardsTube(poweroff=True)"
   ]
  },
  {
   "cell_type": "code",
   "execution_count": 192,
   "metadata": {},
   "outputs": [],
   "source": [
    "ber.dumpTipToWaste()"
   ]
  },
  {
   "cell_type": "code",
   "execution_count": 188,
   "metadata": {},
   "outputs": [],
   "source": [
    "#TODO: make safe_z a general property of the robot\n",
    "def elute(robot, sample, eluent, volume, mix_delay=0.5, mix_times=8, safe_z=50):\n",
    "    robot.moveMagnetsAway(poweroff=True)\n",
    "    robot.pickUpNextTip()\n",
    "    robot.move(z=safe_z)\n",
    "    robot.transferLiquid(eluent, sample, volume)\n",
    "    for i in range(mix_times):\n",
    "        elutionMixLrgVol(robot, sample, volume)\n",
    "    elutionMix(robot, sample, volume)\n",
    "    elutionMix(robot, sample, volume)\n",
    "    elution_start_time = time.time()\n",
    "    robot.move(z=safe_z)\n",
    "    robot.dumpTipToWaste()\n",
    "    return elution_start_time\n",
    "\n",
    "def eluteAllSamples(robot, samples_list, eluent, V_eluent, mix_delay=0.5, mix_times=6, safe_z=50):\n",
    "    counter = 0\n",
    "    for sample in samples_list:\n",
    "        ts = elute(ber, sample, eluent, V_eluent, mix_delay=mix_delay, mix_times=mix_times, safe_z=safe_z)\n",
    "        print ()\n",
    "        if counter == 0:\n",
    "            elution_start_timestamp = ts\n",
    "        counter += 1\n",
    "    return elution_start_timestamp"
   ]
  },
  {
   "cell_type": "code",
   "execution_count": 14,
   "metadata": {},
   "outputs": [],
   "source": [
    "def separateEluate(robot, eluate_tube, result_tube, pipette_delay=0.5, z_above_bottom=0.5, safe_z=50):\n",
    "    robot.pickUpNextTip()\n",
    "    robot.move(z=safe_z)\n",
    "    # Uptaking liquid\n",
    "    v = eluate_tube.getVolume()\n",
    "    robot.moveToSample(eluate_tube)\n",
    "    robot.movePipetteToVolume(v+5)\n",
    "    robot.movePipetteToVolume(v)\n",
    "    z0 = robot._getTubeZBottom(eluate_tube)\n",
    "    robot.move(z=z0-z_above_bottom)\n",
    "    robot.movePipetteToVolume(0)\n",
    "    time.sleep(pipette_delay)\n",
    "    # Dispensing liquid\n",
    "    robot.moveToSample(result_tube)\n",
    "    robot.movePipetteToVolume(v+5)\n",
    "    time.sleep(pipette_delay)\n",
    "    robot.movePipetteToVolume(200)\n",
    "    time.sleep(pipette_delay)\n",
    "    robot.touchWall(result_tube)\n",
    "    robot.movePipetteToVolume(0)\n",
    "    robot.move(z=safe_z)\n",
    "    ber.dumpTipToWaste()"
   ]
  },
  {
   "cell_type": "code",
   "execution_count": 15,
   "metadata": {},
   "outputs": [],
   "source": [
    "def oneStagePurification(robot, N_samples, initial_vol_list, cutoff_list, V_avail_beads, V_avail_water, V_avail_ethanol, \n",
    "                         beads_rack, beads_col, beads_row, sample_mix_scenario, beads_mix_scenario,\n",
    "                         V_waste=0, T_absorb=600, T_pull=60, T_wash=30, T_dry=300, T_elute=600,\n",
    "                         V_wash=200, V_elute=30):\n",
    "    \n",
    "    samples_list = bl.createSamplesToPurifyList(robot, initial_vol_list)\n",
    "    result_list = bl.createPurifiedSamplesList(robot, N_samples)\n",
    "    beads = bl.createSample('eppendorf', 'beads', beads_rack, beads_col, beads_row, V_avail_beads)\n",
    "    waste = bl.createSample('50ml', 'liquid_waste', robot.reagents_rack, 0, 1, V_waste)\n",
    "    water = bl.createSample('50ml', 'water', robot.reagents_rack, 1, 1, V_avail_water)\n",
    "    EtOH80pct = bl.createSample('50ml', 'EtOH80pct', robot.reagents_rack, 2, 1, V_avail_ethanol)\n",
    "    \n",
    "    v_beads_list = calcBeadsVolumeToAdd(robot, samples_list, cutoff_list=cutoff_list)\n",
    "    print( )\n",
    "    # Adding beads\n",
    "    timestamp_beads_added = addBeadsToAll(robot, samples_list, v_beads_list, beads, sample_mix_scenario, beads_mix_scenario)\n",
    "    waitAfterTimestamp(timestamp_beads_added, T_absorb)\n",
    "    # Removing supernatant\n",
    "    robot.moveMagnetsTowardsTube(poweroff=True)\n",
    "    time.sleep(T_pull)\n",
    "    ts = removeSupernatantAllSamples(robot, samples_list, waste)\n",
    "    # Ethanol wash\n",
    "    # Wash 1\n",
    "    timestamp_ethanol_added = add80PctEthanol(robot, samples_list, EtOH80pct, V_wash)\n",
    "    waitAfterTimestamp(timestamp_ethanol_added, T_wash)\n",
    "    ts = removeSupernatantAllSamples(robot, samples_list, waste)\n",
    "    # Wash 2\n",
    "    timestamp_ethanol_added = add80PctEthanol(robot, samples_list, EtOH80pct, V_wash)\n",
    "    waitAfterTimestamp(timestamp_ethanol_added, T_wash)\n",
    "    timestamp_ethanol_removed = removeSupernatantAllSamples(robot, samples_list, waste)\n",
    "    # Drying ethanol\n",
    "    waitAfterTimestamp(timestamp_ethanol_removed, T_dry)\n",
    "    \n",
    "    # Elution\n",
    "    # Adding water\n",
    "    elution_start_timestamp = eluteAllSamples(robot, samples_list, water, V_elute, mix_delay=0.5, mix_times=6, safe_z=50)\n",
    "    waitAfterTimestamp(elution_start_timestamp, T_elute) # elution wait\n",
    "    \n",
    "    # Magnetic beads to the side of the tubes\n",
    "    ber.moveMagnetsTowardsTube()\n",
    "    time.sleep(T_pull)\n",
    "    # Moving liquid to the resulting tubes\n",
    "    for sample, result in zip(samples_list, result_list):\n",
    "        separateEluate(ber, sample, result)"
   ]
  },
  {
   "cell_type": "code",
   "execution_count": 16,
   "metadata": {},
   "outputs": [],
   "source": [
    "script = pd.read_csv('mixing_pattern_eppendorf.csv')"
   ]
  },
  {
   "cell_type": "code",
   "execution_count": 31,
   "metadata": {},
   "outputs": [],
   "source": [
    "oneStagePurification(ber, N_samples=6, initial_vol_list=[30, 30, 30, 30, 30, 30], \n",
    "                     cutoff_list=[150, 250, 350, 450, 550, 1000],\n",
    "                     V_avail_beads=1000, V_avail_water=50000, V_avail_ethanol=25000, \n",
    "                     beads_rack=ber.samples_rack, beads_col=0, beads_row=11, \n",
    "                     sample_mix_scenario=script, beads_mix_scenario=script)"
   ]
  },
  {
   "cell_type": "markdown",
   "metadata": {},
   "source": [
    "# Results 12/20/2020"
   ]
  },
  {
   "cell_type": "markdown",
   "metadata": {},
   "source": [
    "Alex performed bioanalyzing; check results in email.\n",
    "\n",
    "Conclusions:\n",
    "1. DNA control has too high concentration. Reduce at least 10 times or more.\n",
    "2. Does not differentiate on DNA length. Check beads volumes.\n",
    "3. Concentration of DNA is inconsistent between tubes. Reasons:\n",
    "    a). Beads over-dried; check drying time is calculated properly\n",
    "    b). Elution didn't remove all beads from walls properly, modify elution program\n",
    "    c). Initial mixing done badly.\n",
    "    \n",
    "Regarding binding capacity: 1ul of AmpureXP will bind over 3ug DNA\n",
    "I used minimum 15 uL; means I can absorb 45 ug of DNA. \n",
    "\n",
    "I used 10 uL of 500 ng/uL for all samples; for one sample 10/7 ~ 1.2 uL; I have about 700-900 ng of DNA in each sample."
   ]
  },
  {
   "cell_type": "markdown",
   "metadata": {},
   "source": [
    "## Checking beads volumes"
   ]
  },
  {
   "cell_type": "code",
   "execution_count": null,
   "metadata": {},
   "outputs": [],
   "source": [
    "samples_list = bl.createSamplesToPurifyList(ber, [30, 30, 30, 30, 30, 30])"
   ]
  },
  {
   "cell_type": "code",
   "execution_count": 32,
   "metadata": {},
   "outputs": [
    {
     "data": {
      "text/plain": [
       "[47.34245107533334,\n",
       " 26.1546280812,\n",
       " 20.43851894167347,\n",
       " 18.135151086592593,\n",
       " 16.993761418561984,\n",
       " 15.4552048488]"
      ]
     },
     "execution_count": 32,
     "metadata": {},
     "output_type": "execute_result"
    }
   ],
   "source": [
    "calcBeadsVolumeToAdd(ber, samples_list, cutoff_list=[150, 250, 350, 450, 550, 1000])"
   ]
  },
  {
   "cell_type": "code",
   "execution_count": 33,
   "metadata": {},
   "outputs": [
    {
     "data": {
      "text/plain": [
       "(0.499325349, -9.91043764, 25758.5836)"
      ]
     },
     "execution_count": 33,
     "metadata": {},
     "output_type": "execute_result"
    }
   ],
   "source": [
    "ber.getBeadsVolumeCoef()"
   ]
  },
  {
   "cell_type": "code",
   "execution_count": 4,
   "metadata": {},
   "outputs": [],
   "source": [
    "water = bl.createSample('50ml', 'water', ber.reagents_rack, 1, 1, 50000)"
   ]
  },
  {
   "cell_type": "code",
   "execution_count": 5,
   "metadata": {},
   "outputs": [],
   "source": [
    "ber.pickUpNextTip()"
   ]
  },
  {
   "cell_type": "code",
   "execution_count": 6,
   "metadata": {},
   "outputs": [],
   "source": [
    "ber.move(z=50)"
   ]
  },
  {
   "cell_type": "code",
   "execution_count": 7,
   "metadata": {},
   "outputs": [],
   "source": [
    "ber.uptakeLiquid(sample=water, volume=15.45)"
   ]
  },
  {
   "cell_type": "code",
   "execution_count": 8,
   "metadata": {},
   "outputs": [],
   "source": [
    "ber.move(z=50)"
   ]
  },
  {
   "cell_type": "code",
   "execution_count": 9,
   "metadata": {},
   "outputs": [],
   "source": [
    "ber.dispenseLiquid(sample=water, volume=15.45)"
   ]
  },
  {
   "cell_type": "code",
   "execution_count": 10,
   "metadata": {},
   "outputs": [],
   "source": [
    "ber.move(z=50)"
   ]
  },
  {
   "cell_type": "code",
   "execution_count": 20,
   "metadata": {},
   "outputs": [],
   "source": [
    "ber.uptakeLiquid(sample=water, volume=47.34)"
   ]
  },
  {
   "cell_type": "code",
   "execution_count": 21,
   "metadata": {},
   "outputs": [],
   "source": [
    "ber.move(z=50)"
   ]
  },
  {
   "cell_type": "code",
   "execution_count": 22,
   "metadata": {},
   "outputs": [],
   "source": [
    "ber.dispenseLiquid(sample=water, volume=47.34, plunger_retract=False)"
   ]
  },
  {
   "cell_type": "code",
   "execution_count": 23,
   "metadata": {},
   "outputs": [],
   "source": [
    "ber.move(z=50)"
   ]
  },
  {
   "cell_type": "code",
   "execution_count": 24,
   "metadata": {},
   "outputs": [],
   "source": [
    "ber.pipetteMove(1)"
   ]
  },
  {
   "cell_type": "code",
   "execution_count": null,
   "metadata": {},
   "outputs": [],
   "source": [
    "# Lower volume seems to be visually similar to what I observed during experiment; higher volume unsure."
   ]
  },
  {
   "cell_type": "code",
   "execution_count": 25,
   "metadata": {},
   "outputs": [],
   "source": [
    "ber.dumpTipToWaste()"
   ]
  },
  {
   "cell_type": "markdown",
   "metadata": {},
   "source": [
    "# Checking drying time"
   ]
  },
  {
   "cell_type": "code",
   "execution_count": 17,
   "metadata": {},
   "outputs": [],
   "source": [
    "from datetime import datetime"
   ]
  },
  {
   "cell_type": "code",
   "execution_count": 22,
   "metadata": {},
   "outputs": [],
   "source": [
    "samples_list = bl.createSamplesToPurifyList(ber, [200, 200, 200])\n",
    "waste = bl.createSample('50ml', 'liquid_waste', ber.reagents_rack, 0, 1, 0)"
   ]
  },
  {
   "cell_type": "code",
   "execution_count": 23,
   "metadata": {},
   "outputs": [],
   "source": [
    "ber.robotHome()\n",
    "ber.pipetteHome()"
   ]
  },
  {
   "cell_type": "code",
   "execution_count": 24,
   "metadata": {},
   "outputs": [
    {
     "name": "stdout",
     "output_type": "stream",
     "text": [
      "Pipetting started  10:35:58\n",
      "Pipetting finished  10:39:23\n",
      "Wait finished  10:39:23\n"
     ]
    }
   ],
   "source": [
    "print(\"Pipetting started \", datetime.now().strftime(\"%H:%M:%S\"))\n",
    "timestamp_ethanol_removed = removeSupernatantAllSamples(ber, samples_list, waste)\n",
    "print(\"Pipetting finished \", datetime.now().strftime(\"%H:%M:%S\"))\n",
    "waitAfterTimestamp(timestamp_ethanol_removed, 120)\n",
    "print(\"Wait finished \", datetime.now().strftime(\"%H:%M:%S\"))"
   ]
  },
  {
   "cell_type": "code",
   "execution_count": 33,
   "metadata": {},
   "outputs": [
    {
     "data": {
      "text/plain": [
       "5.0"
      ]
     },
     "execution_count": 33,
     "metadata": {},
     "output_type": "execute_result"
    }
   ],
   "source": [
    "300/60"
   ]
  },
  {
   "cell_type": "code",
   "execution_count": 39,
   "metadata": {},
   "outputs": [],
   "source": [
    "def test():\n",
    "    ts = time.time()\n",
    "    time.sleep(60)\n",
    "    return ts"
   ]
  },
  {
   "cell_type": "code",
   "execution_count": 40,
   "metadata": {},
   "outputs": [
    {
     "name": "stdout",
     "output_type": "stream",
     "text": [
      "19:55:16\n",
      "19:56:16\n"
     ]
    }
   ],
   "source": [
    "start = datetime.now().strftime(\"%H:%M:%S\")\n",
    "print(start.strftime(\"%H:%M:%S\"))\n",
    "t = test()\n",
    "t1 = time.time()\n",
    "t1 - t\n",
    "end = datetime.now()\n",
    "print(end.strftime(\"%H:%M:%S\"))"
   ]
  },
  {
   "cell_type": "code",
   "execution_count": 38,
   "metadata": {},
   "outputs": [
    {
     "data": {
      "text/plain": [
       "300"
      ]
     },
     "execution_count": 38,
     "metadata": {},
     "output_type": "execute_result"
    }
   ],
   "source": [
    "5*60"
   ]
  },
  {
   "cell_type": "code",
   "execution_count": 42,
   "metadata": {},
   "outputs": [
    {
     "data": {
      "text/plain": [
       "'20:06:21'"
      ]
     },
     "execution_count": 42,
     "metadata": {},
     "output_type": "execute_result"
    }
   ],
   "source": [
    "datetime.now().strftime(\"%H:%M:%S\")"
   ]
  },
  {
   "cell_type": "code",
   "execution_count": 54,
   "metadata": {},
   "outputs": [],
   "source": [
    "def test1(robot, samples_list, waste):\n",
    "    counter = 0\n",
    "    for sample in samples_list:\n",
    "        #removeSupernatant(robot, sample, waste)\n",
    "        time.sleep(1)\n",
    "        print(datetime.now().strftime(\"%H:%M:%S\"))\n",
    "        if counter == 0:\n",
    "            print(\"Timestamp created\", datetime.now().strftime(\"%H:%M:%S\"))\n",
    "            sample_dried_timestamp = time.time()\n",
    "            print(sample_dried_timestamp)\n",
    "        print(counter)\n",
    "        counter += 1\n",
    "    return sample_dried_timestamp"
   ]
  },
  {
   "cell_type": "code",
   "execution_count": 55,
   "metadata": {},
   "outputs": [
    {
     "name": "stdout",
     "output_type": "stream",
     "text": [
      "20:23:03\n",
      "Timestamp created 20:23:03\n",
      "1608610983.3854115\n",
      "0\n",
      "20:23:04\n",
      "1\n",
      "20:23:05\n",
      "2\n"
     ]
    },
    {
     "data": {
      "text/plain": [
       "1608610983.3854115"
      ]
     },
     "execution_count": 55,
     "metadata": {},
     "output_type": "execute_result"
    }
   ],
   "source": [
    "test1(ber, samples_list, waste)"
   ]
  },
  {
   "cell_type": "code",
   "execution_count": 26,
   "metadata": {},
   "outputs": [
    {
     "data": {
      "text/plain": [
       "9.6"
      ]
     },
     "execution_count": 26,
     "metadata": {},
     "output_type": "execute_result"
    }
   ],
   "source": [
    "samples_list[0].getZAboveRack()"
   ]
  },
  {
   "cell_type": "code",
   "execution_count": 27,
   "metadata": {},
   "outputs": [
    {
     "data": {
      "text/plain": [
       "155.3"
      ]
     },
     "execution_count": 27,
     "metadata": {},
     "output_type": "execute_result"
    }
   ],
   "source": [
    "ber.samples_rack.getZ()"
   ]
  },
  {
   "cell_type": "code",
   "execution_count": 29,
   "metadata": {},
   "outputs": [
    {
     "data": {
      "text/plain": [
       "145.70000000000002"
      ]
     },
     "execution_count": 29,
     "metadata": {},
     "output_type": "execute_result"
    }
   ],
   "source": [
    "getSampleTopZ(samples_list[0], ber.samples_rack)"
   ]
  },
  {
   "cell_type": "code",
   "execution_count": 32,
   "metadata": {},
   "outputs": [
    {
     "data": {
      "text/plain": [
       "(193.0, 49.02499999999998)"
      ]
     },
     "execution_count": 32,
     "metadata": {},
     "output_type": "execute_result"
    }
   ],
   "source": [
    "samples_list[0].getCenterXY()"
   ]
  },
  {
   "cell_type": "markdown",
   "metadata": {},
   "source": [
    "# Purging sample tubes"
   ]
  },
  {
   "cell_type": "code",
   "execution_count": 53,
   "metadata": {},
   "outputs": [],
   "source": [
    "samples_list = bl.createSamplesToPurifyList(ber, [200,200,200,200,200,200])"
   ]
  },
  {
   "cell_type": "code",
   "execution_count": 54,
   "metadata": {},
   "outputs": [],
   "source": [
    "waste = bl.createSample('50ml', 'liquid_waste', ber.reagents_rack, 0, 1, 0)"
   ]
  },
  {
   "cell_type": "code",
   "execution_count": 56,
   "metadata": {},
   "outputs": [],
   "source": [
    "ber.pickUpNextTip()"
   ]
  },
  {
   "cell_type": "code",
   "execution_count": 59,
   "metadata": {},
   "outputs": [],
   "source": [
    "ber.move(z=50)"
   ]
  },
  {
   "cell_type": "code",
   "execution_count": 58,
   "metadata": {},
   "outputs": [],
   "source": [
    "for sample in samples_list:\n",
    "    ber.transferLiquid(sample, waste, 200)"
   ]
  },
  {
   "cell_type": "code",
   "execution_count": 95,
   "metadata": {},
   "outputs": [],
   "source": [
    "ber.dumpTipToWaste()"
   ]
  },
  {
   "cell_type": "markdown",
   "metadata": {},
   "source": [
    "# One-time settings"
   ]
  },
  {
   "cell_type": "markdown",
   "metadata": {},
   "source": [
    "## Parameters for the beads tube and sample type"
   ]
  },
  {
   "cell_type": "code",
   "execution_count": 47,
   "metadata": {},
   "outputs": [],
   "source": [
    "t2 = bl.sample_type('2ml')"
   ]
  },
  {
   "cell_type": "code",
   "execution_count": 48,
   "metadata": {},
   "outputs": [],
   "source": [
    "t2._setZAboveRacks({})"
   ]
  },
  {
   "cell_type": "code",
   "execution_count": 49,
   "metadata": {},
   "outputs": [],
   "source": [
    "r = ber.samples_rack"
   ]
  },
  {
   "cell_type": "code",
   "execution_count": 50,
   "metadata": {},
   "outputs": [],
   "source": [
    "t2.setZAboveSpecificRack(r, 20.0)"
   ]
  },
  {
   "cell_type": "code",
   "execution_count": 51,
   "metadata": {},
   "outputs": [
    {
     "data": {
      "text/plain": [
       "20.0"
      ]
     },
     "execution_count": 51,
     "metadata": {},
     "output_type": "execute_result"
    }
   ],
   "source": [
    "t2.getZAboveSpecificRack(r)"
   ]
  },
  {
   "cell_type": "code",
   "execution_count": 52,
   "metadata": {},
   "outputs": [],
   "source": [
    "t2.setInnerDiameter(8.30)"
   ]
  },
  {
   "cell_type": "code",
   "execution_count": null,
   "metadata": {},
   "outputs": [],
   "source": [
    "# Freshly measured\n",
    "depth_to_vol_dict = {\n",
    "    14000: 13.24,\n",
    "    10000: 38.0,\n",
    "    5000: 71.0,\n",
    "    2000: 91.8,\n",
    "    1600: 93.9,\n",
    "    1400: 95.7,\n",
    "    1200: 96.8,\n",
    "    1000: 98.8,\n",
    "    800: 99.0,\n",
    "    600: 103.0,\n",
    "    400: 105.45,\n",
    "    200: 109.0,\n",
    "    0: 45.45,   \n",
    "}"
   ]
  },
  {
   "cell_type": "code",
   "execution_count": 21,
   "metadata": {},
   "outputs": [
    {
     "data": {
      "text/plain": [
       "(77.4, 149.965, 169.4)"
      ]
     },
     "execution_count": 21,
     "metadata": {},
     "output_type": "execute_result"
    }
   ],
   "source": [
    "ber.calibrateRack(rack='tips')"
   ]
  },
  {
   "cell_type": "code",
   "execution_count": null,
   "metadata": {},
   "outputs": [],
   "source": []
  }
 ],
 "metadata": {
  "kernelspec": {
   "display_name": "Python 3",
   "language": "python",
   "name": "python3"
  },
  "language_info": {
   "codemirror_mode": {
    "name": "ipython",
    "version": 3
   },
   "file_extension": ".py",
   "mimetype": "text/x-python",
   "name": "python",
   "nbconvert_exporter": "python",
   "pygments_lexer": "ipython3",
   "version": "3.7.4"
  }
 },
 "nbformat": 4,
 "nbformat_minor": 2
}
