{
 "cells": [
  {
   "cell_type": "code",
   "execution_count": 1,
   "metadata": {},
   "outputs": [],
   "source": [
    "import time\n",
    "import pandas as pd\n",
    "\n",
    "import bernielib as bl"
   ]
  },
  {
   "cell_type": "code",
   "execution_count": 2,
   "metadata": {},
   "outputs": [
    {
     "data": {
      "text/plain": [
       "['COM7', 'COM18', 'COM20']"
      ]
     },
     "execution_count": 2,
     "metadata": {},
     "output_type": "execute_result"
    }
   ],
   "source": [
    "bl.listSerialPorts()"
   ]
  },
  {
   "cell_type": "code",
   "execution_count": 3,
   "metadata": {},
   "outputs": [],
   "source": [
    "ber = bl.robot(cartesian_port_name='COM18', pipette_port_name='COM7', misc_port_name='COM20')"
   ]
  },
  {
   "cell_type": "code",
   "execution_count": 6,
   "metadata": {},
   "outputs": [],
   "source": [
    "ber.robotHome()\n",
    "ber.pipetteHome()"
   ]
  },
  {
   "cell_type": "code",
   "execution_count": 55,
   "metadata": {},
   "outputs": [
    {
     "data": {
      "text/plain": [
       "(27.9, 119.05, 156.9)"
      ]
     },
     "execution_count": 55,
     "metadata": {},
     "output_type": "execute_result"
    }
   ],
   "source": [
    "ber.moveToWell(rack_name='tips', column=0, row=0, save_height=12)"
   ]
  },
  {
   "cell_type": "code",
   "execution_count": 71,
   "metadata": {},
   "outputs": [],
   "source": [
    "ber.moveAxisDelta('z', -50)"
   ]
  },
  {
   "cell_type": "code",
   "execution_count": 25,
   "metadata": {},
   "outputs": [
    {
     "data": {
      "text/plain": [
       "159.4"
      ]
     },
     "execution_count": 25,
     "metadata": {},
     "output_type": "execute_result"
    }
   ],
   "source": [
    "ber.moveDownUntilPress(0.5, 200)"
   ]
  },
  {
   "cell_type": "code",
   "execution_count": 27,
   "metadata": {},
   "outputs": [
    {
     "data": {
      "text/plain": [
       "165.4"
      ]
     },
     "execution_count": 27,
     "metadata": {},
     "output_type": "execute_result"
    }
   ],
   "source": [
    "ber.moveDownUntilPress(0.5, 200)"
   ]
  },
  {
   "cell_type": "code",
   "execution_count": 30,
   "metadata": {},
   "outputs": [
    {
     "data": {
      "text/plain": [
       "168.9"
      ]
     },
     "execution_count": 30,
     "metadata": {},
     "output_type": "execute_result"
    }
   ],
   "source": [
    "ber.tips_rack.getZ()"
   ]
  },
  {
   "cell_type": "code",
   "execution_count": 31,
   "metadata": {},
   "outputs": [
    {
     "data": {
      "text/plain": [
       "9.5"
      ]
     },
     "execution_count": 31,
     "metadata": {},
     "output_type": "execute_result"
    }
   ],
   "source": [
    "168.9-159.4"
   ]
  },
  {
   "cell_type": "code",
   "execution_count": 32,
   "metadata": {},
   "outputs": [
    {
     "data": {
      "text/plain": [
       "3.5"
      ]
     },
     "execution_count": 32,
     "metadata": {},
     "output_type": "execute_result"
    }
   ],
   "source": [
    "168.9-165.4"
   ]
  },
  {
   "cell_type": "code",
   "execution_count": 45,
   "metadata": {},
   "outputs": [],
   "source": [
    "ber.getPosition?"
   ]
  },
  {
   "cell_type": "code",
   "execution_count": 56,
   "metadata": {},
   "outputs": [],
   "source": [
    "ber.dumpTip()"
   ]
  },
  {
   "cell_type": "code",
   "execution_count": 50,
   "metadata": {},
   "outputs": [],
   "source": [
    "def tipPickupAttempt(robot, wrong_hit_threshold=7, initial_force=200, final_force=1800):\n",
    "    Z_start = robot.getPosition(axis='Z')\n",
    "    Z_calibrated = robot.tips_rack.getZ()\n",
    "    Z_wrong_hit_abs = Z_calibrated - wrong_hit_threshold\n",
    "    Z_soft = robot.moveDownUntilPress(1, initial_force)\n",
    "    if Z_soft < Z_wrong_hit_abs:\n",
    "        # Robot hit something before the tip; that means it probably missed.\n",
    "        # Retracting and ejecting tip (just in case)\n",
    "        robot.move(z=Z_start)\n",
    "        robot.dumpTip()\n",
    "        return False\n",
    "    else:\n",
    "        # Robot correctly got to the tip, now pressing further so the tip is firmly attached\n",
    "        robot.moveDownUntilPress(1, final_force)\n",
    "        return True"
   ]
  },
  {
   "cell_type": "code",
   "execution_count": 82,
   "metadata": {},
   "outputs": [],
   "source": [
    "def tryTipPickupAtNextPosition(robot, axis, step):\n",
    "    robot.moveAxisDelta(axis, step)\n",
    "    tip_picked_up = tipPickupAttempt(robot)\n",
    "    return tip_picked_up"
   ]
  },
  {
   "cell_type": "code",
   "execution_count": 83,
   "metadata": {},
   "outputs": [],
   "source": [
    "def lookForTip(robot, min_radius=0.5, max_radius=3):\n",
    "    \n",
    "    x_init = robot.getPosition(axis='X')\n",
    "    y_init = robot.getPosition(axis='Y')\n",
    "    z_init = robot.getPosition(axis='Z')\n",
    "    \n",
    "    radius=min_radius\n",
    "    while radius < max_radius:\n",
    "        # 0 deg\n",
    "        if tryTipPickupAtNextPosition(robot, 'X', radius):\n",
    "            return True\n",
    "        # 45 deg\n",
    "        if tryTipPickupAtNextPosition(robot, 'Y', radius):\n",
    "            return True\n",
    "        # 90 deg\n",
    "        if tryTipPickupAtNextPosition(robot, 'X', -radius):\n",
    "            return True\n",
    "        # 135 deg\n",
    "        if tryTipPickupAtNextPosition(robot, 'X', -radius):\n",
    "            return True\n",
    "        # 180 deg\n",
    "        if tryTipPickupAtNextPosition(robot, 'Y', -radius):\n",
    "            return True\n",
    "        # 225 deg\n",
    "        if tryTipPickupAtNextPosition(robot, 'Y', -radius):\n",
    "            return True\n",
    "        # 270 deg\n",
    "        if tryTipPickupAtNextPosition(robot, 'X', radius):\n",
    "            return True\n",
    "        # 315 deg\n",
    "        if tryTipPickupAtNextPosition(robot, 'X', radius):\n",
    "            return True\n",
    "        radius += min_radius\n",
    "        robot.move(x=x_init, y=y_init, z=z_init)\n",
    "    return False"
   ]
  },
  {
   "cell_type": "code",
   "execution_count": 51,
   "metadata": {},
   "outputs": [],
   "source": [
    "is_success = tipPickupAttempt(ber)"
   ]
  },
  {
   "cell_type": "code",
   "execution_count": 93,
   "metadata": {},
   "outputs": [],
   "source": [
    "def pickUpTip(robot, column, row, fine_approach_dz=11, raise_z=0, raise_dz_with_tip=60):\n",
    "    # Moving towards the tip\n",
    "    robot.moveToWell(rack_name='tips', column=column, row=row, save_height=fine_approach_dz)\n",
    "    # Attempting to pick up\n",
    "    tip_picked_up = tipPickupAttempt(robot)\n",
    "    if not tip_picked_up:\n",
    "        lookForTip(robot)\n",
    "    x, y, z = robot.getPosition()\n",
    "    # Moving up with the tip\n",
    "    robot.moveAxisDelta('Z', -raise_dz_with_tip)\n",
    "    robot.tip_attached = 1\n",
    "    # Letting the rack know that the tip was picked from there\n",
    "    robot.tips_rack.consume(column, row)\n",
    "    return x, y, z"
   ]
  },
  {
   "cell_type": "code",
   "execution_count": 94,
   "metadata": {},
   "outputs": [
    {
     "data": {
      "text/plain": [
       "(46.68, 136.83, 169.9)"
      ]
     },
     "execution_count": 94,
     "metadata": {},
     "output_type": "execute_result"
    }
   ],
   "source": [
    "pickUpTip(ber, 2, 2)"
   ]
  },
  {
   "cell_type": "code",
   "execution_count": 95,
   "metadata": {},
   "outputs": [],
   "source": [
    "ber.dumpTipToPosition(2, 2)"
   ]
  },
  {
   "cell_type": "code",
   "execution_count": 64,
   "metadata": {},
   "outputs": [
    {
     "data": {
      "text/plain": [
       "(0, 0)"
      ]
     },
     "execution_count": 64,
     "metadata": {},
     "output_type": "execute_result"
    }
   ],
   "source": [
    "ber.tips_rack.next()"
   ]
  },
  {
   "cell_type": "code",
   "execution_count": 11,
   "metadata": {},
   "outputs": [],
   "source": [
    "ber.tips_rack.refill()"
   ]
  },
  {
   "cell_type": "markdown",
   "metadata": {},
   "source": [
    "# Now testing as part of the library"
   ]
  },
  {
   "cell_type": "code",
   "execution_count": 5,
   "metadata": {},
   "outputs": [
    {
     "name": "stdout",
     "output_type": "stream",
     "text": [
      "Tip calibration is off. Please recalibrate tip rack before running another protocol.\n"
     ]
    },
    {
     "data": {
      "text/plain": [
       "(28.4, 119.05, 168.9)"
      ]
     },
     "execution_count": 5,
     "metadata": {},
     "output_type": "execute_result"
    }
   ],
   "source": [
    "ber.pickUpTip(0, 0)"
   ]
  },
  {
   "cell_type": "code",
   "execution_count": 6,
   "metadata": {},
   "outputs": [],
   "source": [
    "ber.dumpTipToPosition(0, 0)"
   ]
  },
  {
   "cell_type": "code",
   "execution_count": 7,
   "metadata": {},
   "outputs": [
    {
     "data": {
      "text/plain": [
       "(76.69999999999999, 149.765, 168.4)"
      ]
     },
     "execution_count": 7,
     "metadata": {},
     "output_type": "execute_result"
    }
   ],
   "source": [
    "ber.calibrateRack(rack='tips')"
   ]
  },
  {
   "cell_type": "code",
   "execution_count": 8,
   "metadata": {},
   "outputs": [],
   "source": [
    "ber.move(z=50)"
   ]
  },
  {
   "cell_type": "code",
   "execution_count": 9,
   "metadata": {},
   "outputs": [
    {
     "data": {
      "text/plain": [
       "(27.8, 118.65, 169.4)"
      ]
     },
     "execution_count": 9,
     "metadata": {},
     "output_type": "execute_result"
    }
   ],
   "source": [
    "ber.pickUpTip(0, 0)"
   ]
  },
  {
   "cell_type": "code",
   "execution_count": 10,
   "metadata": {},
   "outputs": [],
   "source": [
    "ber.dumpTipToPosition(0, 0)"
   ]
  },
  {
   "cell_type": "markdown",
   "metadata": {},
   "source": [
    "# Cycling through many tips"
   ]
  },
  {
   "cell_type": "code",
   "execution_count": 7,
   "metadata": {},
   "outputs": [],
   "source": [
    "ber.tips_rack.refill()"
   ]
  },
  {
   "cell_type": "code",
   "execution_count": 8,
   "metadata": {},
   "outputs": [],
   "source": [
    "for i in range(60):\n",
    "    ber.pickUpNextTip()\n",
    "    ber.moveAxisDelta('Z', 30)\n",
    "    ber.dumpTip()"
   ]
  },
  {
   "cell_type": "code",
   "execution_count": null,
   "metadata": {},
   "outputs": [],
   "source": []
  }
 ],
 "metadata": {
  "kernelspec": {
   "display_name": "Python 3",
   "language": "python",
   "name": "python3"
  },
  "language_info": {
   "codemirror_mode": {
    "name": "ipython",
    "version": 3
   },
   "file_extension": ".py",
   "mimetype": "text/x-python",
   "name": "python",
   "nbconvert_exporter": "python",
   "pygments_lexer": "ipython3",
   "version": "3.7.4"
  }
 },
 "nbformat": 4,
 "nbformat_minor": 2
}
