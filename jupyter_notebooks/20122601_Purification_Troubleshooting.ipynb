{
 "cells": [
  {
   "cell_type": "code",
   "execution_count": 1,
   "metadata": {},
   "outputs": [
    {
     "data": {
      "text/plain": [
       "['COM7', 'COM18', 'COM20']"
      ]
     },
     "execution_count": 1,
     "metadata": {},
     "output_type": "execute_result"
    }
   ],
   "source": [
    "import time\n",
    "import pandas as pd\n",
    "from datetime import datetime\n",
    "import threading\n",
    "\n",
    "import bernielib as bl\n",
    "\n",
    "bl.listSerialPorts()"
   ]
  },
  {
   "cell_type": "code",
   "execution_count": 2,
   "metadata": {},
   "outputs": [],
   "source": [
    "ber = bl.robot(cartesian_port_name='COM18', pipette_port_name='COM7', misc_port_name='COM20')"
   ]
  },
  {
   "cell_type": "code",
   "execution_count": 3,
   "metadata": {},
   "outputs": [],
   "source": [
    "ber.robotHome()\n",
    "ber.pipetteHome()"
   ]
  },
  {
   "cell_type": "markdown",
   "metadata": {},
   "source": [
    "# Refill tips"
   ]
  },
  {
   "cell_type": "code",
   "execution_count": 4,
   "metadata": {},
   "outputs": [],
   "source": [
    "ber.tips_rack.refill()"
   ]
  },
  {
   "cell_type": "markdown",
   "metadata": {},
   "source": [
    "# Recalibrate pipette tip rack"
   ]
  },
  {
   "cell_type": "code",
   "execution_count": 46,
   "metadata": {},
   "outputs": [
    {
     "data": {
      "text/plain": [
       "(77.2, 149.765, 168.9)"
      ]
     },
     "execution_count": 46,
     "metadata": {},
     "output_type": "execute_result"
    }
   ],
   "source": [
    "ber.calibrateRack(rack='tips')"
   ]
  },
  {
   "cell_type": "code",
   "execution_count": 47,
   "metadata": {},
   "outputs": [],
   "source": [
    "ber.move(z=50)"
   ]
  },
  {
   "cell_type": "markdown",
   "metadata": {},
   "source": [
    "# Running a protocol"
   ]
  },
  {
   "cell_type": "code",
   "execution_count": 4,
   "metadata": {},
   "outputs": [],
   "source": [
    "def waitAfterTimestamp(timestamp, delay):\n",
    "    new_ts = time.time()\n",
    "    while (new_ts - timestamp) < delay:\n",
    "        time.sleep(1)\n",
    "        new_ts = time.time()"
   ]
  },
  {
   "cell_type": "code",
   "execution_count": 5,
   "metadata": {},
   "outputs": [],
   "source": [
    "def addBeadsToAll(robot, samples_list, v_beads_list, beads, sample_mix_scenario, beads_mix_scenario):\n",
    "    robot.moveMagnetsAway(poweroff=True)\n",
    "    robot.pickUpNextTip()\n",
    "    robot.move(z=50)\n",
    "    robot.mixByScript(beads, beads_mix_scenario)\n",
    "    robot.move(z=50)\n",
    "    \n",
    "    for sample, v_beads in zip(samples_list, v_beads_list):\n",
    "        robot.transferLiquid(beads, sample, v_beads, touch_wall=False)\n",
    "    \n",
    "    counter = 0\n",
    "    for sample, v_beads in zip(samples_list, v_beads_list):\n",
    "        if counter != 0:\n",
    "            robot.move(z=50)\n",
    "            robot.pickUpNextTip()\n",
    "        \n",
    "        robot.move(z=50)\n",
    "        \n",
    "        robot.mixByScript(sample, sample_mix_scenario)\n",
    "            \n",
    "        if counter == 0:\n",
    "            timestamp = time.time()\n",
    "        counter += 1\n",
    "        \n",
    "        robot.move(z=50)\n",
    "        robot.dumpTipToWaste()\n",
    "    \n",
    "    return timestamp"
   ]
  },
  {
   "cell_type": "code",
   "execution_count": 6,
   "metadata": {},
   "outputs": [],
   "source": [
    "def elutionMix(robot, sample, volume, delay=0.5):\n",
    "    z0 = robot._getTubeZBottom(sample)\n",
    "    z_top = sample.getSampleTopAbsZ(added_length=robot._calcExtraLength())\n",
    "    robot.movePipetteToVolume(0)\n",
    "    robot.movePipetteToVolume(volume+5)\n",
    "    robot.movePipetteToVolume(volume)\n",
    "    robot.move(z=z0-0.5)\n",
    "    robot.movePipetteToVolume(0)\n",
    "    time.sleep(delay)\n",
    "    # Washing steps, moving along the wall\n",
    "    # 1\n",
    "    z_curr = z_top + 24\n",
    "    #z_curr = sample.calcAbsLiquidLevelFromVol(500, added_length=robot._calcExtraLength())\n",
    "    robot.move(z=z_curr)\n",
    "    robot.moveAxisDelta('X', 3.0)\n",
    "    robot.movePipetteToVolume(volume/4.0)\n",
    "    time.sleep(delay/4.0)\n",
    "    # 2\n",
    "    z_curr = z_top + 28\n",
    "    #z_curr = sample.calcAbsLiquidLevelFromVol(300, added_length=robot._calcExtraLength())\n",
    "    robot.move(z=z_curr)\n",
    "    #robot.moveAxisDelta('X', -0.629)\n",
    "    robot.movePipetteToVolume(2 * (volume/4.0))\n",
    "    time.sleep(delay/4.0)\n",
    "    # 3\n",
    "    z_curr = z_top + 32\n",
    "    #z_curr = sample.calcAbsLiquidLevelFromVol(150, added_length=robot._calcExtraLength())\n",
    "    robot.move(z=z_curr)\n",
    "    robot.moveAxisDelta('X', -0.629)\n",
    "    robot.movePipetteToVolume(3 * (volume/4.0))\n",
    "    time.sleep(delay/4.0)\n",
    "    # 4\n",
    "    z_curr = z_top + 36\n",
    "    #z_curr = sample.calcAbsLiquidLevelFromVol(150, added_length=robot._calcExtraLength())\n",
    "    robot.move(z=z_curr)\n",
    "    robot.moveAxisDelta('X', -0.629)\n",
    "    robot.movePipetteToVolume(volume)\n",
    "    time.sleep(delay/4.0)\n",
    "    \n",
    "    x, y = sample.getCenterXY()\n",
    "    robot.move(x=x, y=y)\n",
    "    z_curr = sample.calcAbsLiquidLevelFromVol(volume+100, added_length=robot._calcExtraLength())\n",
    "    robot.move(z=z_curr)\n",
    "    \n",
    "    robot.movePipetteToVolume(volume+50)\n",
    "    time.sleep(delay)\n",
    "    robot.movePipetteToVolume(0)"
   ]
  },
  {
   "cell_type": "code",
   "execution_count": 7,
   "metadata": {},
   "outputs": [],
   "source": [
    "def elutionMixLrgVol(robot, sample, volume, delay=0.5):\n",
    "    z0 = robot._getTubeZBottom(sample)\n",
    "    z_top = sample.getSampleTopAbsZ(added_length=robot._calcExtraLength())\n",
    "    \n",
    "    # Uptaking\n",
    "    robot.movePipetteToVolume(0)\n",
    "    robot.movePipetteToVolume(volume+5)\n",
    "    robot.movePipetteToVolume(volume)\n",
    "    robot.move(z=z0-0.8)\n",
    "    robot.movePipetteToVolume(0)\n",
    "    time.sleep(delay)\n",
    "    \n",
    "    # Ejecting liquid\n",
    "    z_curr = sample.calcAbsLiquidLevelFromVol(1000, added_length=robot._calcExtraLength())\n",
    "    robot.move(z=z_curr)\n",
    "    robot.moveAxisDelta('X', 3.4)\n",
    "    robot.movePipetteToVolume(volume+50)\n",
    "    z_curr = sample.calcAbsLiquidLevelFromVol(500, added_length=robot._calcExtraLength())\n",
    "    robot.move(z=z_curr)\n",
    "    \n",
    "    # To back position\n",
    "    x, y = sample.getCenterXY()\n",
    "    robot.move(x=x, y=y)\n",
    "    \n",
    "    robot.movePipetteToVolume(0)"
   ]
  },
  {
   "cell_type": "code",
   "execution_count": 8,
   "metadata": {},
   "outputs": [],
   "source": [
    "def separateEluate(robot, eluate_tube, result_tube, pipette_delay=0.5, z_above_bottom=0.5, safe_z=50):\n",
    "    robot.pickUpNextTip()\n",
    "    robot.move(z=safe_z)\n",
    "    # Uptaking liquid\n",
    "    v = eluate_tube.getVolume()\n",
    "    robot.moveToSample(eluate_tube)\n",
    "    robot.movePipetteToVolume(v+5)\n",
    "    robot.movePipetteToVolume(v)\n",
    "    z0 = robot._getTubeZBottom(eluate_tube)\n",
    "    robot.move(z=z0-z_above_bottom)\n",
    "    robot.movePipetteToVolume(0)\n",
    "    time.sleep(pipette_delay)\n",
    "    # Dispensing liquid\n",
    "    robot.moveToSample(result_tube)\n",
    "    robot.movePipetteToVolume(v+5)\n",
    "    time.sleep(pipette_delay)\n",
    "    robot.movePipetteToVolume(200)\n",
    "    time.sleep(pipette_delay)\n",
    "    robot.touchWall(result_tube)\n",
    "    robot.movePipetteToVolume(0)\n",
    "    robot.move(z=safe_z)\n",
    "    ber.dumpTipToWaste()"
   ]
  },
  {
   "cell_type": "markdown",
   "metadata": {},
   "source": [
    "# Separating supernatant and eluate"
   ]
  },
  {
   "cell_type": "code",
   "execution_count": 22,
   "metadata": {},
   "outputs": [],
   "source": [
    "def createSupernatantSamplesList(robot, number):\n",
    "    samples_list = []\n",
    "    for i in range(number):\n",
    "        sample_name = 'sup'+str(i)\n",
    "        s = bl.createSample('eppendorf', sample_name, robot.samples_rack, pos_col=1, pos_row=i+6, volume=0)\n",
    "        samples_list.append(s)\n",
    "    return samples_list"
   ]
  },
  {
   "cell_type": "code",
   "execution_count": 41,
   "metadata": {},
   "outputs": [],
   "source": [
    "def removeSupAddEluent(robot, sample, sup, eluent, z_safe=50, delay=0.5, mix_times=6, T_pull=60):\n",
    "    # Removing supernatant\n",
    "    robot.moveMagnetsTowardsTube(poweroff=True)\n",
    "    time.sleep(T_pull)\n",
    "    robot.pickUpNextTip()\n",
    "    robot.move(z=z_safe)\n",
    "    z0 = robot._getTubeZBottom(sample)\n",
    "    while sample.getVolume() > 200:\n",
    "        robot.movePipetteToVolume(200)\n",
    "        robot.moveToSample(sample)\n",
    "        robot.move(z=z0-0.5)\n",
    "        robot.movePipetteToVolume(0)\n",
    "        new_vol = sample.getVolume() - 200\n",
    "        if new_vol < 0:\n",
    "            new_vol = 0\n",
    "        sample.setVolume(new_vol)\n",
    "        robot.move(z=z_safe)\n",
    "        robot.dispenseLiquid(sup, 200, blow_extra=True)\n",
    "        robot.move(z=z_safe)\n",
    "    pipetteThread = threading.Thread(target=robot.movePipetteToVolume, args=(250,))\n",
    "    pipetteThread.start()\n",
    "    robot.moveToSample(sample)\n",
    "    #robot.movePipetteToVolume(250)\n",
    "    robot.move(z=z0)\n",
    "    pipetteThread.join()\n",
    "    robot.movePipetteToVolume(50)\n",
    "    time.sleep(delay)\n",
    "    robot.move(z=z0-0.5)\n",
    "    time.sleep(delay)\n",
    "    robot.moveAxisDelta('X', 1.5)\n",
    "    robot.movePipetteToVolume(40)\n",
    "    time.sleep(delay/4.0)\n",
    "    robot.moveAxisDelta('X', -1.5)\n",
    "    robot.moveAxisDelta('Y', 1.5)\n",
    "    robot.movePipetteToVolume(30)\n",
    "    time.sleep(delay/4.0)\n",
    "    robot.moveAxisDelta('Y', -1.5)\n",
    "    robot.moveAxisDelta('X', -1.5)    \n",
    "    robot.movePipetteToVolume(20)\n",
    "    time.sleep(delay/4.0)\n",
    "    robot.moveAxisDelta('X', 1.5)\n",
    "    robot.moveAxisDelta('Y', -1.5)\n",
    "    robot.movePipetteToVolume(0)\n",
    "    time.sleep(delay/4.0)\n",
    "    robot.move(z=z_safe)\n",
    "    robot.dispenseLiquid(sup, 250, blow_extra=True)\n",
    "    robot.move(z=z_safe)\n",
    "    robot.dumpTipToWaste()\n",
    "    \n",
    "    robot.moveMagnetsAway(poweroff=True)\n",
    "    robot.pickUpNextTip()\n",
    "    robot.move(z=z_safe)\n",
    "    robot.transferLiquid(eluent, sample, volume)\n",
    "    for i in range(mix_times):\n",
    "        elutionMixLrgVol(robot, sample, volume)\n",
    "    elutionMix(robot, sample, volume)\n",
    "    elutionMix(robot, sample, volume)\n",
    "    elution_start_time = time.time()\n",
    "    robot.move(z=z_safe)\n",
    "    robot.dumpTipToWaste()\n",
    "    return elution_start_time"
   ]
  },
  {
   "cell_type": "code",
   "execution_count": 42,
   "metadata": {},
   "outputs": [],
   "source": [
    "sample_mix_scenario = pd.read_csv('mixing_pattern_eppendorf.csv')\n",
    "beads_mix_scenario = pd.read_csv('mixing_pattern_eppendorf.csv')"
   ]
  },
  {
   "cell_type": "code",
   "execution_count": 44,
   "metadata": {},
   "outputs": [],
   "source": [
    "initial_vol_list = [30, 30, 30, 30]\n",
    "samples_number = len(initial_vol_list)\n",
    "dna_stock_2 = bl.createSample('eppendorf', 'dna_stock_2', ber.samples_rack, 0, 8, 900)"
   ]
  },
  {
   "cell_type": "code",
   "execution_count": 45,
   "metadata": {},
   "outputs": [],
   "source": [
    "ber.pickUpNextTip()\n",
    "samples_list = bl.createSamplesToPurifyList(ber, [0 for x in range(samples_number)])\n",
    "\n",
    "for sample, volume in zip(samples_list, initial_vol_list):\n",
    "    ber.transferLiquid(dna_stock_2, sample, volume, v_immerse_dispense=1600, touch_wall=False)\n",
    "\n",
    "ber.move(z=50)\n",
    "ber.dumpTipToWaste()\n",
    "ber.pipetteHome()"
   ]
  },
  {
   "cell_type": "code",
   "execution_count": 46,
   "metadata": {},
   "outputs": [
    {
     "name": "stdout",
     "output_type": "stream",
     "text": [
      "Experiment started  19:46:20\n",
      "Waiting for DNA absorption\n",
      "DNA absorption finished  19:57:34\n",
      "Eluent added  20:09:39\n",
      "Elution incubation finished  20:17:30\n",
      "Beads pulled to the side  20:20:36\n"
     ]
    }
   ],
   "source": [
    "V_avail_beads = 800 #uL\n",
    "V_avail_water = 42000 #uL\n",
    "\n",
    "T_absorb = 480 #sec\n",
    "#T_absorb = 0 #sec\n",
    "T_elution = 480 #sec\n",
    "#T_elution = 0 #sec\n",
    "T_pull = 60 #sec\n",
    "#T_pull = 0 #sec\n",
    "\n",
    "v_beads_list = [90, 27, 18, 15]\n",
    "#v_beads_list = [90]\n",
    "samples_list = bl.createSamplesToPurifyList(ber, initial_vol_list)\n",
    "result_list = bl.createPurifiedSamplesList(ber, samples_number)\n",
    "sup_list = createSupernatantSamplesList(ber, samples_number)\n",
    "beads = bl.createSample('eppendorf', 'beads', ber.samples_rack, 0, 11, V_avail_beads)\n",
    "water = bl.createSample('50ml', 'water', ber.reagents_rack, 1, 1, V_avail_water)\n",
    "\n",
    "print(\"Experiment started \", datetime.now().strftime(\"%H:%M:%S\"))\n",
    "timestamp_beads_added = addBeadsToAll(ber, samples_list, v_beads_list, beads, sample_mix_scenario, beads_mix_scenario)\n",
    "print(\"Waiting for DNA absorption\")\n",
    "waitAfterTimestamp(timestamp_beads_added, T_absorb)\n",
    "print(\"DNA absorption finished \", datetime.now().strftime(\"%H:%M:%S\"))\n",
    "for sample, sup in zip(samples_list, sup_list):\n",
    "    timestamp_elution_started = removeSupAddEluent(ber, sample, sup, water, T_pull=T_pull)\n",
    "print(\"Eluent added \", datetime.now().strftime(\"%H:%M:%S\"))\n",
    "waitAfterTimestamp(timestamp_elution_started, T_elution)\n",
    "print(\"Elution incubation finished \", datetime.now().strftime(\"%H:%M:%S\"))\n",
    "ber.moveMagnetsTowardsTube()\n",
    "time.sleep(T_pull)\n",
    "for sample, result in zip(samples_list, result_list):\n",
    "        separateEluate(ber, sample, result)\n",
    "print(\"Beads pulled to the side \", datetime.now().strftime(\"%H:%M:%S\"))"
   ]
  },
  {
   "cell_type": "code",
   "execution_count": 29,
   "metadata": {},
   "outputs": [],
   "source": [
    "ber.move(z=50)\n",
    "ber.dumpTipToPosition(0, 5)"
   ]
  },
  {
   "cell_type": "code",
   "execution_count": 30,
   "metadata": {},
   "outputs": [],
   "source": [
    "ber.move(z=50)\n"
   ]
  },
  {
   "cell_type": "markdown",
   "metadata": {},
   "source": [
    "# Purging tubes"
   ]
  },
  {
   "cell_type": "code",
   "execution_count": 20,
   "metadata": {},
   "outputs": [],
   "source": [
    "samples_list = bl.createSamplesToPurifyList(ber, [200,200,200,200])\n",
    "waste = bl.createSample('50ml', 'liquid_waste', ber.reagents_rack, 0, 1, 0)\n",
    "ber.pickUpNextTip()\n",
    "ber.move(z=50)\n",
    "for sample in samples_list:\n",
    "    ber.transferLiquid(sample, waste, 200)\n",
    "ber.move(z=50)    \n",
    "ber.dumpTipToWaste()    "
   ]
  },
  {
   "cell_type": "markdown",
   "metadata": {},
   "source": [
    "# Results analysis"
   ]
  },
  {
   "cell_type": "markdown",
   "metadata": {},
   "source": [
    "No bands at any sample"
   ]
  },
  {
   "cell_type": "code",
   "execution_count": null,
   "metadata": {},
   "outputs": [],
   "source": []
  }
 ],
 "metadata": {
  "kernelspec": {
   "display_name": "Python 3",
   "language": "python",
   "name": "python3"
  },
  "language_info": {
   "codemirror_mode": {
    "name": "ipython",
    "version": 3
   },
   "file_extension": ".py",
   "mimetype": "text/x-python",
   "name": "python",
   "nbconvert_exporter": "python",
   "pygments_lexer": "ipython3",
   "version": "3.7.4"
  }
 },
 "nbformat": 4,
 "nbformat_minor": 2
}
