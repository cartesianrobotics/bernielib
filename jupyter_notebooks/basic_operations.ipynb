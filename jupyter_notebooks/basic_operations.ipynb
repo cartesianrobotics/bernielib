{
 "cells": [
  {
   "cell_type": "markdown",
   "metadata": {},
   "source": [
    "# Basic operations for BernieLib"
   ]
  },
  {
   "cell_type": "code",
   "execution_count": 1,
   "metadata": {},
   "outputs": [],
   "source": [
    "import serial\n",
    "import time\n",
    "import re\n",
    "import logging\n",
    "import sys\n",
    "import json"
   ]
  },
  {
   "cell_type": "code",
   "execution_count": 2,
   "metadata": {},
   "outputs": [],
   "source": [
    "# Those are parameters for serial connection. \n",
    "# Used when opening serial port.\n",
    "BAUDRATE = 115200\n",
    "TIMEOUT = 0.1   # seconds\n",
    "END_OF_LINE = \"\\r\""
   ]
  },
  {
   "cell_type": "code",
   "execution_count": 3,
   "metadata": {},
   "outputs": [],
   "source": [
    "def listSerialPorts():\n",
    "    \"\"\" \n",
    "    Lists serial port names\n",
    "\n",
    "        :raises EnvironmentError:\n",
    "            On unsupported or unknown platforms\n",
    "        :returns:\n",
    "            A list of the serial ports available on the system\n",
    "    \"\"\"\n",
    "    if sys.platform.startswith('win'):\n",
    "        ports = ['COM%s' % (i + 1) for i in range(256)]\n",
    "    elif sys.platform.startswith('linux') or sys.platform.startswith('cygwin'):\n",
    "        # this excludes your current terminal \"/dev/tty\"\n",
    "        ports = glob.glob('/dev/tty[A-Za-z]*')\n",
    "    elif sys.platform.startswith('darwin'):\n",
    "        ports = glob.glob('/dev/tty.*')\n",
    "    else:\n",
    "        raise EnvironmentError('Unsupported platform')\n",
    "\n",
    "    result = []\n",
    "    for port in ports:\n",
    "        try:\n",
    "            s = serial.Serial(port)\n",
    "            s.close()\n",
    "            result.append(port)\n",
    "        except (OSError, serial.SerialException):\n",
    "            pass\n",
    "    return result"
   ]
  },
  {
   "cell_type": "code",
   "execution_count": 4,
   "metadata": {},
   "outputs": [],
   "source": [
    "class robot():\n",
    "    \"\"\"\n",
    "    Handles all robot operations\n",
    "    \"\"\"\n",
    "    \n",
    "    def __init__ (self, cartesian_port_name, pipette_port_name, misc_port_name):\n",
    "        \n",
    "        self.data = {}\n",
    "        self.recent_message = ''\n",
    "        self.name = 'robot'\n",
    "        \n",
    "        self.loadData()\n",
    "        \n",
    "        self.cartesian_port = serial.Serial(cartesian_port_name, BAUDRATE, timeout=TIMEOUT)\n",
    "        self.pipette_port = serial.Serial(pipette_port_name, BAUDRATE, timeout=TIMEOUT)\n",
    "        self.misc_port = serial.Serial(misc_port_name, BAUDRATE, timeout=TIMEOUT)\n",
    "    \n",
    "    \n",
    "    def close(self):\n",
    "        try:\n",
    "            self.cartesian_port.close()\n",
    "        except:\n",
    "            pass\n",
    "        try:\n",
    "            self.pipette_port.close()\n",
    "        except:\n",
    "            pass\n",
    "        try:\n",
    "            self.misc_port.close()\n",
    "        except:\n",
    "            pass\n",
    "    \n",
    "    \n",
    "    def _readAll(self, port):\n",
    "        time.sleep(0.05)\n",
    "        message = ''\n",
    "        while port.inWaiting():\n",
    "            message += port.read(1).decode(\"utf-8\")\n",
    "            \n",
    "        return message\n",
    "    \n",
    "    \n",
    "    def _readUntilMatch(self, port, pattern):\n",
    "        message = ''\n",
    "        while True:\n",
    "            message += self._readAll(port)\n",
    "            if re.search(pattern=pattern, string=message):\n",
    "                self.recent_message = message\n",
    "                break\n",
    "        return self.recent_message\n",
    "    \n",
    "    \n",
    "    def _write(self, port, expression, eol):\n",
    "        port.flushInput()\n",
    "        expression = expression.strip()\n",
    "        expression = expression + eol\n",
    "        expr_enc = expression.encode()\n",
    "        port.write(expr_enc)\n",
    "    \n",
    "        \n",
    "    def writeMisc(self, expression):\n",
    "        self._write(port=self.misc_port, expression=expression, eol='')\n",
    "    \n",
    "        \n",
    "    def _writeAndWait(self, port, expression, eol, confirm_message):\n",
    "        self._write(port, expression, eol)\n",
    "        message = self._readUntilMatch(port, confirm_message)\n",
    "        return message\n",
    "        \n",
    "    \n",
    "    def writeAndWaitMisc(self, expression):\n",
    "        return self._writeAndWait(port=self.misc_port, expression=expression, eol='', confirm_message='\\r\\n')\n",
    "\n",
    "    \n",
    "# ==========================================================================================\n",
    "# Pipette functions\n",
    "    \n",
    "\n",
    "    def writePipette(self, expression):\n",
    "        self._write(port=self.pipette_port, expression=expression, eol='\\r')    \n",
    "    \n",
    "    \n",
    "    def writeAndWaitPipette(self, expression, confirm_message=\"Idle\"):\n",
    "        \"\"\"\n",
    "        Function will write an expression to the device and wait for the proper response.\n",
    "        \n",
    "        Use this function to make the devise perform a physical operation and\n",
    "        make sure program continues after the operation is physically completed.\n",
    "        \n",
    "        Function will return an output message\n",
    "        \"\"\"\n",
    "        self.writePipette(expression)\n",
    "        \n",
    "        full_message = \"\"\n",
    "        while True:\n",
    "            message = self._readAll(self.pipette_port)\n",
    "            if message != \"\":\n",
    "                full_message += message\n",
    "                if re.search(pattern=confirm_message, string=full_message):\n",
    "                    break\n",
    "            self.writePipette(\"?\")\n",
    "            \n",
    "    \n",
    "    def pipetteSetSpeed(self, speed):\n",
    "        self.writePipette('$110='+str(speed))\n",
    "    \n",
    "    \n",
    "    def pipetteHome(self):\n",
    "        self.writeAndWaitPipette('$H')\n",
    "        \n",
    "    \n",
    "    def pipetteUnlock(self):\n",
    "        self.writeAndWaitPipette('$X')\n",
    "    \n",
    "    \n",
    "    def pipetteMove(self, dist):\n",
    "        dist = dist * -1.0\n",
    "        self.writeAndWaitPipette('G0 X'+str(dist))\n",
    "        \n",
    "    \n",
    "    def pipetteServoUp(self):\n",
    "        self.writeAndWaitPipette('M3 S90')\n",
    "        \n",
    "    \n",
    "    def pipetteServoDown(self):\n",
    "        self.writeAndWaitPipette('M5')\n",
    "    \n",
    "# ================================================================================\n",
    "# Load cells (pressure sensors) functions\n",
    "    \n",
    "    \n",
    "    def tareAll(self):\n",
    "        self.writeMisc('T')\n",
    "    \n",
    "    \n",
    "    def readRightLoad(self):\n",
    "        return float(self.writeAndWaitMisc('RR').strip())\n",
    "    \n",
    "    \n",
    "    def readLeftLoad(self):\n",
    "        return float(self.writeAndWaitMisc('RL').strip())\n",
    "    \n",
    "\n",
    "    def getCombinedLoad(self):\n",
    "        return self.readRightLoad() + self.readLeftLoad()\n",
    "    \n",
    "# ===================================================================================\n",
    "# Magnetic rack functions\n",
    "    \n",
    "    \n",
    "    def rackPowerOn(self):\n",
    "        self.writeAndWaitMisc('P on')\n",
    "    \n",
    "    \n",
    "    def rackPowerOff(self):\n",
    "        self.writeAndWaitMisc('P off')\n",
    "        \n",
    "        \n",
    "    def rackMoveMagnetsAngle(self, angle):\n",
    "        self.writeAndWaitMisc('G0 '+str(angle))\n",
    "\n",
    "        \n",
    "    def setMagnetsAwayAngle(self, angle):\n",
    "        self.data['magnets_away_angle'] = angle\n",
    "        self.save()\n",
    "    \n",
    "    \n",
    "    def setMagnetsNearTubeAngle(self, angle):\n",
    "        self.data['magnets_near_tube_angle'] = angle\n",
    "        self.save()\n",
    "    \n",
    "    \n",
    "    def getMagnetsAwayAngle(self):\n",
    "        try: \n",
    "            return self.data['magnets_away_angle']\n",
    "        except:\n",
    "            return 40\n",
    "    \n",
    "    def getMagnetsNearTubeAngle(self):\n",
    "        try:\n",
    "            return self.data['magnets_near_tube_angle']\n",
    "        except:\n",
    "            return 90\n",
    "    \n",
    "    \n",
    "    def moveMagnetsAway(self, poweroff=False):\n",
    "        self.rackPowerOn()\n",
    "        self.rackMoveMagnetsAngle(self.getMagnetsAwayAngle())\n",
    "        if poweroff:\n",
    "            #time.sleep(1)\n",
    "            self.rackPowerOff()\n",
    "    \n",
    "    \n",
    "    def moveMagnetsTowardsTube(self, poweroff=False):\n",
    "        self.rackPowerOn()\n",
    "        self.rackMoveMagnetsAngle(self.getMagnetsNearTubeAngle())\n",
    "        if poweroff:\n",
    "            self.rackPowerOff()\n",
    "\n",
    "            \n",
    "# ===========================================================================\n",
    "# Cartesian robot functions\n",
    "\n",
    "\n",
    "    def writeCartesian(self, expression):\n",
    "        self._write(port=self.cartesian_port, expression=expression, eol='\\r')\n",
    "\n",
    "\n",
    "    def writeAndWaitCartesian(self, expression):\n",
    "        return self._writeAndWait(port=self.cartesian_port, expression=expression, eol='\\r', confirm_message='ok\\n')\n",
    "\n",
    "    \n",
    "    def home(self, part='all'):\n",
    "        if part == 'robot':\n",
    "            self.robotHome()\n",
    "        elif part == 'pipette':\n",
    "            self.pipetteHome()\n",
    "        elif part == 'magrack':\n",
    "            self.moveMagnetsAway()\n",
    "        else:\n",
    "            self.robotHome()\n",
    "            self.pipetteHome()\n",
    "            self.moveMagnetsAway()\n",
    "            \n",
    "    \n",
    "    def robotHome(self, axis=None):\n",
    "        if axis is None:\n",
    "            self.writeAndWaitCartesian('G28 Z')\n",
    "            self.writeAndWaitCartesian('G28 X')\n",
    "            self.writeAndWaitCartesian('G28 Y')\n",
    "        else:\n",
    "            axis=axis.upper()\n",
    "            self.writeAndWaitCartesian('G28 '+axis)\n",
    "    \n",
    "    \n",
    "    def moveAxis(self, axis, dist, speed=None):\n",
    "        axis=axis.upper()\n",
    "        if speed is None:\n",
    "            if axis == 'X' or axis == 'Y':\n",
    "                speed = 6000\n",
    "            elif axis == 'Z':\n",
    "                speed = 1000\n",
    "            else:\n",
    "                print(\"Wrong axis provided.\")\n",
    "                return\n",
    "        self.writeAndWaitCartesian('G0 '+axis+str(dist)+' F'+str(speed))\n",
    "        \n",
    "\n",
    "    def getPosition(self, axis=None):\n",
    "        msg = self.writeAndWaitCartesian(\"M114\")\n",
    "        msg_list = re.split(pattern=' ', string=msg)\n",
    "        x_str = msg_list[0]\n",
    "        y_str = msg_list[1]\n",
    "        z_str = msg_list[2]\n",
    "        x = float(re.split(pattern=\"\\:\", string=x_str)[1])\n",
    "        y = float(re.split(pattern=\"\\:\", string=y_str)[1])\n",
    "        z = float(re.split(pattern=\"\\:\", string=z_str)[1])\n",
    "        try:\n",
    "            axis=axis.upper()\n",
    "        except:\n",
    "            pass\n",
    "        if axis == 'X':\n",
    "            return x\n",
    "        elif axis == 'Y':\n",
    "            return y\n",
    "        elif axis == 'Z':\n",
    "            return z\n",
    "        else:\n",
    "            return x, y, z\n",
    "\n",
    "        \n",
    "    def moveDownUntilPress(self, step, threshold):\n",
    "        self.tareAll()\n",
    "        z = self.getPosition(axis='Z')\n",
    "        while (self.getCombinedLoad()) < threshold:\n",
    "            z += step\n",
    "            self.moveAxis('Z', z)\n",
    "        return self.getPosition(axis='Z')\n",
    "        \n",
    "        \n",
    "        \n",
    "# ==============================================================================\n",
    "# Settings storage and manipulations\n",
    "        \n",
    "    def loadData(self, path=None):\n",
    "        if path is None:\n",
    "            path=self.name+'.json'\n",
    "        try:\n",
    "            f = open(path, 'r')\n",
    "            self.data = json.loads(f.read())\n",
    "            f.close()\n",
    "        except FileNotFoundError:\n",
    "            self.data = {}\n",
    "    \n",
    "    \n",
    "    def showData(self):\n",
    "        return self.data\n",
    "    \n",
    "    \n",
    "    def save(self):\n",
    "        f = open(self.name+'.json', 'w')\n",
    "        f.write(json.dumps(self.data))\n",
    "        f.close()"
   ]
  },
  {
   "cell_type": "code",
   "execution_count": 5,
   "metadata": {},
   "outputs": [
    {
     "data": {
      "text/plain": [
       "['COM7', 'COM18', 'COM20']"
      ]
     },
     "execution_count": 5,
     "metadata": {},
     "output_type": "execute_result"
    }
   ],
   "source": [
    "listSerialPorts()"
   ]
  },
  {
   "cell_type": "code",
   "execution_count": 6,
   "metadata": {},
   "outputs": [],
   "source": [
    "ber = robot(cartesian_port_name='COM18', pipette_port_name='COM7', misc_port_name='COM20')"
   ]
  },
  {
   "cell_type": "markdown",
   "metadata": {},
   "source": [
    "# Raw commands"
   ]
  },
  {
   "cell_type": "code",
   "execution_count": 10,
   "metadata": {},
   "outputs": [
    {
     "data": {
      "text/plain": [
       "'echo:busy: processing\\necho:busy: processing\\necho:busy: processing\\necho:busy: processing\\necho:busy: processing\\nX:0.00 Y:0.00 Z:0.00 E:0.00 Count X:0 Y:0 Z:0\\nok\\n'"
      ]
     },
     "execution_count": 10,
     "metadata": {},
     "output_type": "execute_result"
    }
   ],
   "source": [
    "ber.writeAndWaitCartesian('G28')"
   ]
  },
  {
   "cell_type": "code",
   "execution_count": 7,
   "metadata": {},
   "outputs": [
    {
     "data": {
      "text/plain": [
       "'ok\\n'"
      ]
     },
     "execution_count": 7,
     "metadata": {},
     "output_type": "execute_result"
    }
   ],
   "source": [
    "ber.writeAndWaitCartesian('G0 Z10 F1000')"
   ]
  },
  {
   "cell_type": "code",
   "execution_count": 8,
   "metadata": {},
   "outputs": [
    {
     "data": {
      "text/plain": [
       "'ok\\n'"
      ]
     },
     "execution_count": 8,
     "metadata": {},
     "output_type": "execute_result"
    }
   ],
   "source": [
    "ber.writeAndWaitCartesian('G0 Y10 F6000')"
   ]
  },
  {
   "cell_type": "code",
   "execution_count": 9,
   "metadata": {},
   "outputs": [
    {
     "data": {
      "text/plain": [
       "'ok\\n'"
      ]
     },
     "execution_count": 9,
     "metadata": {},
     "output_type": "execute_result"
    }
   ],
   "source": [
    "ber.writeAndWaitCartesian('G0 X20 F6000')"
   ]
  },
  {
   "cell_type": "code",
   "execution_count": 13,
   "metadata": {},
   "outputs": [],
   "source": [
    "ber.writeAndWaitPipette('$H')"
   ]
  },
  {
   "cell_type": "code",
   "execution_count": 12,
   "metadata": {},
   "outputs": [],
   "source": [
    "ber.writeAndWaitPipette('G0 X-40')"
   ]
  },
  {
   "cell_type": "code",
   "execution_count": 34,
   "metadata": {},
   "outputs": [],
   "source": [
    "ber.writePipette('$110=600')"
   ]
  },
  {
   "cell_type": "code",
   "execution_count": 16,
   "metadata": {},
   "outputs": [],
   "source": [
    "ber.writeAndWaitPipette('M3 S90')"
   ]
  },
  {
   "cell_type": "code",
   "execution_count": 15,
   "metadata": {},
   "outputs": [],
   "source": [
    "ber.writeAndWaitPipette('M5')"
   ]
  },
  {
   "cell_type": "code",
   "execution_count": 7,
   "metadata": {},
   "outputs": [],
   "source": [
    "ber.writeMisc('G0 40')"
   ]
  },
  {
   "cell_type": "code",
   "execution_count": 8,
   "metadata": {},
   "outputs": [
    {
     "data": {
      "text/plain": [
       "'40\\r\\n'"
      ]
     },
     "execution_count": 8,
     "metadata": {},
     "output_type": "execute_result"
    }
   ],
   "source": [
    "ber._readAll(ber.misc_port)"
   ]
  },
  {
   "cell_type": "code",
   "execution_count": 21,
   "metadata": {},
   "outputs": [
    {
     "data": {
      "text/plain": [
       "'90\\r\\n'"
      ]
     },
     "execution_count": 21,
     "metadata": {},
     "output_type": "execute_result"
    }
   ],
   "source": [
    "ber.writeAndWaitMisc('G0 90')"
   ]
  },
  {
   "cell_type": "code",
   "execution_count": 20,
   "metadata": {},
   "outputs": [
    {
     "data": {
      "text/plain": [
       "'0\\r\\nServo power ON\\r\\n'"
      ]
     },
     "execution_count": 20,
     "metadata": {},
     "output_type": "execute_result"
    }
   ],
   "source": [
    "ber.writeAndWaitMisc('P on')"
   ]
  },
  {
   "cell_type": "code",
   "execution_count": 22,
   "metadata": {},
   "outputs": [
    {
     "data": {
      "text/plain": [
       "'-8\\r\\nServo power OFF\\r\\n'"
      ]
     },
     "execution_count": 22,
     "metadata": {},
     "output_type": "execute_result"
    }
   ],
   "source": [
    "ber.writeAndWaitMisc('P off')"
   ]
  },
  {
   "cell_type": "code",
   "execution_count": 23,
   "metadata": {},
   "outputs": [],
   "source": [
    "ber.writeMisc('T')"
   ]
  },
  {
   "cell_type": "code",
   "execution_count": 24,
   "metadata": {},
   "outputs": [
    {
     "data": {
      "text/plain": [
       "'-0.42\\r\\n'"
      ]
     },
     "execution_count": 24,
     "metadata": {},
     "output_type": "execute_result"
    }
   ],
   "source": [
    "ber.writeAndWaitMisc('RR')"
   ]
  },
  {
   "cell_type": "code",
   "execution_count": 25,
   "metadata": {},
   "outputs": [
    {
     "data": {
      "text/plain": [
       "'-0.13\\r\\n'"
      ]
     },
     "execution_count": 25,
     "metadata": {},
     "output_type": "execute_result"
    }
   ],
   "source": [
    "ber.writeAndWaitMisc('RL')"
   ]
  },
  {
   "cell_type": "markdown",
   "metadata": {},
   "source": [
    "# G-code abstracted"
   ]
  },
  {
   "cell_type": "code",
   "execution_count": 7,
   "metadata": {},
   "outputs": [],
   "source": [
    "ber.robotHome()"
   ]
  },
  {
   "cell_type": "code",
   "execution_count": 7,
   "metadata": {},
   "outputs": [],
   "source": [
    "ber.robotHome(axis='X')"
   ]
  },
  {
   "cell_type": "code",
   "execution_count": 8,
   "metadata": {},
   "outputs": [],
   "source": [
    "ber.robotHome(axis='y')"
   ]
  },
  {
   "cell_type": "code",
   "execution_count": 9,
   "metadata": {},
   "outputs": [],
   "source": [
    "ber.robotHome(axis='z')"
   ]
  },
  {
   "cell_type": "code",
   "execution_count": 8,
   "metadata": {},
   "outputs": [],
   "source": [
    "ber.pipetteHome()"
   ]
  },
  {
   "cell_type": "code",
   "execution_count": 12,
   "metadata": {},
   "outputs": [],
   "source": [
    "ber.moveAxis('Z', 0, 1000)"
   ]
  },
  {
   "cell_type": "code",
   "execution_count": 13,
   "metadata": {},
   "outputs": [],
   "source": [
    "ber.moveAxis('X', 100)"
   ]
  },
  {
   "cell_type": "code",
   "execution_count": 16,
   "metadata": {},
   "outputs": [],
   "source": [
    "ber.moveAxis('Y', 200)"
   ]
  },
  {
   "cell_type": "code",
   "execution_count": 18,
   "metadata": {},
   "outputs": [],
   "source": [
    "ber.pipetteMove(0)"
   ]
  },
  {
   "cell_type": "code",
   "execution_count": 26,
   "metadata": {},
   "outputs": [],
   "source": [
    "ber.pipetteServoUp()"
   ]
  },
  {
   "cell_type": "code",
   "execution_count": 25,
   "metadata": {},
   "outputs": [],
   "source": [
    "ber.pipetteServoDown()"
   ]
  },
  {
   "cell_type": "code",
   "execution_count": 31,
   "metadata": {},
   "outputs": [],
   "source": [
    "ber.rackMoveMagnetsAngle(40)"
   ]
  },
  {
   "cell_type": "code",
   "execution_count": 27,
   "metadata": {},
   "outputs": [],
   "source": [
    "ber.rackPowerOn()"
   ]
  },
  {
   "cell_type": "code",
   "execution_count": 29,
   "metadata": {},
   "outputs": [],
   "source": [
    "ber.rackMoveMagnetsAngle(90)"
   ]
  },
  {
   "cell_type": "code",
   "execution_count": 30,
   "metadata": {},
   "outputs": [],
   "source": [
    "ber.rackMoveMagnetsAngle(40)"
   ]
  },
  {
   "cell_type": "code",
   "execution_count": 32,
   "metadata": {},
   "outputs": [],
   "source": [
    "ber.rackPowerOff()"
   ]
  },
  {
   "cell_type": "code",
   "execution_count": 9,
   "metadata": {},
   "outputs": [
    {
     "data": {
      "text/plain": [
       "-145.05"
      ]
     },
     "execution_count": 9,
     "metadata": {},
     "output_type": "execute_result"
    }
   ],
   "source": [
    "ber.readRightLoad()"
   ]
  },
  {
   "cell_type": "code",
   "execution_count": 10,
   "metadata": {},
   "outputs": [
    {
     "data": {
      "text/plain": [
       "109.93"
      ]
     },
     "execution_count": 10,
     "metadata": {},
     "output_type": "execute_result"
    }
   ],
   "source": [
    "ber.readLeftLoad()"
   ]
  },
  {
   "cell_type": "code",
   "execution_count": 11,
   "metadata": {},
   "outputs": [],
   "source": [
    "ber.tareAll()"
   ]
  },
  {
   "cell_type": "code",
   "execution_count": 12,
   "metadata": {},
   "outputs": [
    {
     "data": {
      "text/plain": [
       "0.17"
      ]
     },
     "execution_count": 12,
     "metadata": {},
     "output_type": "execute_result"
    }
   ],
   "source": [
    "ber.readRightLoad()"
   ]
  },
  {
   "cell_type": "code",
   "execution_count": 13,
   "metadata": {},
   "outputs": [
    {
     "data": {
      "text/plain": [
       "-0.05"
      ]
     },
     "execution_count": 13,
     "metadata": {},
     "output_type": "execute_result"
    }
   ],
   "source": [
    "ber.readLeftLoad()"
   ]
  },
  {
   "cell_type": "code",
   "execution_count": 14,
   "metadata": {},
   "outputs": [],
   "source": [
    "ber.rackPowerOn()"
   ]
  },
  {
   "cell_type": "code",
   "execution_count": 22,
   "metadata": {},
   "outputs": [],
   "source": [
    "ber.rackMoveMagnetsAngle(40)"
   ]
  },
  {
   "cell_type": "code",
   "execution_count": 23,
   "metadata": {},
   "outputs": [],
   "source": [
    "ber.rackMoveMagnetsAngle(93)"
   ]
  },
  {
   "cell_type": "markdown",
   "metadata": {},
   "source": [
    "# Magnets"
   ]
  },
  {
   "cell_type": "code",
   "execution_count": 7,
   "metadata": {},
   "outputs": [],
   "source": [
    "ber.setMagnetsAwayAngle(40)"
   ]
  },
  {
   "cell_type": "code",
   "execution_count": 9,
   "metadata": {},
   "outputs": [],
   "source": [
    "ber.setMagnetsNearTubeAngle(93)"
   ]
  },
  {
   "cell_type": "code",
   "execution_count": 20,
   "metadata": {},
   "outputs": [],
   "source": [
    "ber.moveMagnetsAway()"
   ]
  },
  {
   "cell_type": "code",
   "execution_count": 19,
   "metadata": {},
   "outputs": [],
   "source": [
    "ber.moveMagnetsTowardsTube()"
   ]
  },
  {
   "cell_type": "markdown",
   "metadata": {},
   "source": [
    "# Approach until load"
   ]
  },
  {
   "cell_type": "code",
   "execution_count": 10,
   "metadata": {},
   "outputs": [],
   "source": [
    "#ber.home()"
   ]
  },
  {
   "cell_type": "code",
   "execution_count": 7,
   "metadata": {},
   "outputs": [],
   "source": [
    "ber.robotHome()"
   ]
  },
  {
   "cell_type": "code",
   "execution_count": 13,
   "metadata": {},
   "outputs": [
    {
     "data": {
      "text/plain": [
       "(50.0, 50.0, 0.0)"
      ]
     },
     "execution_count": 13,
     "metadata": {},
     "output_type": "execute_result"
    }
   ],
   "source": [
    "ber.getPosition()"
   ]
  },
  {
   "cell_type": "code",
   "execution_count": 8,
   "metadata": {},
   "outputs": [],
   "source": [
    "ber.moveAxis('x', 50)\n",
    "ber.moveAxis('y', 50)"
   ]
  },
  {
   "cell_type": "code",
   "execution_count": 14,
   "metadata": {},
   "outputs": [],
   "source": [
    "ber.moveAxis('z', 75)"
   ]
  },
  {
   "cell_type": "code",
   "execution_count": 13,
   "metadata": {},
   "outputs": [
    {
     "data": {
      "text/plain": [
       "85.1"
      ]
     },
     "execution_count": 13,
     "metadata": {},
     "output_type": "execute_result"
    }
   ],
   "source": [
    "ber.moveDownUntilPress(0.1, 5000)"
   ]
  },
  {
   "cell_type": "code",
   "execution_count": null,
   "metadata": {},
   "outputs": [],
   "source": []
  }
 ],
 "metadata": {
  "kernelspec": {
   "display_name": "Python 3",
   "language": "python",
   "name": "python3"
  },
  "language_info": {
   "codemirror_mode": {
    "name": "ipython",
    "version": 3
   },
   "file_extension": ".py",
   "mimetype": "text/x-python",
   "name": "python",
   "nbconvert_exporter": "python",
   "pygments_lexer": "ipython3",
   "version": "3.7.4"
  }
 },
 "nbformat": 4,
 "nbformat_minor": 2
}
