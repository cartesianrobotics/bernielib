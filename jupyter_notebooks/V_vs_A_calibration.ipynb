{
 "cells": [
  {
   "cell_type": "markdown",
   "metadata": {},
   "source": [
    "# Volume vs plunger movement calibration"
   ]
  },
  {
   "cell_type": "code",
   "execution_count": 1,
   "metadata": {},
   "outputs": [
    {
     "name": "stderr",
     "output_type": "stream",
     "text": [
      "C:\\Users\\sergi\\Anaconda3\\lib\\site-packages\\statsmodels\\tools\\_testing.py:19: FutureWarning: pandas.util.testing is deprecated. Use the functions in the public API at pandas.testing instead.\n",
      "  import pandas.util.testing as tm\n"
     ]
    }
   ],
   "source": [
    "import pandas as pd\n",
    "from scipy.optimize import curve_fit\n",
    "import matplotlib.pyplot as plt\n",
    "import seaborn as sns\n",
    "\n",
    "%matplotlib inline"
   ]
  },
  {
   "cell_type": "markdown",
   "metadata": {},
   "source": [
    "## Data are supplied in the form of a dictionary"
   ]
  },
  {
   "cell_type": "code",
   "execution_count": 3,
   "metadata": {},
   "outputs": [],
   "source": [
    "# {position1 : volume1, ...}\n",
    "# Need: given volume, tell which position the plunger has to move\n",
    "# opposite: given plunger movement, predict the uptaken volume\n",
    "# Dependences are linear, so I only need to find slope and intercept."
   ]
  },
  {
   "cell_type": "code",
   "execution_count": 1,
   "metadata": {},
   "outputs": [],
   "source": [
    "calib_dict = {\n",
    "    1.0 : 6.0,\n",
    "    2.0 : 13.0,\n",
    "    3.0 : 25.0,\n",
    "    4.0 : 32.0,\n",
    "    5.0 : 36.0,\n",
    "    6.0 : 47.0,\n",
    "    8.0 : 62.0,\n",
    "    10.0 : 78.0,\n",
    "    12.0 : 88.0,\n",
    "    14.0 : 106.0,\n",
    "    16.0 : 126.0,\n",
    "    20.0 : 166.0,\n",
    "    25.0 : 196.0,\n",
    "    30.0 : 248.0,\n",
    "    34.0 : 267.0,\n",
    "}"
   ]
  },
  {
   "cell_type": "code",
   "execution_count": 6,
   "metadata": {},
   "outputs": [],
   "source": [
    "calib_s = pd.Series(calib_dict)"
   ]
  },
  {
   "cell_type": "code",
   "execution_count": 11,
   "metadata": {},
   "outputs": [
    {
     "data": {
      "text/plain": [
       "<matplotlib.axes._subplots.AxesSubplot at 0x1ab00934508>"
      ]
     },
     "execution_count": 11,
     "metadata": {},
     "output_type": "execute_result"
    },
    {
     "data": {
      "image/png": "[encoded data removed]",
      "text/plain": [
       "<Figure size 432x288 with 1 Axes>"
      ]
     },
     "metadata": {
      "needs_background": "light"
     },
     "output_type": "display_data"
    }
   ],
   "source": [
    "calib_s.plot(kind='line')"
   ]
  },
  {
   "cell_type": "code",
   "execution_count": 12,
   "metadata": {},
   "outputs": [],
   "source": [
    "def f(x, A, B): # this is your 'straight line' y=f(x)\n",
    "    return A*x + B"
   ]
  },
  {
   "cell_type": "markdown",
   "metadata": {},
   "source": [
    "# Fitting volume from plunger position prediction"
   ]
  },
  {
   "cell_type": "code",
   "execution_count": 32,
   "metadata": {},
   "outputs": [],
   "source": [
    "popt, pcov = curve_fit(f, calib_s.index, calib_s) # your data x, y to fit"
   ]
  },
  {
   "cell_type": "code",
   "execution_count": 33,
   "metadata": {},
   "outputs": [
    {
     "data": {
      "text/plain": [
       "array([ 8.07539336, -2.55498252])"
      ]
     },
     "execution_count": 33,
     "metadata": {},
     "output_type": "execute_result"
    }
   ],
   "source": [
    "popt"
   ]
  },
  {
   "cell_type": "code",
   "execution_count": 34,
   "metadata": {},
   "outputs": [],
   "source": [
    "fit = pd.DataFrame({'measured':calib_s})"
   ]
  },
  {
   "cell_type": "code",
   "execution_count": 35,
   "metadata": {},
   "outputs": [],
   "source": [
    "fit['predicted'] = calib_s.index * popt[0] + popt[1]"
   ]
  },
  {
   "cell_type": "code",
   "execution_count": 36,
   "metadata": {},
   "outputs": [
    {
     "data": {
      "text/html": [
       "<div>\n",
       "<style scoped>\n",
       "    .dataframe tbody tr th:only-of-type {\n",
       "        vertical-align: middle;\n",
       "    }\n",
       "\n",
       "    .dataframe tbody tr th {\n",
       "        vertical-align: top;\n",
       "    }\n",
       "\n",
       "    .dataframe thead th {\n",
       "        text-align: right;\n",
       "    }\n",
       "</style>\n",
       "<table border=\"1\" class=\"dataframe\">\n",
       "  <thead>\n",
       "    <tr style=\"text-align: right;\">\n",
       "      <th></th>\n",
       "      <th>measured</th>\n",
       "      <th>predicted</th>\n",
       "    </tr>\n",
       "  </thead>\n",
       "  <tbody>\n",
       "    <tr>\n",
       "      <th>1.0</th>\n",
       "      <td>6.0</td>\n",
       "      <td>5.520411</td>\n",
       "    </tr>\n",
       "    <tr>\n",
       "      <th>2.0</th>\n",
       "      <td>13.0</td>\n",
       "      <td>13.595804</td>\n",
       "    </tr>\n",
       "    <tr>\n",
       "      <th>3.0</th>\n",
       "      <td>25.0</td>\n",
       "      <td>21.671198</td>\n",
       "    </tr>\n",
       "    <tr>\n",
       "      <th>4.0</th>\n",
       "      <td>32.0</td>\n",
       "      <td>29.746591</td>\n",
       "    </tr>\n",
       "    <tr>\n",
       "      <th>5.0</th>\n",
       "      <td>36.0</td>\n",
       "      <td>37.821984</td>\n",
       "    </tr>\n",
       "    <tr>\n",
       "      <th>6.0</th>\n",
       "      <td>47.0</td>\n",
       "      <td>45.897378</td>\n",
       "    </tr>\n",
       "    <tr>\n",
       "      <th>8.0</th>\n",
       "      <td>62.0</td>\n",
       "      <td>62.048164</td>\n",
       "    </tr>\n",
       "    <tr>\n",
       "      <th>10.0</th>\n",
       "      <td>78.0</td>\n",
       "      <td>78.198951</td>\n",
       "    </tr>\n",
       "    <tr>\n",
       "      <th>12.0</th>\n",
       "      <td>88.0</td>\n",
       "      <td>94.349738</td>\n",
       "    </tr>\n",
       "    <tr>\n",
       "      <th>14.0</th>\n",
       "      <td>106.0</td>\n",
       "      <td>110.500524</td>\n",
       "    </tr>\n",
       "    <tr>\n",
       "      <th>16.0</th>\n",
       "      <td>126.0</td>\n",
       "      <td>126.651311</td>\n",
       "    </tr>\n",
       "    <tr>\n",
       "      <th>20.0</th>\n",
       "      <td>166.0</td>\n",
       "      <td>158.952885</td>\n",
       "    </tr>\n",
       "    <tr>\n",
       "      <th>25.0</th>\n",
       "      <td>196.0</td>\n",
       "      <td>199.329851</td>\n",
       "    </tr>\n",
       "    <tr>\n",
       "      <th>30.0</th>\n",
       "      <td>248.0</td>\n",
       "      <td>239.706818</td>\n",
       "    </tr>\n",
       "    <tr>\n",
       "      <th>34.0</th>\n",
       "      <td>267.0</td>\n",
       "      <td>272.008392</td>\n",
       "    </tr>\n",
       "  </tbody>\n",
       "</table>\n",
       "</div>"
      ],
      "text/plain": [
       "      measured   predicted\n",
       "1.0        6.0    5.520411\n",
       "2.0       13.0   13.595804\n",
       "3.0       25.0   21.671198\n",
       "4.0       32.0   29.746591\n",
       "5.0       36.0   37.821984\n",
       "6.0       47.0   45.897378\n",
       "8.0       62.0   62.048164\n",
       "10.0      78.0   78.198951\n",
       "12.0      88.0   94.349738\n",
       "14.0     106.0  110.500524\n",
       "16.0     126.0  126.651311\n",
       "20.0     166.0  158.952885\n",
       "25.0     196.0  199.329851\n",
       "30.0     248.0  239.706818\n",
       "34.0     267.0  272.008392"
      ]
     },
     "execution_count": 36,
     "metadata": {},
     "output_type": "execute_result"
    }
   ],
   "source": [
    "fit"
   ]
  },
  {
   "cell_type": "markdown",
   "metadata": {},
   "source": [
    "# 3 Fitting plunger position from volume"
   ]
  },
  {
   "cell_type": "code",
   "execution_count": 37,
   "metadata": {},
   "outputs": [],
   "source": [
    "popt, pcov = curve_fit(f, calib_s, calib_s.index) # your data x, y to fit"
   ]
  },
  {
   "cell_type": "code",
   "execution_count": 38,
   "metadata": {},
   "outputs": [
    {
     "data": {
      "text/plain": [
       "array([0.12353872, 0.3457386 ])"
      ]
     },
     "execution_count": 38,
     "metadata": {},
     "output_type": "execute_result"
    }
   ],
   "source": [
    "popt"
   ]
  },
  {
   "cell_type": "code",
   "execution_count": 39,
   "metadata": {},
   "outputs": [],
   "source": [
    "fit['predicted_z'] = calib_s * popt[0] + popt[1]"
   ]
  },
  {
   "cell_type": "code",
   "execution_count": 40,
   "metadata": {},
   "outputs": [
    {
     "data": {
      "text/html": [
       "<div>\n",
       "<style scoped>\n",
       "    .dataframe tbody tr th:only-of-type {\n",
       "        vertical-align: middle;\n",
       "    }\n",
       "\n",
       "    .dataframe tbody tr th {\n",
       "        vertical-align: top;\n",
       "    }\n",
       "\n",
       "    .dataframe thead th {\n",
       "        text-align: right;\n",
       "    }\n",
       "</style>\n",
       "<table border=\"1\" class=\"dataframe\">\n",
       "  <thead>\n",
       "    <tr style=\"text-align: right;\">\n",
       "      <th></th>\n",
       "      <th>measured</th>\n",
       "      <th>predicted</th>\n",
       "      <th>predicted_z</th>\n",
       "    </tr>\n",
       "  </thead>\n",
       "  <tbody>\n",
       "    <tr>\n",
       "      <th>1.0</th>\n",
       "      <td>6.0</td>\n",
       "      <td>5.520411</td>\n",
       "      <td>1.086971</td>\n",
       "    </tr>\n",
       "    <tr>\n",
       "      <th>2.0</th>\n",
       "      <td>13.0</td>\n",
       "      <td>13.595804</td>\n",
       "      <td>1.951742</td>\n",
       "    </tr>\n",
       "    <tr>\n",
       "      <th>3.0</th>\n",
       "      <td>25.0</td>\n",
       "      <td>21.671198</td>\n",
       "      <td>3.434207</td>\n",
       "    </tr>\n",
       "    <tr>\n",
       "      <th>4.0</th>\n",
       "      <td>32.0</td>\n",
       "      <td>29.746591</td>\n",
       "      <td>4.298978</td>\n",
       "    </tr>\n",
       "    <tr>\n",
       "      <th>5.0</th>\n",
       "      <td>36.0</td>\n",
       "      <td>37.821984</td>\n",
       "      <td>4.793132</td>\n",
       "    </tr>\n",
       "    <tr>\n",
       "      <th>6.0</th>\n",
       "      <td>47.0</td>\n",
       "      <td>45.897378</td>\n",
       "      <td>6.152058</td>\n",
       "    </tr>\n",
       "    <tr>\n",
       "      <th>8.0</th>\n",
       "      <td>62.0</td>\n",
       "      <td>62.048164</td>\n",
       "      <td>8.005139</td>\n",
       "    </tr>\n",
       "    <tr>\n",
       "      <th>10.0</th>\n",
       "      <td>78.0</td>\n",
       "      <td>78.198951</td>\n",
       "      <td>9.981759</td>\n",
       "    </tr>\n",
       "    <tr>\n",
       "      <th>12.0</th>\n",
       "      <td>88.0</td>\n",
       "      <td>94.349738</td>\n",
       "      <td>11.217146</td>\n",
       "    </tr>\n",
       "    <tr>\n",
       "      <th>14.0</th>\n",
       "      <td>106.0</td>\n",
       "      <td>110.500524</td>\n",
       "      <td>13.440843</td>\n",
       "    </tr>\n",
       "    <tr>\n",
       "      <th>16.0</th>\n",
       "      <td>126.0</td>\n",
       "      <td>126.651311</td>\n",
       "      <td>15.911617</td>\n",
       "    </tr>\n",
       "    <tr>\n",
       "      <th>20.0</th>\n",
       "      <td>166.0</td>\n",
       "      <td>158.952885</td>\n",
       "      <td>20.853166</td>\n",
       "    </tr>\n",
       "    <tr>\n",
       "      <th>25.0</th>\n",
       "      <td>196.0</td>\n",
       "      <td>199.329851</td>\n",
       "      <td>24.559327</td>\n",
       "    </tr>\n",
       "    <tr>\n",
       "      <th>30.0</th>\n",
       "      <td>248.0</td>\n",
       "      <td>239.706818</td>\n",
       "      <td>30.983340</td>\n",
       "    </tr>\n",
       "    <tr>\n",
       "      <th>34.0</th>\n",
       "      <td>267.0</td>\n",
       "      <td>272.008392</td>\n",
       "      <td>33.330576</td>\n",
       "    </tr>\n",
       "  </tbody>\n",
       "</table>\n",
       "</div>"
      ],
      "text/plain": [
       "      measured   predicted  predicted_z\n",
       "1.0        6.0    5.520411     1.086971\n",
       "2.0       13.0   13.595804     1.951742\n",
       "3.0       25.0   21.671198     3.434207\n",
       "4.0       32.0   29.746591     4.298978\n",
       "5.0       36.0   37.821984     4.793132\n",
       "6.0       47.0   45.897378     6.152058\n",
       "8.0       62.0   62.048164     8.005139\n",
       "10.0      78.0   78.198951     9.981759\n",
       "12.0      88.0   94.349738    11.217146\n",
       "14.0     106.0  110.500524    13.440843\n",
       "16.0     126.0  126.651311    15.911617\n",
       "20.0     166.0  158.952885    20.853166\n",
       "25.0     196.0  199.329851    24.559327\n",
       "30.0     248.0  239.706818    30.983340\n",
       "34.0     267.0  272.008392    33.330576"
      ]
     },
     "execution_count": 40,
     "metadata": {},
     "output_type": "execute_result"
    }
   ],
   "source": [
    "fit"
   ]
  },
  {
   "cell_type": "code",
   "execution_count": 41,
   "metadata": {},
   "outputs": [
    {
     "data": {
      "text/plain": [
       "<matplotlib.axes._subplots.AxesSubplot at 0x1ab04a4ae48>"
      ]
     },
     "execution_count": 41,
     "metadata": {},
     "output_type": "execute_result"
    },
    {
     "data": {
      "image/png": "[encoded data removed]",
      "text/plain": [
       "<Figure size 432x288 with 1 Axes>"
      ]
     },
     "metadata": {
      "needs_background": "light"
     },
     "output_type": "display_data"
    }
   ],
   "source": [
    "calib_s.plot(kind='line')\n",
    "fit.predicted.plot()"
   ]
  },
  {
   "cell_type": "markdown",
   "metadata": {},
   "source": [
    "# Fixing and testing bernielib"
   ]
  },
  {
   "cell_type": "code",
   "execution_count": 1,
   "metadata": {},
   "outputs": [],
   "source": [
    "from datetime import datetime\n",
    "\n",
    "import bernielib as bl"
   ]
  },
  {
   "cell_type": "code",
   "execution_count": 2,
   "metadata": {},
   "outputs": [],
   "source": [
    "ber = bl.robot()"
   ]
  },
  {
   "cell_type": "code",
   "execution_count": 3,
   "metadata": {},
   "outputs": [],
   "source": [
    "ber.home()"
   ]
  },
  {
   "cell_type": "markdown",
   "metadata": {},
   "source": [
    "## Loading new data"
   ]
  },
  {
   "cell_type": "code",
   "execution_count": 5,
   "metadata": {},
   "outputs": [
    {
     "data": {
      "text/plain": [
       "{'magnets_away_angle': 5.2,\n",
       " 'magnets_near_tube_angle': 11.2,\n",
       " 'stair_finding_step_list': [1, 0.2],\n",
       " 'stair_finding_z_increment': 0.1,\n",
       " 'stair_finding_z_retract_after_trigger': -1,\n",
       " 'stair_finding_z_max_travel': 3,\n",
       " 'stair_finding_z_load_threshold': 500,\n",
       " 'z_max': 180,\n",
       " 'x_max': 189,\n",
       " 'y_max': 322,\n",
       " 'added_tip_length': 41.6,\n",
       " 'volume_to_position_slope': -0.15859245180518214,\n",
       " 'volume_to_position_intercept': -0.958195131933648,\n",
       " 'pipetting_delay': 0.2,\n",
       " 'DNAsize_to_Vbeads': {'a': 0.499325349, 'b': -9.91043764, 'c': 25758.5836},\n",
       " 'tip_drop_servo_up_angle': 2.5,\n",
       " 'tip_drop_servo_down_angle': 7.3,\n",
       " 'speed_XY': 50000,\n",
       " 'speed_Z': 30000,\n",
       " 'speed_pipette': 2500,\n",
       " 'plunger_movement_when_dumping_tip': 35,\n",
       " 'maximum_plunger_movement_coordinate': 35,\n",
       " 'liquid_uptake_low_volume_bottom_offset': 0.2}"
      ]
     },
     "execution_count": 5,
     "metadata": {},
     "output_type": "execute_result"
    }
   ],
   "source": [
    "# old data\n",
    "ber.data"
   ]
  },
  {
   "cell_type": "code",
   "execution_count": 4,
   "metadata": {},
   "outputs": [],
   "source": [
    "ber.setPipetteVolumeConstants(slope=0.12353872, intercept=0.3457386)"
   ]
  },
  {
   "cell_type": "code",
   "execution_count": 5,
   "metadata": {},
   "outputs": [
    {
     "data": {
      "text/plain": [
       "25.053482600000002"
      ]
     },
     "execution_count": 5,
     "metadata": {},
     "output_type": "execute_result"
    }
   ],
   "source": [
    "ber.calcPipettePositionFromVolume(200)"
   ]
  },
  {
   "cell_type": "code",
   "execution_count": 6,
   "metadata": {},
   "outputs": [
    {
     "data": {
      "text/plain": [
       "1.5811258000000001"
      ]
     },
     "execution_count": 6,
     "metadata": {},
     "output_type": "execute_result"
    }
   ],
   "source": [
    "ber.calcPipettePositionFromVolume(10)"
   ]
  },
  {
   "cell_type": "code",
   "execution_count": 7,
   "metadata": {},
   "outputs": [],
   "source": [
    "ber.setVolumeFromPlungerPositionConstants(slope=8.07539336, intercept=-2.55498252)"
   ]
  },
  {
   "cell_type": "code",
   "execution_count": 8,
   "metadata": {},
   "outputs": [
    {
     "data": {
      "text/plain": [
       "199.32985147999997"
      ]
     },
     "execution_count": 8,
     "metadata": {},
     "output_type": "execute_result"
    }
   ],
   "source": [
    "ber.calcVolFromPipettePosition(25)"
   ]
  },
  {
   "cell_type": "code",
   "execution_count": 9,
   "metadata": {},
   "outputs": [
    {
     "data": {
      "text/plain": [
       "9.55810752"
      ]
     },
     "execution_count": 9,
     "metadata": {},
     "output_type": "execute_result"
    }
   ],
   "source": [
    "ber.calcVolFromPipettePosition(1.5)"
   ]
  },
  {
   "cell_type": "markdown",
   "metadata": {},
   "source": [
    "## Adding functions for fitting the pipette calibration to the bernielib"
   ]
  },
  {
   "cell_type": "code",
   "execution_count": 2,
   "metadata": {},
   "outputs": [],
   "source": [
    "from datetime import datetime\n",
    "\n",
    "import bernielib as bl\n",
    "\n",
    "ber = bl.robot()"
   ]
  },
  {
   "cell_type": "code",
   "execution_count": 3,
   "metadata": {},
   "outputs": [],
   "source": [
    "ber.home()"
   ]
  },
  {
   "cell_type": "code",
   "execution_count": 4,
   "metadata": {},
   "outputs": [
    {
     "data": {
      "text/plain": [
       "(0.12353871734335235, 0.34573859874557084)"
      ]
     },
     "execution_count": 4,
     "metadata": {},
     "output_type": "execute_result"
    }
   ],
   "source": [
    "ber.fitPipettePositionVsVolumeLine(calib_dict)"
   ]
  },
  {
   "cell_type": "code",
   "execution_count": 5,
   "metadata": {},
   "outputs": [
    {
     "data": {
      "text/plain": [
       "(8.07539335665879, -2.55498251749027)"
      ]
     },
     "execution_count": 5,
     "metadata": {},
     "output_type": "execute_result"
    }
   ],
   "source": [
    "ber.fitVolumeVsPipettePositionLine(calib_dict)"
   ]
  },
  {
   "cell_type": "code",
   "execution_count": 6,
   "metadata": {},
   "outputs": [],
   "source": [
    "ber.calibratePipette(calib_dict)"
   ]
  },
  {
   "cell_type": "code",
   "execution_count": 7,
   "metadata": {},
   "outputs": [
    {
     "data": {
      "text/plain": [
       "{'magnets_away_angle': 5.2,\n",
       " 'magnets_near_tube_angle': 11.2,\n",
       " 'stair_finding_step_list': [1, 0.2],\n",
       " 'stair_finding_z_increment': 0.1,\n",
       " 'stair_finding_z_retract_after_trigger': -1,\n",
       " 'stair_finding_z_max_travel': 3,\n",
       " 'stair_finding_z_load_threshold': 500,\n",
       " 'z_max': 180,\n",
       " 'x_max': 189,\n",
       " 'y_max': 322,\n",
       " 'added_tip_length': 41.6,\n",
       " 'volume_to_position_slope': 0.12353871734335235,\n",
       " 'volume_to_position_intercept': 0.34573859874557084,\n",
       " 'pipetting_delay': 0.2,\n",
       " 'DNAsize_to_Vbeads': {'a': 0.499325349, 'b': -9.91043764, 'c': 25758.5836},\n",
       " 'tip_drop_servo_up_angle': 2.5,\n",
       " 'tip_drop_servo_down_angle': 7.3,\n",
       " 'speed_XY': 50000,\n",
       " 'speed_Z': 30000,\n",
       " 'speed_pipette': 2500,\n",
       " 'plunger_movement_when_dumping_tip': 35,\n",
       " 'maximum_plunger_movement_coordinate': 35,\n",
       " 'liquid_uptake_low_volume_bottom_offset': 0.2,\n",
       " 'position_to_volume_slope': 8.07539335665879,\n",
       " 'position_to_volume_intercept': -2.55498251749027}"
      ]
     },
     "execution_count": 7,
     "metadata": {},
     "output_type": "execute_result"
    }
   ],
   "source": [
    "ber.data"
   ]
  },
  {
   "cell_type": "code",
   "execution_count": null,
   "metadata": {},
   "outputs": [],
   "source": []
  }
 ],
 "metadata": {
  "kernelspec": {
   "display_name": "Python 3",
   "language": "python",
   "name": "python3"
  },
  "language_info": {
   "codemirror_mode": {
    "name": "ipython",
    "version": 3
   },
   "file_extension": ".py",
   "mimetype": "text/x-python",
   "name": "python",
   "nbconvert_exporter": "python",
   "pygments_lexer": "ipython3",
   "version": "3.7.4"
  },
  "toc": {
   "base_numbering": 1,
   "nav_menu": {},
   "number_sections": true,
   "sideBar": true,
   "skip_h1_title": false,
   "title_cell": "Table of Contents",
   "title_sidebar": "Contents",
   "toc_cell": false,
   "toc_position": {},
   "toc_section_display": true,
   "toc_window_display": false
  }
 },
 "nbformat": 4,
 "nbformat_minor": 2
}
