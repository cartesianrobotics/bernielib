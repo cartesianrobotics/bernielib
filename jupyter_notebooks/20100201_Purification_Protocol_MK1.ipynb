{
 "cells": [
  {
   "cell_type": "code",
   "execution_count": 1,
   "metadata": {},
   "outputs": [],
   "source": [
    "import bernielib as bl"
   ]
  },
  {
   "cell_type": "code",
   "execution_count": 2,
   "metadata": {},
   "outputs": [],
   "source": [
    "import time"
   ]
  },
  {
   "cell_type": "code",
   "execution_count": 3,
   "metadata": {},
   "outputs": [
    {
     "data": {
      "text/plain": [
       "['COM7', 'COM18', 'COM20']"
      ]
     },
     "execution_count": 3,
     "metadata": {},
     "output_type": "execute_result"
    }
   ],
   "source": [
    "bl.listSerialPorts()"
   ]
  },
  {
   "cell_type": "code",
   "execution_count": 4,
   "metadata": {},
   "outputs": [],
   "source": [
    "ber = bl.robot(cartesian_port_name='COM18', pipette_port_name='COM7', misc_port_name='COM20')"
   ]
  },
  {
   "cell_type": "code",
   "execution_count": 5,
   "metadata": {},
   "outputs": [],
   "source": [
    "ber.robotHome()"
   ]
  },
  {
   "cell_type": "code",
   "execution_count": 6,
   "metadata": {},
   "outputs": [],
   "source": [
    "ber.pipetteHome()"
   ]
  },
  {
   "cell_type": "markdown",
   "metadata": {},
   "source": [
    "# Function for beads amount calculations"
   ]
  },
  {
   "cell_type": "code",
   "execution_count": 7,
   "metadata": {},
   "outputs": [],
   "source": [
    "# Those numbers are obtained 20041601, in Arnielib\n",
    "def calcBeadsVol(sample_vol, DNA_size_cutoff):\n",
    "    multiplier = 4.99325349e-01 - 9.91043764e+00 / DNA_size_cutoff + 2.57585836e+04 / DNA_size_cutoff ** 2\n",
    "    return sample_vol * multiplier"
   ]
  },
  {
   "cell_type": "code",
   "execution_count": 8,
   "metadata": {},
   "outputs": [
    {
     "data": {
      "text/plain": [
       "595.2158665200001"
      ]
     },
     "execution_count": 8,
     "metadata": {},
     "output_type": "execute_result"
    }
   ],
   "source": [
    "calcBeadsVol(200, 100)"
   ]
  },
  {
   "cell_type": "markdown",
   "metadata": {},
   "source": [
    "# Creating samples"
   ]
  },
  {
   "cell_type": "code",
   "execution_count": 9,
   "metadata": {},
   "outputs": [],
   "source": [
    "def createReagentSample(type_name, sample_name, pos_col, pos_row, v):\n",
    "    sample_type = bl.sample_type(type_name)\n",
    "    sample = bl.sample(sample_name, sample_type)\n",
    "    sample.place(ber.reagents_rack, pos_col, pos_row)\n",
    "    sample.setVolume(v)\n",
    "    return sample"
   ]
  },
  {
   "cell_type": "code",
   "execution_count": 10,
   "metadata": {},
   "outputs": [],
   "source": [
    "def createSampleList(v_list, col):\n",
    "    sample_type = bl.sample_type('eppendorf')\n",
    "    sample_number = 0\n",
    "    sample_list = []\n",
    "    for v in v_list:\n",
    "        sample = bl.sample('sample'+str(sample_number), sample_type)\n",
    "        sample.place(ber.samples_rack, col, sample_number)\n",
    "        sample.setVolume(v)\n",
    "        sample_list.append(sample)\n",
    "        sample_number += 1\n",
    "    return sample_list"
   ]
  },
  {
   "cell_type": "code",
   "execution_count": 11,
   "metadata": {},
   "outputs": [],
   "source": [
    "beads = createReagentSample('5ml', 'beads', 0, 0, 1000)\n",
    "EtOH = createReagentSample('50ml', 'EtOH', 1, 0, 50000)\n",
    "eluent = createReagentSample('50ml', 'eluent', 2, 0, 50000)\n",
    "waste = createReagentSample('50ml', 'waste', 0, 1, 0)\n",
    "water = createReagentSample('50ml', 'water', 1, 1, 45000)\n",
    "EtOH80pct = createReagentSample('50ml', 'EtOH80pct', 2, 1, 50000)"
   ]
  },
  {
   "cell_type": "code",
   "execution_count": 12,
   "metadata": {},
   "outputs": [],
   "source": [
    "samples_v_list = [100, 50, 200]"
   ]
  },
  {
   "cell_type": "code",
   "execution_count": 13,
   "metadata": {},
   "outputs": [],
   "source": [
    "samples_cleanup_list = createSampleList([0, 0, 0], 1)"
   ]
  },
  {
   "cell_type": "code",
   "execution_count": 14,
   "metadata": {},
   "outputs": [],
   "source": [
    "sampletest = samples_cleanup_list[0]"
   ]
  },
  {
   "cell_type": "code",
   "execution_count": 15,
   "metadata": {},
   "outputs": [],
   "source": [
    "sampletest2 = samples_cleanup_list[1]"
   ]
  },
  {
   "cell_type": "code",
   "execution_count": 13,
   "metadata": {},
   "outputs": [],
   "source": [
    "# Only use if the tubes were filled manually or if you are restarting\n",
    "samples_cleanup_list = createSampleList(samples_v_list, 1)"
   ]
  },
  {
   "cell_type": "markdown",
   "metadata": {},
   "source": [
    "# Pre-filling the samples with water to mock the conditions"
   ]
  },
  {
   "cell_type": "code",
   "execution_count": 22,
   "metadata": {},
   "outputs": [],
   "source": [
    "ber.pickUpNextTip()"
   ]
  },
  {
   "cell_type": "code",
   "execution_count": 23,
   "metadata": {},
   "outputs": [],
   "source": [
    "ber.move(z=0)"
   ]
  },
  {
   "cell_type": "code",
   "execution_count": 15,
   "metadata": {},
   "outputs": [],
   "source": [
    "for sample, v in zip(samples_cleanup_list, samples_v_list):\n",
    "    ber.transferLiquid(water, sample, v)"
   ]
  },
  {
   "cell_type": "code",
   "execution_count": 15,
   "metadata": {},
   "outputs": [
    {
     "data": {
      "text/plain": [
       "0"
      ]
     },
     "execution_count": 15,
     "metadata": {},
     "output_type": "execute_result"
    }
   ],
   "source": [
    "samples_cleanup_list[0].getVolume()"
   ]
  },
  {
   "cell_type": "code",
   "execution_count": 16,
   "metadata": {},
   "outputs": [],
   "source": [
    "# Run this if the tip is already attached\n",
    "ber.tip_attached=1"
   ]
  },
  {
   "cell_type": "markdown",
   "metadata": {},
   "source": [
    "# Purification settings"
   ]
  },
  {
   "cell_type": "code",
   "execution_count": 16,
   "metadata": {},
   "outputs": [],
   "source": [
    "upper_cutoff_list = [1000, 700, 300]\n",
    "lower_cutoff_list = [300, 200, 100]"
   ]
  },
  {
   "cell_type": "markdown",
   "metadata": {},
   "source": [
    "# Performing upper cutoff"
   ]
  },
  {
   "cell_type": "code",
   "execution_count": 18,
   "metadata": {},
   "outputs": [],
   "source": [
    "# Upper cutoff beads volume calculation\n",
    "upper_cut_v_list = []\n",
    "for vol, size in zip(samples_v_list, upper_cutoff_list):\n",
    "    v_beads = calcBeadsVol(vol, size)\n",
    "    upper_cut_v_list.append(v_beads)"
   ]
  },
  {
   "cell_type": "code",
   "execution_count": 19,
   "metadata": {},
   "outputs": [
    {
     "data": {
      "text/plain": [
       "[51.517349495999994, 26.886805945102036, 150.49940826222223]"
      ]
     },
     "execution_count": 19,
     "metadata": {},
     "output_type": "execute_result"
    }
   ],
   "source": [
    "upper_cut_v_list"
   ]
  },
  {
   "cell_type": "code",
   "execution_count": 20,
   "metadata": {},
   "outputs": [],
   "source": [
    "ber.moveMagnetsAway()"
   ]
  },
  {
   "cell_type": "code",
   "execution_count": 21,
   "metadata": {},
   "outputs": [
    {
     "name": "stdout",
     "output_type": "stream",
     "text": [
      "Transferring beads to sample  sample0  of volume  51.517349495999994\n",
      "Transferring beads to sample  sample1  of volume  26.886805945102036\n",
      "Transferring beads to sample  sample2  of volume  150.49940826222223\n"
     ]
    }
   ],
   "source": [
    "for v, sample in zip(upper_cut_v_list, samples_cleanup_list):\n",
    "    print (\"Transferring beads to sample \", sample.name, \" of volume \", str(v))\n",
    "    ber.transferLiquid(beads, sample, v)\n",
    "    v_sample = sample.getVolume()\n",
    "    v_updown = v_sample / 2\n",
    "    if v_updown > 200:\n",
    "        v_updown = 200\n",
    "    ber.pipetteUpAndDown(sample, v_updown, 5)"
   ]
  },
  {
   "cell_type": "code",
   "execution_count": 24,
   "metadata": {},
   "outputs": [
    {
     "data": {
      "text/plain": [
       "4"
      ]
     },
     "execution_count": 24,
     "metadata": {},
     "output_type": "execute_result"
    }
   ],
   "source": [
    "830 // 200"
   ]
  },
  {
   "cell_type": "code",
   "execution_count": 25,
   "metadata": {},
   "outputs": [
    {
     "data": {
      "text/plain": [
       "4.0"
      ]
     },
     "execution_count": 25,
     "metadata": {},
     "output_type": "execute_result"
    }
   ],
   "source": [
    "830.1 // 200"
   ]
  },
  {
   "cell_type": "code",
   "execution_count": 26,
   "metadata": {},
   "outputs": [
    {
     "data": {
      "text/plain": [
       "0.0"
      ]
     },
     "execution_count": 26,
     "metadata": {},
     "output_type": "execute_result"
    }
   ],
   "source": [
    "51.517349495999994 // 200"
   ]
  },
  {
   "cell_type": "code",
   "execution_count": 21,
   "metadata": {},
   "outputs": [],
   "source": [
    "ber.dumpTipToPosition(1, 3)"
   ]
  },
  {
   "cell_type": "code",
   "execution_count": 27,
   "metadata": {},
   "outputs": [],
   "source": [
    "i=0"
   ]
  },
  {
   "cell_type": "code",
   "execution_count": 28,
   "metadata": {},
   "outputs": [
    {
     "name": "stdout",
     "output_type": "stream",
     "text": [
      "no\n"
     ]
    }
   ],
   "source": [
    "if i:\n",
    "    print ('yes')\n",
    "else:\n",
    "    print ('no')"
   ]
  },
  {
   "cell_type": "code",
   "execution_count": 27,
   "metadata": {},
   "outputs": [],
   "source": [
    "beads.purge()"
   ]
  },
  {
   "cell_type": "code",
   "execution_count": 17,
   "metadata": {},
   "outputs": [],
   "source": [
    "ber.uptakeLiquid(beads, 200)"
   ]
  },
  {
   "cell_type": "code",
   "execution_count": 18,
   "metadata": {},
   "outputs": [],
   "source": [
    "ber.dispenseLiquid(beads, 200, blow_extra=True)"
   ]
  },
  {
   "cell_type": "code",
   "execution_count": 17,
   "metadata": {},
   "outputs": [],
   "source": [
    "ber.uptakeLiquid(beads, 200)"
   ]
  },
  {
   "cell_type": "code",
   "execution_count": 18,
   "metadata": {},
   "outputs": [
    {
     "data": {
      "text/plain": [
       "True"
      ]
     },
     "execution_count": 18,
     "metadata": {},
     "output_type": "execute_result"
    }
   ],
   "source": [
    "beads._isLowVolumeUptakeNeeded(205)"
   ]
  },
  {
   "cell_type": "code",
   "execution_count": 19,
   "metadata": {},
   "outputs": [
    {
     "data": {
      "text/plain": [
       "91.85"
      ]
     },
     "execution_count": 19,
     "metadata": {},
     "output_type": "execute_result"
    }
   ],
   "source": [
    "beads.getCloseToBottomVol()"
   ]
  },
  {
   "cell_type": "code",
   "execution_count": 20,
   "metadata": {},
   "outputs": [
    {
     "data": {
      "text/plain": [
       "True"
      ]
     },
     "execution_count": 20,
     "metadata": {},
     "output_type": "execute_result"
    }
   ],
   "source": [
    "beads._settingPresent('close_to_bottom_volume')"
   ]
  },
  {
   "cell_type": "code",
   "execution_count": 21,
   "metadata": {},
   "outputs": [
    {
     "data": {
      "text/plain": [
       "91.85"
      ]
     },
     "execution_count": 21,
     "metadata": {},
     "output_type": "execute_result"
    }
   ],
   "source": [
    "beads._getSetting('close_to_bottom_volume')"
   ]
  },
  {
   "cell_type": "code",
   "execution_count": 19,
   "metadata": {},
   "outputs": [],
   "source": [
    "ber.pipetteUpAndDown(beads, 200, 3)"
   ]
  },
  {
   "cell_type": "code",
   "execution_count": 16,
   "metadata": {},
   "outputs": [],
   "source": [
    "ber.uptakeLiquid(beads, 200, lag_vol=0)"
   ]
  },
  {
   "cell_type": "code",
   "execution_count": 18,
   "metadata": {},
   "outputs": [],
   "source": [
    "ber.dispenseLiquid(beads, 200, plunger_retract=False, move_up_after=False, in_place=True)"
   ]
  },
  {
   "cell_type": "code",
   "execution_count": 21,
   "metadata": {},
   "outputs": [],
   "source": [
    "ber.uptakeLiquid(beads, 100, lag_vol=0, in_place=True)"
   ]
  },
  {
   "cell_type": "code",
   "execution_count": 25,
   "metadata": {},
   "outputs": [
    {
     "data": {
      "text/plain": [
       "87.935"
      ]
     },
     "execution_count": 25,
     "metadata": {},
     "output_type": "execute_result"
    }
   ],
   "source": [
    "beads.calcAbsLiquidLevelFromVol(100, added_length=ber._calcExtraLength())"
   ]
  },
  {
   "cell_type": "code",
   "execution_count": 26,
   "metadata": {},
   "outputs": [
    {
     "data": {
      "text/plain": [
       "78.95"
      ]
     },
     "execution_count": 26,
     "metadata": {},
     "output_type": "execute_result"
    }
   ],
   "source": [
    "beads.calcNormalPipettingZ(100, 0, added_length=ber._calcExtraLength())"
   ]
  },
  {
   "cell_type": "code",
   "execution_count": 15,
   "metadata": {},
   "outputs": [],
   "source": [
    "ber.pipetteUpAndDown(beads, 200, 3, dx=5, dy=-5)"
   ]
  },
  {
   "cell_type": "code",
   "execution_count": 16,
   "metadata": {},
   "outputs": [],
   "source": [
    "ber.moveMagnetsAway()"
   ]
  },
  {
   "cell_type": "code",
   "execution_count": 15,
   "metadata": {},
   "outputs": [],
   "source": [
    "ber.moveMagnetsTowardsTube()"
   ]
  },
  {
   "cell_type": "code",
   "execution_count": 18,
   "metadata": {},
   "outputs": [],
   "source": [
    "realbeadslist = createSampleList([1000], 0)"
   ]
  },
  {
   "cell_type": "code",
   "execution_count": 19,
   "metadata": {},
   "outputs": [],
   "source": [
    "realbeads = realbeadslist[0]"
   ]
  },
  {
   "cell_type": "code",
   "execution_count": 20,
   "metadata": {},
   "outputs": [
    {
     "data": {
      "text/plain": [
       "1000"
      ]
     },
     "execution_count": 20,
     "metadata": {},
     "output_type": "execute_result"
    }
   ],
   "source": [
    "realbeads.getVolume()"
   ]
  },
  {
   "cell_type": "code",
   "execution_count": 21,
   "metadata": {},
   "outputs": [
    {
     "data": {
      "text/plain": [
       "{'rack_name': 'samples', 'rack_x_well': 0, 'rack_y_well': 0, 'volume': 1000}"
      ]
     },
     "execution_count": 21,
     "metadata": {},
     "output_type": "execute_result"
    }
   ],
   "source": [
    "realbeads.data"
   ]
  },
  {
   "cell_type": "code",
   "execution_count": 29,
   "metadata": {},
   "outputs": [],
   "source": [
    "ber.move(z=0)"
   ]
  },
  {
   "cell_type": "code",
   "execution_count": 25,
   "metadata": {},
   "outputs": [],
   "source": [
    "ber.movePipetteToVolume(200)"
   ]
  },
  {
   "cell_type": "code",
   "execution_count": 20,
   "metadata": {},
   "outputs": [],
   "source": [
    "ber.pipetteUpAndDown(realbeads, 200, 5, dx=4, v_in=100)"
   ]
  },
  {
   "cell_type": "code",
   "execution_count": 23,
   "metadata": {},
   "outputs": [],
   "source": [
    "def mixBeads(robot, sample, insert_vol_list, radius, times=3):    \n",
    "    \n",
    "    for v_insert in insert_vol_list:\n",
    "        robot.pipetteUpAndDown(sample, 200, times, dx=radius, v_in=v_insert)\n",
    "        robot.pipetteUpAndDown(sample, 200, times, dx=radius, dy=radius, v_in=v_insert)\n",
    "        robot.pipetteUpAndDown(sample, 200, times, dy=radius, v_in=v_insert)\n",
    "        robot.pipetteUpAndDown(sample, 200, times, dx=-radius, dy=radius, v_in=v_insert)\n",
    "        robot.pipetteUpAndDown(sample, 200, times, dx=-radius, v_in=v_insert)\n",
    "        robot.pipetteUpAndDown(sample, 200, times, dx=-radius, dy=-radius, v_in=v_insert)\n",
    "        robot.pipetteUpAndDown(sample, 200, times, dy=-radius, v_in=v_insert)\n",
    "        robot.pipetteUpAndDown(sample, 200, times, dx=radius, dy=-radius, v_in=v_insert)"
   ]
  },
  {
   "cell_type": "code",
   "execution_count": null,
   "metadata": {},
   "outputs": [],
   "source": []
  },
  {
   "cell_type": "code",
   "execution_count": 22,
   "metadata": {},
   "outputs": [],
   "source": [
    "mixBeads(ber, realbeads, insert_vol_list=[100, 200], radius=3, times=3)"
   ]
  },
  {
   "cell_type": "code",
   "execution_count": 20,
   "metadata": {},
   "outputs": [],
   "source": [
    "ber.pipetteUpAndDown(realbeads, 200, 3, dx=3, dy=3, v_in=100)"
   ]
  },
  {
   "cell_type": "code",
   "execution_count": 24,
   "metadata": {},
   "outputs": [],
   "source": [
    "def mixInPlace(robot, v_uptake, v0, delay, times=3):\n",
    "    for i in range(times):\n",
    "        robot.movePipetteToVolume(v0)\n",
    "        time.sleep(delay)\n",
    "        robot.movePipetteToVolume(v_uptake)\n",
    "        time.sleep(delay)"
   ]
  },
  {
   "cell_type": "code",
   "execution_count": 25,
   "metadata": {},
   "outputs": [],
   "source": [
    "def mixBeads_1(robot, sample, v_in, radius, times=3):\n",
    "    v0 = 0\n",
    "    v_uptake = 200\n",
    "    delay=0.5\n",
    "    # Checking that sample has enough volume for mixing\n",
    "    v_inside = sample.getVolume()\n",
    "    if v_uptake > v_inside:\n",
    "        v_uptake = v_inside\n",
    "        \n",
    "    z_immers_1 = sample.calcAbsLiquidLevelFromVol(v_in, added_length=robot._calcExtraLength())\n",
    "    robot.movePipetteToVolume(v_uptake)\n",
    "    robot.moveToSample(sample, z=z_immers_1)\n",
    "    # 0 deg\n",
    "    robot.moveAxisDelta('X', radius)\n",
    "    mixInPlace(robot, v_uptake, v0, delay, times=times)\n",
    "    # 45 deg\n",
    "    robot.moveAxisDelta('Y', radius)\n",
    "    mixInPlace(robot, v_uptake, v0, delay, times=times)\n",
    "    # 90 deg\n",
    "    robot.moveAxisDelta('X', -radius)\n",
    "    mixInPlace(robot, v_uptake, v0, delay, times=times)\n",
    "    # 135 deg\n",
    "    robot.moveAxisDelta('X', -radius)\n",
    "    mixInPlace(robot, v_uptake, v0, delay, times=times)\n",
    "    # 180 deg\n",
    "    robot.moveAxisDelta('Y', -radius)\n",
    "    mixInPlace(robot, v_uptake, v0, delay, times=times)\n",
    "    # 225 deg\n",
    "    robot.moveAxisDelta('Y', -radius)\n",
    "    mixInPlace(robot, v_uptake, v0, delay, times=times)\n",
    "    # 270 deg\n",
    "    robot.moveAxisDelta('X', radius)\n",
    "    mixInPlace(robot, v_uptake, v0, delay, times=times)\n",
    "    # 315 deg\n",
    "    robot.moveAxisDelta('X', radius)\n",
    "    mixInPlace(robot, v_uptake, v0, delay, times=times)\n",
    "    \n",
    "    v_max = sample.stype.getMaxVolume()\n",
    "    z_out = sample.calcAbsLiquidLevelFromVol(v_max, added_length=robot._calcExtraLength())\n",
    "    robot.moveToSample(sample, z=z_out)\n",
    "    # Moving plunger all the way down\n",
    "    robot.pipetteMove(40)\n",
    "    robot.movePipetteToVolume(0)"
   ]
  },
  {
   "cell_type": "code",
   "execution_count": 26,
   "metadata": {},
   "outputs": [],
   "source": [
    "mixBeads_1(ber, realbeads, 100, 3)"
   ]
  },
  {
   "cell_type": "code",
   "execution_count": 27,
   "metadata": {},
   "outputs": [],
   "source": [
    "mixBeads_1(ber, realbeads, 200, 3)"
   ]
  },
  {
   "cell_type": "code",
   "execution_count": 28,
   "metadata": {},
   "outputs": [],
   "source": [
    "mixBeads_1(ber, realbeads, 70, 0, times=1)"
   ]
  },
  {
   "cell_type": "code",
   "execution_count": 39,
   "metadata": {},
   "outputs": [],
   "source": [
    "ber.transferLiquid(water, sampletest, 600)"
   ]
  },
  {
   "cell_type": "code",
   "execution_count": 30,
   "metadata": {},
   "outputs": [],
   "source": [
    "ber.move(z=0)"
   ]
  },
  {
   "cell_type": "code",
   "execution_count": 47,
   "metadata": {},
   "outputs": [],
   "source": [
    "ber.uptakeLiquid(realbeads, 100, v_insert_override=200)"
   ]
  },
  {
   "cell_type": "code",
   "execution_count": 48,
   "metadata": {},
   "outputs": [],
   "source": [
    "ber.move(z=0)"
   ]
  },
  {
   "cell_type": "code",
   "execution_count": 49,
   "metadata": {},
   "outputs": [],
   "source": [
    "ber.dispenseLiquid(sampletest, 100, blow_extra=True)"
   ]
  },
  {
   "cell_type": "code",
   "execution_count": 50,
   "metadata": {},
   "outputs": [],
   "source": [
    "mixBeads_1(ber, sampletest, 100, 1, times=1)"
   ]
  },
  {
   "cell_type": "code",
   "execution_count": 54,
   "metadata": {},
   "outputs": [],
   "source": [
    "mixBeads_1(ber, sampletest, 200, 1, times=1)"
   ]
  },
  {
   "cell_type": "code",
   "execution_count": 52,
   "metadata": {},
   "outputs": [],
   "source": [
    "mixBeads_1(ber, sampletest, 300, 2, times=1)"
   ]
  },
  {
   "cell_type": "code",
   "execution_count": 53,
   "metadata": {},
   "outputs": [],
   "source": [
    "mixBeads_1(ber, sampletest, 400, 3, times=1)"
   ]
  },
  {
   "cell_type": "markdown",
   "metadata": {},
   "source": [
    "## mixing test 2"
   ]
  },
  {
   "cell_type": "code",
   "execution_count": 31,
   "metadata": {},
   "outputs": [],
   "source": [
    "import re"
   ]
  },
  {
   "cell_type": "code",
   "execution_count": 32,
   "metadata": {},
   "outputs": [],
   "source": [
    "re.split?"
   ]
  },
  {
   "cell_type": "code",
   "execution_count": 12,
   "metadata": {},
   "outputs": [
    {
     "data": {
      "text/plain": [
       "-4.0"
      ]
     },
     "execution_count": 12,
     "metadata": {},
     "output_type": "execute_result"
    }
   ],
   "source": [
    "ber._getPipetteCurrentPosition_Raw()"
   ]
  },
  {
   "cell_type": "code",
   "execution_count": 16,
   "metadata": {},
   "outputs": [],
   "source": [
    "mix_scenario = {\n",
    "    50:{\n",
    "        0: {'X': 0, 'Y': 0},\n",
    "    },\n",
    "    100: {\n",
    "        0: {'X': 2, 'Y': 0},\n",
    "        1: {'X': 1.5, 'Y': 1.5},\n",
    "        2: {'X': 0, 'Y': 2},\n",
    "        3: {'X': -1.5, 'Y': 1.5},\n",
    "        4: {'X': -2, 'Y': 0},\n",
    "        5: {'X': -1.5, 'Y': -1.5},\n",
    "        6: {'X': 0, 'Y': -2},\n",
    "        7: {'X': 1.5, 'Y': -1.5},\n",
    "        8: {'X': 0, 'Y': 0},\n",
    "    },\n",
    "    200: {\n",
    "        0: {'X': 3, 'Y': 0},\n",
    "        1: {'X': 2, 'Y': 2},\n",
    "        2: {'X': 0, 'Y': 3},\n",
    "        3: {'X': -2, 'Y': 2},\n",
    "        4: {'X': -3, 'Y': 0},\n",
    "        5: {'X': -2, 'Y': -2},\n",
    "        6: {'X': 0, 'Y': -3},\n",
    "        7: {'X': 2, 'Y': -2},\n",
    "        8: {'X': 0, 'Y': 0},\n",
    "    },\n",
    "}"
   ]
  },
  {
   "cell_type": "code",
   "execution_count": 29,
   "metadata": {},
   "outputs": [],
   "source": [
    "def mix_3(robot, sample, scenario, times=3):\n",
    "    v_uptake = 200\n",
    "    delay=0.5\n",
    "    \n",
    "    v_inside = sample.getVolume()\n",
    "    if v_uptake > v_inside:\n",
    "        v_uptake = v_inside\n",
    "    \n",
    "    robot.movePipetteToVolume(v_uptake)\n",
    "    \n",
    "    for v, points_dict in scenario.items():\n",
    "        z_immers = sample.calcAbsLiquidLevelFromVol(v, added_length=robot._calcExtraLength())\n",
    "        robot.moveToSample(sample, z=z_immers)\n",
    "        \n",
    "        for point_id, xy_rel_coord_dict in points_dict.items():\n",
    "            dx = xy_rel_coord_dict['X']\n",
    "            dy = xy_rel_coord_dict['Y']\n",
    "            \n",
    "            robot.moveAxisDelta('X', dx)\n",
    "            robot.moveAxisDelta('Y', dy)\n",
    "            \n",
    "            robot._pipetteUpAndDownInPlace(delay=delay, times=times)\n",
    "            \n",
    "            robot.moveAxisDelta('X', -dx)\n",
    "            robot.moveAxisDelta('Y', -dy)\n",
    "            \n",
    "    v_max = sample.stype.getMaxVolume()\n",
    "    z_out = sample.calcAbsLiquidLevelFromVol(v_max, added_length=robot._calcExtraLength())\n",
    "    robot.moveToSample(sample, z=z_out)"
   ]
  },
  {
   "cell_type": "code",
   "execution_count": 17,
   "metadata": {},
   "outputs": [],
   "source": [
    "realbeadslist = createSampleList([1000], 0)"
   ]
  },
  {
   "cell_type": "code",
   "execution_count": 18,
   "metadata": {},
   "outputs": [],
   "source": [
    "realbeads = realbeadslist[0]"
   ]
  },
  {
   "cell_type": "code",
   "execution_count": 30,
   "metadata": {},
   "outputs": [],
   "source": [
    "mix_3(ber, realbeads, mix_scenario)"
   ]
  },
  {
   "cell_type": "code",
   "execution_count": 31,
   "metadata": {},
   "outputs": [],
   "source": [
    "ber.move(z=0)"
   ]
  },
  {
   "cell_type": "code",
   "execution_count": 33,
   "metadata": {},
   "outputs": [],
   "source": [
    "ber.dumpTipToWaste()"
   ]
  },
  {
   "cell_type": "markdown",
   "metadata": {},
   "source": [
    "# Mixing 3"
   ]
  },
  {
   "cell_type": "code",
   "execution_count": 19,
   "metadata": {},
   "outputs": [],
   "source": [
    "ber.pickUpNextTip()"
   ]
  },
  {
   "cell_type": "code",
   "execution_count": 20,
   "metadata": {},
   "outputs": [],
   "source": [
    "ber.move(z=0)"
   ]
  },
  {
   "cell_type": "code",
   "execution_count": 22,
   "metadata": {},
   "outputs": [],
   "source": [
    "realbeadslist = createSampleList([1000], 0)\n",
    "realbeads = realbeadslist[0]"
   ]
  },
  {
   "cell_type": "code",
   "execution_count": 23,
   "metadata": {},
   "outputs": [],
   "source": [
    "mix_scenario = {\n",
    "    50:{\n",
    "        0: {'X': 0, 'Y': 0},\n",
    "    },\n",
    "    100: {\n",
    "        0: {'X': 2, 'Y': 0},\n",
    "        1: {'X': 1.5, 'Y': 1.5},\n",
    "        2: {'X': 0, 'Y': 2},\n",
    "        3: {'X': -1.5, 'Y': 1.5},\n",
    "        4: {'X': -2, 'Y': 0},\n",
    "        5: {'X': -1.5, 'Y': -1.5},\n",
    "        6: {'X': 0, 'Y': -2},\n",
    "        7: {'X': 1.5, 'Y': -1.5},\n",
    "        8: {'X': 0, 'Y': 0},\n",
    "    },\n",
    "    200: {\n",
    "        0: {'X': 3, 'Y': 0},\n",
    "        1: {'X': 2, 'Y': 2},\n",
    "        2: {'X': 0, 'Y': 3},\n",
    "        3: {'X': -2, 'Y': 2},\n",
    "        4: {'X': -3, 'Y': 0},\n",
    "        5: {'X': -2, 'Y': -2},\n",
    "        6: {'X': 0, 'Y': -3},\n",
    "        7: {'X': 2, 'Y': -2},\n",
    "        8: {'X': 0, 'Y': 0},\n",
    "    },\n",
    "}"
   ]
  },
  {
   "cell_type": "code",
   "execution_count": 24,
   "metadata": {},
   "outputs": [],
   "source": [
    "ber.mix(sample=realbeads, scenario=mix_scenario, times=1, mix_delay=0)"
   ]
  },
  {
   "cell_type": "code",
   "execution_count": 25,
   "metadata": {},
   "outputs": [],
   "source": [
    "ber.move(z=0)"
   ]
  },
  {
   "cell_type": "code",
   "execution_count": 26,
   "metadata": {},
   "outputs": [],
   "source": [
    "ber.dumpTipToWaste()"
   ]
  },
  {
   "cell_type": "code",
   "execution_count": null,
   "metadata": {},
   "outputs": [],
   "source": []
  }
 ],
 "metadata": {
  "kernelspec": {
   "display_name": "Python 3",
   "language": "python",
   "name": "python3"
  },
  "language_info": {
   "codemirror_mode": {
    "name": "ipython",
    "version": 3
   },
   "file_extension": ".py",
   "mimetype": "text/x-python",
   "name": "python",
   "nbconvert_exporter": "python",
   "pygments_lexer": "ipython3",
   "version": "3.7.4"
  }
 },
 "nbformat": 4,
 "nbformat_minor": 2
}
