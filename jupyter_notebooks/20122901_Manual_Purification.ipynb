{
 "cells": [
  {
   "cell_type": "code",
   "execution_count": 1,
   "metadata": {},
   "outputs": [
    {
     "data": {
      "text/plain": [
       "['COM7', 'COM18', 'COM20']"
      ]
     },
     "execution_count": 1,
     "metadata": {},
     "output_type": "execute_result"
    }
   ],
   "source": [
    "import time\n",
    "import pandas as pd\n",
    "from datetime import datetime\n",
    "import threading\n",
    "\n",
    "import bernielib as bl\n",
    "\n",
    "bl.listSerialPorts()"
   ]
  },
  {
   "cell_type": "code",
   "execution_count": 2,
   "metadata": {},
   "outputs": [],
   "source": [
    "ber = bl.robot(cartesian_port_name='COM18', pipette_port_name='COM7', misc_port_name='COM20')"
   ]
  },
  {
   "cell_type": "code",
   "execution_count": 3,
   "metadata": {},
   "outputs": [],
   "source": [
    "ber.robotHome()\n",
    "ber.pipetteHome()"
   ]
  },
  {
   "cell_type": "markdown",
   "metadata": {},
   "source": [
    "# Pre-load with ladder"
   ]
  },
  {
   "cell_type": "code",
   "execution_count": 4,
   "metadata": {},
   "outputs": [],
   "source": [
    "initial_vol_list = [30, 30, 30, 30, 30]\n",
    "samples_number = len(initial_vol_list)\n",
    "dna_stock_2 = bl.createSample('eppendorf', 'dna_stock_2', ber.samples_rack, 0, 8, 160)"
   ]
  },
  {
   "cell_type": "code",
   "execution_count": 5,
   "metadata": {},
   "outputs": [],
   "source": [
    "ber.pickUpNextTip()\n",
    "samples_list = bl.createSamplesToPurifyList(ber, [0 for x in range(samples_number)])\n",
    "\n",
    "for sample, volume in zip(samples_list, initial_vol_list):\n",
    "    ber.transferLiquid(dna_stock_2, sample, volume, v_immerse_dispense=1600, touch_wall=False)\n",
    "\n",
    "ber.move(z=50)\n",
    "ber.dumpTipToWaste()\n",
    "ber.pipetteHome()"
   ]
  },
  {
   "cell_type": "markdown",
   "metadata": {},
   "source": [
    "# Adding beads"
   ]
  },
  {
   "cell_type": "code",
   "execution_count": 6,
   "metadata": {},
   "outputs": [],
   "source": [
    "def addBeadsToAll(robot, samples_list, v_beads_list, beads, sample_mix_scenario, beads_mix_scenario):\n",
    "    robot.moveMagnetsAway(poweroff=True)\n",
    "    robot.pickUpNextTip()\n",
    "    robot.move(z=50)\n",
    "    robot.mixByScript(beads, beads_mix_scenario)\n",
    "    robot.move(z=50)\n",
    "    \n",
    "    for sample, v_beads in zip(samples_list, v_beads_list):\n",
    "        robot.transferLiquid(beads, sample, v_beads, touch_wall=False)\n",
    "    \n",
    "    counter = 0\n",
    "    for sample, v_beads in zip(samples_list, v_beads_list):\n",
    "        if counter != 0:\n",
    "            robot.move(z=50)\n",
    "            robot.pickUpNextTip()\n",
    "        \n",
    "        robot.move(z=50)\n",
    "        \n",
    "        robot.mixByScript(sample, sample_mix_scenario)\n",
    "            \n",
    "        if counter == 0:\n",
    "            timestamp = time.time()\n",
    "        counter += 1\n",
    "        \n",
    "        robot.move(z=50)\n",
    "        robot.dumpTipToWaste()\n",
    "    \n",
    "    return timestamp"
   ]
  },
  {
   "cell_type": "code",
   "execution_count": 6,
   "metadata": {},
   "outputs": [
    {
     "data": {
      "text/plain": [
       "27.0"
      ]
     },
     "execution_count": 6,
     "metadata": {},
     "output_type": "execute_result"
    }
   ],
   "source": [
    "30*0.9"
   ]
  },
  {
   "cell_type": "code",
   "execution_count": 10,
   "metadata": {},
   "outputs": [],
   "source": [
    "V_avail_beads = 800 #uL\n",
    "v_beads_list = [90, 27, 18, 15]\n",
    "samples_list = bl.createSamplesToPurifyList(ber, [30, 30, 30, 30])\n",
    "beads = bl.createSample('eppendorf', 'beads', ber.samples_rack, 0, 11, V_avail_beads)\n",
    "sample_mix_scenario = pd.read_csv('mixing_pattern_eppendorf.csv')\n",
    "beads_mix_scenario = pd.read_csv('mixing_pattern_eppendorf.csv')\n",
    "\n",
    "ber.pickUpNextTip()\n",
    "\n",
    "ber.move(z=50)\n",
    "ber.mixByScript(beads, beads_mix_scenario)\n",
    "ber.move(z=50)\n",
    "\n",
    "for sample, v_beads in zip(samples_list, v_beads_list):\n",
    "    ber.transferLiquid(beads, sample, v_beads, touch_wall=False)\n",
    "    \n",
    "ber.dumpTipToWaste()"
   ]
  },
  {
   "cell_type": "code",
   "execution_count": 8,
   "metadata": {},
   "outputs": [],
   "source": [
    "ber.move(z=50)"
   ]
  },
  {
   "cell_type": "code",
   "execution_count": 9,
   "metadata": {},
   "outputs": [],
   "source": [
    "ber.dumpTipToPosition(8, 0)"
   ]
  },
  {
   "cell_type": "markdown",
   "metadata": {},
   "source": [
    "# Settings"
   ]
  },
  {
   "cell_type": "markdown",
   "metadata": {},
   "source": [
    "1. Ladder control\n",
    "2. Sup from adding 90 uL of beads\n",
    "3. Sup from adding 27 uL of beads\n",
    "4. Sup from adding 18 uL of beads\n",
    "5. Sup from adding 15 uL of beads\n",
    "6. Eluent-90\n",
    "7. Eluent-27\n",
    "8. Eluent-18\n",
    "9. Eluent-15"
   ]
  }
 ],
 "metadata": {
  "kernelspec": {
   "display_name": "Python 3",
   "language": "python",
   "name": "python3"
  },
  "language_info": {
   "codemirror_mode": {
    "name": "ipython",
    "version": 3
   },
   "file_extension": ".py",
   "mimetype": "text/x-python",
   "name": "python",
   "nbconvert_exporter": "python",
   "pygments_lexer": "ipython3",
   "version": "3.7.4"
  }
 },
 "nbformat": 4,
 "nbformat_minor": 2
}
