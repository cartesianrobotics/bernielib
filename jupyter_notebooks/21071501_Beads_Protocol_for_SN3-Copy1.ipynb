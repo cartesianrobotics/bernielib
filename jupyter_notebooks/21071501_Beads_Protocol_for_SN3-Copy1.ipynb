{
 "cells": [
  {
   "cell_type": "code",
   "execution_count": 1,
   "metadata": {},
   "outputs": [
    {
     "data": {
      "text/plain": [
       "['COM3', 'COM4']"
      ]
     },
     "execution_count": 1,
     "metadata": {},
     "output_type": "execute_result"
    }
   ],
   "source": [
    "import time\n",
    "import pandas as pd\n",
    "from datetime import datetime\n",
    "\n",
    "import bernielib as bl\n",
    "\n",
    "bl.listSerialPorts()"
   ]
  },
  {
   "cell_type": "code",
   "execution_count": 2,
   "metadata": {},
   "outputs": [],
   "source": [
    "ber = bl.robot(cartesian_port_name='COM3', loadcell_port_name='COM4')"
   ]
  },
  {
   "cell_type": "code",
   "execution_count": 11,
   "metadata": {},
   "outputs": [],
   "source": [
    "ber.home()"
   ]
  },
  {
   "cell_type": "markdown",
   "metadata": {},
   "source": [
    "# Preparing diluted stock solution\n",
    "\n",
    "Diluting 10 times"
   ]
  },
  {
   "cell_type": "code",
   "execution_count": 4,
   "metadata": {},
   "outputs": [],
   "source": [
    "dna_stock = bl.createSample('eppendorf', 'dna_stock', ber.samples_rack, 0, 9, 200)\n",
    "dna_stock_2 = bl.createSample('eppendorf', 'dna_stock_2', ber.samples_rack, 0, 8, 0)\n",
    "water = bl.createSample('25ml', 'water', ber.reagents_rack, 0, 0, 25000)"
   ]
  },
  {
   "cell_type": "code",
   "execution_count": 5,
   "metadata": {},
   "outputs": [],
   "source": [
    "script = pd.read_csv('mixing_pattern_eppendorf.csv')\n",
    "ber.pickUpNextTip()\n",
    "ber.move(z=50)\n",
    "ber.transferLiquid(water, dna_stock_2, 270)\n",
    "ber.transferLiquid(dna_stock, dna_stock_2, 30, v_immerse_dispense=1600)\n",
    "ber.move(z=50)\n",
    "ber.mixByScript(dna_stock_2, script)\n",
    "ber.pipetteHome()\n",
    "ber.move(z=50)\n",
    "ber.dumpTipToWaste()"
   ]
  },
  {
   "cell_type": "markdown",
   "metadata": {},
   "source": [
    "# Protocol functions"
   ]
  },
  {
   "cell_type": "code",
   "execution_count": 22,
   "metadata": {},
   "outputs": [],
   "source": [
    "def calcBeadsVolumeToAdd(robot, samples_list, cutoff_list):\n",
    "    v_beads_list = []\n",
    "    for sample, dna_size in zip(samples_list, cutoff_list):\n",
    "        v_beads = robot.calcBeadsVol(sample, dna_size)\n",
    "        v_beads_list.append(v_beads)\n",
    "    return v_beads_list\n",
    "\n",
    "def waitAfterTimestamp(timestamp, delay):\n",
    "    new_ts = time.time()\n",
    "    while (new_ts - timestamp) < delay:\n",
    "        time.sleep(1)\n",
    "        new_ts = time.time()\n",
    "\n",
    "def waitAndMixByScript(robot, sample, timestamp, delay, mix_script, tip_col, tip_row):\n",
    "    new_ts = time.time()\n",
    "    robot.pickUpTip(tip_col, tip_row)\n",
    "    robot.move(z=50)\n",
    "    while (new_ts - timestamp) < delay:\n",
    "        robot.mixByScript(sample, mix_script)\n",
    "        robot.move(z=50)\n",
    "        new_ts = time.time()\n",
    "    robot.dumpTipToPosition(tip_col, tip_row)\n",
    "\n",
    "def addBeads(robot, sample, beads, v_beads, sample_mix_scenario, beads_mix_scenario, z_safe=50):\n",
    "    robot.move(z=z_safe)\n",
    "    #robot.pickUpNextTip()\n",
    "    #robot.move(z=z_safe)\n",
    "    # Mixing beads before experiment\n",
    "    #robot.mixByScript(beads, beads_mix_scenario)\n",
    "    # Transferring beads to sample\n",
    "    robot.transferLiquid(beads, sample, v_beads)\n",
    "    # Mixing sample with beads\n",
    "    robot.mixByScript(sample, sample_mix_scenario)\n",
    "    robot.move(z=z_safe)\n",
    "    #robot.dumpTipToWaste()\n",
    "    robot.move(z=z_safe)\n",
    "\n",
    "def addBeadsToAll(robot, samples_list, v_beads_list, beads, sample_mix_scenario, beads_mix_scenario):\n",
    "    robot.moveMagnetsAway(poweroff=True)\n",
    "    robot.pickUpNextTip()\n",
    "    robot.move(z=50)\n",
    "    robot.mixByScript(beads, beads_mix_scenario)\n",
    "    robot.move(z=50)\n",
    "    \n",
    "    for sample, v_beads in zip(samples_list, v_beads_list):\n",
    "        robot.transferLiquid(beads, sample, v_beads, touch_wall=False)\n",
    "    \n",
    "    counter = 0\n",
    "    for sample, v_beads in zip(samples_list, v_beads_list):\n",
    "        if counter != 0:\n",
    "            robot.move(z=50)\n",
    "            robot.pickUpNextTip()\n",
    "        \n",
    "        robot.move(z=50)\n",
    "        \n",
    "        robot.mixByScript(sample, sample_mix_scenario)\n",
    "            \n",
    "        if counter == 0:\n",
    "            timestamp = time.time()\n",
    "        counter += 1\n",
    "        \n",
    "        robot.move(z=50)\n",
    "        #robot.dumpTipToWaste()\n",
    "        robot.returnTipBack()\n",
    "    \n",
    "    return timestamp\n",
    "\n",
    "def removeSupernatant(robot, sample, waste, z_safe=50, delay=0.5):\n",
    "    robot.pickUpNextTip()\n",
    "    robot.move(z=z_safe)\n",
    "    z0 = robot._getTubeZBottom(sample)\n",
    "    while sample.getVolume() > 200:\n",
    "        robot.movePipetteToVolume(200)\n",
    "        robot.moveToSample(sample)\n",
    "        robot.move(z=z0-0.5)\n",
    "        robot.movePipetteToVolume(0)\n",
    "        new_vol = sample.getVolume() - 200\n",
    "        if new_vol < 0:\n",
    "            new_vol = 0\n",
    "        sample.setVolume(new_vol)\n",
    "        robot.move(z=z_safe)\n",
    "        robot.dispenseLiquid(waste, 200, blow_extra=True)\n",
    "        robot.move(z=z_safe)\n",
    "    robot.moveToSample(sample)\n",
    "    robot.movePipetteToVolume(250)\n",
    "    robot.move(z=z0)\n",
    "    robot.movePipetteToVolume(50)\n",
    "    time.sleep(delay)\n",
    "    robot.move(z=z0-0.5)\n",
    "    time.sleep(delay)\n",
    "    robot.moveAxisDelta('X', 1.5)\n",
    "    robot.movePipetteToVolume(40)\n",
    "    time.sleep(delay/4.0)\n",
    "    robot.moveAxisDelta('X', -1.5)\n",
    "    robot.moveAxisDelta('Y', 1.5)\n",
    "    robot.movePipetteToVolume(30)\n",
    "    time.sleep(delay/4.0)\n",
    "    robot.moveAxisDelta('Y', -1.5)\n",
    "    robot.moveAxisDelta('X', -1.5)    \n",
    "    robot.movePipetteToVolume(20)\n",
    "    time.sleep(delay/4.0)\n",
    "    robot.moveAxisDelta('X', 1.5)\n",
    "    robot.moveAxisDelta('Y', -1.5)\n",
    "    robot.movePipetteToVolume(0)\n",
    "    time.sleep(delay/4.0)\n",
    "    robot.move(z=z_safe)\n",
    "    robot.dispenseLiquid(waste, 250, blow_extra=True)\n",
    "    robot.move(z=z_safe)\n",
    "    robot.dumpTipToWaste()\n",
    "\n",
    "def removeSupernatantFast(robot, sample, waste, z_safe=50, delay=0.5):\n",
    "    robot.pickUpNextTip()\n",
    "    robot.move(z=z_safe)\n",
    "    z0 = robot._getTubeZBottom(sample)\n",
    "    while sample.getVolume() > 0:\n",
    "        robot.movePipetteToVolume(200)\n",
    "        robot.moveToSample(sample)\n",
    "        robot.move(z=z0-0.5)\n",
    "        robot.movePipetteToVolume(0)\n",
    "        new_vol = sample.getVolume() - 200\n",
    "        if new_vol < 0:\n",
    "            new_vol = 0\n",
    "        sample.setVolume(new_vol)\n",
    "        time.sleep(delay)\n",
    "        robot.move(z=z_safe)\n",
    "        robot.dispenseLiquid(waste, 200, blow_extra=True)\n",
    "        robot.move(z=z_safe)\n",
    "    robot.dumpTipToWaste()\n",
    "\n",
    "def removeSupernatantAllSamples(robot, samples_list, waste, how='fast'):\n",
    "    counter = 0\n",
    "    for sample in samples_list:\n",
    "        if how == 'fast':\n",
    "            removeSupernatantFast(robot, sample, waste)\n",
    "        else:\n",
    "            removeSupernatant(robot, sample, waste)\n",
    "        if counter == 0:\n",
    "            sample_dried_timestamp = time.time()\n",
    "        counter += 1\n",
    "    return sample_dried_timestamp\n",
    "\n",
    "def add80PctEthanol(robot, samples_list, ethanol, volume, z_safe=50):\n",
    "    robot.pickUpNextTip()\n",
    "    robot.move(z=z_safe)\n",
    "    \n",
    "    counter = 0\n",
    "    for sample in samples_list:\n",
    "        robot.transferLiquid(ethanol, sample, volume, touch_wall=False)\n",
    "        if counter == 0:\n",
    "            ethanol_added_time = time.time()\n",
    "        counter += 1\n",
    "    \n",
    "    robot.move(z=z_safe)\n",
    "    robot.dumpTipToWaste()\n",
    "    \n",
    "    return ethanol_added_time\n",
    "\n",
    "def elutionMix(robot, sample, volume, delay=0.5):\n",
    "    z0 = robot._getTubeZBottom(sample)\n",
    "    z_top = sample.getSampleTopAbsZ(added_length=robot._calcExtraLength())\n",
    "    robot.movePipetteToVolume(0)\n",
    "    robot.movePipetteToVolume(volume+5)\n",
    "    robot.movePipetteToVolume(volume)\n",
    "    robot.move(z=z0-0.5)\n",
    "    robot.movePipetteToVolume(0)\n",
    "    time.sleep(delay)\n",
    "    # Washing steps, moving along the wall\n",
    "    # 1\n",
    "    z_curr = z_top + 24\n",
    "    #z_curr = sample.calcAbsLiquidLevelFromVol(500, added_length=robot._calcExtraLength())\n",
    "    robot.move(z=z_curr)\n",
    "    robot.moveAxisDelta('X', 3.0)\n",
    "    robot.movePipetteToVolume(volume/4.0)\n",
    "    time.sleep(delay/4.0)\n",
    "    # 2\n",
    "    z_curr = z_top + 28\n",
    "    #z_curr = sample.calcAbsLiquidLevelFromVol(300, added_length=robot._calcExtraLength())\n",
    "    robot.move(z=z_curr)\n",
    "    #robot.moveAxisDelta('X', -0.629)\n",
    "    robot.movePipetteToVolume(2 * (volume/4.0))\n",
    "    time.sleep(delay/4.0)\n",
    "    # 3\n",
    "    z_curr = z_top + 32\n",
    "    #z_curr = sample.calcAbsLiquidLevelFromVol(150, added_length=robot._calcExtraLength())\n",
    "    robot.move(z=z_curr)\n",
    "    robot.moveAxisDelta('X', -0.629)\n",
    "    robot.movePipetteToVolume(3 * (volume/4.0))\n",
    "    time.sleep(delay/4.0)\n",
    "    # 4\n",
    "    z_curr = z_top + 36\n",
    "    #z_curr = sample.calcAbsLiquidLevelFromVol(150, added_length=robot._calcExtraLength())\n",
    "    robot.move(z=z_curr)\n",
    "    robot.moveAxisDelta('X', -0.629)\n",
    "    robot.movePipetteToVolume(volume)\n",
    "    time.sleep(delay/4.0)\n",
    "    \n",
    "    x, y = sample.getCenterXY()\n",
    "    robot.move(x=x, y=y)\n",
    "    z_curr = sample.calcAbsLiquidLevelFromVol(volume+100, added_length=robot._calcExtraLength())\n",
    "    robot.move(z=z_curr)\n",
    "    \n",
    "    robot.movePipetteToVolume(volume+50)\n",
    "    time.sleep(delay)\n",
    "    robot.movePipetteToVolume(0)\n",
    "\n",
    "def elutionMixLrgVol(robot, sample, volume, delay=0.5):\n",
    "    z0 = robot._getTubeZBottom(sample)\n",
    "    z_top = sample.getSampleTopAbsZ(added_length=robot._calcExtraLength())\n",
    "    \n",
    "    # Uptaking\n",
    "    robot.movePipetteToVolume(0)\n",
    "    robot.movePipetteToVolume(volume+5)\n",
    "    robot.movePipetteToVolume(volume)\n",
    "    robot.move(z=z0-0.8)\n",
    "    robot.movePipetteToVolume(0)\n",
    "    time.sleep(delay)\n",
    "    \n",
    "    # Ejecting liquid\n",
    "    z_curr = sample.calcAbsLiquidLevelFromVol(1000, added_length=robot._calcExtraLength())\n",
    "    robot.move(z=z_curr)\n",
    "    robot.moveAxisDelta('X', 3.4)\n",
    "    robot.movePipetteToVolume(volume+50)\n",
    "    z_curr = sample.calcAbsLiquidLevelFromVol(500, added_length=robot._calcExtraLength())\n",
    "    robot.move(z=z_curr)\n",
    "    \n",
    "    # To back position\n",
    "    x, y = sample.getCenterXY()\n",
    "    robot.move(x=x, y=y)\n",
    "    \n",
    "    robot.movePipetteToVolume(0)\n",
    "\n",
    "#TODO: make safe_z a general property of the robot\n",
    "def elute(robot, sample, eluent, volume, mix_delay=0.5, mix_times=5, safe_z=50):\n",
    "    robot.moveMagnetsAway(poweroff=True)\n",
    "    robot.pickUpNextTip()\n",
    "    robot.move(z=safe_z)\n",
    "    robot.transferLiquid(eluent, sample, volume)\n",
    "    for i in range(mix_times):\n",
    "        elutionMixLrgVol(robot, sample, volume)\n",
    "        elutionMixLrgVol(robot, sample, volume)\n",
    "        elutionMix(robot, sample, volume)\n",
    "    elution_start_time = time.time()\n",
    "    elutionMix(robot, sample, volume)\n",
    "    elutionMix(robot, sample, volume)\n",
    "    \n",
    "    robot.move(z=safe_z)\n",
    "    robot.returnTipBack()\n",
    "    #robot.dumpTipToWaste()\n",
    "    sample.setVolume(volume)\n",
    "    return elution_start_time\n",
    "\n",
    "def eluteAllSamples(robot, samples_list, eluent, V_eluent, mix_delay=0.5, mix_times=4, safe_z=50):\n",
    "    counter = 0\n",
    "    for sample in samples_list:\n",
    "        ts = elute(ber, sample, eluent, V_eluent, mix_delay=mix_delay, mix_times=mix_times, safe_z=safe_z)\n",
    "        print ()\n",
    "        if counter == 0:\n",
    "            elution_start_timestamp = ts\n",
    "        counter += 1\n",
    "    return elution_start_timestamp\n",
    "\n",
    "def separateEluate(robot, eluate_tube, result_tube, pipette_delay=1.0, z_above_bottom=0.2, safe_z=50):\n",
    "    robot.pickUpNextTip()       # Getting a new tip\n",
    "    robot.move(z=safe_z)        # Moving up so the tip does not hit anything\n",
    "    # Uptaking liquid\n",
    "    v = eluate_tube.getVolume()      # Volume in the tube with the mix of the eluted DNA and beads\n",
    "    v = v * 2                        # Will uptake extra volume\n",
    "    robot.moveToSample(eluate_tube)  # Moving XY to the sample with the eluted DNA and the beads.\n",
    "    robot.movePipetteToVolume(v+5)   # \n",
    "    robot.movePipetteToVolume(v)     # Plunger down to the volume of the DNA solution\n",
    "    z0 = robot._getTubeZBottom(eluate_tube)  # Bottom of the tube with eluted DNA and beads\n",
    "    robot.move(z=z0-z_above_bottom) # Moving to the bottom of the tube with eluted DNA and beads\n",
    "    robot.movePipetteToVolume(v/2.0)    # Plunger half-way up\n",
    "    time.sleep(pipette_delay)       # Waiting\n",
    "    robot.move(z=z0-z_above_bottom-1.0, speed_z=30)\n",
    "    robot.move(z=z0-z_above_bottom, speed_z=30)\n",
    "    robot.movePipetteToVolume(0.0)  # Plunger all the way up\n",
    "    time.sleep(pipette_delay)       # Waiting\n",
    "    robot.move(z=z0-z_above_bottom-1.0, speed_z=30)\n",
    "    time.sleep(pipette_delay)       # Waiting\n",
    "    # Dispensing liquid\n",
    "    robot.moveToSample(result_tube)  # Moving XY to the empty tube for the purified DNA\n",
    "    robot.movePipetteToVolume(v+5)   # Plunger down to the volume of the DNA solution that is currently in the tip\n",
    "    time.sleep(pipette_delay)        # Waiting for water to drip\n",
    "    robot.movePipetteToVolume(200)   # Moving plunger all the way down (removing any extra drops from the tip)\n",
    "    time.sleep(pipette_delay)        # Waiting for the water to drip\n",
    "    robot.touchWall(result_tube)     # Touching the wall to remove a potential drop of DNA solution from the tip end.\n",
    "    robot.movePipetteToVolume(0)    # Plunger back up\n",
    "    robot.move(z=safe_z)            # Moving Z up so the tip does not hit anything\n",
    "    ber.dumpTipToWaste()            # Discarding the tip\n",
    "\n",
    "def oneStagePurification(robot, N_samples, initial_vol_list, cutoff_list, V_avail_beads, V_avail_water, V_avail_ethanol, \n",
    "                         beads_rack, beads_col, beads_row, sample_mix_scenario, beads_mix_scenario,\n",
    "                         V_waste=0, T_absorb=600, T_pull=60, T_wash=30, T_dry=300, T_elute=600,\n",
    "                         V_wash=200, V_elute=30):\n",
    "    \n",
    "    print(\"Experiment started \", datetime.now().strftime(\"%H:%M:%S\"))\n",
    "    samples_list = bl.createSamplesToPurifyList(robot, initial_vol_list)\n",
    "    result_list = bl.createPurifiedSamplesList(robot, N_samples)\n",
    "    beads = bl.createSample('eppendorf', 'beads', beads_rack, beads_col, beads_row, V_avail_beads)\n",
    "    waste = bl.createSample('25ml', 'liquid_waste', robot.reagents_rack, 0, 1, V_waste)\n",
    "    water = bl.createSample('25ml', 'water', robot.reagents_rack, 0, 0, V_avail_water)\n",
    "    EtOH80pct = bl.createSample('5ml', 'EtOH80pct', robot.reagents_rack, 0, 4, V_avail_ethanol)\n",
    "    \n",
    "    v_beads_list = calcBeadsVolumeToAdd(robot, samples_list, cutoff_list=cutoff_list)\n",
    "    # Adding beads\n",
    "    timestamp_beads_added = addBeadsToAll(robot, samples_list, v_beads_list, beads, sample_mix_scenario, beads_mix_scenario)\n",
    "    print(\"Beads added \", datetime.now().strftime(\"%H:%M:%S\"))\n",
    "    print(\"Waiting for DNA absorption\")\n",
    "    last_tip_col, last_tip_row = robot.last_tip_coord\n",
    "    waitAndMixByScript(robot, samples_list[0], timestamp_beads_added, T_absorb, sample_mix_scenario, \n",
    "                       last_tip_col, last_tip_row)\n",
    "    #waitAfterTimestamp(timestamp_beads_added, T_absorb)\n",
    "    print(\"DNA absorption finished \", datetime.now().strftime(\"%H:%M:%S\"))\n",
    "    # Removing supernatant\n",
    "    robot.moveMagnetsTowardsTube(poweroff=True)\n",
    "    time.sleep(T_pull)\n",
    "    print(\"Beads pulled to the side \", datetime.now().strftime(\"%H:%M:%S\"))\n",
    "    ts = removeSupernatantAllSamples(robot, samples_list, waste, how='fast')\n",
    "    print(\"Supernatant removed \", datetime.now().strftime(\"%H:%M:%S\"))\n",
    "    # Ethanol wash\n",
    "    # Wash 1\n",
    "    timestamp_ethanol_added = add80PctEthanol(robot, samples_list, EtOH80pct, V_wash)\n",
    "    print(\"Wash 1: ethanol added \", datetime.now().strftime(\"%H:%M:%S\"))\n",
    "    waitAfterTimestamp(timestamp_ethanol_added, T_wash)\n",
    "    print(\"Wash 1: ethanol incubation finished \", datetime.now().strftime(\"%H:%M:%S\"))\n",
    "    ts = removeSupernatantAllSamples(robot, samples_list, waste, how='fast')\n",
    "    print(\"Wash 1: ethanol removed \", datetime.now().strftime(\"%H:%M:%S\"))\n",
    "    # Wash 2\n",
    "    timestamp_ethanol_added = add80PctEthanol(robot, samples_list, EtOH80pct, V_wash)\n",
    "    print(\"Wash 2: ethanol added \", datetime.now().strftime(\"%H:%M:%S\"))\n",
    "    waitAfterTimestamp(timestamp_ethanol_added, T_wash)\n",
    "    print(\"Wash 2: ethanol incubation finished \", datetime.now().strftime(\"%H:%M:%S\"))\n",
    "    timestamp_ethanol_removed = removeSupernatantAllSamples(robot, samples_list, waste, how='full')\n",
    "    print(\"Wash 2: ethanol removed \", datetime.now().strftime(\"%H:%M:%S\"))\n",
    "    # Drying ethanol\n",
    "    waitAfterTimestamp(timestamp_ethanol_removed, T_dry)\n",
    "    print(\"Ethanol drying finished \", datetime.now().strftime(\"%H:%M:%S\"))\n",
    "    \n",
    "    # Elution\n",
    "    # Adding water\n",
    "    elution_start_timestamp = eluteAllSamples(robot, samples_list, water, V_elute, mix_delay=0.5, mix_times=6, safe_z=50)\n",
    "    print(\"Eluent added \", datetime.now().strftime(\"%H:%M:%S\"))\n",
    "    last_tip_col, last_tip_row = robot.last_tip_coord\n",
    "    waitAndMixByScript(robot, samples_list[0], elution_start_timestamp, T_absorb, sample_mix_scenario, \n",
    "                       last_tip_col, last_tip_row)\n",
    "    #waitAfterTimestamp(elution_start_timestamp, T_elute) # elution wait\n",
    "    print(\"Elution incubation finished \", datetime.now().strftime(\"%H:%M:%S\"))\n",
    "    \n",
    "    # Magnetic beads to the side of the tubes\n",
    "    ber.moveMagnetsTowardsTube()\n",
    "    time.sleep(T_pull)\n",
    "    print(\"Beads pulled to the side \", datetime.now().strftime(\"%H:%M:%S\"))\n",
    "    # Moving liquid to the resulting tubes\n",
    "    for sample, result in zip(samples_list, result_list):\n",
    "        separateEluate(ber, sample, result)\n",
    "    print(\"Eluate transferred to the new tube \", datetime.now().strftime(\"%H:%M:%S\"))\n",
    "    print(\"Experiment finished \", datetime.now().strftime(\"%H:%M:%S\"))"
   ]
  },
  {
   "cell_type": "code",
   "execution_count": 7,
   "metadata": {},
   "outputs": [],
   "source": [
    "script = pd.read_csv('mixing_pattern_eppendorf.csv')"
   ]
  },
  {
   "cell_type": "markdown",
   "metadata": {},
   "source": [
    "# Custom ladder"
   ]
  },
  {
   "cell_type": "markdown",
   "metadata": {},
   "source": [
    "## Protocol with 150 bp cutoff"
   ]
  },
  {
   "cell_type": "code",
   "execution_count": 8,
   "metadata": {},
   "outputs": [],
   "source": [
    "dna_stock_2 = bl.createSample('eppendorf', 'dna_stock_2', ber.samples_rack, 0, 8, 300)\n",
    "water = bl.createSample('50ml', 'water', ber.reagents_rack, 0, 0, 25000)"
   ]
  },
  {
   "cell_type": "code",
   "execution_count": 9,
   "metadata": {},
   "outputs": [],
   "source": [
    "ber.pickUpNextTip()\n",
    "sample = bl.createSamplesToPurifyList(ber, [0])[0]\n",
    "ber.transferLiquid(dna_stock_2, sample, 30, v_immerse_dispense=1600, touch_wall=False)\n",
    "ber.move(z=50)\n",
    "ber.dumpTipToWaste()\n",
    "ber.pipetteHome()"
   ]
  },
  {
   "cell_type": "code",
   "execution_count": 13,
   "metadata": {},
   "outputs": [
    {
     "name": "stdout",
     "output_type": "stream",
     "text": [
      "Experiment started  18:03:54\n",
      "Beads added  18:05:35\n",
      "Waiting for DNA absorption\n",
      "DNA absorption finished  18:08:57\n",
      "Beads pulled to the side  18:09:59\n",
      "Supernatant removed  18:10:11\n",
      "Wash 1: ethanol added  18:10:24\n",
      "Wash 1: ethanol incubation finished  18:10:51\n",
      "Wash 1: ethanol removed  18:11:04\n",
      "Wash 2: ethanol added  18:11:17\n",
      "Wash 2: ethanol incubation finished  18:11:44\n",
      "Wash 2: ethanol removed  18:11:59\n",
      "Ethanol drying finished  18:13:40\n",
      "\n",
      "Eluent added  18:14:57\n",
      "Elution incubation finished  18:18:20\n",
      "Beads pulled to the side  18:19:21\n",
      "Eluate transferred to the new tube  18:19:33\n",
      "Experiment finished  18:19:33\n"
     ]
    }
   ],
   "source": [
    "oneStagePurification(ber, N_samples=1, initial_vol_list=[30], \n",
    "                     cutoff_list=[150],\n",
    "                     V_avail_beads=1000, V_avail_water=24000, V_avail_ethanol=5000, \n",
    "                     beads_rack=ber.samples_rack, beads_col=0, beads_row=11, \n",
    "                     sample_mix_scenario=script, beads_mix_scenario=script, \n",
    "                     T_absorb=200, T_dry=100, T_elute=200)"
   ]
  },
  {
   "cell_type": "code",
   "execution_count": 12,
   "metadata": {},
   "outputs": [],
   "source": [
    "ber.dumpTipToWaste()"
   ]
  },
  {
   "cell_type": "code",
   "execution_count": 20,
   "metadata": {},
   "outputs": [
    {
     "data": {
      "text/plain": [
       "{'magnets_away_angle': 5.2,\n",
       " 'magnets_near_tube_angle': 11.2,\n",
       " 'stair_finding_step_list': [1, 0.2],\n",
       " 'stair_finding_z_increment': 0.1,\n",
       " 'stair_finding_z_retract_after_trigger': -1,\n",
       " 'stair_finding_z_max_travel': 3,\n",
       " 'stair_finding_z_load_threshold': 500,\n",
       " 'z_max': 180,\n",
       " 'x_max': 189,\n",
       " 'y_max': 322,\n",
       " 'added_tip_length': 41.6,\n",
       " 'volume_to_position_slope': -0.15859245180518214,\n",
       " 'volume_to_position_intercept': -0.958195131933648,\n",
       " 'pipetting_delay': 0.2,\n",
       " 'DNAsize_to_Vbeads': {'a': 0.499325349, 'b': -9.91043764, 'c': 25758.5836},\n",
       " 'tip_drop_servo_up_angle': 2.5,\n",
       " 'tip_drop_servo_down_angle': 7.3,\n",
       " 'speed_XY': 50000,\n",
       " 'speed_Z': 30000,\n",
       " 'speed_pipette': 2500,\n",
       " 'plunger_movement_when_dumping_tip': 35}"
      ]
     },
     "execution_count": 20,
     "metadata": {},
     "output_type": "execute_result"
    }
   ],
   "source": [
    "ber.data"
   ]
  },
  {
   "cell_type": "code",
   "execution_count": 21,
   "metadata": {},
   "outputs": [],
   "source": [
    "ber.move?"
   ]
  },
  {
   "cell_type": "code",
   "execution_count": 23,
   "metadata": {},
   "outputs": [],
   "source": [
    "samples_list = bl.createSamplesToPurifyList(ber, [30])\n",
    "result_list = bl.createPurifiedSamplesList(ber, 1)"
   ]
  },
  {
   "cell_type": "code",
   "execution_count": 24,
   "metadata": {},
   "outputs": [],
   "source": [
    "separateEluate(ber, samples_list[0], result_list[0], pipette_delay=1.0, z_above_bottom=0.2)"
   ]
  },
  {
   "cell_type": "markdown",
   "metadata": {},
   "source": [
    "## Protocol with 350 bp cutoff"
   ]
  },
  {
   "cell_type": "code",
   "execution_count": 6,
   "metadata": {},
   "outputs": [],
   "source": [
    "dna_stock_2 = bl.createSample('eppendorf', 'dna_stock_2', ber.samples_rack, 0, 8, 270)\n",
    "water = bl.createSample('50ml', 'water', ber.reagents_rack, 1, 1, 32000)"
   ]
  },
  {
   "cell_type": "code",
   "execution_count": 7,
   "metadata": {},
   "outputs": [],
   "source": [
    "ber.pickUpNextTip()\n",
    "sample = bl.createSamplesToPurifyList(ber, [0])[0]\n",
    "ber.transferLiquid(dna_stock_2, sample, 30, v_immerse_dispense=1600, touch_wall=False)\n",
    "ber.move(z=50)\n",
    "ber.dumpTipToWaste()\n",
    "ber.pipetteHome()"
   ]
  },
  {
   "cell_type": "code",
   "execution_count": 8,
   "metadata": {},
   "outputs": [
    {
     "name": "stdout",
     "output_type": "stream",
     "text": [
      "Experiment started  14:20:41\n",
      "Beads added  14:22:45\n",
      "Waiting for DNA absorption\n",
      "DNA absorption finished  14:31:04\n",
      "Beads pulled to the side  14:32:06\n",
      "Supernatant removed  14:32:35\n",
      "Wash 1: ethanol added  14:33:08\n",
      "Wash 1: ethanol incubation finished  14:33:30\n",
      "Wash 1: ethanol removed  14:34:01\n",
      "Wash 2: ethanol added  14:34:34\n",
      "Wash 2: ethanol incubation finished  14:34:55\n",
      "Wash 2: ethanol removed  14:35:31\n",
      "Ethanol drying finished  14:40:31\n",
      "\n",
      "Eluent added  14:43:21\n",
      "Elution incubation finished  14:51:17\n",
      "Beads pulled to the side  14:52:19\n",
      "Eluate transferred to the new tube  14:52:47\n",
      "Experiment finished  14:52:47\n"
     ]
    }
   ],
   "source": [
    "oneStagePurification(ber, N_samples=1, initial_vol_list=[30], \n",
    "                     cutoff_list=[350],\n",
    "                     V_avail_beads=420, V_avail_water=30000, V_avail_ethanol=4500, \n",
    "                     beads_rack=ber.samples_rack, beads_col=0, beads_row=11, \n",
    "                     sample_mix_scenario=script, beads_mix_scenario=script, \n",
    "                     T_absorb=480, T_dry=300, T_elute=480)"
   ]
  },
  {
   "cell_type": "markdown",
   "metadata": {},
   "source": [
    "## Protocol with 550 bp cutoff"
   ]
  },
  {
   "cell_type": "code",
   "execution_count": 9,
   "metadata": {},
   "outputs": [],
   "source": [
    "ber.pickUpNextTip()\n",
    "sample = bl.createSamplesToPurifyList(ber, [0])[0]\n",
    "ber.transferLiquid(dna_stock_2, sample, 30, v_immerse_dispense=1600, touch_wall=False)\n",
    "ber.move(z=50)\n",
    "ber.dumpTipToWaste()\n",
    "ber.pipetteHome()"
   ]
  },
  {
   "cell_type": "code",
   "execution_count": 10,
   "metadata": {},
   "outputs": [
    {
     "name": "stdout",
     "output_type": "stream",
     "text": [
      "Experiment started  14:59:46\n",
      "Beads added  15:01:49\n",
      "Waiting for DNA absorption\n",
      "DNA absorption finished  15:09:57\n",
      "Beads pulled to the side  15:10:59\n",
      "Supernatant removed  15:11:28\n",
      "Wash 1: ethanol added  15:12:01\n",
      "Wash 1: ethanol incubation finished  15:12:22\n",
      "Wash 1: ethanol removed  15:12:54\n",
      "Wash 2: ethanol added  15:13:27\n",
      "Wash 2: ethanol incubation finished  15:13:49\n",
      "Wash 2: ethanol removed  15:14:24\n",
      "Ethanol drying finished  15:19:24\n",
      "\n",
      "Eluent added  15:22:15\n",
      "Elution incubation finished  15:30:08\n",
      "Beads pulled to the side  15:31:10\n",
      "Eluate transferred to the new tube  15:31:38\n",
      "Experiment finished  15:31:38\n"
     ]
    }
   ],
   "source": [
    "oneStagePurification(ber, N_samples=1, initial_vol_list=[30], \n",
    "                     cutoff_list=[550],\n",
    "                     V_avail_beads=400, V_avail_water=30000, V_avail_ethanol=4000, \n",
    "                     beads_rack=ber.samples_rack, beads_col=0, beads_row=11, \n",
    "                     sample_mix_scenario=script, beads_mix_scenario=script, \n",
    "                     T_absorb=480, T_dry=300, T_elute=480)"
   ]
  },
  {
   "cell_type": "markdown",
   "metadata": {},
   "source": [
    "## Protocol with 1000 bp cutoff"
   ]
  },
  {
   "cell_type": "code",
   "execution_count": 11,
   "metadata": {},
   "outputs": [],
   "source": [
    "ber.pickUpNextTip()\n",
    "sample = bl.createSamplesToPurifyList(ber, [0])[0]\n",
    "ber.transferLiquid(dna_stock_2, sample, 30, v_immerse_dispense=1600, touch_wall=False)\n",
    "ber.move(z=50)\n",
    "ber.dumpTipToWaste()\n",
    "ber.pipetteHome()"
   ]
  },
  {
   "cell_type": "code",
   "execution_count": 12,
   "metadata": {},
   "outputs": [
    {
     "name": "stdout",
     "output_type": "stream",
     "text": [
      "Experiment started  15:37:16\n",
      "Beads added  15:39:19\n",
      "Waiting for DNA absorption\n",
      "DNA absorption finished  15:47:26\n",
      "Beads pulled to the side  15:48:27\n",
      "Supernatant removed  15:48:56\n",
      "Wash 1: ethanol added  15:49:30\n",
      "Wash 1: ethanol incubation finished  15:49:52\n",
      "Wash 1: ethanol removed  15:50:23\n",
      "Wash 2: ethanol added  15:50:56\n",
      "Wash 2: ethanol incubation finished  15:51:18\n",
      "Wash 2: ethanol removed  15:51:53\n",
      "Ethanol drying finished  15:56:53\n",
      "\n",
      "Eluent added  15:59:45\n",
      "Elution incubation finished  16:07:41\n",
      "Beads pulled to the side  16:08:43\n",
      "Eluate transferred to the new tube  16:09:11\n",
      "Experiment finished  16:09:11\n"
     ]
    }
   ],
   "source": [
    "oneStagePurification(ber, N_samples=1, initial_vol_list=[30], \n",
    "                     cutoff_list=[1000],\n",
    "                     V_avail_beads=400, V_avail_water=30000, V_avail_ethanol=3500, \n",
    "                     beads_rack=ber.samples_rack, beads_col=0, beads_row=11, \n",
    "                     sample_mix_scenario=script, beads_mix_scenario=script, \n",
    "                     T_absorb=480, T_dry=300, T_elute=480)"
   ]
  },
  {
   "cell_type": "markdown",
   "metadata": {},
   "source": [
    "## Re-calibrating tips rack"
   ]
  },
  {
   "cell_type": "code",
   "execution_count": 14,
   "metadata": {},
   "outputs": [],
   "source": [
    "ber.tips_rack.refill()"
   ]
  },
  {
   "cell_type": "code",
   "execution_count": 15,
   "metadata": {},
   "outputs": [
    {
     "data": {
      "text/plain": [
       "(76.30000000000001, 149.965, 168.3)"
      ]
     },
     "execution_count": 15,
     "metadata": {},
     "output_type": "execute_result"
    }
   ],
   "source": [
    "ber.calibrateRack(rack='tips')"
   ]
  },
  {
   "cell_type": "markdown",
   "metadata": {},
   "source": [
    "# Protocols with Invitrogen 100bp ladder"
   ]
  },
  {
   "cell_type": "markdown",
   "metadata": {},
   "source": [
    "## Diluting ladder"
   ]
  },
  {
   "cell_type": "code",
   "execution_count": 18,
   "metadata": {},
   "outputs": [],
   "source": [
    "script = pd.read_csv('mixing_pattern_eppendorf.csv')"
   ]
  },
  {
   "cell_type": "code",
   "execution_count": 17,
   "metadata": {},
   "outputs": [],
   "source": [
    "dna_500 = bl.createSample('eppendorf', 'dna_500', ber.samples_rack, 0, 10, 50)\n",
    "dna_stock = bl.createSample('eppendorf', 'dna_stock', ber.samples_rack, 0, 9, 0)\n",
    "dna_stock_2 = bl.createSample('eppendorf', 'dna_stock_2', ber.samples_rack, 0, 8, 0)\n",
    "water = bl.createSample('50ml', 'water', ber.reagents_rack, 1, 1, 30000)"
   ]
  },
  {
   "cell_type": "code",
   "execution_count": 19,
   "metadata": {},
   "outputs": [],
   "source": [
    "ber.pickUpNextTip()\n",
    "ber.move(z=50)\n",
    "ber.transferLiquid(water, dna_stock, 90)\n",
    "ber.transferLiquid(water, dna_stock_2, 980)\n",
    "ber.transferLiquid(dna_500, dna_stock, 10, v_immerse_dispense=1600)\n",
    "ber.move(z=50)\n",
    "ber.mixByScript(dna_stock, script)\n",
    "ber.move(z=50)\n",
    "ber.transferLiquid(dna_stock, dna_stock_2, 20, v_immerse_dispense=1600)\n",
    "ber.move(z=50)\n",
    "ber.mixByScript(dna_stock_2, script)\n",
    "ber.move(z=50)\n",
    "ber.dumpTipToWaste()"
   ]
  },
  {
   "cell_type": "code",
   "execution_count": 20,
   "metadata": {},
   "outputs": [
    {
     "data": {
      "text/plain": [
       "1000"
      ]
     },
     "execution_count": 20,
     "metadata": {},
     "output_type": "execute_result"
    }
   ],
   "source": [
    "dna_stock_2.getVolume()"
   ]
  },
  {
   "cell_type": "markdown",
   "metadata": {},
   "source": [
    "## 150bp cutoff"
   ]
  },
  {
   "cell_type": "code",
   "execution_count": 21,
   "metadata": {},
   "outputs": [],
   "source": [
    "ber.pickUpNextTip()\n",
    "sample = bl.createSamplesToPurifyList(ber, [0])[0]\n",
    "ber.transferLiquid(dna_stock_2, sample, 30, v_immerse_dispense=1600, touch_wall=False)\n",
    "ber.move(z=50)\n",
    "ber.dumpTipToWaste()\n",
    "ber.pipetteHome()"
   ]
  },
  {
   "cell_type": "code",
   "execution_count": 22,
   "metadata": {},
   "outputs": [
    {
     "name": "stdout",
     "output_type": "stream",
     "text": [
      "Experiment started  16:50:48\n",
      "Beads added  16:52:55\n",
      "Waiting for DNA absorption\n",
      "DNA absorption finished  17:01:01\n",
      "Beads pulled to the side  17:02:03\n",
      "Supernatant removed  17:02:33\n",
      "Wash 1: ethanol added  17:03:06\n",
      "Wash 1: ethanol incubation finished  17:03:28\n",
      "Wash 1: ethanol removed  17:03:59\n",
      "Wash 2: ethanol added  17:04:33\n",
      "Wash 2: ethanol incubation finished  17:04:54\n",
      "Wash 2: ethanol removed  17:05:30\n",
      "Ethanol drying finished  17:10:30\n",
      "\n",
      "Eluent added  17:13:22\n",
      "Elution incubation finished  17:21:16\n",
      "Beads pulled to the side  17:22:18\n",
      "Eluate transferred to the new tube  17:22:47\n",
      "Experiment finished  17:22:47\n"
     ]
    }
   ],
   "source": [
    "oneStagePurification(ber, N_samples=1, initial_vol_list=[30], \n",
    "                     cutoff_list=[150],\n",
    "                     V_avail_beads=350, V_avail_water=30000, V_avail_ethanol=3000, \n",
    "                     beads_rack=ber.samples_rack, beads_col=0, beads_row=11, \n",
    "                     sample_mix_scenario=script, beads_mix_scenario=script, \n",
    "                     T_absorb=480, T_dry=300, T_elute=480)"
   ]
  },
  {
   "cell_type": "markdown",
   "metadata": {},
   "source": [
    "## 250bp cutoff"
   ]
  },
  {
   "cell_type": "code",
   "execution_count": 23,
   "metadata": {},
   "outputs": [],
   "source": [
    "ber.pickUpNextTip()\n",
    "sample = bl.createSamplesToPurifyList(ber, [0])[0]\n",
    "ber.transferLiquid(dna_stock_2, sample, 30, v_immerse_dispense=1600, touch_wall=False)\n",
    "ber.move(z=50)\n",
    "ber.dumpTipToWaste()\n",
    "ber.pipetteHome()"
   ]
  },
  {
   "cell_type": "code",
   "execution_count": 24,
   "metadata": {},
   "outputs": [
    {
     "name": "stdout",
     "output_type": "stream",
     "text": [
      "Experiment started  17:49:22\n",
      "Beads added  17:51:08\n",
      "Waiting for DNA absorption\n",
      "DNA absorption finished  17:59:26\n",
      "Beads pulled to the side  18:00:28\n",
      "Supernatant removed  18:00:58\n",
      "Wash 1: ethanol added  18:01:31\n",
      "Wash 1: ethanol incubation finished  18:01:53\n",
      "Wash 1: ethanol removed  18:02:24\n",
      "Wash 2: ethanol added  18:02:58\n",
      "Wash 2: ethanol incubation finished  18:03:19\n",
      "Wash 2: ethanol removed  18:03:55\n",
      "Ethanol drying finished  18:08:55\n",
      "\n",
      "Eluent added  18:11:47\n",
      "Elution incubation finished  18:19:44\n",
      "Beads pulled to the side  18:20:46\n",
      "Eluate transferred to the new tube  18:21:15\n",
      "Experiment finished  18:21:15\n"
     ]
    }
   ],
   "source": [
    "oneStagePurification(ber, N_samples=1, initial_vol_list=[30], \n",
    "                     cutoff_list=[250],\n",
    "                     V_avail_beads=300, V_avail_water=30000, V_avail_ethanol=3000, \n",
    "                     beads_rack=ber.samples_rack, beads_col=0, beads_row=11, \n",
    "                     sample_mix_scenario=script, beads_mix_scenario=script, \n",
    "                     T_absorb=480, T_dry=300, T_elute=480)"
   ]
  },
  {
   "cell_type": "markdown",
   "metadata": {},
   "source": [
    " ## 450bp cutoff"
   ]
  },
  {
   "cell_type": "code",
   "execution_count": 25,
   "metadata": {},
   "outputs": [],
   "source": [
    "ber.pickUpNextTip()\n",
    "sample = bl.createSamplesToPurifyList(ber, [0])[0]\n",
    "ber.transferLiquid(dna_stock_2, sample, 30, v_immerse_dispense=1600, touch_wall=False)\n",
    "ber.move(z=50)\n",
    "ber.dumpTipToWaste()\n",
    "ber.pipetteHome()"
   ]
  },
  {
   "cell_type": "code",
   "execution_count": 26,
   "metadata": {},
   "outputs": [
    {
     "name": "stdout",
     "output_type": "stream",
     "text": [
      "Experiment started  18:28:25\n",
      "Beads added  18:30:11\n",
      "Waiting for DNA absorption\n",
      "DNA absorption finished  18:38:23\n",
      "Beads pulled to the side  18:39:25\n",
      "Supernatant removed  18:39:55\n",
      "Wash 1: ethanol added  18:40:28\n",
      "Wash 1: ethanol incubation finished  18:40:50\n",
      "Wash 1: ethanol removed  18:41:21\n",
      "Wash 2: ethanol added  18:41:55\n",
      "Wash 2: ethanol incubation finished  18:42:16\n",
      "Wash 2: ethanol removed  18:42:51\n",
      "Ethanol drying finished  18:47:52\n",
      "\n",
      "Eluent added  18:50:43\n",
      "Elution incubation finished  18:58:38\n",
      "Beads pulled to the side  18:59:40\n",
      "Eluate transferred to the new tube  19:00:09\n",
      "Experiment finished  19:00:09\n"
     ]
    }
   ],
   "source": [
    "oneStagePurification(ber, N_samples=1, initial_vol_list=[30], \n",
    "                     cutoff_list=[450],\n",
    "                     V_avail_beads=250, V_avail_water=30000, V_avail_ethanol=2500, \n",
    "                     beads_rack=ber.samples_rack, beads_col=0, beads_row=11, \n",
    "                     sample_mix_scenario=script, beads_mix_scenario=script, \n",
    "                     T_absorb=480, T_dry=300, T_elute=480)"
   ]
  },
  {
   "cell_type": "markdown",
   "metadata": {},
   "source": [
    "## 1000bp cutoff"
   ]
  },
  {
   "cell_type": "code",
   "execution_count": 27,
   "metadata": {},
   "outputs": [],
   "source": [
    "ber.pickUpNextTip()\n",
    "sample = bl.createSamplesToPurifyList(ber, [0])[0]\n",
    "ber.transferLiquid(dna_stock_2, sample, 30, v_immerse_dispense=1600, touch_wall=False)\n",
    "ber.move(z=50)\n",
    "ber.dumpTipToWaste()\n",
    "ber.pipetteHome()"
   ]
  },
  {
   "cell_type": "code",
   "execution_count": 28,
   "metadata": {},
   "outputs": [
    {
     "name": "stdout",
     "output_type": "stream",
     "text": [
      "Experiment started  19:03:48\n",
      "Beads added  19:05:47\n",
      "Waiting for DNA absorption\n",
      "DNA absorption finished  19:13:55\n",
      "Beads pulled to the side  19:14:57\n",
      "Supernatant removed  19:15:27\n",
      "Wash 1: ethanol added  19:16:00\n",
      "Wash 1: ethanol incubation finished  19:16:21\n",
      "Wash 1: ethanol removed  19:16:53\n",
      "Wash 2: ethanol added  19:17:27\n",
      "Wash 2: ethanol incubation finished  19:17:48\n",
      "Wash 2: ethanol removed  19:18:24\n",
      "Ethanol drying finished  19:23:24\n",
      "\n",
      "Eluent added  19:26:15\n",
      "Elution incubation finished  19:34:09\n",
      "Beads pulled to the side  19:35:11\n",
      "Eluate transferred to the new tube  19:35:40\n",
      "Experiment finished  19:35:40\n"
     ]
    }
   ],
   "source": [
    "oneStagePurification(ber, N_samples=1, initial_vol_list=[30], \n",
    "                     cutoff_list=[1000],\n",
    "                     V_avail_beads=200, V_avail_water=30000, V_avail_ethanol=2000, \n",
    "                     beads_rack=ber.samples_rack, beads_col=0, beads_row=11, \n",
    "                     sample_mix_scenario=script, beads_mix_scenario=script, \n",
    "                     T_absorb=480, T_dry=300, T_elute=480)"
   ]
  },
  {
   "cell_type": "markdown",
   "metadata": {},
   "source": [
    "## Beads volume added calculations"
   ]
  },
  {
   "cell_type": "code",
   "execution_count": 5,
   "metadata": {},
   "outputs": [],
   "source": [
    "sample = bl.createSamplesToPurifyList(ber, [30])[0]"
   ]
  },
  {
   "cell_type": "code",
   "execution_count": 6,
   "metadata": {},
   "outputs": [
    {
     "data": {
      "text/plain": [
       "47.34245107533334"
      ]
     },
     "execution_count": 6,
     "metadata": {},
     "output_type": "execute_result"
    }
   ],
   "source": [
    "ber.calcBeadsVol(sample, 150)"
   ]
  },
  {
   "cell_type": "code",
   "execution_count": 10,
   "metadata": {},
   "outputs": [
    {
     "data": {
      "text/plain": [
       "0.51517349496"
      ]
     },
     "execution_count": 10,
     "metadata": {},
     "output_type": "execute_result"
    }
   ],
   "source": [
    "ber.calcBeadsVol(sample, 1000) / 30"
   ]
  },
  {
   "cell_type": "code",
   "execution_count": null,
   "metadata": {},
   "outputs": [],
   "source": []
  }
 ],
 "metadata": {
  "kernelspec": {
   "display_name": "Python 3",
   "language": "python",
   "name": "python3"
  },
  "language_info": {
   "codemirror_mode": {
    "name": "ipython",
    "version": 3
   },
   "file_extension": ".py",
   "mimetype": "text/x-python",
   "name": "python",
   "nbconvert_exporter": "python",
   "pygments_lexer": "ipython3",
   "version": "3.7.4"
  }
 },
 "nbformat": 4,
 "nbformat_minor": 2
}
