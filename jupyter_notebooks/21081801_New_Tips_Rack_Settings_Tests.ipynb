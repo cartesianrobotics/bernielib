{
 "cells": [
  {
   "cell_type": "code",
   "execution_count": 1,
   "metadata": {},
   "outputs": [],
   "source": [
    "import time\n",
    "import pandas as pd\n",
    "from datetime import datetime\n",
    "\n",
    "import bernielib as bl"
   ]
  },
  {
   "cell_type": "code",
   "execution_count": 2,
   "metadata": {},
   "outputs": [],
   "source": [
    "ber = bl.robot(tips_type='old')"
   ]
  },
  {
   "cell_type": "code",
   "execution_count": 6,
   "metadata": {},
   "outputs": [],
   "source": [
    "ber.home()"
   ]
  },
  {
   "cell_type": "code",
   "execution_count": 4,
   "metadata": {},
   "outputs": [],
   "source": [
    "ber.tips_rack.refill()"
   ]
  },
  {
   "cell_type": "code",
   "execution_count": 4,
   "metadata": {},
   "outputs": [],
   "source": [
    "#Calculating approximate centers using samples rack as a starter\n",
    "x_samples = 85.2\n",
    "y_samples = 104.8\n",
    "\n",
    "x_tips = x_samples - 18.48 + 0.5\n",
    "y_tips = y_samples - 27.0 - 1.5"
   ]
  },
  {
   "cell_type": "code",
   "execution_count": 5,
   "metadata": {},
   "outputs": [],
   "source": [
    "ber.tips_rack.setCenterXY(x=x_tips, y=y_tips)"
   ]
  },
  {
   "cell_type": "code",
   "execution_count": 7,
   "metadata": {},
   "outputs": [],
   "source": [
    "ber.tips_rack.setCalibrationStyle(style='outer')"
   ]
  },
  {
   "cell_type": "code",
   "execution_count": 10,
   "metadata": {},
   "outputs": [],
   "source": [
    "# x and y are the width and length of the rack at the place where the calibration will happen\n",
    "# z is the height measured between the calibration point and the bottom of the monolyth (when waste or tips are removed)\n",
    "ber.tips_rack.setRackSize(x=86.0, y=122.0, z=58.7+11.6)"
   ]
  },
  {
   "cell_type": "code",
   "execution_count": 25,
   "metadata": {},
   "outputs": [],
   "source": [
    "ber.move(x=x_tips-40, y=y_tips+20, z=114)"
   ]
  },
  {
   "cell_type": "code",
   "execution_count": 20,
   "metadata": {},
   "outputs": [],
   "source": [
    "ber.tips_rack.setCalibrationZ(134)"
   ]
  },
  {
   "cell_type": "code",
   "execution_count": 21,
   "metadata": {},
   "outputs": [],
   "source": [
    "ber.tips_rack.setWells(wells_x=8, wells_y=12,\n",
    "                       x_dist_center_to_well_00=31.115, y_dist_center_to_well_00=48.895,\n",
    "                       well_diam=6.2, dist_between_cols=8.89, dist_between_rows=8.89)"
   ]
  },
  {
   "cell_type": "code",
   "execution_count": 23,
   "metadata": {},
   "outputs": [],
   "source": [
    "ber.tips_rack.setCalibrationLiftZ(-20)"
   ]
  },
  {
   "cell_type": "code",
   "execution_count": 26,
   "metadata": {},
   "outputs": [],
   "source": [
    "ber.tips_rack.setXYCalibrationShift(20, 20)"
   ]
  },
  {
   "cell_type": "code",
   "execution_count": 27,
   "metadata": {},
   "outputs": [
    {
     "data": {
      "text/plain": [
       "(67.22, 76.3)"
      ]
     },
     "execution_count": 27,
     "metadata": {},
     "output_type": "execute_result"
    }
   ],
   "source": [
    "ber.tips_rack.getCenterXY()"
   ]
  },
  {
   "cell_type": "code",
   "execution_count": 28,
   "metadata": {},
   "outputs": [],
   "source": [
    "ber.move(x=67.22, y=76.3, z=114)"
   ]
  },
  {
   "cell_type": "code",
   "execution_count": 33,
   "metadata": {},
   "outputs": [],
   "source": [
    "ber.tips_rack.setZCalibrationXY(x=43, y=20)"
   ]
  },
  {
   "cell_type": "code",
   "execution_count": 4,
   "metadata": {},
   "outputs": [
    {
     "data": {
      "text/plain": [
       "(38.505, 27.505, 121.6, 0.0)"
      ]
     },
     "execution_count": 4,
     "metadata": {},
     "output_type": "execute_result"
    }
   ],
   "source": [
    "ber.moveToWell(rack_name='tips', column=0, row=0, save_height=15)"
   ]
  },
  {
   "cell_type": "code",
   "execution_count": null,
   "metadata": {},
   "outputs": [],
   "source": []
  },
  {
   "cell_type": "code",
   "execution_count": 19,
   "metadata": {},
   "outputs": [],
   "source": [
    "ber.tips_rack.setFineApproachdZ(15)"
   ]
  },
  {
   "cell_type": "code",
   "execution_count": 22,
   "metadata": {},
   "outputs": [],
   "source": [
    "ber.tips_rack.setProperPickupdZ(13)"
   ]
  },
  {
   "cell_type": "code",
   "execution_count": 34,
   "metadata": {},
   "outputs": [],
   "source": [
    "ber.tips_rack.setTipPickupdZ(9.5)"
   ]
  },
  {
   "cell_type": "code",
   "execution_count": 35,
   "metadata": {},
   "outputs": [],
   "source": [
    "ber.tips_rack.setRaiseWithTipdZ(60)"
   ]
  },
  {
   "cell_type": "code",
   "execution_count": 5,
   "metadata": {},
   "outputs": [
    {
     "data": {
      "text/plain": [
       "(67.22, 78.0, 146.6)"
      ]
     },
     "execution_count": 5,
     "metadata": {},
     "output_type": "execute_result"
    }
   ],
   "source": [
    "ber.calibrateRack(rack='tips')"
   ]
  },
  {
   "cell_type": "code",
   "execution_count": 4,
   "metadata": {},
   "outputs": [],
   "source": [
    "ber.tips_rack.refill()"
   ]
  },
  {
   "cell_type": "code",
   "execution_count": 6,
   "metadata": {},
   "outputs": [],
   "source": [
    "ber.move(z=50)"
   ]
  },
  {
   "cell_type": "code",
   "execution_count": 5,
   "metadata": {},
   "outputs": [
    {
     "data": {
      "text/plain": [
       "(0, 0)"
      ]
     },
     "execution_count": 5,
     "metadata": {},
     "output_type": "execute_result"
    }
   ],
   "source": [
    "ber.pickUpNextTip()"
   ]
  },
  {
   "cell_type": "code",
   "execution_count": 6,
   "metadata": {},
   "outputs": [],
   "source": [
    "ber.dumpTipToWaste()"
   ]
  },
  {
   "cell_type": "code",
   "execution_count": 14,
   "metadata": {},
   "outputs": [
    {
     "data": {
      "text/plain": [
       "{'center_x': 69.62,\n",
       " 'center_y': 76.4,\n",
       " 'calibration_style': 'outer',\n",
       " 'x_well_to_calibrate': 0,\n",
       " 'y_well_to_calibrate': 0,\n",
       " 'max_x': 86.0,\n",
       " 'max_y': 122.0,\n",
       " 'max_z': 70.3,\n",
       " 'calibration_Z': 134,\n",
       " 'wells_x': 8,\n",
       " 'wells_y': 12,\n",
       " 'x_dist_center_to_well_00': 31.115,\n",
       " 'y_dist_center_to_well_00': 48.895,\n",
       " 'well_diam': 6.2,\n",
       " 'dist_between_cols': 8.89,\n",
       " 'dist_between_rows': 8.89,\n",
       " 'wells_alignment': 'rectangular_grid',\n",
       " 'calibration_lift_z': -20,\n",
       " 'y_shift_for_x': 20,\n",
       " 'x_shift_for_y': 20,\n",
       " 'x_coord_for_z_calibration': 43,\n",
       " 'y_coord_for_z_calibration': 20,\n",
       " 'detected_z': 136.6,\n",
       " 'unused_consumable_list': [[0, 1],\n",
       "  [0, 2],\n",
       "  [0, 3],\n",
       "  [0, 4],\n",
       "  [0, 5],\n",
       "  [0, 6],\n",
       "  [0, 7],\n",
       "  [0, 8],\n",
       "  [0, 9],\n",
       "  [0, 10],\n",
       "  [0, 11],\n",
       "  [1, 0],\n",
       "  [1, 1],\n",
       "  [1, 2],\n",
       "  [1, 3],\n",
       "  [1, 4],\n",
       "  [1, 5],\n",
       "  [1, 6],\n",
       "  [1, 7],\n",
       "  [1, 8],\n",
       "  [1, 9],\n",
       "  [1, 10],\n",
       "  [1, 11],\n",
       "  [2, 0],\n",
       "  [2, 1],\n",
       "  [2, 2],\n",
       "  [2, 3],\n",
       "  [2, 4],\n",
       "  [2, 5],\n",
       "  [2, 6],\n",
       "  [2, 7],\n",
       "  [2, 8],\n",
       "  [2, 9],\n",
       "  [2, 10],\n",
       "  [2, 11],\n",
       "  [3, 0],\n",
       "  [3, 1],\n",
       "  [3, 2],\n",
       "  [3, 3],\n",
       "  [3, 4],\n",
       "  [3, 5],\n",
       "  [3, 6],\n",
       "  [3, 7],\n",
       "  [3, 8],\n",
       "  [3, 9],\n",
       "  [3, 10],\n",
       "  [3, 11],\n",
       "  [4, 0],\n",
       "  [4, 1],\n",
       "  [4, 2],\n",
       "  [4, 3],\n",
       "  [4, 4],\n",
       "  [4, 5],\n",
       "  [4, 6],\n",
       "  [4, 7],\n",
       "  [4, 8],\n",
       "  [4, 9],\n",
       "  [4, 10],\n",
       "  [4, 11],\n",
       "  [5, 0],\n",
       "  [5, 1],\n",
       "  [5, 2],\n",
       "  [5, 3],\n",
       "  [5, 4],\n",
       "  [5, 5],\n",
       "  [5, 6],\n",
       "  [5, 7],\n",
       "  [5, 8],\n",
       "  [5, 9],\n",
       "  [5, 10],\n",
       "  [5, 11],\n",
       "  [6, 0],\n",
       "  [6, 1],\n",
       "  [6, 2],\n",
       "  [6, 3],\n",
       "  [6, 4],\n",
       "  [6, 5],\n",
       "  [6, 6],\n",
       "  [6, 7],\n",
       "  [6, 8],\n",
       "  [6, 9],\n",
       "  [6, 10],\n",
       "  [6, 11],\n",
       "  [7, 0],\n",
       "  [7, 1],\n",
       "  [7, 2],\n",
       "  [7, 3],\n",
       "  [7, 4],\n",
       "  [7, 5],\n",
       "  [7, 6],\n",
       "  [7, 7],\n",
       "  [7, 8],\n",
       "  [7, 9],\n",
       "  [7, 10],\n",
       "  [7, 11]]}"
      ]
     },
     "execution_count": 14,
     "metadata": {},
     "output_type": "execute_result"
    }
   ],
   "source": [
    "ber.tips_rack.data"
   ]
  },
  {
   "cell_type": "code",
   "execution_count": null,
   "metadata": {},
   "outputs": [],
   "source": []
  },
  {
   "cell_type": "markdown",
   "metadata": {},
   "source": [
    "# Updating old tip rack properties"
   ]
  },
  {
   "cell_type": "code",
   "execution_count": 1,
   "metadata": {},
   "outputs": [],
   "source": [
    "import time\n",
    "import pandas as pd\n",
    "from datetime import datetime\n",
    "\n",
    "import bernielib as bl"
   ]
  },
  {
   "cell_type": "code",
   "execution_count": 2,
   "metadata": {},
   "outputs": [],
   "source": [
    "ber = bl.robot()"
   ]
  },
  {
   "cell_type": "code",
   "execution_count": 11,
   "metadata": {},
   "outputs": [],
   "source": [
    "ber.home()"
   ]
  },
  {
   "cell_type": "code",
   "execution_count": 4,
   "metadata": {},
   "outputs": [],
   "source": [
    "ber.tips_rack.setFineApproachdZ(12.5)"
   ]
  },
  {
   "cell_type": "code",
   "execution_count": 5,
   "metadata": {},
   "outputs": [],
   "source": [
    "ber.tips_rack.setProperPickupdZ(9.5)"
   ]
  },
  {
   "cell_type": "code",
   "execution_count": 6,
   "metadata": {},
   "outputs": [],
   "source": [
    "ber.tips_rack.setTipPickupdZ(7.5)"
   ]
  },
  {
   "cell_type": "code",
   "execution_count": 7,
   "metadata": {},
   "outputs": [],
   "source": [
    "ber.tips_rack.setRaiseWithTipdZ(60)"
   ]
  },
  {
   "cell_type": "code",
   "execution_count": 8,
   "metadata": {},
   "outputs": [
    {
     "data": {
      "text/plain": [
       "{'center_x': 67.12,\n",
       " 'center_y': 78.1,\n",
       " 'calibration_style': 'outer',\n",
       " 'x_well_to_calibrate': 0,\n",
       " 'y_well_to_calibrate': 0,\n",
       " 'max_x': 87.25,\n",
       " 'max_y': 124.5,\n",
       " 'max_z': 58.7,\n",
       " 'calibration_Z': 145,\n",
       " 'wells_x': 8,\n",
       " 'wells_y': 12,\n",
       " 'x_dist_center_to_well_00': 31.115,\n",
       " 'y_dist_center_to_well_00': 48.895,\n",
       " 'well_diam': 6.2,\n",
       " 'dist_between_cols': 8.89,\n",
       " 'dist_between_rows': 8.89,\n",
       " 'calibration_lift_z': -20,\n",
       " 'x_coord_for_z_calibration': 40,\n",
       " 'y_coord_for_z_calibration': 10,\n",
       " 'detected_z': 146.2,\n",
       " 'unused_consumable_list': [[3, 8],\n",
       "  [3, 9],\n",
       "  [3, 10],\n",
       "  [3, 11],\n",
       "  [4, 0],\n",
       "  [4, 1],\n",
       "  [4, 2],\n",
       "  [4, 3],\n",
       "  [4, 4],\n",
       "  [4, 5],\n",
       "  [4, 6],\n",
       "  [4, 7],\n",
       "  [4, 8],\n",
       "  [4, 9],\n",
       "  [4, 10],\n",
       "  [4, 11],\n",
       "  [5, 0],\n",
       "  [5, 1],\n",
       "  [5, 2],\n",
       "  [5, 3],\n",
       "  [5, 4],\n",
       "  [5, 5],\n",
       "  [5, 6],\n",
       "  [5, 7],\n",
       "  [5, 8],\n",
       "  [5, 9],\n",
       "  [5, 10],\n",
       "  [5, 11],\n",
       "  [6, 0],\n",
       "  [6, 1],\n",
       "  [6, 2],\n",
       "  [6, 3],\n",
       "  [6, 4],\n",
       "  [6, 5],\n",
       "  [6, 6],\n",
       "  [6, 7],\n",
       "  [6, 8],\n",
       "  [6, 9],\n",
       "  [6, 10],\n",
       "  [6, 11],\n",
       "  [7, 0],\n",
       "  [7, 1],\n",
       "  [7, 2],\n",
       "  [7, 3],\n",
       "  [7, 4],\n",
       "  [7, 5],\n",
       "  [7, 6],\n",
       "  [7, 7],\n",
       "  [7, 8],\n",
       "  [7, 9],\n",
       "  [7, 10],\n",
       "  [7, 11]],\n",
       " 'wells_alignment': 'rectangular_grid',\n",
       " 'y_shift_for_x': 0,\n",
       " 'x_shift_for_y': 0,\n",
       " 'fine_approach_dz': 12.5,\n",
       " 'proper_pickup_dz': 9.5,\n",
       " 'tip_pickup_dz': 7.5,\n",
       " 'raise_with_tip_dz': 60}"
      ]
     },
     "execution_count": 8,
     "metadata": {},
     "output_type": "execute_result"
    }
   ],
   "source": [
    "ber.tips_rack.data"
   ]
  },
  {
   "cell_type": "code",
   "execution_count": 12,
   "metadata": {},
   "outputs": [
    {
     "data": {
      "text/plain": [
       "(3, 9)"
      ]
     },
     "execution_count": 12,
     "metadata": {},
     "output_type": "execute_result"
    }
   ],
   "source": [
    "ber.pickUpNextTip()"
   ]
  },
  {
   "cell_type": "code",
   "execution_count": 13,
   "metadata": {},
   "outputs": [],
   "source": [
    "ber.dumpTipToPosition(3, 9)"
   ]
  },
  {
   "cell_type": "code",
   "execution_count": 14,
   "metadata": {},
   "outputs": [],
   "source": [
    "ber.move(z=10)"
   ]
  },
  {
   "cell_type": "code",
   "execution_count": null,
   "metadata": {},
   "outputs": [],
   "source": []
  }
 ],
 "metadata": {
  "kernelspec": {
   "display_name": "Python 3",
   "language": "python",
   "name": "python3"
  },
  "language_info": {
   "codemirror_mode": {
    "name": "ipython",
    "version": 3
   },
   "file_extension": ".py",
   "mimetype": "text/x-python",
   "name": "python",
   "nbconvert_exporter": "python",
   "pygments_lexer": "ipython3",
   "version": "3.7.4"
  },
  "toc": {
   "base_numbering": 1,
   "nav_menu": {},
   "number_sections": true,
   "sideBar": true,
   "skip_h1_title": false,
   "title_cell": "Table of Contents",
   "title_sidebar": "Contents",
   "toc_cell": false,
   "toc_position": {},
   "toc_section_display": true,
   "toc_window_display": true
  }
 },
 "nbformat": 4,
 "nbformat_minor": 2
}
