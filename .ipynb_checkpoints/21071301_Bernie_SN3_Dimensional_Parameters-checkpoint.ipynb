{
 "cells": [
  {
   "cell_type": "markdown",
   "metadata": {},
   "source": [
    "# Setting up dimensions for Bernie SN3"
   ]
  },
  {
   "cell_type": "code",
   "execution_count": 1,
   "metadata": {},
   "outputs": [],
   "source": [
    "import bernielib as bl"
   ]
  },
  {
   "cell_type": "code",
   "execution_count": 2,
   "metadata": {},
   "outputs": [],
   "source": [
    "ber = bl.robot(cartesian_port_name='COM3', loadcell_port_name='COM4')"
   ]
  },
  {
   "cell_type": "code",
   "execution_count": 3,
   "metadata": {},
   "outputs": [],
   "source": [
    "ber.home()"
   ]
  },
  {
   "cell_type": "code",
   "execution_count": 4,
   "metadata": {},
   "outputs": [],
   "source": [
    "ber.powerStepperOff('A') # to prevent unnecessary heating"
   ]
  },
  {
   "cell_type": "markdown",
   "metadata": {},
   "source": [
    "# Manually searching the initial rack dimensions"
   ]
  },
  {
   "cell_type": "code",
   "execution_count": 11,
   "metadata": {},
   "outputs": [],
   "source": [
    "ber.move(x=165, y=90, z=150, z_first=False)"
   ]
  },
  {
   "cell_type": "code",
   "execution_count": 12,
   "metadata": {},
   "outputs": [
    {
     "data": {
      "text/plain": [
       "167.0"
      ]
     },
     "execution_count": 12,
     "metadata": {},
     "output_type": "execute_result"
    }
   ],
   "source": [
    "ber.scanForStair(axis='X', step=1, direction=1)"
   ]
  },
  {
   "cell_type": "code",
   "execution_count": 18,
   "metadata": {},
   "outputs": [],
   "source": [
    "ber.move(z=150, z_first=False)"
   ]
  },
  {
   "cell_type": "code",
   "execution_count": 16,
   "metadata": {},
   "outputs": [],
   "source": [
    "ber.move(x=166, y=90, z=151, z_first=False)"
   ]
  },
  {
   "cell_type": "code",
   "execution_count": 17,
   "metadata": {},
   "outputs": [
    {
     "data": {
      "text/plain": [
       "167.0"
      ]
     },
     "execution_count": 17,
     "metadata": {},
     "output_type": "execute_result"
    }
   ],
   "source": [
    "ber.scanForStair(axis='X', step=0.2, direction=1)"
   ]
  },
  {
   "cell_type": "code",
   "execution_count": 20,
   "metadata": {},
   "outputs": [],
   "source": [
    "ber.move(x=5, y=90, z=151, z_first=False)"
   ]
  },
  {
   "cell_type": "code",
   "execution_count": 21,
   "metadata": {},
   "outputs": [
    {
     "data": {
      "text/plain": [
       "3.0"
      ]
     },
     "execution_count": 21,
     "metadata": {},
     "output_type": "execute_result"
    }
   ],
   "source": [
    "ber.scanForStair(axis='X', step=1, direction=-1)"
   ]
  },
  {
   "cell_type": "code",
   "execution_count": 22,
   "metadata": {},
   "outputs": [],
   "source": [
    "ber.move(z=150, z_first=False)"
   ]
  },
  {
   "cell_type": "code",
   "execution_count": 23,
   "metadata": {},
   "outputs": [],
   "source": [
    "ber.move(x=4, y=90, z=151, z_first=False)"
   ]
  },
  {
   "cell_type": "code",
   "execution_count": 24,
   "metadata": {},
   "outputs": [
    {
     "data": {
      "text/plain": [
       "3.4"
      ]
     },
     "execution_count": 24,
     "metadata": {},
     "output_type": "execute_result"
    }
   ],
   "source": [
    "ber.scanForStair(axis='X', step=0.2, direction=-1)"
   ]
  },
  {
   "cell_type": "code",
   "execution_count": 25,
   "metadata": {},
   "outputs": [],
   "source": [
    "ber.move(z=150, z_first=False)"
   ]
  },
  {
   "cell_type": "code",
   "execution_count": 27,
   "metadata": {},
   "outputs": [
    {
     "data": {
      "text/plain": [
       "85.2"
      ]
     },
     "execution_count": 27,
     "metadata": {},
     "output_type": "execute_result"
    }
   ],
   "source": [
    "x_center = (3.4 + 167.0) / 2\n",
    "x_center"
   ]
  },
  {
   "cell_type": "code",
   "execution_count": 32,
   "metadata": {},
   "outputs": [],
   "source": [
    "ber.move(x=140, y=15, z=151, z_first=False)"
   ]
  },
  {
   "cell_type": "code",
   "execution_count": 33,
   "metadata": {},
   "outputs": [
    {
     "data": {
      "text/plain": [
       "12.2"
      ]
     },
     "execution_count": 33,
     "metadata": {},
     "output_type": "execute_result"
    }
   ],
   "source": [
    "ber.scanForStair(axis='Y', step=0.2, direction=-1)"
   ]
  },
  {
   "cell_type": "code",
   "execution_count": 34,
   "metadata": {},
   "outputs": [],
   "source": [
    "ber.move(z=150, z_first=False)"
   ]
  },
  {
   "cell_type": "code",
   "execution_count": 38,
   "metadata": {},
   "outputs": [],
   "source": [
    "ber.move(x=140, y=195, z=151, z_first=False)"
   ]
  },
  {
   "cell_type": "code",
   "execution_count": 39,
   "metadata": {},
   "outputs": [
    {
     "data": {
      "text/plain": [
       "197.4"
      ]
     },
     "execution_count": 39,
     "metadata": {},
     "output_type": "execute_result"
    }
   ],
   "source": [
    "ber.scanForStair(axis='Y', step=0.2, direction=1)"
   ]
  },
  {
   "cell_type": "code",
   "execution_count": 40,
   "metadata": {},
   "outputs": [],
   "source": [
    "ber.move(z=150, z_first=False)"
   ]
  },
  {
   "cell_type": "code",
   "execution_count": 41,
   "metadata": {},
   "outputs": [
    {
     "data": {
      "text/plain": [
       "104.8"
      ]
     },
     "execution_count": 41,
     "metadata": {},
     "output_type": "execute_result"
    }
   ],
   "source": [
    "y_center = (12.2 + 197.4) / 2\n",
    "y_center"
   ]
  },
  {
   "cell_type": "markdown",
   "metadata": {},
   "source": [
    "# Racks settings"
   ]
  },
  {
   "cell_type": "code",
   "execution_count": 43,
   "metadata": {},
   "outputs": [],
   "source": [
    "ber.samples_rack.setCenterXY(x=85.2, y=104.8)"
   ]
  },
  {
   "cell_type": "code",
   "execution_count": 44,
   "metadata": {},
   "outputs": [
    {
     "data": {
      "text/plain": [
       "(85.2, 104.8)"
      ]
     },
     "execution_count": 44,
     "metadata": {},
     "output_type": "execute_result"
    }
   ],
   "source": [
    "ber.samples_rack.getCenterXY()"
   ]
  },
  {
   "cell_type": "code",
   "execution_count": 56,
   "metadata": {},
   "outputs": [],
   "source": [
    "#Calculating approximate centers using samples rack as a starter\n",
    "x_samples = 85.2\n",
    "y_samples = 104.8\n",
    "\n",
    "x_waste = x_samples - 18.0\n",
    "y_waste = y_samples + 62.16\n",
    "\n",
    "x_tips = x_samples - 18.48\n",
    "y_tips = y_samples - 27.0\n",
    "\n",
    "x_reagents = x_samples - 0.0\n",
    "y_reagents = y_samples - 0.0"
   ]
  },
  {
   "cell_type": "code",
   "execution_count": 49,
   "metadata": {},
   "outputs": [],
   "source": [
    "ber.move(x=x_samples, y=y_samples, z=150, z_first=False)"
   ]
  },
  {
   "cell_type": "code",
   "execution_count": 54,
   "metadata": {},
   "outputs": [],
   "source": [
    "ber.move(x=x_waste, y=y_waste, z=150, z_first=False)"
   ]
  },
  {
   "cell_type": "code",
   "execution_count": 57,
   "metadata": {},
   "outputs": [],
   "source": [
    "ber.move(x=x_tips, y=y_tips, z=150, z_first=False)"
   ]
  },
  {
   "cell_type": "code",
   "execution_count": 58,
   "metadata": {},
   "outputs": [],
   "source": [
    "ber.move(x=x_reagents, y=y_reagents, z=150, z_first=False)"
   ]
  },
  {
   "cell_type": "code",
   "execution_count": 60,
   "metadata": {},
   "outputs": [],
   "source": [
    "ber.waste_rack.setCenterXY(x=x_waste, y=y_waste)\n",
    "ber.tips_rack.setCenterXY(x=x_tips, y=y_tips)\n",
    "ber.reagents_rack.setCenterXY(x=x_reagents, y=y_reagents)"
   ]
  },
  {
   "cell_type": "code",
   "execution_count": 61,
   "metadata": {},
   "outputs": [],
   "source": [
    "ber.waste_rack.setCalibrationStyle(style='inner')\n",
    "ber.samples_rack.setCalibrationStyle(style='outer')\n",
    "ber.tips_rack.setCalibrationStyle(style='outer')\n",
    "ber.reagents_rack.setCalibrationStyle(style='outer')"
   ]
  },
  {
   "cell_type": "code",
   "execution_count": 62,
   "metadata": {},
   "outputs": [],
   "source": [
    "ber.waste_rack.setRackSize(x=84.5, y=52.0, z=49.1)\n",
    "ber.samples_rack.setRackSize(x=158.0, y=180.0, z=43.2)\n",
    "ber.tips_rack.setRackSize(x=87.25, y=124.5, z=58.7)\n",
    "ber.reagents_rack.setRackSize(x=158.0, y=180.0, z=43.2)"
   ]
  },
  {
   "cell_type": "code",
   "execution_count": 68,
   "metadata": {},
   "outputs": [],
   "source": [
    "ber.move(x=x_waste+20, y=y_waste+25, z=145, z_first=False)"
   ]
  },
  {
   "cell_type": "code",
   "execution_count": 77,
   "metadata": {},
   "outputs": [],
   "source": [
    "ber.move(x=x_tips-40, y=y_tips, z=146)"
   ]
  },
  {
   "cell_type": "code",
   "execution_count": 77,
   "metadata": {},
   "outputs": [],
   "source": [
    "ber.waste_rack.setCalibrationZ(145)\n",
    "ber.tips_rack.setCalibrationZ(145)\n",
    "ber.samples_rack.setCalibrationZ(150)\n",
    "ber.reagents_rack.setCalibrationZ(150)"
   ]
  },
  {
   "cell_type": "code",
   "execution_count": 10,
   "metadata": {},
   "outputs": [],
   "source": [
    "ber.waste_rack.setWells(wells_x=1, wells_y=1,\n",
    "                        x_dist_center_to_well_00=0, y_dist_center_to_well_00=0,\n",
    "                        well_diam=40, dist_between_cols=0, dist_between_rows=0)"
   ]
  },
  {
   "cell_type": "code",
   "execution_count": 11,
   "metadata": {},
   "outputs": [],
   "source": [
    "ber.samples_rack.setWells(wells_x=2, wells_y=12, \n",
    "                          x_dist_center_to_well_00=71.03, y_dist_center_to_well_00=82.0,\n",
    "                          well_diam=10.9, dist_between_cols=142.0, dist_between_rows=15.0)"
   ]
  },
  {
   "cell_type": "code",
   "execution_count": 12,
   "metadata": {},
   "outputs": [],
   "source": [
    "ber.tips_rack.setWells(wells_x=8, wells_y=12,\n",
    "                       x_dist_center_to_well_00=31.115, y_dist_center_to_well_00=48.895,\n",
    "                       well_diam=6.2, dist_between_cols=8.89, dist_between_rows=8.89)"
   ]
  },
  {
   "cell_type": "code",
   "execution_count": 5,
   "metadata": {},
   "outputs": [],
   "source": [
    "reagents_wells_coord_dict = {\n",
    "    0: (45.0, 69.5, 30.0),\n",
    "    1: (45.0, 31.5, 30.0),\n",
    "    2: (45.0, -6.5, 30.0),\n",
    "    3: (45.0, -44.5, 30.0),\n",
    "    4: (45.0, -77.0, 18.0),\n",
    "}"
   ]
  },
  {
   "cell_type": "code",
   "execution_count": 6,
   "metadata": {},
   "outputs": [],
   "source": [
    "ber.reagents_rack.setWellsCoordsCustom(reagents_wells_coord_dict)"
   ]
  },
  {
   "cell_type": "code",
   "execution_count": 8,
   "metadata": {},
   "outputs": [
    {
     "data": {
      "text/plain": [
       "{0: (45.0, 69.5, 30.0),\n",
       " 1: (45.0, 31.5, 30.0),\n",
       " 2: (45.0, -6.5, 30.0),\n",
       " 3: (45.0, -44.5, 30.0),\n",
       " 4: (45.0, -77.0, 18.0)}"
      ]
     },
     "execution_count": 8,
     "metadata": {},
     "output_type": "execute_result"
    }
   ],
   "source": [
    "ber.reagents_rack.getWellsParams()"
   ]
  },
  {
   "cell_type": "code",
   "execution_count": 13,
   "metadata": {},
   "outputs": [
    {
     "data": {
      "text/plain": [
       "(71.03, 82.0, 2, 12, 10.9, 142.0, 15.0)"
      ]
     },
     "execution_count": 13,
     "metadata": {},
     "output_type": "execute_result"
    }
   ],
   "source": [
    "ber.samples_rack.getWellsParams()"
   ]
  },
  {
   "cell_type": "code",
   "execution_count": 55,
   "metadata": {},
   "outputs": [],
   "source": [
    "ber.waste_rack.setCalibrationLiftZ(-5)\n",
    "ber.samples_rack.setCalibrationLiftZ(-30)\n",
    "ber.tips_rack.setCalibrationLiftZ(-20)\n",
    "ber.reagents_rack.setCalibrationLiftZ(-30)"
   ]
  },
  {
   "cell_type": "code",
   "execution_count": 5,
   "metadata": {},
   "outputs": [],
   "source": [
    "ber.waste_rack.setXYCalibrationShift(0, 20)\n",
    "ber.samples_rack.setXYCalibrationShift(0, 60)\n",
    "ber.tips_rack.setXYCalibrationShift(0, 0)\n",
    "ber.reagents_rack.setXYCalibrationShift(0, 60)"
   ]
  },
  {
   "cell_type": "code",
   "execution_count": 64,
   "metadata": {},
   "outputs": [
    {
     "data": {
      "text/plain": [
       "(85.2, 104.8)"
      ]
     },
     "execution_count": 64,
     "metadata": {},
     "output_type": "execute_result"
    }
   ],
   "source": [
    "ber.samples_rack.getCenterXY()"
   ]
  },
  {
   "cell_type": "code",
   "execution_count": 73,
   "metadata": {},
   "outputs": [],
   "source": [
    "ber.waste_rack.setZCalibrationXY(x=40, y=0)"
   ]
  },
  {
   "cell_type": "code",
   "execution_count": 74,
   "metadata": {},
   "outputs": [],
   "source": [
    "ber.tips_rack.setZCalibrationXY(x=40, y=10)"
   ]
  },
  {
   "cell_type": "code",
   "execution_count": 75,
   "metadata": {},
   "outputs": [],
   "source": [
    "ber.samples_rack.setZCalibrationXY(x=60, y=-10)\n",
    "ber.reagents_rack.setZCalibrationXY(x=60, y=-10)"
   ]
  },
  {
   "cell_type": "code",
   "execution_count": 57,
   "metadata": {},
   "outputs": [],
   "source": [
    "ber.move(x=145, y=92, z=100, z_first=False)"
   ]
  },
  {
   "cell_type": "code",
   "execution_count": 78,
   "metadata": {},
   "outputs": [
    {
     "data": {
      "text/plain": [
       "(67.12, 78.1, 146.2)"
      ]
     },
     "execution_count": 78,
     "metadata": {},
     "output_type": "execute_result"
    }
   ],
   "source": [
    "ber.calibrateRack(rack='tips')"
   ]
  },
  {
   "cell_type": "code",
   "execution_count": 79,
   "metadata": {},
   "outputs": [],
   "source": [
    "ber.move(x=145, y=92, z=100, z_first=True)"
   ]
  },
  {
   "cell_type": "code",
   "execution_count": null,
   "metadata": {},
   "outputs": [],
   "source": []
  },
  {
   "cell_type": "code",
   "execution_count": 6,
   "metadata": {},
   "outputs": [
    {
     "data": {
      "text/plain": [
       "(67.1, 167.16000000000003, 145.9)"
      ]
     },
     "execution_count": 6,
     "metadata": {},
     "output_type": "execute_result"
    }
   ],
   "source": [
    "ber.calibrateRack(rack='waste')"
   ]
  },
  {
   "cell_type": "code",
   "execution_count": 10,
   "metadata": {},
   "outputs": [
    {
     "data": {
      "text/plain": [
       "(85.0, 104.9, 151.7)"
      ]
     },
     "execution_count": 10,
     "metadata": {},
     "output_type": "execute_result"
    }
   ],
   "source": [
    "ber.calibrateRack(rack='samples')"
   ]
  },
  {
   "cell_type": "code",
   "execution_count": 11,
   "metadata": {},
   "outputs": [
    {
     "data": {
      "text/plain": [
       "(85.0, 104.9, 151.8)"
      ]
     },
     "execution_count": 11,
     "metadata": {},
     "output_type": "execute_result"
    }
   ],
   "source": [
    "ber.calibrateRack(rack='reagents')"
   ]
  },
  {
   "cell_type": "markdown",
   "metadata": {},
   "source": [
    "# Refilling tips"
   ]
  },
  {
   "cell_type": "code",
   "execution_count": 6,
   "metadata": {},
   "outputs": [],
   "source": [
    "ber.tips_rack.refill()"
   ]
  },
  {
   "cell_type": "markdown",
   "metadata": {},
   "source": [
    "# Tip pickup and discard"
   ]
  },
  {
   "cell_type": "code",
   "execution_count": 5,
   "metadata": {},
   "outputs": [],
   "source": [
    "# At 3000, pipette sometimes skips steps when dropping a tip\n",
    "ber.setSpeedPipette(2500)"
   ]
  },
  {
   "cell_type": "code",
   "execution_count": 6,
   "metadata": {},
   "outputs": [],
   "source": [
    "ber._setDumpTipPlungerMovement(35)"
   ]
  },
  {
   "cell_type": "code",
   "execution_count": 8,
   "metadata": {},
   "outputs": [
    {
     "data": {
      "text/plain": [
       "(0, 0)"
      ]
     },
     "execution_count": 8,
     "metadata": {},
     "output_type": "execute_result"
    }
   ],
   "source": [
    "ber.pickUpNextTip()"
   ]
  },
  {
   "cell_type": "code",
   "execution_count": 9,
   "metadata": {},
   "outputs": [],
   "source": [
    "ber.dumpTipToWaste()"
   ]
  },
  {
   "cell_type": "code",
   "execution_count": 7,
   "metadata": {},
   "outputs": [],
   "source": [
    "for i in range(20):\n",
    "    ber.pickUpNextTip()\n",
    "    ber.dumpTipToWaste()"
   ]
  },
  {
   "cell_type": "code",
   "execution_count": 20,
   "metadata": {},
   "outputs": [],
   "source": [
    "ber.pipetteServoPowerUp()\n",
    "ber.movePipetteServoAngle(7.3, delay=0.2)\n",
    "ber.moveAxis('A', 35)\n",
    "ber.moveAxis('A', 1)\n",
    "ber.movePipetteServoAngle(2.5, delay=0.3)"
   ]
  },
  {
   "cell_type": "code",
   "execution_count": null,
   "metadata": {},
   "outputs": [],
   "source": []
  }
 ],
 "metadata": {
  "kernelspec": {
   "display_name": "Python 3",
   "language": "python",
   "name": "python3"
  },
  "language_info": {
   "codemirror_mode": {
    "name": "ipython",
    "version": 3
   },
   "file_extension": ".py",
   "mimetype": "text/x-python",
   "name": "python",
   "nbconvert_exporter": "python",
   "pygments_lexer": "ipython3",
   "version": "3.7.4"
  }
 },
 "nbformat": 4,
 "nbformat_minor": 2
}
