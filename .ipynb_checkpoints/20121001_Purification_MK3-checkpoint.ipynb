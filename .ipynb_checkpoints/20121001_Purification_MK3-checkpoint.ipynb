{
 "cells": [
  {
   "cell_type": "code",
   "execution_count": 1,
   "metadata": {},
   "outputs": [],
   "source": [
    "import time\n",
    "import pandas as pd\n",
    "\n",
    "import bernielib as bl"
   ]
  },
  {
   "cell_type": "code",
   "execution_count": 2,
   "metadata": {},
   "outputs": [
    {
     "data": {
      "text/plain": [
       "['COM7', 'COM18', 'COM20']"
      ]
     },
     "execution_count": 2,
     "metadata": {},
     "output_type": "execute_result"
    }
   ],
   "source": [
    "bl.listSerialPorts()"
   ]
  },
  {
   "cell_type": "code",
   "execution_count": 3,
   "metadata": {},
   "outputs": [],
   "source": [
    "ber = bl.robot(cartesian_port_name='COM18', pipette_port_name='COM7', misc_port_name='COM20')"
   ]
  },
  {
   "cell_type": "code",
   "execution_count": 4,
   "metadata": {},
   "outputs": [],
   "source": [
    "ber.robotHome()\n",
    "ber.pipetteHome()"
   ]
  },
  {
   "cell_type": "markdown",
   "metadata": {},
   "source": [
    "# Actual protocol"
   ]
  },
  {
   "cell_type": "code",
   "execution_count": 5,
   "metadata": {},
   "outputs": [],
   "source": [
    "# Experiment parameters\n",
    "number_of_samples = 3\n",
    "initial_volume_list = [0, 0, 0]\n",
    "beads_incubation_time = 200 # seconds\n",
    "beads_pull_time = 60 # seconds\n",
    "ethanol_wash_time = 30 # seconds\n",
    "ethanol_drying_time = 5*60 # seconds\n",
    "V_ethanol_wash = 200 # uL"
   ]
  },
  {
   "cell_type": "markdown",
   "metadata": {},
   "source": [
    "## Initializing samples and reagents"
   ]
  },
  {
   "cell_type": "code",
   "execution_count": 26,
   "metadata": {},
   "outputs": [],
   "source": [
    "samples_list = bl.createSamplesToPurifyList(ber, initial_volume_list)\n",
    "result_list = bl.createPurifiedSamplesList(ber, number_of_samples)"
   ]
  },
  {
   "cell_type": "code",
   "execution_count": 27,
   "metadata": {},
   "outputs": [],
   "source": [
    "beads = bl.createSample('eppendorf', 'beads', ber.samples_rack, 0, 11, 800)\n",
    "EtOH = bl.createSample('50ml', 'EtOH', ber.reagents_rack, 1, 0, 50000)\n",
    "eluent = bl.createSample('50ml', 'eluent', ber.reagents_rack, 2, 0, 50000)\n",
    "waste = bl.createSample('50ml', 'liquid_waste', ber.reagents_rack, 0, 1, 0)\n",
    "water = bl.createSample('50ml', 'water', ber.reagents_rack, 1, 1, 50000)\n",
    "EtOH80pct = bl.createSample('50ml', 'EtOH80pct', ber.reagents_rack, 2, 1, 50000)"
   ]
  },
  {
   "cell_type": "markdown",
   "metadata": {},
   "source": [
    "### (technical) pre-filling the fake samples\n",
    "\n",
    "This time, I am \"purifying\" the fake samples. Just filling them with water"
   ]
  },
  {
   "cell_type": "code",
   "execution_count": 28,
   "metadata": {},
   "outputs": [],
   "source": [
    "def _prefillTubes(robot, samples_list, vol_list, water, safe_z=50):\n",
    "    \"\"\"\n",
    "    This function is only used for testing. \n",
    "    It pre-fills empty tubes with water, to emulate the presence of the liquid.\n",
    "    In a real protocol, samples already come with liquid.\n",
    "    \"\"\"\n",
    "    robot.pickUpNextTip()\n",
    "    robot.move(z=safe_z)\n",
    "    for sample, volume in zip(samples_list, vol_list):\n",
    "        robot.transferLiquid(water, sample, volume)\n",
    "    robot.move(z=safe_z)\n",
    "    robot.dumpTipToWaste()"
   ]
  },
  {
   "cell_type": "code",
   "execution_count": 29,
   "metadata": {},
   "outputs": [],
   "source": [
    "_prefillTubes(ber, samples_list, [25, 50, 90], water)"
   ]
  },
  {
   "cell_type": "markdown",
   "metadata": {},
   "source": [
    "## Calculating how many beads to add"
   ]
  },
  {
   "cell_type": "code",
   "execution_count": 13,
   "metadata": {},
   "outputs": [],
   "source": [
    "def calcBeadsVolumeToAdd(robot, samples_list, cutoff_list):\n",
    "    v_beads_list = []\n",
    "    for sample, dna_size in zip(samples_list, cutoff_list):\n",
    "        v_beads = robot.calcBeadsVol(sample, dna_size)\n",
    "        v_beads_list.append(v_beads)\n",
    "    return v_beads_list"
   ]
  },
  {
   "cell_type": "code",
   "execution_count": 14,
   "metadata": {},
   "outputs": [],
   "source": [
    "v_beads_list = calcBeadsVolumeToAdd(ber, samples_list, cutoff_list=[100, 280, 900])"
   ]
  },
  {
   "cell_type": "code",
   "execution_count": 15,
   "metadata": {},
   "outputs": [
    {
     "data": {
      "text/plain": [
       "[0.0, 0.0, 0.0]"
      ]
     },
     "execution_count": 15,
     "metadata": {},
     "output_type": "execute_result"
    }
   ],
   "source": [
    "v_beads_list"
   ]
  },
  {
   "cell_type": "markdown",
   "metadata": {},
   "source": [
    "## Adding beads"
   ]
  },
  {
   "cell_type": "code",
   "execution_count": 30,
   "metadata": {},
   "outputs": [],
   "source": [
    "script = pd.read_csv('mixing_pattern_eppendorf.csv')"
   ]
  },
  {
   "cell_type": "code",
   "execution_count": 16,
   "metadata": {},
   "outputs": [],
   "source": [
    "def waitAfterTimestamp(timestamp, delay):\n",
    "    new_ts = time.time()\n",
    "    while (new_ts - timestamp) < delay:\n",
    "        time.sleep(1)\n",
    "        new_ts = time.time()"
   ]
  },
  {
   "cell_type": "code",
   "execution_count": 11,
   "metadata": {},
   "outputs": [],
   "source": [
    "def addBeads(robot, sample, beads, v_beads, sample_mix_scenario, beads_mix_scenario, z_safe=50):\n",
    "    robot.move(z=z_safe)\n",
    "    robot.pickUpNextTip()\n",
    "    robot.move(z=z_safe)\n",
    "    # Mixing beads before experiment\n",
    "    robot.mixByScript(beads, beads_mix_scenario)\n",
    "    # Transferring beads to sample\n",
    "    robot.transferLiquid(beads, sample, v_beads)\n",
    "    # Mixing sample with beads\n",
    "    robot.mixByScript(sample, sample_mix_scenario)\n",
    "    robot.move(z=z_safe)\n",
    "    robot.dumpTipToWaste()\n",
    "    robot.move(z=z_safe)"
   ]
  },
  {
   "cell_type": "code",
   "execution_count": 17,
   "metadata": {},
   "outputs": [],
   "source": [
    "def addBeadsToAll(robot, samples_list, v_beads_list, beads, sample_mix_scenario, beads_mix_scenario):\n",
    "    robot.moveMagnetsAway(poweroff=True)\n",
    "    counter = 0\n",
    "    for sample, v_beads in zip(samples_list, v_beads_list):\n",
    "        addBeads(robot, sample, beads, v_beads, sample_mix_scenario, beads_mix_scenario)\n",
    "        if counter == 0:\n",
    "            timestamp = time.time()\n",
    "        counter += 1\n",
    "    return timestamp"
   ]
  },
  {
   "cell_type": "code",
   "execution_count": null,
   "metadata": {},
   "outputs": [],
   "source": [
    "timestamp_beads_added = addBeadsToAll(ber, samples_list, v_beads_list, beads, script, script)"
   ]
  },
  {
   "cell_type": "code",
   "execution_count": null,
   "metadata": {},
   "outputs": [],
   "source": [
    "waitAfterTimestamp(timestamp_beads_added, beads_incubation_time)"
   ]
  },
  {
   "cell_type": "markdown",
   "metadata": {},
   "source": [
    "## Removing supernatant"
   ]
  },
  {
   "cell_type": "code",
   "execution_count": 14,
   "metadata": {},
   "outputs": [],
   "source": [
    "ber.moveMagnetsTowardsTube()"
   ]
  },
  {
   "cell_type": "code",
   "execution_count": null,
   "metadata": {},
   "outputs": [],
   "source": [
    "time.sleep(beads_pull_time)"
   ]
  },
  {
   "cell_type": "code",
   "execution_count": 12,
   "metadata": {},
   "outputs": [],
   "source": [
    "def removeSupernatant(robot, sample, waste, z_safe=50):\n",
    "    robot.pickUpNextTip()\n",
    "    robot.move(z=z_safe)\n",
    "    z0 = robot._getTubeZBottom(sample)\n",
    "    while sample.getVolume() > 0:\n",
    "        robot.movePipetteToVolume(200)\n",
    "        robot.moveToSample(sample)\n",
    "        robot.move(z=z0-0.5)\n",
    "        robot.movePipetteToVolume(0)\n",
    "        new_vol = sample.getVolume() - 200\n",
    "        if new_vol < 0:\n",
    "            new_vol = 0\n",
    "        sample.setVolume(new_vol)\n",
    "        robot.move(z=0)\n",
    "        robot.dispenseLiquid(waste, 200, blow_extra=True)\n",
    "        robot.move(z=0)\n",
    "    robot.moveToSample(sample)\n",
    "    robot.movePipetteToVolume(200)\n",
    "    robot.move(z=z0)\n",
    "    robot.movePipetteToVolume(150)\n",
    "    robot.move(z=z0-0.5)\n",
    "    robot.moveAxisDelta('X', 1.5)\n",
    "    robot.movePipetteToVolume(130)\n",
    "    robot.moveAxisDelta('X', -1.5)\n",
    "    robot.moveAxisDelta('Y', 1.5)\n",
    "    robot.movePipetteToVolume(100)\n",
    "    robot.moveAxisDelta('Y', -1.5)\n",
    "    robot.moveAxisDelta('X', -1.5)    \n",
    "    robot.movePipetteToVolume(70)\n",
    "    robot.moveAxisDelta('X', 1.5)\n",
    "    robot.moveAxisDelta('Y', -1.5)\n",
    "    robot.movePipetteToVolume(0)\n",
    "    robot.move(z=z_safe)\n",
    "    robot.dispenseLiquid(waste, 200, blow_extra=True)\n",
    "    robot.move(z=z_safe)\n",
    "    robot.dumpTipToWaste()"
   ]
  },
  {
   "cell_type": "code",
   "execution_count": null,
   "metadata": {},
   "outputs": [],
   "source": [
    "def removeSupernatantAllSamples(robot, samples_list, waste):\n",
    "    counter = 0\n",
    "    for sample in samples_list:\n",
    "        removeSupernatant(robot, sample, waste)\n",
    "        if counter == 0:\n",
    "            sample_dried_timestamp = time.time()\n",
    "        counter += 0\n",
    "    return sample_dried_timestamp"
   ]
  },
  {
   "cell_type": "code",
   "execution_count": null,
   "metadata": {},
   "outputs": [],
   "source": [
    "ts = removeSupernatantAllSamples(ber, samples_list, waste)"
   ]
  },
  {
   "cell_type": "markdown",
   "metadata": {},
   "source": [
    "## Ethanol wash, stage 1"
   ]
  },
  {
   "cell_type": "code",
   "execution_count": null,
   "metadata": {},
   "outputs": [],
   "source": [
    "def add80PctEthanol(robot, samples_list, ethanol, volume, z_safe=50):\n",
    "    robot.pickUpNextTip()\n",
    "    robot.move(z=z_safe)\n",
    "    \n",
    "    counter = 0\n",
    "    for sample in samples_list:\n",
    "        robot.transferLiquid(ethanol, sample, volume, touch_wall=False)\n",
    "        if counter == 0:\n",
    "            ethanol_added_time = time.time()\n",
    "        counter += 1\n",
    "    \n",
    "    robot.move(z=z_safe)\n",
    "    robot.dumpTipToWaste()\n",
    "    \n",
    "    return ethanol_added_time"
   ]
  },
  {
   "cell_type": "code",
   "execution_count": null,
   "metadata": {},
   "outputs": [],
   "source": [
    "timestamp_ethanol_added = add80PctEthanol(ber, samples_list, EtOH80pct, V_ethanol_wash)"
   ]
  },
  {
   "cell_type": "code",
   "execution_count": null,
   "metadata": {},
   "outputs": [],
   "source": [
    "waitAfterTimestamp(timestamp_ethanol_added, ethanol_wash_time)"
   ]
  },
  {
   "cell_type": "code",
   "execution_count": null,
   "metadata": {},
   "outputs": [],
   "source": [
    "ts = removeSupernatantAllSamples(ber, samples_list, waste)"
   ]
  },
  {
   "cell_type": "markdown",
   "metadata": {},
   "source": [
    "## Ethanol wash, stage 2"
   ]
  },
  {
   "cell_type": "code",
   "execution_count": null,
   "metadata": {},
   "outputs": [],
   "source": [
    "timestamp_ethanol_added = add80PctEthanol(ber, samples_list, EtOH80pct, V_ethanol_wash)\n",
    "waitAfterTimestamp(timestamp_ethanol_added, ethanol_wash_time)\n",
    "timestamp_ethanol_removed = removeSupernatantAllSamples(ber, samples_list, waste)"
   ]
  },
  {
   "cell_type": "code",
   "execution_count": null,
   "metadata": {},
   "outputs": [],
   "source": [
    "waitAfterTimestamp(timestamp_ethanol_removed, ethanol_drying_time)"
   ]
  },
  {
   "cell_type": "markdown",
   "metadata": {},
   "source": [
    "## Elution"
   ]
  },
  {
   "cell_type": "code",
   "execution_count": 22,
   "metadata": {},
   "outputs": [],
   "source": [
    "ber.pickUpNextTip()\n",
    "ber.move(z=0)"
   ]
  },
  {
   "cell_type": "code",
   "execution_count": 52,
   "metadata": {},
   "outputs": [],
   "source": [
    "ber.moveMagnetsAway()"
   ]
  },
  {
   "cell_type": "code",
   "execution_count": 24,
   "metadata": {},
   "outputs": [],
   "source": [
    "ber.transferLiquid(water, samples_list[0], 20)"
   ]
  },
  {
   "cell_type": "code",
   "execution_count": 13,
   "metadata": {},
   "outputs": [],
   "source": [
    "def elutionMix(robot, sample, volume, delay=0.5):\n",
    "    z0 = robot._getTubeZBottom(sample)\n",
    "    robot.movePipetteToVolume(0)\n",
    "    robot.movePipetteToVolume(volume+5)\n",
    "    robot.movePipetteToVolume(volume)\n",
    "    robot.move(z=z0-0.5)\n",
    "    robot.movePipetteToVolume(0)\n",
    "    time.sleep(delay)\n",
    "    #z_curr = sample.calcAbsLiquidLevelFromVol(1700, added_length=robot._calcExtraLength())\n",
    "    #robot.move(z=z_curr)\n",
    "    #robot.moveAxisDelta('X', 4)\n",
    "    #robot.movePipetteToVolume(200)\n",
    "    z_curr = sample.calcAbsLiquidLevelFromVol(500, added_length=robot._calcExtraLength())\n",
    "    robot.move(z=z_curr)\n",
    "    robot.moveAxisDelta('X', 3)\n",
    "    robot.movePipetteToVolume(200)\n",
    "    time.sleep(delay)\n",
    "    z_curr = sample.calcAbsLiquidLevelFromVol(300, added_length=robot._calcExtraLength())\n",
    "    robot.move(z=z_curr)\n",
    "    robot.moveAxisDelta('X', -1)\n",
    "    z_curr = sample.calcAbsLiquidLevelFromVol(150, added_length=robot._calcExtraLength())\n",
    "    robot.move(z=z_curr)\n",
    "    robot.moveAxisDelta('X', -1)\n",
    "    z_curr = sample.calcAbsLiquidLevelFromVol(10, added_length=robot._calcExtraLength())\n",
    "    robot.move(z=z_curr)\n",
    "    robot.moveAxisDelta('X', -1)\n",
    "    z_curr = sample.calcAbsLiquidLevelFromVol(volume+100, added_length=robot._calcExtraLength())\n",
    "    robot.move(z=z_curr)\n",
    "    robot.movePipetteToVolume(0)"
   ]
  },
  {
   "cell_type": "code",
   "execution_count": 46,
   "metadata": {},
   "outputs": [],
   "source": [
    "ber.moveToSample(samples_list[0])"
   ]
  },
  {
   "cell_type": "code",
   "execution_count": 35,
   "metadata": {},
   "outputs": [],
   "source": [
    "elutionMix(ber, samples_list[0], 20)\n",
    "elutionMix(ber, samples_list[0], 20)\n",
    "elutionMix(ber, samples_list[0], 20)"
   ]
  },
  {
   "cell_type": "code",
   "execution_count": 13,
   "metadata": {},
   "outputs": [],
   "source": [
    "ber.move(z=50)"
   ]
  },
  {
   "cell_type": "code",
   "execution_count": 37,
   "metadata": {},
   "outputs": [],
   "source": [
    "ber.moveMagnetsTowardsTube()"
   ]
  },
  {
   "cell_type": "code",
   "execution_count": 41,
   "metadata": {},
   "outputs": [],
   "source": [
    "result_list = bl.createPurifiedSamplesList(ber, 1)"
   ]
  },
  {
   "cell_type": "code",
   "execution_count": 47,
   "metadata": {},
   "outputs": [],
   "source": [
    "ber.movePipetteToVolume(25)\n",
    "ber.movePipetteToVolume(20)\n",
    "z0 = ber._getTubeZBottom(samples_list[0])\n",
    "ber.move(z=z0-0.5)\n",
    "ber.movePipetteToVolume(0)"
   ]
  },
  {
   "cell_type": "code",
   "execution_count": 48,
   "metadata": {},
   "outputs": [],
   "source": [
    "ber.moveToSample(result_list[0])"
   ]
  },
  {
   "cell_type": "code",
   "execution_count": 49,
   "metadata": {},
   "outputs": [],
   "source": [
    "ber.movePipetteToVolume(200)"
   ]
  },
  {
   "cell_type": "code",
   "execution_count": 42,
   "metadata": {},
   "outputs": [],
   "source": [
    "ber.transferLiquid(samples_list[0], result_list[0], 100)"
   ]
  },
  {
   "cell_type": "code",
   "execution_count": 51,
   "metadata": {},
   "outputs": [],
   "source": [
    "ber.transferLiquid(water, samples_list[0], 400, touch_wall=False)"
   ]
  },
  {
   "cell_type": "code",
   "execution_count": 14,
   "metadata": {},
   "outputs": [],
   "source": [
    "ber.dumpTipToWaste()"
   ]
  },
  {
   "cell_type": "markdown",
   "metadata": {},
   "source": [
    "### Adding eluent in one function"
   ]
  },
  {
   "cell_type": "code",
   "execution_count": 14,
   "metadata": {},
   "outputs": [],
   "source": [
    "#TODO: make safe_z a general property of the robot\n",
    "def elute(robot, sample, eluent, volume, mix_delay=0.5, mix_times=6, safe_z=50):\n",
    "    robot.moveMagnetsAway(poweroff=True)\n",
    "    robot.pickUpNextTip()\n",
    "    robot.move(z=safe_z)\n",
    "    robot.transferLiquid(eluent, sample, volume)\n",
    "    for i in range(mix_times):\n",
    "        elutionMix(robot, sample, volume)\n",
    "    elution_start_time = time.time()\n",
    "    robot.move(z=safe_z)\n",
    "    robot.dumpTipToWaste()\n",
    "    return elution_start_time"
   ]
  },
  {
   "cell_type": "code",
   "execution_count": 1,
   "metadata": {},
   "outputs": [],
   "source": [
    "def eluteAllSamples(robot, samples_list, eluent, volume, mix_delay=0.5, mix_times=6, safe_z=50):\n",
    "    counter = 0\n",
    "    for sample in samples_list:\n",
    "        ts = elute(ber, sample, water, V_water, mix_delay=mix_delay, mix_times=mix_times, safe_z=safe_z)\n",
    "        if counter == 0:\n",
    "            elution_start_timestamp = ts\n",
    "        counter += 1\n",
    "    return elution_start_timestamp"
   ]
  },
  {
   "cell_type": "code",
   "execution_count": 9,
   "metadata": {},
   "outputs": [
    {
     "data": {
      "text/plain": [
       "1607418080.4168348"
      ]
     },
     "execution_count": 9,
     "metadata": {},
     "output_type": "execute_result"
    }
   ],
   "source": [
    "elute(ber, samples_list[0], water, 20)"
   ]
  },
  {
   "cell_type": "code",
   "execution_count": 18,
   "metadata": {},
   "outputs": [
    {
     "data": {
      "text/plain": [
       "1607560476.0005112"
      ]
     },
     "execution_count": 18,
     "metadata": {},
     "output_type": "execute_result"
    }
   ],
   "source": [
    "elute(ber, samples_list[2], water, 30)"
   ]
  },
  {
   "cell_type": "markdown",
   "metadata": {},
   "source": [
    "### Separate eluate from beads (one function)"
   ]
  },
  {
   "cell_type": "code",
   "execution_count": 15,
   "metadata": {},
   "outputs": [],
   "source": [
    "def separateEluate(robot, eluate_tube, result_tube, pipette_delay=0.5, z_above_bottom=0.5, safe_z=50):\n",
    "    robot.pickUpNextTip()\n",
    "    robot.move(z=safe_z)\n",
    "    # Uptaking liquid\n",
    "    v = eluate_tube.getVolume()\n",
    "    robot.moveToSample(eluate_tube)\n",
    "    robot.movePipetteToVolume(v+5)\n",
    "    robot.movePipetteToVolume(v)\n",
    "    z0 = robot._getTubeZBottom(eluate_tube)\n",
    "    robot.move(z=z0-z_above_bottom)\n",
    "    robot.movePipetteToVolume(0)\n",
    "    time.sleep(pipette_delay)\n",
    "    # Dispensing liquid\n",
    "    robot.moveToSample(result_tube)\n",
    "    robot.movePipetteToVolume(v+5)\n",
    "    time.sleep(pipette_delay)\n",
    "    robot.movePipetteToVolume(200)\n",
    "    time.sleep(pipette_delay)\n",
    "    robot.touchWall(result_tube)\n",
    "    robot.movePipetteToVolume(0)\n",
    "    robot.move(z=safe_z)\n",
    "    ber.dumpTipToWaste()"
   ]
  },
  {
   "cell_type": "code",
   "execution_count": 15,
   "metadata": {},
   "outputs": [],
   "source": [
    "result_list = bl.createPurifiedSamplesList(ber, 1)"
   ]
  },
  {
   "cell_type": "code",
   "execution_count": 16,
   "metadata": {},
   "outputs": [],
   "source": [
    "separateEluate(ber, samples_list[0], result_list[0])"
   ]
  },
  {
   "cell_type": "markdown",
   "metadata": {},
   "source": [
    "## Full elution process"
   ]
  },
  {
   "cell_type": "code",
   "execution_count": 10,
   "metadata": {},
   "outputs": [],
   "source": [
    "samples_list = bl.createSamplesToPurifyList(ber, [0, 0, 0])\n",
    "result_list = bl.createPurifiedSamplesList(ber, 3)"
   ]
  },
  {
   "cell_type": "code",
   "execution_count": 13,
   "metadata": {},
   "outputs": [],
   "source": [
    "# Elution\n",
    "# Parameters\n",
    "V_water = 30\n",
    "T_elute = 200 # seconds, 10 minutes\n",
    "T_magnets_on = 60 # seconds\n",
    "\n",
    "# Adding water\n",
    "counter = 0\n",
    "for sample in samples_list:\n",
    "    ts = elute(ber, sample, water, V_water)\n",
    "    if counter == 0:\n",
    "        elution_start_timestamp = ts\n",
    "    counter += 1\n",
    "\n",
    "waitAfterTimestamp(elution_start_timestamp, T_elute) # elution wait\n",
    "\n",
    "# Magnetic beads to the side of the tubes\n",
    "ber.moveMagnetsTowardsTube()\n",
    "\n",
    "time.sleep(T_magnets_on)\n",
    "\n",
    "# Moving liquid to the resulting tubes\n",
    "for sample, result in zip(samples_list, result_list):\n",
    "    separateEluate(ber, sample, result)"
   ]
  },
  {
   "cell_type": "markdown",
   "metadata": {},
   "source": [
    "# All in one function"
   ]
  },
  {
   "cell_type": "code",
   "execution_count": 6,
   "metadata": {},
   "outputs": [],
   "source": [
    "def calcBeadsVolumeToAdd(robot, samples_list, cutoff_list):\n",
    "    v_beads_list = []\n",
    "    for sample, dna_size in zip(samples_list, cutoff_list):\n",
    "        v_beads = robot.calcBeadsVol(sample, dna_size)\n",
    "        v_beads_list.append(v_beads)\n",
    "    return v_beads_list"
   ]
  },
  {
   "cell_type": "code",
   "execution_count": 7,
   "metadata": {},
   "outputs": [],
   "source": [
    "def waitAfterTimestamp(timestamp, delay):\n",
    "    new_ts = time.time()\n",
    "    while (new_ts - timestamp) < delay:\n",
    "        time.sleep(1)\n",
    "        new_ts = time.time()"
   ]
  },
  {
   "cell_type": "code",
   "execution_count": 8,
   "metadata": {},
   "outputs": [],
   "source": [
    "def addBeads(robot, sample, beads, v_beads, sample_mix_scenario, beads_mix_scenario, z_safe=50):\n",
    "    robot.move(z=z_safe)\n",
    "    robot.pickUpNextTip()\n",
    "    robot.move(z=z_safe)\n",
    "    # Mixing beads before experiment\n",
    "    robot.mixByScript(beads, beads_mix_scenario)\n",
    "    # Transferring beads to sample\n",
    "    robot.transferLiquid(beads, sample, v_beads)\n",
    "    # Mixing sample with beads\n",
    "    robot.mixByScript(sample, sample_mix_scenario)\n",
    "    robot.move(z=z_safe)\n",
    "    robot.dumpTipToWaste()\n",
    "    robot.move(z=z_safe)"
   ]
  },
  {
   "cell_type": "code",
   "execution_count": 9,
   "metadata": {},
   "outputs": [],
   "source": [
    "def addBeadsToAll(robot, samples_list, v_beads_list, beads, sample_mix_scenario, beads_mix_scenario):\n",
    "    robot.moveMagnetsAway(poweroff=True)\n",
    "    counter = 0\n",
    "    for sample, v_beads in zip(samples_list, v_beads_list):\n",
    "        addBeads(robot, sample, beads, v_beads, sample_mix_scenario, beads_mix_scenario)\n",
    "        if counter == 0:\n",
    "            timestamp = time.time()\n",
    "        counter += 1\n",
    "    return timestamp"
   ]
  },
  {
   "cell_type": "code",
   "execution_count": 10,
   "metadata": {},
   "outputs": [],
   "source": [
    "def removeSupernatant(robot, sample, waste, z_safe=50):\n",
    "    robot.pickUpNextTip()\n",
    "    robot.move(z=z_safe)\n",
    "    z0 = robot._getTubeZBottom(sample)\n",
    "    while sample.getVolume() > 0:\n",
    "        robot.movePipetteToVolume(200)\n",
    "        robot.moveToSample(sample)\n",
    "        robot.move(z=z0-0.5)\n",
    "        robot.movePipetteToVolume(0)\n",
    "        new_vol = sample.getVolume() - 200\n",
    "        if new_vol < 0:\n",
    "            new_vol = 0\n",
    "        sample.setVolume(new_vol)\n",
    "        robot.move(z=0)\n",
    "        robot.dispenseLiquid(waste, 200, blow_extra=True)\n",
    "        robot.move(z=0)\n",
    "    robot.moveToSample(sample)\n",
    "    robot.movePipetteToVolume(200)\n",
    "    robot.move(z=z0)\n",
    "    robot.movePipetteToVolume(150)\n",
    "    robot.move(z=z0-0.5)\n",
    "    robot.moveAxisDelta('X', 1.5)\n",
    "    robot.movePipetteToVolume(130)\n",
    "    robot.moveAxisDelta('X', -1.5)\n",
    "    robot.moveAxisDelta('Y', 1.5)\n",
    "    robot.movePipetteToVolume(100)\n",
    "    robot.moveAxisDelta('Y', -1.5)\n",
    "    robot.moveAxisDelta('X', -1.5)    \n",
    "    robot.movePipetteToVolume(70)\n",
    "    robot.moveAxisDelta('X', 1.5)\n",
    "    robot.moveAxisDelta('Y', -1.5)\n",
    "    robot.movePipetteToVolume(0)\n",
    "    robot.move(z=z_safe)\n",
    "    robot.dispenseLiquid(waste, 200, blow_extra=True)\n",
    "    robot.move(z=z_safe)\n",
    "    robot.dumpTipToWaste()"
   ]
  },
  {
   "cell_type": "code",
   "execution_count": 11,
   "metadata": {},
   "outputs": [],
   "source": [
    "def removeSupernatantAllSamples(robot, samples_list, waste):\n",
    "    counter = 0\n",
    "    for sample in samples_list:\n",
    "        removeSupernatant(robot, sample, waste)\n",
    "        if counter == 0:\n",
    "            sample_dried_timestamp = time.time()\n",
    "        counter += 0\n",
    "    return sample_dried_timestamp"
   ]
  },
  {
   "cell_type": "code",
   "execution_count": 12,
   "metadata": {},
   "outputs": [],
   "source": [
    "def add80PctEthanol(robot, samples_list, ethanol, volume, z_safe=50):\n",
    "    robot.pickUpNextTip()\n",
    "    robot.move(z=z_safe)\n",
    "    \n",
    "    counter = 0\n",
    "    for sample in samples_list:\n",
    "        robot.transferLiquid(ethanol, sample, volume, touch_wall=False)\n",
    "        if counter == 0:\n",
    "            ethanol_added_time = time.time()\n",
    "        counter += 1\n",
    "    \n",
    "    robot.move(z=z_safe)\n",
    "    robot.dumpTipToWaste()\n",
    "    \n",
    "    return ethanol_added_time"
   ]
  },
  {
   "cell_type": "code",
   "execution_count": 13,
   "metadata": {},
   "outputs": [],
   "source": [
    "def elutionMix(robot, sample, volume, delay=0.5):\n",
    "    z0 = robot._getTubeZBottom(sample)\n",
    "    robot.movePipetteToVolume(0)\n",
    "    robot.movePipetteToVolume(volume+5)\n",
    "    robot.movePipetteToVolume(volume)\n",
    "    robot.move(z=z0-0.5)\n",
    "    robot.movePipetteToVolume(0)\n",
    "    time.sleep(delay)\n",
    "    #z_curr = sample.calcAbsLiquidLevelFromVol(1700, added_length=robot._calcExtraLength())\n",
    "    #robot.move(z=z_curr)\n",
    "    #robot.moveAxisDelta('X', 4)\n",
    "    #robot.movePipetteToVolume(200)\n",
    "    z_curr = sample.calcAbsLiquidLevelFromVol(500, added_length=robot._calcExtraLength())\n",
    "    robot.move(z=z_curr)\n",
    "    robot.moveAxisDelta('X', 3)\n",
    "    robot.movePipetteToVolume(200)\n",
    "    time.sleep(delay)\n",
    "    z_curr = sample.calcAbsLiquidLevelFromVol(300, added_length=robot._calcExtraLength())\n",
    "    robot.move(z=z_curr)\n",
    "    robot.moveAxisDelta('X', -1)\n",
    "    z_curr = sample.calcAbsLiquidLevelFromVol(150, added_length=robot._calcExtraLength())\n",
    "    robot.move(z=z_curr)\n",
    "    robot.moveAxisDelta('X', -1)\n",
    "    z_curr = sample.calcAbsLiquidLevelFromVol(10, added_length=robot._calcExtraLength())\n",
    "    robot.move(z=z_curr)\n",
    "    robot.moveAxisDelta('X', -1)\n",
    "    z_curr = sample.calcAbsLiquidLevelFromVol(volume+100, added_length=robot._calcExtraLength())\n",
    "    robot.move(z=z_curr)\n",
    "    robot.movePipetteToVolume(0)"
   ]
  },
  {
   "cell_type": "code",
   "execution_count": 14,
   "metadata": {},
   "outputs": [],
   "source": [
    "#TODO: make safe_z a general property of the robot\n",
    "def elute(robot, sample, eluent, volume, mix_delay=0.5, mix_times=6, safe_z=50):\n",
    "    robot.moveMagnetsAway(poweroff=True)\n",
    "    robot.pickUpNextTip()\n",
    "    robot.move(z=safe_z)\n",
    "    robot.transferLiquid(eluent, sample, volume)\n",
    "    for i in range(mix_times):\n",
    "        elutionMix(robot, sample, volume)\n",
    "    elution_start_time = time.time()\n",
    "    robot.move(z=safe_z)\n",
    "    robot.dumpTipToWaste()\n",
    "    return elution_start_time"
   ]
  },
  {
   "cell_type": "code",
   "execution_count": 15,
   "metadata": {},
   "outputs": [],
   "source": [
    "def eluteAllSamples(robot, samples_list, eluent, V_eluent, mix_delay=0.5, mix_times=6, safe_z=50):\n",
    "    counter = 0\n",
    "    for sample in samples_list:\n",
    "        ts = elute(ber, sample, eluent, V_eluent, mix_delay=mix_delay, mix_times=mix_times, safe_z=safe_z)\n",
    "        if counter == 0:\n",
    "            elution_start_timestamp = ts\n",
    "        counter += 1\n",
    "    return elution_start_timestamp"
   ]
  },
  {
   "cell_type": "code",
   "execution_count": 16,
   "metadata": {},
   "outputs": [],
   "source": [
    "def separateEluate(robot, eluate_tube, result_tube, pipette_delay=0.5, z_above_bottom=0.5, safe_z=50):\n",
    "    robot.pickUpNextTip()\n",
    "    robot.move(z=safe_z)\n",
    "    # Uptaking liquid\n",
    "    v = eluate_tube.getVolume()\n",
    "    robot.moveToSample(eluate_tube)\n",
    "    robot.movePipetteToVolume(v+5)\n",
    "    robot.movePipetteToVolume(v)\n",
    "    z0 = robot._getTubeZBottom(eluate_tube)\n",
    "    robot.move(z=z0-z_above_bottom)\n",
    "    robot.movePipetteToVolume(0)\n",
    "    time.sleep(pipette_delay)\n",
    "    # Dispensing liquid\n",
    "    robot.moveToSample(result_tube)\n",
    "    robot.movePipetteToVolume(v+5)\n",
    "    time.sleep(pipette_delay)\n",
    "    robot.movePipetteToVolume(200)\n",
    "    time.sleep(pipette_delay)\n",
    "    robot.touchWall(result_tube)\n",
    "    robot.movePipetteToVolume(0)\n",
    "    robot.move(z=safe_z)\n",
    "    ber.dumpTipToWaste()"
   ]
  },
  {
   "cell_type": "code",
   "execution_count": 17,
   "metadata": {},
   "outputs": [],
   "source": [
    "def oneStagePurification(robot, N_samples, initial_vol_list, cutoff_list, V_avail_beads, V_avail_water, V_avail_ethanol, \n",
    "                         beads_rack, beads_col, beads_row, sample_mix_scenario, beads_mix_scenario,\n",
    "                         V_waste=0, T_absorb=600, T_pull=60, T_wash=30, T_dry=300, T_elute=600,\n",
    "                         V_wash=200, V_elute=30):\n",
    "    \n",
    "    samples_list = bl.createSamplesToPurifyList(robot, initial_vol_list)\n",
    "    result_list = bl.createPurifiedSamplesList(robot, N_samples)\n",
    "    beads = bl.createSample('eppendorf', 'beads', beads_rack, beads_col, beads_row, V_avail_beads)\n",
    "    waste = bl.createSample('50ml', 'liquid_waste', ber.reagents_rack, 0, 1, V_waste)\n",
    "    water = bl.createSample('50ml', 'water', ber.reagents_rack, 1, 1, V_avail_water)\n",
    "    EtOH80pct = bl.createSample('50ml', 'EtOH80pct', ber.reagents_rack, 2, 1, V_avail_ethanol)\n",
    "    \n",
    "    v_beads_list = calcBeadsVolumeToAdd(robot, samples_list, cutoff_list=cutoff_list)\n",
    "    # Adding beads\n",
    "    timestamp_beads_added = addBeadsToAll(robot, samples_list, v_beads_list, beads, sample_mix_scenario, beads_mix_scenario)\n",
    "    waitAfterTimestamp(timestamp_beads_added, T_absorb)\n",
    "    # Removing supernatant\n",
    "    robot.moveMagnetsTowardsTube(poweroff=True)\n",
    "    time.sleep(T_pull)\n",
    "    ts = removeSupernatantAllSamples(robot, samples_list, waste)\n",
    "    # Ethanol wash\n",
    "    # Wash 1\n",
    "    timestamp_ethanol_added = add80PctEthanol(robot, samples_list, EtOH80pct, V_wash)\n",
    "    waitAfterTimestamp(timestamp_ethanol_added, T_wash)\n",
    "    ts = removeSupernatantAllSamples(robot, samples_list, waste)\n",
    "    # Wash 2\n",
    "    timestamp_ethanol_added = add80PctEthanol(robot, samples_list, EtOH80pct, V_wash)\n",
    "    waitAfterTimestamp(timestamp_ethanol_added, T_wash)\n",
    "    timestamp_ethanol_removed = removeSupernatantAllSamples(robot, samples_list, waste)\n",
    "    # Drying ethanol\n",
    "    waitAfterTimestamp(timestamp_ethanol_removed, T_dry)\n",
    "    \n",
    "    # Elution\n",
    "    # Adding water\n",
    "    elution_start_timestamp = eluteAllSamples(robot, samples_list, water, V_elute, mix_delay=0.5, mix_times=6, safe_z=50)\n",
    "    waitAfterTimestamp(elution_start_timestamp, T_elute) # elution wait\n",
    "    \n",
    "    # Magnetic beads to the side of the tubes\n",
    "    ber.moveMagnetsTowardsTube()\n",
    "    time.sleep(T_pull)\n",
    "    # Moving liquid to the resulting tubes\n",
    "    for sample, result in zip(samples_list, result_list):\n",
    "        separateEluate(ber, sample, result)"
   ]
  },
  {
   "cell_type": "code",
   "execution_count": 18,
   "metadata": {},
   "outputs": [],
   "source": [
    "script = pd.read_csv('mixing_pattern_eppendorf.csv')"
   ]
  },
  {
   "cell_type": "code",
   "execution_count": 19,
   "metadata": {},
   "outputs": [],
   "source": [
    "ber.tips_rack.refill()"
   ]
  },
  {
   "cell_type": "code",
   "execution_count": 20,
   "metadata": {},
   "outputs": [
    {
     "ename": "NameError",
     "evalue": "name 'T_magnets_on' is not defined",
     "output_type": "error",
     "traceback": [
      "\u001b[1;31m---------------------------------------------------------------------------\u001b[0m",
      "\u001b[1;31mNameError\u001b[0m                                 Traceback (most recent call last)",
      "\u001b[1;32m<ipython-input-20-3bb8ead4ef4d>\u001b[0m in \u001b[0;36m<module>\u001b[1;34m\u001b[0m\n\u001b[0;32m      2\u001b[0m                      \u001b[0mV_avail_beads\u001b[0m\u001b[1;33m=\u001b[0m\u001b[1;36m1500\u001b[0m\u001b[1;33m,\u001b[0m \u001b[0mV_avail_water\u001b[0m\u001b[1;33m=\u001b[0m\u001b[1;36m50000\u001b[0m\u001b[1;33m,\u001b[0m \u001b[0mV_avail_ethanol\u001b[0m\u001b[1;33m=\u001b[0m\u001b[1;36m50000\u001b[0m\u001b[1;33m,\u001b[0m\u001b[1;33m\u001b[0m\u001b[1;33m\u001b[0m\u001b[0m\n\u001b[0;32m      3\u001b[0m                      \u001b[0mbeads_rack\u001b[0m\u001b[1;33m=\u001b[0m\u001b[0mber\u001b[0m\u001b[1;33m.\u001b[0m\u001b[0msamples_rack\u001b[0m\u001b[1;33m,\u001b[0m \u001b[0mbeads_col\u001b[0m\u001b[1;33m=\u001b[0m\u001b[1;36m0\u001b[0m\u001b[1;33m,\u001b[0m \u001b[0mbeads_row\u001b[0m\u001b[1;33m=\u001b[0m\u001b[1;36m11\u001b[0m\u001b[1;33m,\u001b[0m\u001b[1;33m\u001b[0m\u001b[1;33m\u001b[0m\u001b[0m\n\u001b[1;32m----> 4\u001b[1;33m                      sample_mix_scenario=script, beads_mix_scenario=script)\n\u001b[0m",
      "\u001b[1;32m<ipython-input-17-3082c1a71bed>\u001b[0m in \u001b[0;36moneStagePurification\u001b[1;34m(robot, N_samples, initial_vol_list, cutoff_list, V_avail_beads, V_avail_water, V_avail_ethanol, beads_rack, beads_col, beads_row, sample_mix_scenario, beads_mix_scenario, V_waste, T_absorb, T_pull, T_wash, T_dry, T_elute, V_wash, V_elute)\u001b[0m\n\u001b[0;32m     38\u001b[0m     \u001b[1;31m# Magnetic beads to the side of the tubes\u001b[0m\u001b[1;33m\u001b[0m\u001b[1;33m\u001b[0m\u001b[1;33m\u001b[0m\u001b[0m\n\u001b[0;32m     39\u001b[0m     \u001b[0mber\u001b[0m\u001b[1;33m.\u001b[0m\u001b[0mmoveMagnetsTowardsTube\u001b[0m\u001b[1;33m(\u001b[0m\u001b[1;33m)\u001b[0m\u001b[1;33m\u001b[0m\u001b[1;33m\u001b[0m\u001b[0m\n\u001b[1;32m---> 40\u001b[1;33m     \u001b[0mtime\u001b[0m\u001b[1;33m.\u001b[0m\u001b[0msleep\u001b[0m\u001b[1;33m(\u001b[0m\u001b[0mT_magnets_on\u001b[0m\u001b[1;33m)\u001b[0m\u001b[1;33m\u001b[0m\u001b[1;33m\u001b[0m\u001b[0m\n\u001b[0m\u001b[0;32m     41\u001b[0m     \u001b[1;31m# Moving liquid to the resulting tubes\u001b[0m\u001b[1;33m\u001b[0m\u001b[1;33m\u001b[0m\u001b[1;33m\u001b[0m\u001b[0m\n\u001b[0;32m     42\u001b[0m     \u001b[1;32mfor\u001b[0m \u001b[0msample\u001b[0m\u001b[1;33m,\u001b[0m \u001b[0mresult\u001b[0m \u001b[1;32min\u001b[0m \u001b[0mzip\u001b[0m\u001b[1;33m(\u001b[0m\u001b[0msamples_list\u001b[0m\u001b[1;33m,\u001b[0m \u001b[0mresult_list\u001b[0m\u001b[1;33m)\u001b[0m\u001b[1;33m:\u001b[0m\u001b[1;33m\u001b[0m\u001b[1;33m\u001b[0m\u001b[0m\n",
      "\u001b[1;31mNameError\u001b[0m: name 'T_magnets_on' is not defined"
     ]
    }
   ],
   "source": [
    "oneStagePurification(ber, N_samples=3, initial_vol_list=[25, 50, 90], cutoff_list=[100, 280, 900],\n",
    "                     V_avail_beads=1500, V_avail_water=50000, V_avail_ethanol=50000, \n",
    "                     beads_rack=ber.samples_rack, beads_col=0, beads_row=11, \n",
    "                     sample_mix_scenario=script, beads_mix_scenario=script)"
   ]
  },
  {
   "cell_type": "code",
   "execution_count": null,
   "metadata": {},
   "outputs": [],
   "source": [
    "# poweroff doesn't work (doesn't bring magnets after absorbing )"
   ]
  },
  {
   "cell_type": "code",
   "execution_count": null,
   "metadata": {},
   "outputs": [],
   "source": []
  },
  {
   "cell_type": "code",
   "execution_count": null,
   "metadata": {},
   "outputs": [],
   "source": []
  },
  {
   "cell_type": "code",
   "execution_count": null,
   "metadata": {},
   "outputs": [],
   "source": []
  },
  {
   "cell_type": "code",
   "execution_count": null,
   "metadata": {},
   "outputs": [],
   "source": []
  },
  {
   "cell_type": "markdown",
   "metadata": {},
   "source": [
    "# Other commands, not part of the protocol"
   ]
  },
  {
   "cell_type": "code",
   "execution_count": 7,
   "metadata": {},
   "outputs": [],
   "source": [
    "ber.tips_rack.refill()"
   ]
  },
  {
   "cell_type": "code",
   "execution_count": 44,
   "metadata": {},
   "outputs": [],
   "source": [
    "ber.move(z=0)"
   ]
  },
  {
   "cell_type": "code",
   "execution_count": 34,
   "metadata": {},
   "outputs": [],
   "source": [
    "ber.dumpTipToWaste()"
   ]
  },
  {
   "cell_type": "code",
   "execution_count": 14,
   "metadata": {},
   "outputs": [],
   "source": [
    "ber.move(z=180)"
   ]
  },
  {
   "cell_type": "code",
   "execution_count": 15,
   "metadata": {},
   "outputs": [
    {
     "ename": "KeyboardInterrupt",
     "evalue": "",
     "output_type": "error",
     "traceback": [
      "\u001b[1;31m---------------------------------------------------------------------------\u001b[0m",
      "\u001b[1;31mKeyboardInterrupt\u001b[0m                         Traceback (most recent call last)",
      "\u001b[1;32m<ipython-input-15-e831e20d0695>\u001b[0m in \u001b[0;36m<module>\u001b[1;34m\u001b[0m\n\u001b[0;32m      1\u001b[0m \u001b[1;32mfor\u001b[0m \u001b[0mi\u001b[0m \u001b[1;32min\u001b[0m \u001b[0mrange\u001b[0m\u001b[1;33m(\u001b[0m\u001b[1;36m100\u001b[0m\u001b[1;33m)\u001b[0m\u001b[1;33m:\u001b[0m\u001b[1;33m\u001b[0m\u001b[1;33m\u001b[0m\u001b[0m\n\u001b[1;32m----> 2\u001b[1;33m     \u001b[0mber\u001b[0m\u001b[1;33m.\u001b[0m\u001b[0mmove\u001b[0m\u001b[1;33m(\u001b[0m\u001b[0mz\u001b[0m\u001b[1;33m=\u001b[0m\u001b[1;36m0\u001b[0m\u001b[1;33m)\u001b[0m\u001b[1;33m\u001b[0m\u001b[1;33m\u001b[0m\u001b[0m\n\u001b[0m\u001b[0;32m      3\u001b[0m     \u001b[0mber\u001b[0m\u001b[1;33m.\u001b[0m\u001b[0mmove\u001b[0m\u001b[1;33m(\u001b[0m\u001b[0mz\u001b[0m\u001b[1;33m=\u001b[0m\u001b[1;36m180\u001b[0m\u001b[1;33m)\u001b[0m\u001b[1;33m\u001b[0m\u001b[1;33m\u001b[0m\u001b[0m\n",
      "\u001b[1;32mc:\\Users\\sergi\\Dropbox\\workspace\\bernielib\\bernielib.py\u001b[0m in \u001b[0;36mmove\u001b[1;34m(self, x, y, z, z_first, speed_xy, speed_z)\u001b[0m\n\u001b[0;32m   1032\u001b[0m         \u001b[1;32mif\u001b[0m \u001b[0mz_first\u001b[0m\u001b[1;33m:\u001b[0m\u001b[1;33m\u001b[0m\u001b[1;33m\u001b[0m\u001b[0m\n\u001b[0;32m   1033\u001b[0m             \u001b[1;32mif\u001b[0m \u001b[0mz\u001b[0m \u001b[1;32mis\u001b[0m \u001b[1;32mnot\u001b[0m \u001b[1;32mNone\u001b[0m\u001b[1;33m:\u001b[0m\u001b[1;33m\u001b[0m\u001b[1;33m\u001b[0m\u001b[0m\n\u001b[1;32m-> 1034\u001b[1;33m                 \u001b[0mself\u001b[0m\u001b[1;33m.\u001b[0m\u001b[0mmoveAxis\u001b[0m\u001b[1;33m(\u001b[0m\u001b[1;34m'Z'\u001b[0m\u001b[1;33m,\u001b[0m \u001b[0mz\u001b[0m\u001b[1;33m,\u001b[0m \u001b[0mspeed_z\u001b[0m\u001b[1;33m)\u001b[0m\u001b[1;33m\u001b[0m\u001b[1;33m\u001b[0m\u001b[0m\n\u001b[0m\u001b[0;32m   1035\u001b[0m             \u001b[1;31m# If both X and Y should be moved, I need to call moveXY(), one which would move\u001b[0m\u001b[1;33m\u001b[0m\u001b[1;33m\u001b[0m\u001b[1;33m\u001b[0m\u001b[0m\n\u001b[0;32m   1036\u001b[0m             \u001b[1;31m# those axes simultaneously\u001b[0m\u001b[1;33m\u001b[0m\u001b[1;33m\u001b[0m\u001b[1;33m\u001b[0m\u001b[0m\n",
      "\u001b[1;32mc:\\Users\\sergi\\Dropbox\\workspace\\bernielib\\bernielib.py\u001b[0m in \u001b[0;36mmoveAxis\u001b[1;34m(self, axis, dist, speed)\u001b[0m\n\u001b[0;32m   1058\u001b[0m         \u001b[1;32mif\u001b[0m \u001b[0mspeed\u001b[0m \u001b[1;32mis\u001b[0m \u001b[1;32mNone\u001b[0m\u001b[1;33m:\u001b[0m\u001b[1;33m\u001b[0m\u001b[1;33m\u001b[0m\u001b[0m\n\u001b[0;32m   1059\u001b[0m             \u001b[0mspeed\u001b[0m \u001b[1;33m=\u001b[0m \u001b[0mself\u001b[0m\u001b[1;33m.\u001b[0m\u001b[0mgetSpeed\u001b[0m\u001b[1;33m(\u001b[0m\u001b[0maxis\u001b[0m\u001b[1;33m)\u001b[0m\u001b[1;33m\u001b[0m\u001b[1;33m\u001b[0m\u001b[0m\n\u001b[1;32m-> 1060\u001b[1;33m         \u001b[0mself\u001b[0m\u001b[1;33m.\u001b[0m\u001b[0mwriteAndWaitCartesian\u001b[0m\u001b[1;33m(\u001b[0m\u001b[1;34m'G0 '\u001b[0m\u001b[1;33m+\u001b[0m\u001b[0maxis\u001b[0m\u001b[1;33m+\u001b[0m\u001b[0mstr\u001b[0m\u001b[1;33m(\u001b[0m\u001b[0mdist\u001b[0m\u001b[1;33m)\u001b[0m\u001b[1;33m+\u001b[0m\u001b[1;34m' F'\u001b[0m\u001b[1;33m+\u001b[0m\u001b[0mstr\u001b[0m\u001b[1;33m(\u001b[0m\u001b[0mspeed\u001b[0m\u001b[1;33m)\u001b[0m\u001b[1;33m)\u001b[0m\u001b[1;33m\u001b[0m\u001b[1;33m\u001b[0m\u001b[0m\n\u001b[0m\u001b[0;32m   1061\u001b[0m \u001b[1;33m\u001b[0m\u001b[0m\n\u001b[0;32m   1062\u001b[0m \u001b[1;33m\u001b[0m\u001b[0m\n",
      "\u001b[1;32mc:\\Users\\sergi\\Dropbox\\workspace\\bernielib\\bernielib.py\u001b[0m in \u001b[0;36mwriteAndWaitCartesian\u001b[1;34m(self, expression)\u001b[0m\n\u001b[0;32m    935\u001b[0m \u001b[1;33m\u001b[0m\u001b[0m\n\u001b[0;32m    936\u001b[0m     \u001b[1;32mdef\u001b[0m \u001b[0mwriteAndWaitCartesian\u001b[0m\u001b[1;33m(\u001b[0m\u001b[0mself\u001b[0m\u001b[1;33m,\u001b[0m \u001b[0mexpression\u001b[0m\u001b[1;33m)\u001b[0m\u001b[1;33m:\u001b[0m\u001b[1;33m\u001b[0m\u001b[1;33m\u001b[0m\u001b[0m\n\u001b[1;32m--> 937\u001b[1;33m         \u001b[1;32mreturn\u001b[0m \u001b[0mself\u001b[0m\u001b[1;33m.\u001b[0m\u001b[0m_writeAndWait\u001b[0m\u001b[1;33m(\u001b[0m\u001b[0mport\u001b[0m\u001b[1;33m=\u001b[0m\u001b[0mself\u001b[0m\u001b[1;33m.\u001b[0m\u001b[0mcartesian_port\u001b[0m\u001b[1;33m,\u001b[0m \u001b[0mexpression\u001b[0m\u001b[1;33m=\u001b[0m\u001b[0mexpression\u001b[0m\u001b[1;33m,\u001b[0m \u001b[0meol\u001b[0m\u001b[1;33m=\u001b[0m\u001b[1;34m'\\r'\u001b[0m\u001b[1;33m,\u001b[0m \u001b[0mconfirm_message\u001b[0m\u001b[1;33m=\u001b[0m\u001b[1;34m'ok\\n'\u001b[0m\u001b[1;33m)\u001b[0m\u001b[1;33m\u001b[0m\u001b[1;33m\u001b[0m\u001b[0m\n\u001b[0m\u001b[0;32m    938\u001b[0m \u001b[1;33m\u001b[0m\u001b[0m\n\u001b[0;32m    939\u001b[0m \u001b[1;33m\u001b[0m\u001b[0m\n",
      "\u001b[1;32mc:\\Users\\sergi\\Dropbox\\workspace\\bernielib\\bernielib.py\u001b[0m in \u001b[0;36m_writeAndWait\u001b[1;34m(self, port, expression, eol, confirm_message)\u001b[0m\n\u001b[0;32m    118\u001b[0m     \u001b[1;32mdef\u001b[0m \u001b[0m_writeAndWait\u001b[0m\u001b[1;33m(\u001b[0m\u001b[0mself\u001b[0m\u001b[1;33m,\u001b[0m \u001b[0mport\u001b[0m\u001b[1;33m,\u001b[0m \u001b[0mexpression\u001b[0m\u001b[1;33m,\u001b[0m \u001b[0meol\u001b[0m\u001b[1;33m,\u001b[0m \u001b[0mconfirm_message\u001b[0m\u001b[1;33m)\u001b[0m\u001b[1;33m:\u001b[0m\u001b[1;33m\u001b[0m\u001b[1;33m\u001b[0m\u001b[0m\n\u001b[0;32m    119\u001b[0m         \u001b[0mself\u001b[0m\u001b[1;33m.\u001b[0m\u001b[0m_write\u001b[0m\u001b[1;33m(\u001b[0m\u001b[0mport\u001b[0m\u001b[1;33m,\u001b[0m \u001b[0mexpression\u001b[0m\u001b[1;33m,\u001b[0m \u001b[0meol\u001b[0m\u001b[1;33m)\u001b[0m\u001b[1;33m\u001b[0m\u001b[1;33m\u001b[0m\u001b[0m\n\u001b[1;32m--> 120\u001b[1;33m         \u001b[0mmessage\u001b[0m \u001b[1;33m=\u001b[0m \u001b[0mself\u001b[0m\u001b[1;33m.\u001b[0m\u001b[0m_readUntilMatch\u001b[0m\u001b[1;33m(\u001b[0m\u001b[0mport\u001b[0m\u001b[1;33m,\u001b[0m \u001b[0mconfirm_message\u001b[0m\u001b[1;33m)\u001b[0m\u001b[1;33m\u001b[0m\u001b[1;33m\u001b[0m\u001b[0m\n\u001b[0m\u001b[0;32m    121\u001b[0m         \u001b[1;32mreturn\u001b[0m \u001b[0mmessage\u001b[0m\u001b[1;33m\u001b[0m\u001b[1;33m\u001b[0m\u001b[0m\n\u001b[0;32m    122\u001b[0m \u001b[1;33m\u001b[0m\u001b[0m\n",
      "\u001b[1;32mc:\\Users\\sergi\\Dropbox\\workspace\\bernielib\\bernielib.py\u001b[0m in \u001b[0;36m_readUntilMatch\u001b[1;34m(self, port, pattern)\u001b[0m\n\u001b[0;32m     97\u001b[0m         \u001b[0mmessage\u001b[0m \u001b[1;33m=\u001b[0m \u001b[1;34m''\u001b[0m\u001b[1;33m\u001b[0m\u001b[1;33m\u001b[0m\u001b[0m\n\u001b[0;32m     98\u001b[0m         \u001b[1;32mwhile\u001b[0m \u001b[1;32mTrue\u001b[0m\u001b[1;33m:\u001b[0m\u001b[1;33m\u001b[0m\u001b[1;33m\u001b[0m\u001b[0m\n\u001b[1;32m---> 99\u001b[1;33m             \u001b[0mmessage\u001b[0m \u001b[1;33m+=\u001b[0m \u001b[0mself\u001b[0m\u001b[1;33m.\u001b[0m\u001b[0m_readAll\u001b[0m\u001b[1;33m(\u001b[0m\u001b[0mport\u001b[0m\u001b[1;33m)\u001b[0m\u001b[1;33m\u001b[0m\u001b[1;33m\u001b[0m\u001b[0m\n\u001b[0m\u001b[0;32m    100\u001b[0m             \u001b[1;32mif\u001b[0m \u001b[0mre\u001b[0m\u001b[1;33m.\u001b[0m\u001b[0msearch\u001b[0m\u001b[1;33m(\u001b[0m\u001b[0mpattern\u001b[0m\u001b[1;33m=\u001b[0m\u001b[0mpattern\u001b[0m\u001b[1;33m,\u001b[0m \u001b[0mstring\u001b[0m\u001b[1;33m=\u001b[0m\u001b[0mmessage\u001b[0m\u001b[1;33m)\u001b[0m\u001b[1;33m:\u001b[0m\u001b[1;33m\u001b[0m\u001b[1;33m\u001b[0m\u001b[0m\n\u001b[0;32m    101\u001b[0m                 \u001b[0mself\u001b[0m\u001b[1;33m.\u001b[0m\u001b[0mrecent_message\u001b[0m \u001b[1;33m=\u001b[0m \u001b[0mmessage\u001b[0m\u001b[1;33m\u001b[0m\u001b[1;33m\u001b[0m\u001b[0m\n",
      "\u001b[1;32mc:\\Users\\sergi\\Dropbox\\workspace\\bernielib\\bernielib.py\u001b[0m in \u001b[0;36m_readAll\u001b[1;34m(self, port)\u001b[0m\n\u001b[0;32m     86\u001b[0m \u001b[1;33m\u001b[0m\u001b[0m\n\u001b[0;32m     87\u001b[0m     \u001b[1;32mdef\u001b[0m \u001b[0m_readAll\u001b[0m\u001b[1;33m(\u001b[0m\u001b[0mself\u001b[0m\u001b[1;33m,\u001b[0m \u001b[0mport\u001b[0m\u001b[1;33m)\u001b[0m\u001b[1;33m:\u001b[0m\u001b[1;33m\u001b[0m\u001b[1;33m\u001b[0m\u001b[0m\n\u001b[1;32m---> 88\u001b[1;33m         \u001b[0mtime\u001b[0m\u001b[1;33m.\u001b[0m\u001b[0msleep\u001b[0m\u001b[1;33m(\u001b[0m\u001b[1;36m0.05\u001b[0m\u001b[1;33m)\u001b[0m\u001b[1;33m\u001b[0m\u001b[1;33m\u001b[0m\u001b[0m\n\u001b[0m\u001b[0;32m     89\u001b[0m         \u001b[0mmessage\u001b[0m \u001b[1;33m=\u001b[0m \u001b[1;34m''\u001b[0m\u001b[1;33m\u001b[0m\u001b[1;33m\u001b[0m\u001b[0m\n\u001b[0;32m     90\u001b[0m         \u001b[1;32mwhile\u001b[0m \u001b[0mport\u001b[0m\u001b[1;33m.\u001b[0m\u001b[0minWaiting\u001b[0m\u001b[1;33m(\u001b[0m\u001b[1;33m)\u001b[0m\u001b[1;33m:\u001b[0m\u001b[1;33m\u001b[0m\u001b[1;33m\u001b[0m\u001b[0m\n",
      "\u001b[1;31mKeyboardInterrupt\u001b[0m: "
     ]
    }
   ],
   "source": [
    "for i in range(100):\n",
    "    ber.move(z=0)\n",
    "    ber.move(z=180)"
   ]
  },
  {
   "cell_type": "code",
   "execution_count": 47,
   "metadata": {},
   "outputs": [],
   "source": [
    "ber.move(x=0)"
   ]
  },
  {
   "cell_type": "code",
   "execution_count": 46,
   "metadata": {},
   "outputs": [],
   "source": [
    "ber.move(x=180)"
   ]
  },
  {
   "cell_type": "code",
   "execution_count": 54,
   "metadata": {},
   "outputs": [],
   "source": [
    "ber.pickUpNextTip()"
   ]
  },
  {
   "cell_type": "code",
   "execution_count": 55,
   "metadata": {},
   "outputs": [],
   "source": [
    "ber.dumpTipToWaste()"
   ]
  },
  {
   "cell_type": "code",
   "execution_count": 6,
   "metadata": {},
   "outputs": [],
   "source": [
    "for i in range(10):\n",
    "    ber.moveToWell(rack_name='tips', column=0, row=0, save_height=10)\n",
    "    ber.moveDownUntilPress(1, 4000)\n",
    "    ber.moveAxisDelta('Z', -20)\n",
    "    ber.dumpTip()\n",
    "    ber.move(z=0)\n",
    "    ber.move(x=0)\n",
    "    time.sleep(1)\n",
    "    ber.move(x=180)\n",
    "    time.sleep(1)"
   ]
  },
  {
   "cell_type": "code",
   "execution_count": 7,
   "metadata": {},
   "outputs": [],
   "source": [
    "ber.moveMagnetsTowardsTube(poweroff=True)"
   ]
  },
  {
   "cell_type": "code",
   "execution_count": 8,
   "metadata": {},
   "outputs": [],
   "source": [
    "ber.moveMagnetsAway(poweroff=True)"
   ]
  },
  {
   "cell_type": "code",
   "execution_count": 56,
   "metadata": {},
   "outputs": [],
   "source": [
    "samples_list = bl.createSamplesToPurifyList(ber, initial_volume_list)\n",
    "result_list = bl.createPurifiedSamplesList(ber, number_of_samples)"
   ]
  },
  {
   "cell_type": "code",
   "execution_count": 58,
   "metadata": {},
   "outputs": [],
   "source": [
    "elution_start_timestamp = eluteAllSamples(ber, samples_list, water, 30, mix_delay=0.5, mix_times=6, safe_z=50)"
   ]
  },
  {
   "cell_type": "code",
   "execution_count": null,
   "metadata": {},
   "outputs": [],
   "source": []
  }
 ],
 "metadata": {
  "kernelspec": {
   "display_name": "Python 3",
   "language": "python",
   "name": "python3"
  },
  "language_info": {
   "codemirror_mode": {
    "name": "ipython",
    "version": 3
   },
   "file_extension": ".py",
   "mimetype": "text/x-python",
   "name": "python",
   "nbconvert_exporter": "python",
   "pygments_lexer": "ipython3",
   "version": "3.7.4"
  }
 },
 "nbformat": 4,
 "nbformat_minor": 2
}
