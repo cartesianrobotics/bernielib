{
 "cells": [
  {
   "cell_type": "code",
   "execution_count": 1,
   "metadata": {},
   "outputs": [],
   "source": [
    "import csv"
   ]
  },
  {
   "cell_type": "code",
   "execution_count": 2,
   "metadata": {},
   "outputs": [
    {
     "data": {
      "text/plain": [
       "['COM3', 'COM4']"
      ]
     },
     "execution_count": 2,
     "metadata": {},
     "output_type": "execute_result"
    }
   ],
   "source": [
    "import time\n",
    "import pandas as pd\n",
    "from datetime import datetime\n",
    "\n",
    "import bernielib as bl\n",
    "\n",
    "bl.listSerialPorts()"
   ]
  },
  {
   "cell_type": "code",
   "execution_count": 3,
   "metadata": {},
   "outputs": [],
   "source": [
    "ber = bl.robot(cartesian_port_name='COM3', loadcell_port_name='COM4')"
   ]
  },
  {
   "cell_type": "code",
   "execution_count": 4,
   "metadata": {},
   "outputs": [],
   "source": [
    "ber.home()"
   ]
  },
  {
   "cell_type": "markdown",
   "metadata": {},
   "source": [
    "# Importing protocol from csv"
   ]
  },
  {
   "cell_type": "code",
   "execution_count": 44,
   "metadata": {},
   "outputs": [],
   "source": [
    "filename = './samplesheet.csv'"
   ]
  },
  {
   "cell_type": "code",
   "execution_count": 45,
   "metadata": {},
   "outputs": [],
   "source": [
    "with open(filename, mode='r') as csv_file:\n",
    "    csv_reader = csv.DictReader(csv_file)\n",
    "    content = list(csv_reader)"
   ]
  },
  {
   "cell_type": "code",
   "execution_count": 46,
   "metadata": {},
   "outputs": [
    {
     "data": {
      "text/plain": [
       "OrderedDict([('Parameters', 'Beads initial volume'),\n",
       "             ('Comments', 'uL. How much of the beads is present'),\n",
       "             ('0', '1000'),\n",
       "             ('1', ''),\n",
       "             ('2', ''),\n",
       "             ('3', ''),\n",
       "             ('4', ''),\n",
       "             ('5', ''),\n",
       "             ('6', ''),\n",
       "             ('7', ''),\n",
       "             ('8', ''),\n",
       "             ('9', ''),\n",
       "             ('10', ''),\n",
       "             ('11', ''),\n",
       "             ('12', '')])"
      ]
     },
     "execution_count": 46,
     "metadata": {},
     "output_type": "execute_result"
    }
   ],
   "source": [
    "content[3]"
   ]
  },
  {
   "cell_type": "markdown",
   "metadata": {},
   "source": [
    "#### Get row from a parameter"
   ]
  },
  {
   "cell_type": "code",
   "execution_count": 47,
   "metadata": {},
   "outputs": [],
   "source": [
    "def getRowWithParameter(content, desired_parameter):\n",
    "    for row in content:\n",
    "        current_parameter = row['Parameters']\n",
    "        if current_parameter == desired_parameter:\n",
    "            return row"
   ]
  },
  {
   "cell_type": "code",
   "execution_count": 48,
   "metadata": {},
   "outputs": [
    {
     "data": {
      "text/plain": [
       "'eppendorf'"
      ]
     },
     "execution_count": 48,
     "metadata": {},
     "output_type": "execute_result"
    }
   ],
   "source": [
    "getRowWithParameter(content, 'Sample tube type')['2']"
   ]
  },
  {
   "cell_type": "code",
   "execution_count": 51,
   "metadata": {},
   "outputs": [
    {
     "data": {
      "text/plain": [
       "'eppendorf'"
      ]
     },
     "execution_count": 51,
     "metadata": {},
     "output_type": "execute_result"
    }
   ],
   "source": [
    "getRowWithParameter(content, 'Beads tube type')['0']"
   ]
  },
  {
   "cell_type": "markdown",
   "metadata": {},
   "source": [
    "#### What positions contain samples?"
   ]
  },
  {
   "cell_type": "code",
   "execution_count": 10,
   "metadata": {},
   "outputs": [],
   "source": [
    "def positionsToPurify(content):\n",
    "    positions_list = []\n",
    "    row = getRowWithParameter(content, 'Initial sample volume')\n",
    "    for position in range(12):\n",
    "        if float(row[str(position)]) > 0:\n",
    "            positions_list.append(position)\n",
    "    return positions_list"
   ]
  },
  {
   "cell_type": "code",
   "execution_count": 11,
   "metadata": {},
   "outputs": [
    {
     "data": {
      "text/plain": [
       "[0, 1, 2]"
      ]
     },
     "execution_count": 11,
     "metadata": {},
     "output_type": "execute_result"
    }
   ],
   "source": [
    "positionsToPurify(content)"
   ]
  },
  {
   "cell_type": "markdown",
   "metadata": {},
   "source": [
    "#### Getting lists of all properties"
   ]
  },
  {
   "cell_type": "code",
   "execution_count": 12,
   "metadata": {},
   "outputs": [],
   "source": [
    "def sortProperties(settings):\n",
    "    \"\"\"\n",
    "    Will return 2 lists: one for protocol-wide properties, another one for sample-specific properties\n",
    "    \"\"\"\n",
    "    protocol_wide_parameter_list = []\n",
    "    sample_specific_parameter_list = []\n",
    "    for row in settings:\n",
    "        current_parameter = row['Parameters']\n",
    "        position_missing_value = False\n",
    "        # going through the values\n",
    "        for position in range(12):\n",
    "            value = row[str(position)]\n",
    "            if value == '' or value is None:\n",
    "                position_missing_value = True\n",
    "        if position_missing_value:\n",
    "            protocol_wide_parameter_list.append(current_parameter)\n",
    "        else:\n",
    "            sample_specific_parameter_list.append(current_parameter)\n",
    "\n",
    "    return protocol_wide_parameter_list, sample_specific_parameter_list"
   ]
  },
  {
   "cell_type": "code",
   "execution_count": 13,
   "metadata": {},
   "outputs": [],
   "source": [
    "properties_protocol, properties_sample = sortProperties(content)"
   ]
  },
  {
   "cell_type": "code",
   "execution_count": 14,
   "metadata": {},
   "outputs": [],
   "source": [
    "def returnProtocolParameter(settings, param):\n",
    "    row = getRowWithParameter(settings, param)\n",
    "    value = row['0']\n",
    "    try:\n",
    "        value = float(value)\n",
    "    except:\n",
    "        pass\n",
    "    return value"
   ]
  },
  {
   "cell_type": "code",
   "execution_count": 15,
   "metadata": {},
   "outputs": [],
   "source": [
    "def returnSampleParameter(settings, param, position):\n",
    "    row = getRowWithParameter(settings, param)\n",
    "    value = row[str(position)]\n",
    "    try:\n",
    "        value = float(value)\n",
    "    except:\n",
    "        pass\n",
    "    return value    "
   ]
  },
  {
   "cell_type": "code",
   "execution_count": 16,
   "metadata": {},
   "outputs": [
    {
     "data": {
      "text/plain": [
       "['Text line',\n",
       " 'Perform initial checkup',\n",
       " 'Tip box refilled',\n",
       " 'DNA absorption time',\n",
       " 'Times to mix while absorbing',\n",
       " 'Beads pulling time after absorption',\n",
       " 'First stage ethanol wash time',\n",
       " 'Second stage ethanol wash time',\n",
       " 'Remove extra liquid with a fresh tip',\n",
       " 'Time to dry after ethanol wash',\n",
       " 'Elution time',\n",
       " 'Times to mix while eluting']"
      ]
     },
     "execution_count": 16,
     "metadata": {},
     "output_type": "execute_result"
    }
   ],
   "source": [
    "properties_protocol"
   ]
  },
  {
   "cell_type": "code",
   "execution_count": 17,
   "metadata": {},
   "outputs": [
    {
     "data": {
      "text/plain": [
       "5.0"
      ]
     },
     "execution_count": 17,
     "metadata": {},
     "output_type": "execute_result"
    }
   ],
   "source": [
    "returnProtocolParameter(content, 'DNA absorption time')"
   ]
  },
  {
   "cell_type": "code",
   "execution_count": 18,
   "metadata": {},
   "outputs": [
    {
     "data": {
      "text/plain": [
       "['Sample tube type',\n",
       " 'Initial sample volume',\n",
       " 'DNA size cutoff',\n",
       " 'Fraction',\n",
       " 'Beads volume',\n",
       " 'First stage ethanol wash volume',\n",
       " 'Second stage ethanol wash volume',\n",
       " 'Elution volume']"
      ]
     },
     "execution_count": 18,
     "metadata": {},
     "output_type": "execute_result"
    }
   ],
   "source": [
    "properties_sample"
   ]
  },
  {
   "cell_type": "code",
   "execution_count": 19,
   "metadata": {},
   "outputs": [
    {
     "data": {
      "text/plain": [
       "'ep'"
      ]
     },
     "execution_count": 19,
     "metadata": {},
     "output_type": "execute_result"
    }
   ],
   "source": [
    "returnSampleParameter(content, 'Sample tube type', 2)"
   ]
  },
  {
   "cell_type": "code",
   "execution_count": 20,
   "metadata": {},
   "outputs": [
    {
     "data": {
      "text/plain": [
       "17.0"
      ]
     },
     "execution_count": 20,
     "metadata": {},
     "output_type": "execute_result"
    }
   ],
   "source": [
    "returnSampleParameter(content, 'Beads volume', 2)"
   ]
  },
  {
   "cell_type": "markdown",
   "metadata": {},
   "source": [
    "# Functions for an actual protocol"
   ]
  },
  {
   "cell_type": "markdown",
   "metadata": {},
   "source": [
    "## Initializing tubes and samples"
   ]
  },
  {
   "cell_type": "code",
   "execution_count": 30,
   "metadata": {},
   "outputs": [],
   "source": [
    "def initSamples(robot, settings):\n",
    "    initial_vol_list = []\n",
    "    # Getting list of positions at which samples are placed\n",
    "    samples_positions_list = positionsToPurify(settings)\n",
    "    # Obtaining initial sample volume from settings\n",
    "    for position in samples_positions_list:\n",
    "        volume = returnSampleParameter(settings, 'Initial sample volume', position)\n",
    "        initial_vol_list.append(volume)\n",
    "    # Initializing sample instances\n",
    "    samples_list = bl.createSamplesToPurifyList(robot, initial_vol_list)\n",
    "    return samples_list"
   ]
  },
  {
   "cell_type": "code",
   "execution_count": 31,
   "metadata": {},
   "outputs": [],
   "source": [
    "def initResultTubes(robot, settings):\n",
    "    # Getting list of positions at which samples are placed\n",
    "    samples_positions_list = positionsToPurify(settings)\n",
    "    N_samples = len(samples_positions_list) # Number of samples\n",
    "    # Initializing results tube instances\n",
    "    result_list = bl.createPurifiedSamplesList(robot, N_samples)"
   ]
  },
  {
   "cell_type": "code",
   "execution_count": 54,
   "metadata": {},
   "outputs": [],
   "source": [
    "def initReagents(robot, settings):\n",
    "    \"\"\"\n",
    "    Return 4 instances of the reagent tubes: \n",
    "    for beads, waste, eluent, ethanol 80%; in this particular order.\n",
    "    The parameters for the tubes (such as volume and location) are also defined according to the sample sheet.\n",
    "    \"\"\"\n",
    "    \n",
    "    # Beads tube settings\n",
    "    beads_tube_type = returnProtocolParameter(settings, 'Beads tube type')\n",
    "    beads_rack_name = returnProtocolParameter(settings, 'Beads tube rack')\n",
    "    if beads_rack_name == 'samples':\n",
    "        beads_rack = robot.samples_rack\n",
    "    elif beads_rack_name == 'reagents':\n",
    "        beads_rack = robot.reagents_rack\n",
    "    else:\n",
    "        print (\"wrong Beads tube rack specified in the samplesheet file\")\n",
    "        return\n",
    "    beads_col = int(returnProtocolParameter(settings, 'Beads tube column'))\n",
    "    beads_row = int(returnProtocolParameter(settings, 'Beads tube well'))\n",
    "    V_avail_beads = returnProtocolParameter(settings, 'Beads initial volume')\n",
    "    \n",
    "    # Initializing beads tube\n",
    "    beads_tube = bl.createSample(beads_tube_type, 'beads', beads_rack, beads_col, beads_row, V_avail_beads)\n",
    "\n",
    "    \n",
    "    # -------------------\n",
    "    # Waste tube settings\n",
    "    waste_tube_type = returnProtocolParameter(settings, 'Waste tube type')\n",
    "    waste_rack_name = returnProtocolParameter(settings, 'Waste tube rack')\n",
    "    if waste_rack_name == 'reagents':\n",
    "        waste_rack = robot.reagents_rack\n",
    "    else:\n",
    "        print (\"wrong Waste tube rack specified in the samplesheet file\")\n",
    "        return\n",
    "    waste_col = 0\n",
    "    waste_row = int(returnProtocolParameter(settings, 'Waste tube position'))\n",
    "    V_waste = returnProtocolParameter(settings, 'Waste volume')\n",
    "    \n",
    "    # Initializing waste tube\n",
    "    waste_tube = bl.createSample(waste_tube_type, 'liquid_waste', waste_rack, waste_col, waste_row, V_waste)\n",
    "\n",
    "    \n",
    "    # -------------------\n",
    "    # Eluent tube settings\n",
    "    eluent_tube_type = returnProtocolParameter(settings, 'Eluent tube type')\n",
    "    eluent_rack_name = returnProtocolParameter(settings, 'Eluent tube rack')\n",
    "    if eluent_rack_name == 'reagents':\n",
    "        eluent_rack = robot.reagents_rack\n",
    "    else:\n",
    "        print (\"wrong Eluent tube rack specified in the samplesheet file\")\n",
    "        return\n",
    "    eluent_col = 0\n",
    "    eluent_row = int(returnProtocolParameter(settings, 'Eluent tube position'))\n",
    "    V_avail_eluent = returnProtocolParameter(settings, 'Eluent volume')\n",
    "    \n",
    "    # Initializing eluent tube\n",
    "    eluent_tube = bl.createSample(eluent_tube_type, 'eluent', eluent_rack, eluent_col, eluent_row, V_avail_eluent)\n",
    "\n",
    "    \n",
    "    # -------------------\n",
    "    # Ethanol tube settings\n",
    "    ethanol_tube_type = returnProtocolParameter(settings, 'Ethanol tube type')\n",
    "    ethanol_rack_name = returnProtocolParameter(settings, 'Ethanol tube rack')\n",
    "    if ethanol_rack_name == 'reagents':\n",
    "        ethanol_rack = robot.reagents_rack\n",
    "    else:\n",
    "        print (\"wrong Ethanol tube rack specified in the samplesheet file\")\n",
    "        return\n",
    "    ethanol_col = 0\n",
    "    ethanol_row = int(returnProtocolParameter(settings, 'Ethanol tube position'))\n",
    "    V_avail_ethanol = returnProtocolParameter(settings, 'Ethanol volume')    \n",
    "    \n",
    "    ethanol80_tube = bl.createSample(ethanol_tube_type, 'EtOH80pct', ethanol_rack, ethanol_col, ethanol_row, V_avail_ethanol)\n",
    "    \n",
    "    return beads_tube, waste_tube, eluent_tube, ethanol80_tube"
   ]
  },
  {
   "cell_type": "markdown",
   "metadata": {},
   "source": [
    "## Functions to calculate beads volume"
   ]
  },
  {
   "cell_type": "code",
   "execution_count": 69,
   "metadata": {},
   "outputs": [],
   "source": [
    "def getBeadsVolume(robot, settings, position):\n",
    "    # Importing all possible parameters\n",
    "    beads_volume = returnSampleParameter(settings, 'Beads volume', position)\n",
    "    beads_volume_fraction = returnSampleParameter(settings, 'Fraction', position)\n",
    "    dna_size_cutoff = returnSampleParameter(settings, 'DNA size cutoff', position)\n",
    "    init_sample_vol = returnSampleParameter(settings, 'Initial sample volume', position)\n",
    "    \n",
    "    # Deciding which one to use\n",
    "    if beads_volume > 0:\n",
    "        use_beads_volume = beads_volume\n",
    "    elif beads_volume <= 0 and beads_volume_fraction > 0:\n",
    "        # If the beads volumes are not explicitly provided, use the volume multiplier (fraction)\n",
    "        use_beads_volume = init_sample_vol * beads_volume_fraction\n",
    "    elif beads_volume <= 0 and beads_volume_fraction <= 0 and dna_size_cutoff > 0:\n",
    "        # Approximation using the beads manufacturer data\n",
    "        # Using if neither beads volume, nor beads volume multiplier are explicitly provided.\n",
    "        # Getting polynome coefficients\n",
    "        a, b, c = robot.getBeadsVolumeCoef()\n",
    "        # Calculating volume multiplier (fraction)\n",
    "        multiplier = a + b / dna_size_cutoff + c / dna_size_cutoff ** 2\n",
    "        use_beads_volume = init_sample_vol * multiplier\n",
    "    else:\n",
    "        print(\"No beads volume provided\")\n",
    "        use_beads_volume = 0\n",
    "    return use_beads_volume    "
   ]
  },
  {
   "cell_type": "code",
   "execution_count": 60,
   "metadata": {},
   "outputs": [],
   "source": [
    "def getBeadsVolumesForAllSamples(robot, settings, positions_list):\n",
    "    beads_vol_list = []\n",
    "    for position in positions_list:\n",
    "        v = getBeadsVolume(robot, settings, position)\n",
    "        beads_vol_list.append(v)\n",
    "    return beads_vol_list"
   ]
  },
  {
   "cell_type": "code",
   "execution_count": 72,
   "metadata": {},
   "outputs": [
    {
     "data": {
      "text/plain": [
       "[40.0, 30.0, 17.0]"
      ]
     },
     "execution_count": 72,
     "metadata": {},
     "output_type": "execute_result"
    }
   ],
   "source": [
    "getBeadsVolumesForAllSamples(ber, content, [0, 1, 2])"
   ]
  },
  {
   "cell_type": "markdown",
   "metadata": {},
   "source": [
    "## Functions to get ethanol wash volumes from settings"
   ]
  },
  {
   "cell_type": "code",
   "execution_count": null,
   "metadata": {},
   "outputs": [],
   "source": [
    "def getWashVolume(settings, stage):\n",
    "    vol_list = []\n",
    "    samples_positions_list = positionsToPurify(settings)\n",
    "    if stage == 1:\n",
    "        parameter_name = 'First stage ethanol wash volume'\n",
    "    elif stage == 2:\n",
    "        parameter_name = 'Second stage ethanol wash volume'\n",
    "    else:\n",
    "        parameter_name = 'First stage ethanol wash volume'\n",
    "    for position in samples_positions_list:\n",
    "        volume = returnSampleParameter(settings, parameter_name, position)\n",
    "        vol_list.append(volume)\n",
    "    return vol_list"
   ]
  },
  {
   "cell_type": "code",
   "execution_count": 55,
   "metadata": {},
   "outputs": [],
   "source": [
    "def calcBeadsVolumeToAdd(robot, samples_list, cutoff_list):\n",
    "    v_beads_list = []\n",
    "    for sample, dna_size in zip(samples_list, cutoff_list):\n",
    "        v_beads = robot.calcBeadsVol(sample, dna_size)\n",
    "        v_beads_list.append(v_beads)\n",
    "    return v_beads_list\n",
    "\n",
    "def waitAfterTimestamp(timestamp, delay):\n",
    "    new_ts = time.time()\n",
    "    while (new_ts - timestamp) < delay:\n",
    "        time.sleep(1)\n",
    "        new_ts = time.time()\n",
    "\n",
    "def waitAndMixByScript(robot, sample, timestamp, delay, mix_script, tip_col, tip_row):\n",
    "    new_ts = time.time()\n",
    "    robot.pickUpNextTip()\n",
    "    robot.move(z=50)\n",
    "    while (new_ts - timestamp) < delay:\n",
    "        robot.mixByScript(sample, mix_script)\n",
    "        robot.move(z=50)\n",
    "        new_ts = time.time()\n",
    "    robot.dumpTipToPosition(tip_col, tip_row)\n",
    "\n",
    "def mixManySamples(robot, samples_list, timestamp, delay, mix_cycle_number, mix_script):\n",
    "    delay_between_mixes = delay / (mix_cycle_number + 1)\n",
    "    # Waiting before the first mix.\n",
    "    # Needed for the case when the mix cycle number = 0. In this case, \n",
    "    # no mixing will happen, just waiting.\n",
    "    new_ts = time.time()\n",
    "    time_spent_pipetting = new_ts - timestamp\n",
    "    wait_time_until_next_mix = delay_between_mixes - time_spent_pipetting\n",
    "    time.sleep(wait_time_until_next_mix)    \n",
    "    for cycle in range(mix_cycle_number):\n",
    "        for sample in samples_list:\n",
    "            robot.pickUpNextTip()\n",
    "            robot.move(z=50)    \n",
    "            robot.mixByScript(sample, mix_script)\n",
    "            robot.move(z=50)\n",
    "            robot.dumpTipToWaste()\n",
    "            \n",
    "        new_ts = time.time()\n",
    "        time_spent_pipetting = new_ts - timestamp\n",
    "        wait_time_until_next_mix = delay_between_mixes - time_spent_pipetting\n",
    "        time.sleep(wait_time_until_next_mix)\n",
    "    \n",
    "    \n",
    "def addBeads(robot, sample, beads, v_beads, sample_mix_scenario, beads_mix_scenario, z_safe=50):\n",
    "    robot.move(z=z_safe)\n",
    "    #robot.pickUpNextTip()\n",
    "    #robot.move(z=z_safe)\n",
    "    # Mixing beads before experiment\n",
    "    #robot.mixByScript(beads, beads_mix_scenario)\n",
    "    # Transferring beads to sample\n",
    "    robot.transferLiquid(beads, sample, v_beads)\n",
    "    # Mixing sample with beads\n",
    "    robot.mixByScript(sample, sample_mix_scenario)\n",
    "    robot.move(z=z_safe)\n",
    "    #robot.dumpTipToWaste()\n",
    "    robot.move(z=z_safe)\n",
    "\n",
    "def addBeadsToAll(robot, samples_list, v_beads_list, beads, sample_mix_scenario, beads_mix_scenario, used_tip_fate='waste'):\n",
    "    robot.moveMagnetsAway(poweroff=True)\n",
    "    robot.pickUpNextTip()\n",
    "    robot.move(z=50)\n",
    "    robot.mixByScript(beads, beads_mix_scenario)\n",
    "    robot.move(z=50)\n",
    "    \n",
    "    for sample, v_beads in zip(samples_list, v_beads_list):\n",
    "        robot.transferLiquid(beads, sample, v_beads, touch_wall=False)\n",
    "    \n",
    "    counter = 0\n",
    "    for sample, v_beads in zip(samples_list, v_beads_list):\n",
    "        if counter != 0:\n",
    "            robot.move(z=50)\n",
    "            robot.pickUpNextTip()\n",
    "        \n",
    "        robot.move(z=50)\n",
    "        \n",
    "        robot.mixByScript(sample, sample_mix_scenario)\n",
    "            \n",
    "        if counter == 0:\n",
    "            timestamp = time.time()\n",
    "        counter += 1\n",
    "        \n",
    "        robot.move(z=50)\n",
    "        if used_tip_fate == 'waste':\n",
    "            robot.dumpTipToWaste()\n",
    "        elif used_tip_fate == 'back':\n",
    "            robot.returnTipBack()\n",
    "        else:\n",
    "            print(\"Wrong tip fate provided. Dumping the tip to waste.\")\n",
    "            robot.dumpTipToWaste()\n",
    "    \n",
    "    return timestamp\n",
    "\n",
    "def removeSupernatant(robot, sample, waste, z_safe=50, delay=0.5):\n",
    "    robot.pickUpNextTip()\n",
    "    robot.move(z=z_safe)\n",
    "    z0 = robot._getTubeZBottom(sample)\n",
    "    while sample.getVolume() > 200:\n",
    "        robot.movePipetteToVolume(200)\n",
    "        robot.moveToSample(sample)\n",
    "        robot.move(z=z0-0.5)\n",
    "        robot.movePipetteToVolume(0)\n",
    "        new_vol = sample.getVolume() - 200\n",
    "        if new_vol < 0:\n",
    "            new_vol = 0\n",
    "        sample.setVolume(new_vol)\n",
    "        robot.move(z=z_safe)\n",
    "        robot.dispenseLiquid(waste, 200, blow_extra=True)\n",
    "        robot.move(z=z_safe)\n",
    "    robot.moveToSample(sample)\n",
    "    robot.movePipetteToVolume(250)\n",
    "    robot.move(z=z0)\n",
    "    robot.movePipetteToVolume(50)\n",
    "    time.sleep(delay)\n",
    "    robot.move(z=z0-0.5)\n",
    "    time.sleep(delay)\n",
    "    robot.moveAxisDelta('X', 1.5)\n",
    "    robot.movePipetteToVolume(40)\n",
    "    time.sleep(delay/4.0)\n",
    "    robot.moveAxisDelta('X', -1.5)\n",
    "    robot.moveAxisDelta('Y', 1.5)\n",
    "    robot.movePipetteToVolume(30)\n",
    "    time.sleep(delay/4.0)\n",
    "    robot.moveAxisDelta('Y', -1.5)\n",
    "    robot.moveAxisDelta('X', -1.5)    \n",
    "    robot.movePipetteToVolume(20)\n",
    "    time.sleep(delay/4.0)\n",
    "    robot.moveAxisDelta('X', 1.5)\n",
    "    robot.moveAxisDelta('Y', -1.5)\n",
    "    robot.movePipetteToVolume(0)\n",
    "    time.sleep(delay/4.0)\n",
    "    robot.move(z=z_safe)\n",
    "    robot.dispenseLiquid(waste, 250, blow_extra=True)\n",
    "    robot.move(z=z_safe)\n",
    "    robot.dumpTipToWaste()\n",
    "\n",
    "def removeSupernatantFast(robot, sample, waste, z_safe=50, delay=0.5):\n",
    "    robot.pickUpNextTip()\n",
    "    robot.move(z=z_safe)\n",
    "    z0 = robot._getTubeZBottom(sample)\n",
    "    while sample.getVolume() > 0:\n",
    "        robot.movePipetteToVolume(200)\n",
    "        robot.moveToSample(sample)\n",
    "        robot.move(z=z0-0.5)\n",
    "        robot.movePipetteToVolume(0)\n",
    "        new_vol = sample.getVolume() - 200\n",
    "        if new_vol < 0:\n",
    "            new_vol = 0\n",
    "        sample.setVolume(new_vol)\n",
    "        time.sleep(delay)\n",
    "        robot.move(z=z_safe)\n",
    "        robot.dispenseLiquid(waste, 200, blow_extra=True)\n",
    "        robot.move(z=z_safe)\n",
    "    robot.dumpTipToWaste()\n",
    "\n",
    "def removeSupernatantAllSamples(robot, samples_list, waste, how='fast'):\n",
    "    counter = 0\n",
    "    for sample in samples_list:\n",
    "        if how == 'fast':\n",
    "            removeSupernatantFast(robot, sample, waste)\n",
    "        else:\n",
    "            removeSupernatant(robot, sample, waste)\n",
    "        if counter == 0:\n",
    "            sample_dried_timestamp = time.time()\n",
    "        counter += 1\n",
    "    return sample_dried_timestamp\n",
    "\n",
    "def add80PctEthanol(robot, samples_list, ethanol, volume_list, z_safe=50):\n",
    "    robot.pickUpNextTip()\n",
    "    robot.move(z=z_safe)\n",
    "    \n",
    "    counter = 0\n",
    "    for sample, volume in zip(samples_list, volume_list):\n",
    "        robot.transferLiquid(ethanol, sample, volume, touch_wall=False)\n",
    "        if counter == 0:\n",
    "            ethanol_added_time = time.time()\n",
    "        counter += 1\n",
    "    \n",
    "    robot.move(z=z_safe)\n",
    "    robot.dumpTipToWaste()\n",
    "    \n",
    "    return ethanol_added_time\n",
    "\n",
    "def elutionMix(robot, sample, volume, delay=0.5):\n",
    "    z0 = robot._getTubeZBottom(sample)\n",
    "    z_top = sample.getSampleTopAbsZ(added_length=robot._calcExtraLength())\n",
    "    robot.movePipetteToVolume(0)\n",
    "    robot.movePipetteToVolume(volume+5)\n",
    "    robot.movePipetteToVolume(volume)\n",
    "    robot.move(z=z0-0.5)\n",
    "    robot.movePipetteToVolume(0)\n",
    "    time.sleep(delay)\n",
    "    # Washing steps, moving along the wall\n",
    "    # 1\n",
    "    z_curr = z_top + 24\n",
    "    #z_curr = sample.calcAbsLiquidLevelFromVol(500, added_length=robot._calcExtraLength())\n",
    "    robot.move(z=z_curr)\n",
    "    robot.moveAxisDelta('X', 3.0)\n",
    "    robot.movePipetteToVolume(volume/4.0)\n",
    "    time.sleep(delay/4.0)\n",
    "    # 2\n",
    "    z_curr = z_top + 28\n",
    "    #z_curr = sample.calcAbsLiquidLevelFromVol(300, added_length=robot._calcExtraLength())\n",
    "    robot.move(z=z_curr)\n",
    "    #robot.moveAxisDelta('X', -0.629)\n",
    "    robot.movePipetteToVolume(2 * (volume/4.0))\n",
    "    time.sleep(delay/4.0)\n",
    "    # 3\n",
    "    z_curr = z_top + 32\n",
    "    #z_curr = sample.calcAbsLiquidLevelFromVol(150, added_length=robot._calcExtraLength())\n",
    "    robot.move(z=z_curr)\n",
    "    robot.moveAxisDelta('X', -0.629)\n",
    "    robot.movePipetteToVolume(3 * (volume/4.0))\n",
    "    time.sleep(delay/4.0)\n",
    "    # 4\n",
    "    z_curr = z_top + 36\n",
    "    #z_curr = sample.calcAbsLiquidLevelFromVol(150, added_length=robot._calcExtraLength())\n",
    "    robot.move(z=z_curr)\n",
    "    robot.moveAxisDelta('X', -0.629)\n",
    "    robot.movePipetteToVolume(volume)\n",
    "    time.sleep(delay/4.0)\n",
    "    \n",
    "    x, y = sample.getCenterXY()\n",
    "    robot.move(x=x, y=y)\n",
    "    z_curr = sample.calcAbsLiquidLevelFromVol(volume+100, added_length=robot._calcExtraLength())\n",
    "    robot.move(z=z_curr)\n",
    "    \n",
    "    robot.movePipetteToVolume(volume+50)\n",
    "    time.sleep(delay)\n",
    "    robot.movePipetteToVolume(0)\n",
    "\n",
    "def elutionMixLrgVol(robot, sample, volume, delay=0.5):\n",
    "    z0 = robot._getTubeZBottom(sample)\n",
    "    z_top = sample.getSampleTopAbsZ(added_length=robot._calcExtraLength())\n",
    "    \n",
    "    # Uptaking\n",
    "    robot.movePipetteToVolume(0)\n",
    "    robot.movePipetteToVolume(volume+5)\n",
    "    robot.movePipetteToVolume(volume)\n",
    "    robot.move(z=z0-0.8)\n",
    "    robot.movePipetteToVolume(0)\n",
    "    time.sleep(delay)\n",
    "    \n",
    "    # Ejecting liquid\n",
    "    z_curr = sample.calcAbsLiquidLevelFromVol(1000, added_length=robot._calcExtraLength())\n",
    "    robot.move(z=z_curr)\n",
    "    robot.moveAxisDelta('X', 3.4)\n",
    "    robot.movePipetteToVolume(volume+50)\n",
    "    z_curr = sample.calcAbsLiquidLevelFromVol(500, added_length=robot._calcExtraLength())\n",
    "    robot.move(z=z_curr)\n",
    "    \n",
    "    # To back position\n",
    "    x, y = sample.getCenterXY()\n",
    "    robot.move(x=x, y=y)\n",
    "    \n",
    "    robot.movePipetteToVolume(0)\n",
    "\n",
    "#TODO: make safe_z a general property of the robot\n",
    "def elute(robot, sample, eluent, volume, mix_delay=0.5, mix_times=5, safe_z=50):\n",
    "    robot.moveMagnetsAway(poweroff=True)\n",
    "    robot.pickUpNextTip()\n",
    "    robot.move(z=safe_z)\n",
    "    robot.transferLiquid(eluent, sample, volume)\n",
    "    for i in range(mix_times):\n",
    "        elutionMixLrgVol(robot, sample, volume)\n",
    "        elutionMixLrgVol(robot, sample, volume)\n",
    "        elutionMix(robot, sample, volume)\n",
    "    elution_start_time = time.time()\n",
    "    elutionMix(robot, sample, volume)\n",
    "    elutionMix(robot, sample, volume)\n",
    "    \n",
    "    robot.move(z=safe_z)\n",
    "    robot.returnTipBack()\n",
    "    #robot.dumpTipToWaste()\n",
    "    sample.setVolume(volume)\n",
    "    return elution_start_time\n",
    "\n",
    "def eluteAllSamples(robot, samples_list, eluent, V_eluent, mix_delay=0.5, mix_times=4, safe_z=50):\n",
    "    counter = 0\n",
    "    for sample in samples_list:\n",
    "        ts = elute(ber, sample, eluent, V_eluent, mix_delay=mix_delay, mix_times=mix_times, safe_z=safe_z)\n",
    "        print ()\n",
    "        if counter == 0:\n",
    "            elution_start_timestamp = ts\n",
    "        counter += 1\n",
    "    return elution_start_timestamp\n",
    "\n",
    "def separateEluate(robot, eluate_tube, result_tube, pipette_delay=1.0, z_above_bottom=0.2, safe_z=50):\n",
    "    robot.pickUpNextTip()       # Getting a new tip\n",
    "    robot.move(z=safe_z)        # Moving up so the tip does not hit anything\n",
    "    # Uptaking liquid\n",
    "    v = eluate_tube.getVolume()      # Volume in the tube with the mix of the eluted DNA and beads\n",
    "    v = v * 2                        # Will uptake extra volume\n",
    "    robot.moveToSample(eluate_tube)  # Moving XY to the sample with the eluted DNA and the beads.\n",
    "    robot.movePipetteToVolume(v+5)   # \n",
    "    robot.movePipetteToVolume(v)     # Plunger down to the volume of the DNA solution\n",
    "    z0 = robot._getTubeZBottom(eluate_tube)  # Bottom of the tube with eluted DNA and beads\n",
    "    robot.move(z=z0-z_above_bottom) # Moving to the bottom of the tube with eluted DNA and beads\n",
    "    robot.movePipetteToVolume(v/2.0)    # Plunger half-way up\n",
    "    time.sleep(pipette_delay)       # Waiting\n",
    "    robot.move(z=z0-z_above_bottom-1.0, speed_z=30)\n",
    "    robot.move(z=z0-z_above_bottom, speed_z=30)\n",
    "    robot.movePipetteToVolume(0.0)  # Plunger all the way up\n",
    "    time.sleep(pipette_delay)       # Waiting\n",
    "    robot.move(z=z0-z_above_bottom-1.0, speed_z=30)\n",
    "    time.sleep(pipette_delay)       # Waiting\n",
    "    # Dispensing liquid\n",
    "    robot.moveToSample(result_tube)  # Moving XY to the empty tube for the purified DNA\n",
    "    robot.movePipetteToVolume(v+5)   # Plunger down to the volume of the DNA solution that is currently in the tip\n",
    "    time.sleep(pipette_delay)        # Waiting for water to drip\n",
    "    robot.movePipetteToVolume(200)   # Moving plunger all the way down (removing any extra drops from the tip)\n",
    "    time.sleep(pipette_delay)        # Waiting for the water to drip\n",
    "    robot.touchWall(result_tube)     # Touching the wall to remove a potential drop of DNA solution from the tip end.\n",
    "    robot.movePipetteToVolume(0)    # Plunger back up\n",
    "    robot.move(z=safe_z)            # Moving Z up so the tip does not hit anything\n",
    "    ber.dumpTipToWaste()            # Discarding the tip\n",
    "\n",
    "    \n",
    "def oneStagePurification(robot, settings, cutoff_list, \n",
    "                         sample_mix_scenario, beads_mix_scenario,\n",
    "                         T_wash=30, T_dry=300, T_elute=600,\n",
    "                         V_wash=200, V_elute=30):\n",
    "    \n",
    "    print(\"Loading parameters from the sample sheet. Started \", datetime.now().strftime(\"%H:%M:%S\"))\n",
    "    samples_list = initSamples(robot, settings)\n",
    "    result_list = initResultTubes(robot, settings)\n",
    "    beads, waste, water, EtOH80pct = initReagents(robot, settings)\n",
    "    positions_list = positionsToPurify(settings)\n",
    "    v_beads_list = getBeadsVolumesForAllSamples(robot, settings, positions_list)\n",
    "    v_ethanol_1st_stage_list = getWashVolume(settings, 1)\n",
    "    v_ethanol_2nd_stage_list = getWashVolume(settings, 2)\n",
    "    DNA_absorb_mix_number = returnProtocolParameter(settings, 'Times to mix while absorbing')\n",
    "    # All times are provided in miuntes in sample sheet (for user's convenience),\n",
    "    # but the library uses seconds. Don't forget to multiply by 60.\n",
    "    T_absorb = returnProtocolParameter(settings, 'DNA absorption time') * 60.0\n",
    "    T_pull = returnProtocolParameter(settings, 'Beads pulling time after absorption') * 60.0\n",
    "    T_wash_1 = returnProtocolParameter(settings, 'First stage ethanol wash time') * 60.0\n",
    "    T_wash_2 = returnProtocolParameter(settings, 'Second stage ethanol wash time') * 60.0\n",
    "    T_dry = returnProtocolParameter(settings, 'Time to dry after ethanol wash') * 60.0\n",
    "\n",
    "    print(\"Experiment started \", datetime.now().strftime(\"%H:%M:%S\"))    \n",
    "    # Adding beads\n",
    "    timestamp_beads_added = addBeadsToAll(robot, samples_list, v_beads_list, beads, \n",
    "                                          sample_mix_scenario, beads_mix_scenario, used_tip_fate='waste')\n",
    "    print(\"Beads added \", datetime.now().strftime(\"%H:%M:%S\"))\n",
    "    print(\"Waiting for DNA absorption\")\n",
    "    mixManySamples(robot, samples_list, timestamp_beads_added, T_absorb, DNA_absorb_mix_number, sample_mix_scenario):\n",
    "    print(\"DNA absorption finished \", datetime.now().strftime(\"%H:%M:%S\"))\n",
    "    # Removing supernatant\n",
    "    robot.moveMagnetsTowardsTube(poweroff=True)\n",
    "    time.sleep(T_pull)\n",
    "    print(\"Beads pulled to the side \", datetime.now().strftime(\"%H:%M:%S\"))\n",
    "    ts = removeSupernatantAllSamples(robot, samples_list, waste, how='fast')\n",
    "    print(\"Supernatant removed \", datetime.now().strftime(\"%H:%M:%S\"))\n",
    "    # Ethanol wash\n",
    "    # Wash 1\n",
    "    timestamp_ethanol_added = add80PctEthanol(robot, samples_list, EtOH80pct, v_ethanol_1st_stage_list)\n",
    "    print(\"Wash 1: ethanol added \", datetime.now().strftime(\"%H:%M:%S\"))\n",
    "    waitAfterTimestamp(timestamp_ethanol_added, T_wash_1)\n",
    "    print(\"Wash 1: ethanol incubation finished \", datetime.now().strftime(\"%H:%M:%S\"))\n",
    "    ts = removeSupernatantAllSamples(robot, samples_list, waste, how='fast')\n",
    "    print(\"Wash 1: ethanol removed \", datetime.now().strftime(\"%H:%M:%S\"))\n",
    "    # Wash 2\n",
    "    timestamp_ethanol_added = add80PctEthanol(robot, samples_list, EtOH80pct, v_ethanol_2nd_stage_list)\n",
    "    print(\"Wash 2: ethanol added \", datetime.now().strftime(\"%H:%M:%S\"))\n",
    "    waitAfterTimestamp(timestamp_ethanol_added, T_wash_2)\n",
    "    print(\"Wash 2: ethanol incubation finished \", datetime.now().strftime(\"%H:%M:%S\"))\n",
    "    timestamp_ethanol_removed = removeSupernatantAllSamples(robot, samples_list, waste, how='full')\n",
    "    print(\"Wash 2: ethanol removed \", datetime.now().strftime(\"%H:%M:%S\"))\n",
    "    # Drying ethanol\n",
    "    waitAfterTimestamp(timestamp_ethanol_removed, T_dry)\n",
    "    print(\"Ethanol drying finished \", datetime.now().strftime(\"%H:%M:%S\"))\n",
    "    \n",
    "    # Elution\n",
    "    # Adding water\n",
    "#    elution_start_timestamp = eluteAllSamples(robot, samples_list, water, V_elute, mix_delay=0.5, mix_times=6, safe_z=50)\n",
    "#    print(\"Eluent added \", datetime.now().strftime(\"%H:%M:%S\"))\n",
    "#    last_tip_col, last_tip_row = robot.last_tip_coord\n",
    "#    waitAndMixByScript(robot, samples_list[0], elution_start_timestamp, T_absorb, sample_mix_scenario, \n",
    "#                       last_tip_col, last_tip_row)\n",
    "    #waitAfterTimestamp(elution_start_timestamp, T_elute) # elution wait\n",
    "#    print(\"Elution incubation finished \", datetime.now().strftime(\"%H:%M:%S\"))\n",
    "    \n",
    "    # Magnetic beads to the side of the tubes\n",
    "#    ber.moveMagnetsTowardsTube()\n",
    "#    time.sleep(T_pull)\n",
    "#    print(\"Beads pulled to the side \", datetime.now().strftime(\"%H:%M:%S\"))\n",
    "    # Moving liquid to the resulting tubes\n",
    "#    for sample, result in zip(samples_list, result_list):\n",
    "#        separateEluate(ber, sample, result)\n",
    "#    print(\"Eluate transferred to the new tube \", datetime.now().strftime(\"%H:%M:%S\"))\n",
    "#    print(\"Experiment finished \", datetime.now().s\"trftime(\"%H:%M:%S\"))"
   ]
  },
  {
   "cell_type": "code",
   "execution_count": 56,
   "metadata": {},
   "outputs": [],
   "source": [
    "mix_script = pd.read_csv('mixing_pattern_eppendorf.csv')"
   ]
  },
  {
   "cell_type": "markdown",
   "metadata": {},
   "source": [
    "#### Testing protocol functions"
   ]
  },
  {
   "cell_type": "code",
   "execution_count": 57,
   "metadata": {},
   "outputs": [],
   "source": [
    "with open(filename, mode='r') as csv_file:\n",
    "    csv_reader = csv.DictReader(csv_file)\n",
    "    content = list(csv_reader)"
   ]
  },
  {
   "cell_type": "code",
   "execution_count": 58,
   "metadata": {},
   "outputs": [
    {
     "name": "stdout",
     "output_type": "stream",
     "text": [
      "Loading parameters from the sample sheet. Started  16:43:35\n"
     ]
    }
   ],
   "source": [
    "oneStagePurification(ber, content, cutoff_list=[150], sample_mix_scenario=mix_script, beads_mix_scenario=mix_script)"
   ]
  },
  {
   "cell_type": "code",
   "execution_count": 73,
   "metadata": {},
   "outputs": [
    {
     "data": {
      "text/plain": [
       "{'magnets_away_angle': 5.2,\n",
       " 'magnets_near_tube_angle': 11.2,\n",
       " 'stair_finding_step_list': [1, 0.2],\n",
       " 'stair_finding_z_increment': 0.1,\n",
       " 'stair_finding_z_retract_after_trigger': -1,\n",
       " 'stair_finding_z_max_travel': 3,\n",
       " 'stair_finding_z_load_threshold': 500,\n",
       " 'z_max': 180,\n",
       " 'x_max': 189,\n",
       " 'y_max': 322,\n",
       " 'added_tip_length': 41.6,\n",
       " 'volume_to_position_slope': -0.15859245180518214,\n",
       " 'volume_to_position_intercept': -0.958195131933648,\n",
       " 'pipetting_delay': 0.2,\n",
       " 'DNAsize_to_Vbeads': {'a': 0.499325349, 'b': -9.91043764, 'c': 25758.5836},\n",
       " 'tip_drop_servo_up_angle': 2.5,\n",
       " 'tip_drop_servo_down_angle': 7.3,\n",
       " 'speed_XY': 50000,\n",
       " 'speed_Z': 30000,\n",
       " 'speed_pipette': 2500,\n",
       " 'plunger_movement_when_dumping_tip': 35}"
      ]
     },
     "execution_count": 73,
     "metadata": {},
     "output_type": "execute_result"
    }
   ],
   "source": [
    "ber.data"
   ]
  },
  {
   "cell_type": "markdown",
   "metadata": {},
   "source": [
    "# [Attempt] Making classes for the settings"
   ]
  },
  {
   "cell_type": "code",
   "execution_count": 73,
   "metadata": {},
   "outputs": [],
   "source": [
    "class run_settings():\n",
    "    \"\"\"\n",
    "    Handles all the settings which are the same for the purification run.\n",
    "    \"\"\"\n",
    "    \n",
    "    def __init__(self, csv_content):\n",
    "        self.getInitCheckupDecision(csv_content)\n",
    "        self.isTipBoxRefilled(csv_content)\n",
    "        self.getDNAAbsorptionTime(csv_content)\n",
    "        self.getNumberOfMixesWhileAbsorbing(csv_content)\n",
    "        self.getBeadsPullingTimeAfterAbsorption(csv_content)\n",
    "        self.getFirstStageEthanolWashTime(csv_content)\n",
    "        self.getSecondStageEthanolWashTime(csv_content)\n",
    "        self.getDecisionWhetherToRemoveExtraEthanol(csv_content)\n",
    "        self.getEthanolDryingTime(csv_content)\n",
    "        self.getElutionTime(csv_content)\n",
    "        self.getNumberOfMixesWhileEluting(csv_content)\n",
    "\n",
    "    \n",
    "    # Functions reading the parameters from sample sheet.\n",
    "    \n",
    "    def _readParameter(self, csv_content, parameter_name):\n",
    "        parameter = getRowWithParameter(csv_content, parameter_name)[0]\n",
    "        # Attempting to convert to float\n",
    "        try:\n",
    "            parameter = float(parameter)\n",
    "        except:\n",
    "            pass\n",
    "        return parameter\n",
    "    \n",
    "    def getInitCheckupDecision(self, csv_content):\n",
    "        self.perform_init_checkup = self._readParameter(csv_content, 'Sample tube type')\n",
    "        \n",
    "    def isTipBoxRefilled(self, csv_content):\n",
    "        self.tip_box_refilled = self._readParameter(csv_content, 'Tip box refilled')\n",
    "        \n",
    "    def getDNAAbsorptionTime(self, csv_content):\n",
    "        self.dna_absorption_time = self._readParameter(csv_content, 'DNA absorption time')\n",
    "        \n",
    "    def getNumberOfMixesWhileAbsorbing(self, csv_content):\n",
    "        self.times_to_mix_while_absorbing = self._readParameter(csv_content, 'Times to mix while absorbing')\n",
    "        \n",
    "    def getBeadsPullingTimeAfterAbsorption(self, csv_content):\n",
    "        self.beads_pulling_time_after_absorption = self._readParameter(csv_content, 'Beads pulling time after absorption')\n",
    "        \n",
    "    def getFirstStageEthanolWashTime(self, csv_content):\n",
    "        self.first_stage_ethanol_wash_time = self._readParameter(csv_content, 'First stage ethanol wash time')\n",
    "        \n",
    "    def getSecondStageEthanolWashTime(self, csv_content):\n",
    "        self.second_stage_ethanol_wash_time = self._readParameter(csv_content, 'Second stage ethanol wash time')\n",
    "        \n",
    "    def getDecisionWhetherToRemoveExtraEthanol(self, csv_content):\n",
    "        self.remove_extra_ethanol_after_elution = self._readParameter(csv_content, 'Remove extra liquid with a fresh tip')\n",
    "        \n",
    "    def getEthanolDryingTime(self, csv_content):\n",
    "        self.ethanol_drying_time = self._readParameter(csv_content, 'Time to dry after ethanol wash')\n",
    "        \n",
    "    def getElutionTime(self, csv_content):\n",
    "        self.elution_time = self._readParameter(csv_content, 'Elution time')\n",
    "        \n",
    "    def getNumberOfMixesWhileEluting(self, csv_content):\n",
    "        self.times_to_mix_while_eluting = self._readParameter(csv_content, 'Times to mix while eluting')"
   ]
  },
  {
   "cell_type": "code",
   "execution_count": 67,
   "metadata": {},
   "outputs": [],
   "source": [
    "class purification():\n",
    "    \"\"\"\n",
    "    Keeps all the settings unique for each purification case.\n",
    "    \"\"\"\n",
    "    \n",
    "    def __init__(self, purif_id, csv_content):\n",
    "        self.purif_id = str(purif_id)      # ID is the position of the tube in the rack. 0 is the closest to the user.\n",
    "        self.getTubeType(csv_content)\n",
    "        self.getInitialSampleVolume(csv_content)\n",
    "        self.getBeadsVolume(csv_content)\n",
    "        self.getBeadsVolFraction(csv_content)\n",
    "        self.getDNASizeCutoff(csv_content)\n",
    "        self.getFirstStageEthanolWashVol(csv_content)\n",
    "        self.getSecondStageEthanolWashVol(csv_content)\n",
    "        self.getElutionVol(csv_content)\n",
    "        self.decideBeadsVolume()\n",
    "\n",
    "    def _readParameter(self, csv_content, parameter_name):\n",
    "        parameter = getRowWithParameter(csv_content, parameter_name)[self.purif_id]\n",
    "        # Attempting to convert to float\n",
    "        try:\n",
    "            parameter = float(parameter)\n",
    "        except:\n",
    "            pass\n",
    "        return parameter\n",
    "    \n",
    "    def getTubeType(self, csv_content):\n",
    "        self.tube_type = self._readParameter(csv_content, 'Sample tube type')\n",
    "    \n",
    "    def getInitialSampleVolume(self, csv_content):\n",
    "        self.init_sample_vol = self._readParameter(csv_content, 'Initial sample volume')\n",
    "        \n",
    "    def getDNASizeCutoff(self, csv_content):\n",
    "        self.dna_size_cutoff = self._readParameter(csv_content, 'DNA size cutoff')\n",
    "        \n",
    "    def getBeadsVolFraction(self, csv_content):\n",
    "        self.beads_volume_fraction = self._readParameter(csv_content, 'Fraction')\n",
    "        \n",
    "    def getBeadsVolume(self, csv_content):\n",
    "        self.beads_volume = self._readParameter(csv_content, 'Beads volume')\n",
    "        \n",
    "    def getFirstStageEthanolWashVol(self, csv_content):\n",
    "        self.first_stage_ethanol_wash_vol = self._readParameter(csv_content, 'First stage ethanol wash volume')\n",
    "\n",
    "    def getSecondStageEthanolWashVol(self, csv_content):\n",
    "        self.second_stage_ethanol_wash_vol = self._readParameter(csv_content, 'Second stage ethanol wash volume')\n",
    "        \n",
    "    def getElutionVol(self, csv_content):\n",
    "        self.elution_vol = self._readParameter(csv_content, 'Elution volume')\n",
    "        \n",
    "    def decideBeadsVolume(self):\n",
    "        \"\"\"\n",
    "        Decide which parameter to use as a beads volume.\n",
    "        \"\"\"\n",
    "        if self.beads_volume > 0:\n",
    "            self.use_beads_volume = self.beads_volume\n",
    "        elif self.beads_volume <= 0 and self.beads_volume_fraction > 0:\n",
    "            self.use_beads_volume = self.init_sample_vol * self.beads_volume_fraction\n",
    "        elif self.beads_volume <= 0 and self.beads_volume_fraction <= 0 and self.dna_size_cutoff > 0:\n",
    "            # TODO add approximation using the beads manufacturer data\n",
    "            pass\n",
    "        else:\n",
    "            print(\"No beads volume provided\")\n",
    "            self.use_beads_volume = 0\n",
    "        return self.use_beads_volume\n",
    "\n",
    "    "
   ]
  },
  {
   "cell_type": "code",
   "execution_count": 68,
   "metadata": {},
   "outputs": [],
   "source": [
    "pur1 = purification(0, content)"
   ]
  },
  {
   "cell_type": "code",
   "execution_count": 70,
   "metadata": {},
   "outputs": [
    {
     "data": {
      "text/plain": [
       "40.0"
      ]
     },
     "execution_count": 70,
     "metadata": {},
     "output_type": "execute_result"
    }
   ],
   "source": [
    "pur1.use_beads_volume"
   ]
  },
  {
   "cell_type": "code",
   "execution_count": null,
   "metadata": {},
   "outputs": [],
   "source": []
  }
 ],
 "metadata": {
  "kernelspec": {
   "display_name": "Python 3",
   "language": "python",
   "name": "python3"
  },
  "language_info": {
   "codemirror_mode": {
    "name": "ipython",
    "version": 3
   },
   "file_extension": ".py",
   "mimetype": "text/x-python",
   "name": "python",
   "nbconvert_exporter": "python",
   "pygments_lexer": "ipython3",
   "version": "3.7.4"
  },
  "toc": {
   "base_numbering": 1,
   "nav_menu": {
    "height": "139px",
    "width": "290px"
   },
   "number_sections": true,
   "sideBar": true,
   "skip_h1_title": false,
   "title_cell": "Table of Contents",
   "title_sidebar": "Contents",
   "toc_cell": false,
   "toc_position": {},
   "toc_section_display": true,
   "toc_window_display": true
  }
 },
 "nbformat": 4,
 "nbformat_minor": 2
}
