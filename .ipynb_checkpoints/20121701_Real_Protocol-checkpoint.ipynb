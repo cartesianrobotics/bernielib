{
 "cells": [
  {
   "cell_type": "code",
   "execution_count": 1,
   "metadata": {},
   "outputs": [
    {
     "data": {
      "text/plain": [
       "['COM7', 'COM18', 'COM20']"
      ]
     },
     "execution_count": 1,
     "metadata": {},
     "output_type": "execute_result"
    }
   ],
   "source": [
    "import time\n",
    "import pandas as pd\n",
    "\n",
    "import bernielib as bl\n",
    "\n",
    "bl.listSerialPorts()"
   ]
  },
  {
   "cell_type": "code",
   "execution_count": 2,
   "metadata": {},
   "outputs": [],
   "source": [
    "ber = bl.robot(cartesian_port_name='COM18', pipette_port_name='COM7', misc_port_name='COM20')"
   ]
  },
  {
   "cell_type": "code",
   "execution_count": 3,
   "metadata": {},
   "outputs": [],
   "source": [
    "ber.robotHome()\n",
    "ber.pipetteHome()"
   ]
  },
  {
   "cell_type": "markdown",
   "metadata": {},
   "source": [
    "# Preparing DNA for the experiment"
   ]
  },
  {
   "cell_type": "markdown",
   "metadata": {},
   "source": [
    "## Preparing fake DNA sample, only for testing. Don't run at a real run"
   ]
  },
  {
   "cell_type": "code",
   "execution_count": 4,
   "metadata": {},
   "outputs": [],
   "source": [
    "dna_500 = bl.createSample('eppendorf', 'dna_500', ber.samples_rack, 0, 10, 0)\n",
    "water = bl.createSample('50ml', 'water', ber.reagents_rack, 1, 1, 50000)"
   ]
  },
  {
   "cell_type": "code",
   "execution_count": 5,
   "metadata": {},
   "outputs": [],
   "source": [
    "ber.pickUpNextTip()"
   ]
  },
  {
   "cell_type": "code",
   "execution_count": 6,
   "metadata": {},
   "outputs": [],
   "source": [
    "ber.move(z=50)"
   ]
  },
  {
   "cell_type": "code",
   "execution_count": 7,
   "metadata": {},
   "outputs": [],
   "source": [
    "ber.transferLiquid(water, dna_500, 50)"
   ]
  },
  {
   "cell_type": "code",
   "execution_count": 8,
   "metadata": {},
   "outputs": [],
   "source": [
    "ber.move(z=50)"
   ]
  },
  {
   "cell_type": "code",
   "execution_count": 9,
   "metadata": {},
   "outputs": [],
   "source": [
    "ber.dumpTipToWaste()"
   ]
  },
  {
   "cell_type": "markdown",
   "metadata": {},
   "source": [
    "## Preparing diluted stock solution"
   ]
  },
  {
   "cell_type": "code",
   "execution_count": 10,
   "metadata": {},
   "outputs": [],
   "source": [
    "dna_500 = bl.createSample('eppendorf', 'dna_500', ber.samples_rack, 0, 10, 50)\n",
    "dna_stock = bl.createSample('eppendorf', 'dna_stock', ber.samples_rack, 0, 9, 0)\n",
    "water = bl.createSample('50ml', 'water', ber.reagents_rack, 1, 1, 50000)"
   ]
  },
  {
   "cell_type": "code",
   "execution_count": 11,
   "metadata": {},
   "outputs": [],
   "source": [
    "ber.pickUpNextTip()"
   ]
  },
  {
   "cell_type": "code",
   "execution_count": 12,
   "metadata": {},
   "outputs": [],
   "source": [
    "ber.move(z=50)"
   ]
  },
  {
   "cell_type": "code",
   "execution_count": 13,
   "metadata": {},
   "outputs": [],
   "source": [
    "ber.transferLiquid(water, dna_stock, 190)"
   ]
  },
  {
   "cell_type": "code",
   "execution_count": 14,
   "metadata": {},
   "outputs": [],
   "source": [
    "ber.transferLiquid(dna_500, dna_stock, 10, v_immerse_dispense=1600)"
   ]
  },
  {
   "cell_type": "code",
   "execution_count": 15,
   "metadata": {},
   "outputs": [],
   "source": [
    "script = pd.read_csv('mixing_pattern_eppendorf.csv')"
   ]
  },
  {
   "cell_type": "code",
   "execution_count": 16,
   "metadata": {},
   "outputs": [],
   "source": [
    "ber.mixByScript(dna_stock, script)"
   ]
  },
  {
   "cell_type": "markdown",
   "metadata": {},
   "source": [
    "## Preparing sample solutions with DNA ladder"
   ]
  },
  {
   "cell_type": "code",
   "execution_count": 17,
   "metadata": {},
   "outputs": [],
   "source": [
    "samples_list = bl.createSamplesToPurifyList(ber, [0,0,0,0,0,0])"
   ]
  },
  {
   "cell_type": "code",
   "execution_count": 18,
   "metadata": {},
   "outputs": [],
   "source": [
    "for sample in samples_list:\n",
    "    ber.transferLiquid(dna_stock, sample, 30, v_immerse_dispense=1600)"
   ]
  },
  {
   "cell_type": "code",
   "execution_count": 19,
   "metadata": {},
   "outputs": [],
   "source": [
    "ber.move(z=50)"
   ]
  },
  {
   "cell_type": "code",
   "execution_count": 20,
   "metadata": {},
   "outputs": [],
   "source": [
    "ber.dumpTipToWaste()"
   ]
  },
  {
   "cell_type": "markdown",
   "metadata": {},
   "source": [
    "# Running a protocol"
   ]
  },
  {
   "cell_type": "code",
   "execution_count": 21,
   "metadata": {},
   "outputs": [],
   "source": [
    "def calcBeadsVolumeToAdd(robot, samples_list, cutoff_list):\n",
    "    v_beads_list = []\n",
    "    for sample, dna_size in zip(samples_list, cutoff_list):\n",
    "        v_beads = robot.calcBeadsVol(sample, dna_size)\n",
    "        v_beads_list.append(v_beads)\n",
    "    return v_beads_list"
   ]
  },
  {
   "cell_type": "code",
   "execution_count": 22,
   "metadata": {},
   "outputs": [],
   "source": [
    "def waitAfterTimestamp(timestamp, delay):\n",
    "    new_ts = time.time()\n",
    "    while (new_ts - timestamp) < delay:\n",
    "        time.sleep(1)\n",
    "        new_ts = time.time()"
   ]
  },
  {
   "cell_type": "code",
   "execution_count": 23,
   "metadata": {},
   "outputs": [],
   "source": [
    "def addBeads(robot, sample, beads, v_beads, sample_mix_scenario, beads_mix_scenario, z_safe=50):\n",
    "    robot.move(z=z_safe)\n",
    "    #robot.pickUpNextTip()\n",
    "    #robot.move(z=z_safe)\n",
    "    # Mixing beads before experiment\n",
    "    #robot.mixByScript(beads, beads_mix_scenario)\n",
    "    # Transferring beads to sample\n",
    "    robot.transferLiquid(beads, sample, v_beads)\n",
    "    # Mixing sample with beads\n",
    "    robot.mixByScript(sample, sample_mix_scenario)\n",
    "    robot.move(z=z_safe)\n",
    "    #robot.dumpTipToWaste()\n",
    "    robot.move(z=z_safe)"
   ]
  },
  {
   "cell_type": "code",
   "execution_count": 24,
   "metadata": {},
   "outputs": [],
   "source": [
    "def addBeadsToAll(robot, samples_list, v_beads_list, beads, sample_mix_scenario, beads_mix_scenario):\n",
    "    robot.moveMagnetsAway(poweroff=True)\n",
    "    robot.pickUpNextTip()\n",
    "    robot.move(z=50)\n",
    "    robot.mixByScript(beads, beads_mix_scenario)\n",
    "    robot.move(z=50)\n",
    "    \n",
    "    for sample, v_beads in zip(samples_list, v_beads_list):\n",
    "        robot.transferLiquid(beads, sample, v_beads)\n",
    "    \n",
    "    counter = 0\n",
    "    for sample, v_beads in zip(samples_list, v_beads_list):\n",
    "        if counter != 0:\n",
    "            robot.move(z=50)\n",
    "            robot.pickUpNextTip()\n",
    "        \n",
    "        robot.move(z=50)\n",
    "        \n",
    "        robot.mixByScript(sample, sample_mix_scenario)\n",
    "            \n",
    "        if counter == 0:\n",
    "            timestamp = time.time()\n",
    "        counter += 1\n",
    "        \n",
    "        robot.move(z=50)\n",
    "        robot.dumpTipToWaste()\n",
    "    \n",
    "    return timestamp"
   ]
  },
  {
   "cell_type": "code",
   "execution_count": 25,
   "metadata": {},
   "outputs": [],
   "source": [
    "def removeSupernatant(robot, sample, waste, z_safe=50):\n",
    "    robot.pickUpNextTip()\n",
    "    robot.move(z=z_safe)\n",
    "    z0 = robot._getTubeZBottom(sample)\n",
    "    while sample.getVolume() > 0:\n",
    "        robot.movePipetteToVolume(200)\n",
    "        robot.moveToSample(sample)\n",
    "        robot.move(z=z0-0.5)\n",
    "        robot.movePipetteToVolume(0)\n",
    "        new_vol = sample.getVolume() - 200\n",
    "        if new_vol < 0:\n",
    "            new_vol = 0\n",
    "        sample.setVolume(new_vol)\n",
    "        robot.move(z=0)\n",
    "        robot.dispenseLiquid(waste, 200, blow_extra=True)\n",
    "        robot.move(z=0)\n",
    "    robot.moveToSample(sample)\n",
    "    robot.movePipetteToVolume(200)\n",
    "    robot.move(z=z0)\n",
    "    robot.movePipetteToVolume(150)\n",
    "    robot.move(z=z0-0.5)\n",
    "    robot.moveAxisDelta('X', 1.5)\n",
    "    robot.movePipetteToVolume(130)\n",
    "    robot.moveAxisDelta('X', -1.5)\n",
    "    robot.moveAxisDelta('Y', 1.5)\n",
    "    robot.movePipetteToVolume(100)\n",
    "    robot.moveAxisDelta('Y', -1.5)\n",
    "    robot.moveAxisDelta('X', -1.5)    \n",
    "    robot.movePipetteToVolume(70)\n",
    "    robot.moveAxisDelta('X', 1.5)\n",
    "    robot.moveAxisDelta('Y', -1.5)\n",
    "    robot.movePipetteToVolume(0)\n",
    "    robot.move(z=z_safe)\n",
    "    robot.dispenseLiquid(waste, 200, blow_extra=True)\n",
    "    robot.move(z=z_safe)\n",
    "    robot.dumpTipToWaste()"
   ]
  },
  {
   "cell_type": "code",
   "execution_count": 26,
   "metadata": {},
   "outputs": [],
   "source": [
    "def removeSupernatantAllSamples(robot, samples_list, waste):\n",
    "    counter = 0\n",
    "    for sample in samples_list:\n",
    "        removeSupernatant(robot, sample, waste)\n",
    "        if counter == 0:\n",
    "            sample_dried_timestamp = time.time()\n",
    "        counter += 0\n",
    "    return sample_dried_timestamp"
   ]
  },
  {
   "cell_type": "code",
   "execution_count": 27,
   "metadata": {},
   "outputs": [],
   "source": [
    "def add80PctEthanol(robot, samples_list, ethanol, volume, z_safe=50):\n",
    "    robot.pickUpNextTip()\n",
    "    robot.move(z=z_safe)\n",
    "    \n",
    "    counter = 0\n",
    "    for sample in samples_list:\n",
    "        robot.transferLiquid(ethanol, sample, volume, touch_wall=False)\n",
    "        if counter == 0:\n",
    "            ethanol_added_time = time.time()\n",
    "        counter += 1\n",
    "    \n",
    "    robot.move(z=z_safe)\n",
    "    robot.dumpTipToWaste()\n",
    "    \n",
    "    return ethanol_added_time"
   ]
  },
  {
   "cell_type": "code",
   "execution_count": 28,
   "metadata": {},
   "outputs": [],
   "source": [
    "def elutionMix(robot, sample, volume, delay=0.5):\n",
    "    z0 = robot._getTubeZBottom(sample)\n",
    "    robot.movePipetteToVolume(0)\n",
    "    robot.movePipetteToVolume(volume+5)\n",
    "    robot.movePipetteToVolume(volume)\n",
    "    robot.move(z=z0-0.5)\n",
    "    robot.movePipetteToVolume(0)\n",
    "    time.sleep(delay)\n",
    "    #z_curr = sample.calcAbsLiquidLevelFromVol(1700, added_length=robot._calcExtraLength())\n",
    "    #robot.move(z=z_curr)\n",
    "    #robot.moveAxisDelta('X', 4)\n",
    "    #robot.movePipetteToVolume(200)\n",
    "    z_curr = sample.calcAbsLiquidLevelFromVol(500, added_length=robot._calcExtraLength())\n",
    "    robot.move(z=z_curr)\n",
    "    robot.moveAxisDelta('X', 3)\n",
    "    robot.movePipetteToVolume(200)\n",
    "    time.sleep(delay)\n",
    "    z_curr = sample.calcAbsLiquidLevelFromVol(300, added_length=robot._calcExtraLength())\n",
    "    robot.move(z=z_curr)\n",
    "    robot.moveAxisDelta('X', -1)\n",
    "    z_curr = sample.calcAbsLiquidLevelFromVol(150, added_length=robot._calcExtraLength())\n",
    "    robot.move(z=z_curr)\n",
    "    robot.moveAxisDelta('X', -1)\n",
    "    z_curr = sample.calcAbsLiquidLevelFromVol(10, added_length=robot._calcExtraLength())\n",
    "    robot.move(z=z_curr)\n",
    "    robot.moveAxisDelta('X', -1)\n",
    "    z_curr = sample.calcAbsLiquidLevelFromVol(volume+100, added_length=robot._calcExtraLength())\n",
    "    robot.move(z=z_curr)\n",
    "    robot.movePipetteToVolume(0)"
   ]
  },
  {
   "cell_type": "code",
   "execution_count": 29,
   "metadata": {},
   "outputs": [],
   "source": [
    "#TODO: make safe_z a general property of the robot\n",
    "def elute(robot, sample, eluent, volume, mix_delay=0.5, mix_times=6, safe_z=50):\n",
    "    robot.moveMagnetsAway(poweroff=True)\n",
    "    robot.pickUpNextTip()\n",
    "    robot.move(z=safe_z)\n",
    "    robot.transferLiquid(eluent, sample, volume)\n",
    "    for i in range(mix_times):\n",
    "        elutionMix(robot, sample, volume)\n",
    "    elution_start_time = time.time()\n",
    "    robot.move(z=safe_z)\n",
    "    robot.dumpTipToWaste()\n",
    "    return elution_start_time"
   ]
  },
  {
   "cell_type": "code",
   "execution_count": 30,
   "metadata": {},
   "outputs": [],
   "source": [
    "def eluteAllSamples(robot, samples_list, eluent, V_eluent, mix_delay=0.5, mix_times=6, safe_z=50):\n",
    "    counter = 0\n",
    "    for sample in samples_list:\n",
    "        ts = elute(ber, sample, eluent, V_eluent, mix_delay=mix_delay, mix_times=mix_times, safe_z=safe_z)\n",
    "        if counter == 0:\n",
    "            elution_start_timestamp = ts\n",
    "        counter += 1\n",
    "    return elution_start_timestamp"
   ]
  },
  {
   "cell_type": "code",
   "execution_count": 31,
   "metadata": {},
   "outputs": [],
   "source": [
    "def separateEluate(robot, eluate_tube, result_tube, pipette_delay=0.5, z_above_bottom=0.5, safe_z=50):\n",
    "    robot.pickUpNextTip()\n",
    "    robot.move(z=safe_z)\n",
    "    # Uptaking liquid\n",
    "    v = eluate_tube.getVolume()\n",
    "    robot.moveToSample(eluate_tube)\n",
    "    robot.movePipetteToVolume(v+5)\n",
    "    robot.movePipetteToVolume(v)\n",
    "    z0 = robot._getTubeZBottom(eluate_tube)\n",
    "    robot.move(z=z0-z_above_bottom)\n",
    "    robot.movePipetteToVolume(0)\n",
    "    time.sleep(pipette_delay)\n",
    "    # Dispensing liquid\n",
    "    robot.moveToSample(result_tube)\n",
    "    robot.movePipetteToVolume(v+5)\n",
    "    time.sleep(pipette_delay)\n",
    "    robot.movePipetteToVolume(200)\n",
    "    time.sleep(pipette_delay)\n",
    "    robot.touchWall(result_tube)\n",
    "    robot.movePipetteToVolume(0)\n",
    "    robot.move(z=safe_z)\n",
    "    ber.dumpTipToWaste()"
   ]
  },
  {
   "cell_type": "code",
   "execution_count": 32,
   "metadata": {},
   "outputs": [],
   "source": [
    "def oneStagePurification(robot, N_samples, initial_vol_list, cutoff_list, V_avail_beads, V_avail_water, V_avail_ethanol, \n",
    "                         beads_rack, beads_col, beads_row, sample_mix_scenario, beads_mix_scenario,\n",
    "                         V_waste=0, T_absorb=600, T_pull=60, T_wash=30, T_dry=300, T_elute=600,\n",
    "                         V_wash=200, V_elute=30):\n",
    "    \n",
    "    samples_list = bl.createSamplesToPurifyList(robot, initial_vol_list)\n",
    "    result_list = bl.createPurifiedSamplesList(robot, N_samples)\n",
    "    beads = bl.createSample('eppendorf', 'beads', beads_rack, beads_col, beads_row, V_avail_beads)\n",
    "    waste = bl.createSample('50ml', 'liquid_waste', ber.reagents_rack, 0, 1, V_waste)\n",
    "    water = bl.createSample('50ml', 'water', ber.reagents_rack, 1, 1, V_avail_water)\n",
    "    EtOH80pct = bl.createSample('50ml', 'EtOH80pct', ber.reagents_rack, 2, 1, V_avail_ethanol)\n",
    "    \n",
    "    v_beads_list = calcBeadsVolumeToAdd(robot, samples_list, cutoff_list=cutoff_list)\n",
    "    # Adding beads\n",
    "    timestamp_beads_added = addBeadsToAll(robot, samples_list, v_beads_list, beads, sample_mix_scenario, beads_mix_scenario)\n",
    "    waitAfterTimestamp(timestamp_beads_added, T_absorb)\n",
    "    # Removing supernatant\n",
    "    robot.moveMagnetsTowardsTube(poweroff=True)\n",
    "    time.sleep(T_pull)\n",
    "    ts = removeSupernatantAllSamples(robot, samples_list, waste)\n",
    "    # Ethanol wash\n",
    "    # Wash 1\n",
    "    timestamp_ethanol_added = add80PctEthanol(robot, samples_list, EtOH80pct, V_wash)\n",
    "    waitAfterTimestamp(timestamp_ethanol_added, T_wash)\n",
    "    ts = removeSupernatantAllSamples(robot, samples_list, waste)\n",
    "    # Wash 2\n",
    "    timestamp_ethanol_added = add80PctEthanol(robot, samples_list, EtOH80pct, V_wash)\n",
    "    waitAfterTimestamp(timestamp_ethanol_added, T_wash)\n",
    "    timestamp_ethanol_removed = removeSupernatantAllSamples(robot, samples_list, waste)\n",
    "    # Drying ethanol\n",
    "    waitAfterTimestamp(timestamp_ethanol_removed, T_dry)\n",
    "    \n",
    "    # Elution\n",
    "    # Adding water\n",
    "    elution_start_timestamp = eluteAllSamples(robot, samples_list, water, V_elute, mix_delay=0.5, mix_times=6, safe_z=50)\n",
    "    waitAfterTimestamp(elution_start_timestamp, T_elute) # elution wait\n",
    "    \n",
    "    # Magnetic beads to the side of the tubes\n",
    "    ber.moveMagnetsTowardsTube()\n",
    "    time.sleep(T_pull)\n",
    "    # Moving liquid to the resulting tubes\n",
    "    for sample, result in zip(samples_list, result_list):\n",
    "        separateEluate(ber, sample, result)"
   ]
  },
  {
   "cell_type": "code",
   "execution_count": 33,
   "metadata": {},
   "outputs": [],
   "source": [
    "script = pd.read_csv('mixing_pattern_eppendorf.csv')"
   ]
  },
  {
   "cell_type": "code",
   "execution_count": 42,
   "metadata": {},
   "outputs": [
    {
     "ename": "KeyboardInterrupt",
     "evalue": "",
     "output_type": "error",
     "traceback": [
      "\u001b[1;31m---------------------------------------------------------------------------\u001b[0m",
      "\u001b[1;31mKeyboardInterrupt\u001b[0m                         Traceback (most recent call last)",
      "\u001b[1;32m<ipython-input-42-d8a46e4b3985>\u001b[0m in \u001b[0;36m<module>\u001b[1;34m\u001b[0m\n\u001b[0;32m      3\u001b[0m                      \u001b[0mV_avail_beads\u001b[0m\u001b[1;33m=\u001b[0m\u001b[1;36m1000\u001b[0m\u001b[1;33m,\u001b[0m \u001b[0mV_avail_water\u001b[0m\u001b[1;33m=\u001b[0m\u001b[1;36m50000\u001b[0m\u001b[1;33m,\u001b[0m \u001b[0mV_avail_ethanol\u001b[0m\u001b[1;33m=\u001b[0m\u001b[1;36m25000\u001b[0m\u001b[1;33m,\u001b[0m\u001b[1;33m\u001b[0m\u001b[1;33m\u001b[0m\u001b[0m\n\u001b[0;32m      4\u001b[0m                      \u001b[0mbeads_rack\u001b[0m\u001b[1;33m=\u001b[0m\u001b[0mber\u001b[0m\u001b[1;33m.\u001b[0m\u001b[0msamples_rack\u001b[0m\u001b[1;33m,\u001b[0m \u001b[0mbeads_col\u001b[0m\u001b[1;33m=\u001b[0m\u001b[1;36m0\u001b[0m\u001b[1;33m,\u001b[0m \u001b[0mbeads_row\u001b[0m\u001b[1;33m=\u001b[0m\u001b[1;36m11\u001b[0m\u001b[1;33m,\u001b[0m\u001b[1;33m\u001b[0m\u001b[1;33m\u001b[0m\u001b[0m\n\u001b[1;32m----> 5\u001b[1;33m                      sample_mix_scenario=script, beads_mix_scenario=script)\n\u001b[0m",
      "\u001b[1;32m<ipython-input-34-2bf128ef3ee4>\u001b[0m in \u001b[0;36moneStagePurification\u001b[1;34m(robot, N_samples, initial_vol_list, cutoff_list, V_avail_beads, V_avail_water, V_avail_ethanol, beads_rack, beads_col, beads_row, sample_mix_scenario, beads_mix_scenario, V_waste, T_absorb, T_pull, T_wash, T_dry, T_elute, V_wash, V_elute)\u001b[0m\n\u001b[0;32m     13\u001b[0m     \u001b[0mv_beads_list\u001b[0m \u001b[1;33m=\u001b[0m \u001b[0mcalcBeadsVolumeToAdd\u001b[0m\u001b[1;33m(\u001b[0m\u001b[0mrobot\u001b[0m\u001b[1;33m,\u001b[0m \u001b[0msamples_list\u001b[0m\u001b[1;33m,\u001b[0m \u001b[0mcutoff_list\u001b[0m\u001b[1;33m=\u001b[0m\u001b[0mcutoff_list\u001b[0m\u001b[1;33m)\u001b[0m\u001b[1;33m\u001b[0m\u001b[1;33m\u001b[0m\u001b[0m\n\u001b[0;32m     14\u001b[0m     \u001b[1;31m# Adding beads\u001b[0m\u001b[1;33m\u001b[0m\u001b[1;33m\u001b[0m\u001b[1;33m\u001b[0m\u001b[0m\n\u001b[1;32m---> 15\u001b[1;33m     \u001b[0mtimestamp_beads_added\u001b[0m \u001b[1;33m=\u001b[0m \u001b[0maddBeadsToAll\u001b[0m\u001b[1;33m(\u001b[0m\u001b[0mrobot\u001b[0m\u001b[1;33m,\u001b[0m \u001b[0msamples_list\u001b[0m\u001b[1;33m,\u001b[0m \u001b[0mv_beads_list\u001b[0m\u001b[1;33m,\u001b[0m \u001b[0mbeads\u001b[0m\u001b[1;33m,\u001b[0m \u001b[0msample_mix_scenario\u001b[0m\u001b[1;33m,\u001b[0m \u001b[0mbeads_mix_scenario\u001b[0m\u001b[1;33m)\u001b[0m\u001b[1;33m\u001b[0m\u001b[1;33m\u001b[0m\u001b[0m\n\u001b[0m\u001b[0;32m     16\u001b[0m     \u001b[0mwaitAfterTimestamp\u001b[0m\u001b[1;33m(\u001b[0m\u001b[0mtimestamp_beads_added\u001b[0m\u001b[1;33m,\u001b[0m \u001b[0mT_absorb\u001b[0m\u001b[1;33m)\u001b[0m\u001b[1;33m\u001b[0m\u001b[1;33m\u001b[0m\u001b[0m\n\u001b[0;32m     17\u001b[0m     \u001b[1;31m# Removing supernatant\u001b[0m\u001b[1;33m\u001b[0m\u001b[1;33m\u001b[0m\u001b[1;33m\u001b[0m\u001b[0m\n",
      "\u001b[1;32m<ipython-input-41-c0acc9dcb481>\u001b[0m in \u001b[0;36maddBeadsToAll\u001b[1;34m(robot, samples_list, v_beads_list, beads, sample_mix_scenario, beads_mix_scenario)\u001b[0m\n\u001b[0;32m     14\u001b[0m             \u001b[0mrobot\u001b[0m\u001b[1;33m.\u001b[0m\u001b[0mpickUpNextTip\u001b[0m\u001b[1;33m(\u001b[0m\u001b[1;33m)\u001b[0m\u001b[1;33m\u001b[0m\u001b[1;33m\u001b[0m\u001b[0m\n\u001b[0;32m     15\u001b[0m \u001b[1;33m\u001b[0m\u001b[0m\n\u001b[1;32m---> 16\u001b[1;33m         \u001b[0mrobot\u001b[0m\u001b[1;33m.\u001b[0m\u001b[0mmixByScript\u001b[0m\u001b[1;33m(\u001b[0m\u001b[0msample\u001b[0m\u001b[1;33m,\u001b[0m \u001b[0msample_mix_scenario\u001b[0m\u001b[1;33m)\u001b[0m\u001b[1;33m\u001b[0m\u001b[1;33m\u001b[0m\u001b[0m\n\u001b[0m\u001b[0;32m     17\u001b[0m \u001b[1;33m\u001b[0m\u001b[0m\n\u001b[0;32m     18\u001b[0m         \u001b[1;32mif\u001b[0m \u001b[0mcounter\u001b[0m \u001b[1;33m==\u001b[0m \u001b[1;36m0\u001b[0m\u001b[1;33m:\u001b[0m\u001b[1;33m\u001b[0m\u001b[1;33m\u001b[0m\u001b[0m\n",
      "\u001b[1;32mc:\\Users\\sergi\\Dropbox\\workspace\\bernielib\\bernielib.py\u001b[0m in \u001b[0;36mmixByScript\u001b[1;34m(self, sample, script, vol_uptake_fraction)\u001b[0m\n\u001b[0;32m    861\u001b[0m                 \u001b[1;31m# Performing pipette operation (actual mixing)\u001b[0m\u001b[1;33m\u001b[0m\u001b[1;33m\u001b[0m\u001b[1;33m\u001b[0m\u001b[0m\n\u001b[0;32m    862\u001b[0m                 \u001b[0mself\u001b[0m\u001b[1;33m.\u001b[0m\u001b[0mpipetteMove\u001b[0m\u001b[1;33m(\u001b[0m\u001b[0mp\u001b[0m\u001b[1;33m)\u001b[0m\u001b[1;33m\u001b[0m\u001b[1;33m\u001b[0m\u001b[0m\n\u001b[1;32m--> 863\u001b[1;33m                 \u001b[0mtime\u001b[0m\u001b[1;33m.\u001b[0m\u001b[0msleep\u001b[0m\u001b[1;33m(\u001b[0m\u001b[0md\u001b[0m\u001b[1;33m)\u001b[0m\u001b[1;33m\u001b[0m\u001b[1;33m\u001b[0m\u001b[0m\n\u001b[0m\u001b[0;32m    864\u001b[0m \u001b[1;33m\u001b[0m\u001b[0m\n\u001b[0;32m    865\u001b[0m                 \u001b[1;31m# Moving back x and y:\u001b[0m\u001b[1;33m\u001b[0m\u001b[1;33m\u001b[0m\u001b[1;33m\u001b[0m\u001b[0m\n",
      "\u001b[1;31mKeyboardInterrupt\u001b[0m: "
     ]
    }
   ],
   "source": [
    "oneStagePurification(ber, N_samples=6, initial_vol_list=[30, 30, 30, 30, 30, 30], \n",
    "                     cutoff_list=[150, 250, 350, 450, 550, 1000],\n",
    "                     V_avail_beads=800, V_avail_water=47000, V_avail_ethanol=25000, \n",
    "                     beads_rack=ber.samples_rack, beads_col=0, beads_row=11, \n",
    "                     sample_mix_scenario=script, beads_mix_scenario=script)"
   ]
  },
  {
   "cell_type": "code",
   "execution_count": 37,
   "metadata": {},
   "outputs": [],
   "source": [
    "ber.tips_rack.refill()"
   ]
  },
  {
   "cell_type": "markdown",
   "metadata": {},
   "source": [
    "# Purging sample tubes"
   ]
  },
  {
   "cell_type": "code",
   "execution_count": 53,
   "metadata": {},
   "outputs": [],
   "source": [
    "samples_list = bl.createSamplesToPurifyList(ber, [200,200,200,200,200,200])"
   ]
  },
  {
   "cell_type": "code",
   "execution_count": 54,
   "metadata": {},
   "outputs": [],
   "source": [
    "waste = bl.createSample('50ml', 'liquid_waste', ber.reagents_rack, 0, 1, 0)"
   ]
  },
  {
   "cell_type": "code",
   "execution_count": 56,
   "metadata": {},
   "outputs": [],
   "source": [
    "ber.pickUpNextTip()"
   ]
  },
  {
   "cell_type": "code",
   "execution_count": 59,
   "metadata": {},
   "outputs": [],
   "source": [
    "ber.move(z=50)"
   ]
  },
  {
   "cell_type": "code",
   "execution_count": 58,
   "metadata": {},
   "outputs": [],
   "source": [
    "for sample in samples_list:\n",
    "    ber.transferLiquid(sample, waste, 200)"
   ]
  },
  {
   "cell_type": "code",
   "execution_count": 60,
   "metadata": {},
   "outputs": [],
   "source": [
    "ber.dumpTipToWaste()"
   ]
  },
  {
   "cell_type": "markdown",
   "metadata": {},
   "source": [
    "# One-time settings"
   ]
  },
  {
   "cell_type": "markdown",
   "metadata": {},
   "source": [
    "## Parameters for the beads tube and sample type"
   ]
  },
  {
   "cell_type": "code",
   "execution_count": 47,
   "metadata": {},
   "outputs": [],
   "source": [
    "t2 = bl.sample_type('2ml')"
   ]
  },
  {
   "cell_type": "code",
   "execution_count": 48,
   "metadata": {},
   "outputs": [],
   "source": [
    "t2._setZAboveRacks({})"
   ]
  },
  {
   "cell_type": "code",
   "execution_count": 49,
   "metadata": {},
   "outputs": [],
   "source": [
    "r = ber.samples_rack"
   ]
  },
  {
   "cell_type": "code",
   "execution_count": 50,
   "metadata": {},
   "outputs": [],
   "source": [
    "t2.setZAboveSpecificRack(r, 20.0)"
   ]
  },
  {
   "cell_type": "code",
   "execution_count": 51,
   "metadata": {},
   "outputs": [
    {
     "data": {
      "text/plain": [
       "20.0"
      ]
     },
     "execution_count": 51,
     "metadata": {},
     "output_type": "execute_result"
    }
   ],
   "source": [
    "t2.getZAboveSpecificRack(r)"
   ]
  },
  {
   "cell_type": "code",
   "execution_count": 52,
   "metadata": {},
   "outputs": [],
   "source": [
    "t2.setInnerDiameter(8.30)"
   ]
  },
  {
   "cell_type": "code",
   "execution_count": null,
   "metadata": {},
   "outputs": [],
   "source": [
    "# Freshly measured\n",
    "depth_to_vol_dict = {\n",
    "    14000: 13.24,\n",
    "    10000: 38.0,\n",
    "    5000: 71.0,\n",
    "    2000: 91.8,\n",
    "    1600: 93.9,\n",
    "    1400: 95.7,\n",
    "    1200: 96.8,\n",
    "    1000: 98.8,\n",
    "    800: 99.0,\n",
    "    600: 103.0,\n",
    "    400: 105.45,\n",
    "    200: 109.0,\n",
    "    0: 45.45,   \n",
    "}"
   ]
  }
 ],
 "metadata": {
  "kernelspec": {
   "display_name": "Python 3",
   "language": "python",
   "name": "python3"
  },
  "language_info": {
   "codemirror_mode": {
    "name": "ipython",
    "version": 3
   },
   "file_extension": ".py",
   "mimetype": "text/x-python",
   "name": "python",
   "nbconvert_exporter": "python",
   "pygments_lexer": "ipython3",
   "version": "3.7.4"
  }
 },
 "nbformat": 4,
 "nbformat_minor": 2
}
