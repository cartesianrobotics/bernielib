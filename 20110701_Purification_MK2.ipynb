{
 "cells": [
  {
   "cell_type": "code",
   "execution_count": 1,
   "metadata": {},
   "outputs": [],
   "source": [
    "import time\n",
    "\n",
    "import bernielib as bl"
   ]
  },
  {
   "cell_type": "code",
   "execution_count": 2,
   "metadata": {},
   "outputs": [
    {
     "data": {
      "text/plain": [
       "['COM7', 'COM18', 'COM20']"
      ]
     },
     "execution_count": 2,
     "metadata": {},
     "output_type": "execute_result"
    }
   ],
   "source": [
    "bl.listSerialPorts()"
   ]
  },
  {
   "cell_type": "code",
   "execution_count": 3,
   "metadata": {},
   "outputs": [],
   "source": [
    "ber = bl.robot(cartesian_port_name='COM18', pipette_port_name='COM7', misc_port_name='COM20')"
   ]
  },
  {
   "cell_type": "code",
   "execution_count": 4,
   "metadata": {},
   "outputs": [],
   "source": [
    "ber.robotHome()\n",
    "ber.pipetteHome()"
   ]
  },
  {
   "cell_type": "code",
   "execution_count": 22,
   "metadata": {},
   "outputs": [],
   "source": [
    "beads = bl.createSample('eppendorf', 'beads', ber.samples_rack, 0, 0, 800)"
   ]
  },
  {
   "cell_type": "code",
   "execution_count": 7,
   "metadata": {},
   "outputs": [
    {
     "data": {
      "text/plain": [
       "800"
      ]
     },
     "execution_count": 7,
     "metadata": {},
     "output_type": "execute_result"
    }
   ],
   "source": [
    "beads.getVolume()"
   ]
  },
  {
   "cell_type": "code",
   "execution_count": 8,
   "metadata": {},
   "outputs": [],
   "source": [
    "mix_scenario = {\n",
    "    50:{\n",
    "        0: {'X': 0, 'Y': 0},\n",
    "    },\n",
    "    100: {\n",
    "        0: {'X': 2, 'Y': 0},\n",
    "        1: {'X': 1.5, 'Y': 1.5},\n",
    "        2: {'X': 0, 'Y': 2},\n",
    "        3: {'X': -1.5, 'Y': 1.5},\n",
    "        4: {'X': -2, 'Y': 0},\n",
    "        5: {'X': -1.5, 'Y': -1.5},\n",
    "        6: {'X': 0, 'Y': -2},\n",
    "        7: {'X': 1.5, 'Y': -1.5},\n",
    "        8: {'X': 0, 'Y': 0},\n",
    "    },\n",
    "    200: {\n",
    "        0: {'X': 3, 'Y': 0},\n",
    "        1: {'X': 2, 'Y': 2},\n",
    "        2: {'X': 0, 'Y': 3},\n",
    "        3: {'X': -2, 'Y': 2},\n",
    "        4: {'X': -3, 'Y': 0},\n",
    "        5: {'X': -2, 'Y': -2},\n",
    "        6: {'X': 0, 'Y': -3},\n",
    "        7: {'X': 2, 'Y': -2},\n",
    "        8: {'X': 0, 'Y': 0},\n",
    "    },\n",
    "}"
   ]
  },
  {
   "cell_type": "code",
   "execution_count": 5,
   "metadata": {},
   "outputs": [],
   "source": [
    "ber.pickUpNextTip()"
   ]
  },
  {
   "cell_type": "code",
   "execution_count": 18,
   "metadata": {},
   "outputs": [],
   "source": [
    "ber.move(z=0)"
   ]
  },
  {
   "cell_type": "code",
   "execution_count": 11,
   "metadata": {},
   "outputs": [],
   "source": [
    "ber.mix(sample=beads, scenario=mix_scenario, times=3)"
   ]
  },
  {
   "cell_type": "code",
   "execution_count": 12,
   "metadata": {},
   "outputs": [],
   "source": [
    "samples_list = bl.createSamplesToPurifyList(ber, [50, 100, 200])"
   ]
  },
  {
   "cell_type": "code",
   "execution_count": 13,
   "metadata": {},
   "outputs": [
    {
     "data": {
      "text/plain": [
       "50"
      ]
     },
     "execution_count": 13,
     "metadata": {},
     "output_type": "execute_result"
    }
   ],
   "source": [
    "samples_list[0].getVolume()"
   ]
  },
  {
   "cell_type": "code",
   "execution_count": 15,
   "metadata": {},
   "outputs": [],
   "source": [
    "ber.pipetteMove(1)"
   ]
  },
  {
   "cell_type": "markdown",
   "metadata": {},
   "source": [
    "# Calculating how many beads to add"
   ]
  },
  {
   "cell_type": "code",
   "execution_count": 16,
   "metadata": {},
   "outputs": [],
   "source": [
    "cutoff_list = [1000, 700, 200]\n",
    "v_beads_list = []\n",
    "for sample, size in zip(samples_list, cutoff_list):\n",
    "    v_beads = ber.calcBeadsVol(sample, size)\n",
    "    v_beads_list.append(v_beads)"
   ]
  },
  {
   "cell_type": "code",
   "execution_count": 17,
   "metadata": {},
   "outputs": [
    {
     "data": {
      "text/plain": [
       "[25.758674747999997, 53.77361189020407, 218.74755015999997]"
      ]
     },
     "execution_count": 17,
     "metadata": {},
     "output_type": "execute_result"
    }
   ],
   "source": [
    "v_beads_list"
   ]
  },
  {
   "cell_type": "markdown",
   "metadata": {},
   "source": [
    "# Adding beads"
   ]
  },
  {
   "cell_type": "code",
   "execution_count": 20,
   "metadata": {},
   "outputs": [],
   "source": [
    "def addBeads(robot, sample, beads, v_beads, mix_scenario):\n",
    "    robot.move(z=0)\n",
    "    robot.pickUpNextTip()\n",
    "    robot.move(z=0)\n",
    "    robot.transferLiquid(beads, sample, v_beads)\n",
    "    robot.mix(sample, scenario=mix_scenario)\n",
    "    robot.move(z=0)\n",
    "    robot.dumpTipToWaste()\n",
    "    robot.move(z=0)"
   ]
  },
  {
   "cell_type": "code",
   "execution_count": 24,
   "metadata": {},
   "outputs": [],
   "source": [
    "ber.pickUpNextTip()"
   ]
  },
  {
   "cell_type": "code",
   "execution_count": 25,
   "metadata": {},
   "outputs": [],
   "source": [
    "ber.transferLiquid(beads, samples_list[0], 50)"
   ]
  },
  {
   "cell_type": "code",
   "execution_count": 31,
   "metadata": {},
   "outputs": [],
   "source": [
    "ber.move(z=0)"
   ]
  },
  {
   "cell_type": "code",
   "execution_count": 32,
   "metadata": {},
   "outputs": [],
   "source": [
    "ber.dumpTipToWaste()"
   ]
  },
  {
   "cell_type": "code",
   "execution_count": 27,
   "metadata": {},
   "outputs": [],
   "source": [
    "addBeads(ber, samples_list[0], beads, v_beads_list[0], mix_scenario)"
   ]
  },
  {
   "cell_type": "code",
   "execution_count": null,
   "metadata": {},
   "outputs": [],
   "source": []
  },
  {
   "cell_type": "code",
   "execution_count": null,
   "metadata": {},
   "outputs": [],
   "source": []
  },
  {
   "cell_type": "code",
   "execution_count": 23,
   "metadata": {},
   "outputs": [],
   "source": [
    "ber.dumpTipToWaste()"
   ]
  },
  {
   "cell_type": "markdown",
   "metadata": {},
   "source": [
    "# Mixing procedure (continued)"
   ]
  },
  {
   "cell_type": "code",
   "execution_count": 39,
   "metadata": {},
   "outputs": [],
   "source": [
    "def mix4(robot, sample, scenario, times=3, v_uptake=200, mix_delay=0.5):\n",
    "    v_in = sample.getVolume()\n",
    "    v_max = sample.stype.getMaxVolume()\n",
    "    z_out = sample.calcAbsLiquidLevelFromVol(v_max, added_length=robot._calcExtraLength())\n",
    "    \n",
    "    if sample._isLowVolumeUptakeNeeded(v_uptake):\n",
    "        # Case when there is low liquid volume\n",
    "        v_uptake_projected = sample.stype.getCloseToBottomVol()\n",
    "        z_mix_projected = sample.calcAbsLiquidLevelFromVol(v_uptake_projected, added_length=robot._calcExtraLength())\n",
    "        if not sample._settingPresent('tube_bottom_z'):\n",
    "            # Probing the bottom\n",
    "            robot.moveToSample(sample, z=z_mix_projected)\n",
    "            z_tube_bottom = robot.moveDownUntilPress(step=0.2, threshold=200)\n",
    "            sample.setZBottom(z_tube_bottom)\n",
    "            sample.setBottomTouched()\n",
    "            # Moving back up after probing\n",
    "            robot.moveToSample(sample, z=z_out)\n",
    "            \n",
    "        z_mix = sample.getZBottom() - 1\n",
    "        \n",
    "        # Making sure robot will not uptake bubbles\n",
    "        if v_uptake > v_in * 0.8:\n",
    "            v_uptake = v_in * 0.8\n",
    "            \n",
    "        robot.movePipetteToVolume(v_uptake)\n",
    "        \n",
    "        robot.moveToSample(sample, z=z_mix)\n",
    "        \n",
    "        robot._pipetteUpAndDownInPlace(delay=mix_delay, times=times)\n",
    "        robot.uptakeLiquid(sample, v_uptake)\n",
    "        \n",
    "        \n",
    "        \n",
    "        robot.moveToSample(sample, z=z_out)\n",
    "        \n",
    "        robot.pipetteMove(40)\n",
    "        time.sleep(mix_delay)\n",
    "        robot.pipetteMove(0)\n",
    "\n",
    "        \n",
    "        "
   ]
  },
  {
   "cell_type": "code",
   "execution_count": 42,
   "metadata": {},
   "outputs": [],
   "source": [
    "beads = bl.createSample('eppendorf', 'beads', ber.samples_rack, 0, 0, 75)"
   ]
  },
  {
   "cell_type": "code",
   "execution_count": 41,
   "metadata": {},
   "outputs": [],
   "source": [
    "beads.purge()"
   ]
  },
  {
   "cell_type": "code",
   "execution_count": 11,
   "metadata": {},
   "outputs": [],
   "source": [
    "ber.pickUpNextTip()"
   ]
  },
  {
   "cell_type": "code",
   "execution_count": 25,
   "metadata": {},
   "outputs": [],
   "source": [
    "ber.move(z=0)"
   ]
  },
  {
   "cell_type": "code",
   "execution_count": 53,
   "metadata": {},
   "outputs": [],
   "source": [
    "mix4(ber, beads, scenario=mix_scenario)"
   ]
  },
  {
   "cell_type": "code",
   "execution_count": null,
   "metadata": {},
   "outputs": [],
   "source": []
  },
  {
   "cell_type": "markdown",
   "metadata": {},
   "source": [
    "## Mixing colours"
   ]
  },
  {
   "cell_type": "code",
   "execution_count": 11,
   "metadata": {},
   "outputs": [],
   "source": [
    "blue = bl.createSample('eppendorf', 'blue', ber.samples_rack, 0, 0, 1000)\n",
    "yellow = bl.createSample('eppendorf', 'yellow', ber.samples_rack, 1, 0, 50)"
   ]
  },
  {
   "cell_type": "code",
   "execution_count": 50,
   "metadata": {},
   "outputs": [],
   "source": [
    "ber.transferLiquid(blue, yellow, 50)"
   ]
  },
  {
   "cell_type": "code",
   "execution_count": 56,
   "metadata": {},
   "outputs": [],
   "source": [
    "mix4(ber, yellow, scenario=mix_scenario)"
   ]
  },
  {
   "cell_type": "code",
   "execution_count": 76,
   "metadata": {},
   "outputs": [],
   "source": [
    "def mix5(robot, sample, times=3, v_uptake=200, mix_delay=0.5):\n",
    "    v_in = sample.getVolume()\n",
    "    v_max = sample.stype.getMaxVolume()\n",
    "    z_just_above_liquid = sample.calcAbsLiquidLevelFromVol(v_in*1.2, added_length=robot._calcExtraLength())\n",
    "    z_max = sample.calcAbsLiquidLevelFromVol(v_max, added_length=robot._calcExtraLength())\n",
    "    \n",
    "    if v_uptake > v_in * 0.8:\n",
    "        v_uptake = v_in * 0.8\n",
    "        \n",
    "    times = times - 1\n",
    "    robot.uptakeLiquid(sample, v_uptake)\n",
    "    z_uptake = robot.getPosition(axis='Z')\n",
    "    for i in range(times):\n",
    "        robot.moveToSample(sample, z=z_just_above_liquid)\n",
    "        robot.dispenseLiquid(sample, v_uptake, plunger_retract=False, move_up_after=False, in_place=True)\n",
    "        robot.moveToSample(sample, z=z_uptake)\n",
    "        robot.uptakeLiquid(sample, v_uptake, in_place=True)\n",
    "    \n",
    "    robot.moveToSample(sample, z=z_max)\n",
    "    robot.pipetteMove(40)\n",
    "    time.sleep(mix_delay)\n",
    "    robot.touchWall(sample)\n",
    "    robot.pipetteMove(0)\n",
    "    sample.setVolume(v_in)"
   ]
  },
  {
   "cell_type": "code",
   "execution_count": 77,
   "metadata": {},
   "outputs": [],
   "source": [
    "mix5(ber, yellow, times=3)"
   ]
  },
  {
   "cell_type": "code",
   "execution_count": 10,
   "metadata": {},
   "outputs": [
    {
     "data": {
      "text/plain": [
       "50"
      ]
     },
     "execution_count": 10,
     "metadata": {},
     "output_type": "execute_result"
    }
   ],
   "source": [
    "yellow.getVolume()"
   ]
  },
  {
   "cell_type": "code",
   "execution_count": 10,
   "metadata": {},
   "outputs": [],
   "source": [
    "yellow.purge()"
   ]
  },
  {
   "cell_type": "code",
   "execution_count": 16,
   "metadata": {},
   "outputs": [
    {
     "data": {
      "text/plain": [
       "False"
      ]
     },
     "execution_count": 16,
     "metadata": {},
     "output_type": "execute_result"
    }
   ],
   "source": [
    "yellow._settingPresent('tube_bottom_z')"
   ]
  },
  {
   "cell_type": "code",
   "execution_count": 19,
   "metadata": {},
   "outputs": [
    {
     "data": {
      "text/plain": [
       "142.43"
      ]
     },
     "execution_count": 19,
     "metadata": {},
     "output_type": "execute_result"
    }
   ],
   "source": [
    "ber._probeTubeZBottom(yellow)"
   ]
  },
  {
   "cell_type": "code",
   "execution_count": 24,
   "metadata": {},
   "outputs": [],
   "source": [
    "ber.move(z=0)"
   ]
  },
  {
   "cell_type": "code",
   "execution_count": 23,
   "metadata": {},
   "outputs": [
    {
     "data": {
      "text/plain": [
       "142.43"
      ]
     },
     "execution_count": 23,
     "metadata": {},
     "output_type": "execute_result"
    }
   ],
   "source": [
    "ber._getTubeZBottom(yellow)"
   ]
  },
  {
   "cell_type": "markdown",
   "metadata": {},
   "source": [
    "# Mixing according to the script"
   ]
  },
  {
   "cell_type": "code",
   "execution_count": 5,
   "metadata": {},
   "outputs": [],
   "source": [
    "import pandas as pd"
   ]
  },
  {
   "cell_type": "code",
   "execution_count": 92,
   "metadata": {},
   "outputs": [],
   "source": [
    "script = pd.read_csv('mixing_pattern_eppendorf.csv')"
   ]
  },
  {
   "cell_type": "code",
   "execution_count": 93,
   "metadata": {},
   "outputs": [
    {
     "data": {
      "text/html": [
       "<div>\n",
       "<style scoped>\n",
       "    .dataframe tbody tr th:only-of-type {\n",
       "        vertical-align: middle;\n",
       "    }\n",
       "\n",
       "    .dataframe tbody tr th {\n",
       "        vertical-align: top;\n",
       "    }\n",
       "\n",
       "    .dataframe thead th {\n",
       "        text-align: right;\n",
       "    }\n",
       "</style>\n",
       "<table border=\"1\" class=\"dataframe\">\n",
       "  <thead>\n",
       "    <tr style=\"text-align: right;\">\n",
       "      <th></th>\n",
       "      <th>Height</th>\n",
       "      <th>H_relative_to</th>\n",
       "      <th>Plunger_pos</th>\n",
       "      <th>dx</th>\n",
       "      <th>dy</th>\n",
       "      <th>min_vol_condition</th>\n",
       "      <th>max_vol_condition</th>\n",
       "      <th>delay</th>\n",
       "      <th>comment</th>\n",
       "    </tr>\n",
       "  </thead>\n",
       "  <tbody>\n",
       "    <tr>\n",
       "      <th>0</th>\n",
       "      <td>0</td>\n",
       "      <td>top</td>\n",
       "      <td>down</td>\n",
       "      <td>0</td>\n",
       "      <td>0</td>\n",
       "      <td>0</td>\n",
       "      <td>1700</td>\n",
       "      <td>0.5</td>\n",
       "      <td>Initially lowering the plunger</td>\n",
       "    </tr>\n",
       "    <tr>\n",
       "      <th>1</th>\n",
       "      <td>1</td>\n",
       "      <td>bottom</td>\n",
       "      <td>up</td>\n",
       "      <td>0</td>\n",
       "      <td>0</td>\n",
       "      <td>0</td>\n",
       "      <td>250</td>\n",
       "      <td>0.5</td>\n",
       "      <td>mixing in place</td>\n",
       "    </tr>\n",
       "    <tr>\n",
       "      <th>2</th>\n",
       "      <td>1</td>\n",
       "      <td>bottom</td>\n",
       "      <td>down</td>\n",
       "      <td>0</td>\n",
       "      <td>0</td>\n",
       "      <td>0</td>\n",
       "      <td>250</td>\n",
       "      <td>0.5</td>\n",
       "      <td>mixing in place</td>\n",
       "    </tr>\n",
       "    <tr>\n",
       "      <th>3</th>\n",
       "      <td>1</td>\n",
       "      <td>bottom</td>\n",
       "      <td>up</td>\n",
       "      <td>0</td>\n",
       "      <td>0</td>\n",
       "      <td>0</td>\n",
       "      <td>250</td>\n",
       "      <td>0.5</td>\n",
       "      <td>mixing in place</td>\n",
       "    </tr>\n",
       "    <tr>\n",
       "      <th>4</th>\n",
       "      <td>1</td>\n",
       "      <td>bottom</td>\n",
       "      <td>down</td>\n",
       "      <td>0</td>\n",
       "      <td>0</td>\n",
       "      <td>0</td>\n",
       "      <td>250</td>\n",
       "      <td>0.5</td>\n",
       "      <td>mixing in place</td>\n",
       "    </tr>\n",
       "    <tr>\n",
       "      <th>5</th>\n",
       "      <td>1</td>\n",
       "      <td>bottom</td>\n",
       "      <td>up</td>\n",
       "      <td>0</td>\n",
       "      <td>0</td>\n",
       "      <td>0</td>\n",
       "      <td>250</td>\n",
       "      <td>0.5</td>\n",
       "      <td>mixing in place</td>\n",
       "    </tr>\n",
       "    <tr>\n",
       "      <th>6</th>\n",
       "      <td>1</td>\n",
       "      <td>bottom</td>\n",
       "      <td>down</td>\n",
       "      <td>0</td>\n",
       "      <td>0</td>\n",
       "      <td>0</td>\n",
       "      <td>250</td>\n",
       "      <td>0.5</td>\n",
       "      <td>mixing in place</td>\n",
       "    </tr>\n",
       "    <tr>\n",
       "      <th>7</th>\n",
       "      <td>1</td>\n",
       "      <td>bottom</td>\n",
       "      <td>up</td>\n",
       "      <td>0</td>\n",
       "      <td>0</td>\n",
       "      <td>0</td>\n",
       "      <td>1700</td>\n",
       "      <td>0.5</td>\n",
       "      <td>uptaking from bottom, releasing to the top</td>\n",
       "    </tr>\n",
       "    <tr>\n",
       "      <th>8</th>\n",
       "      <td>5</td>\n",
       "      <td>surface</td>\n",
       "      <td>down</td>\n",
       "      <td>0</td>\n",
       "      <td>0</td>\n",
       "      <td>0</td>\n",
       "      <td>1700</td>\n",
       "      <td>0.5</td>\n",
       "      <td>uptaking from bottom, releasing to the top</td>\n",
       "    </tr>\n",
       "    <tr>\n",
       "      <th>9</th>\n",
       "      <td>1</td>\n",
       "      <td>bottom</td>\n",
       "      <td>up</td>\n",
       "      <td>0</td>\n",
       "      <td>0</td>\n",
       "      <td>0</td>\n",
       "      <td>1700</td>\n",
       "      <td>0.5</td>\n",
       "      <td>uptaking from bottom, releasing to the top</td>\n",
       "    </tr>\n",
       "    <tr>\n",
       "      <th>10</th>\n",
       "      <td>5</td>\n",
       "      <td>surface</td>\n",
       "      <td>down</td>\n",
       "      <td>0</td>\n",
       "      <td>0</td>\n",
       "      <td>0</td>\n",
       "      <td>1700</td>\n",
       "      <td>0.5</td>\n",
       "      <td>uptaking from bottom, releasing to the top</td>\n",
       "    </tr>\n",
       "    <tr>\n",
       "      <th>11</th>\n",
       "      <td>1</td>\n",
       "      <td>bottom</td>\n",
       "      <td>up</td>\n",
       "      <td>0</td>\n",
       "      <td>0</td>\n",
       "      <td>0</td>\n",
       "      <td>1700</td>\n",
       "      <td>0.5</td>\n",
       "      <td>uptaking from bottom, releasing to the top</td>\n",
       "    </tr>\n",
       "    <tr>\n",
       "      <th>12</th>\n",
       "      <td>5</td>\n",
       "      <td>surface</td>\n",
       "      <td>down</td>\n",
       "      <td>0</td>\n",
       "      <td>0</td>\n",
       "      <td>0</td>\n",
       "      <td>1700</td>\n",
       "      <td>0.5</td>\n",
       "      <td>uptaking from bottom, releasing to the top</td>\n",
       "    </tr>\n",
       "    <tr>\n",
       "      <th>13</th>\n",
       "      <td>1</td>\n",
       "      <td>bottom</td>\n",
       "      <td>up</td>\n",
       "      <td>0</td>\n",
       "      <td>0</td>\n",
       "      <td>300</td>\n",
       "      <td>1700</td>\n",
       "      <td>0.5</td>\n",
       "      <td>NaN</td>\n",
       "    </tr>\n",
       "    <tr>\n",
       "      <th>14</th>\n",
       "      <td>5</td>\n",
       "      <td>surface</td>\n",
       "      <td>down</td>\n",
       "      <td>0</td>\n",
       "      <td>0</td>\n",
       "      <td>300</td>\n",
       "      <td>1700</td>\n",
       "      <td>0.5</td>\n",
       "      <td>NaN</td>\n",
       "    </tr>\n",
       "    <tr>\n",
       "      <th>15</th>\n",
       "      <td>1</td>\n",
       "      <td>bottom</td>\n",
       "      <td>up</td>\n",
       "      <td>0</td>\n",
       "      <td>0</td>\n",
       "      <td>300</td>\n",
       "      <td>1700</td>\n",
       "      <td>0.5</td>\n",
       "      <td>NaN</td>\n",
       "    </tr>\n",
       "    <tr>\n",
       "      <th>16</th>\n",
       "      <td>5</td>\n",
       "      <td>surface</td>\n",
       "      <td>down</td>\n",
       "      <td>0</td>\n",
       "      <td>0</td>\n",
       "      <td>300</td>\n",
       "      <td>1700</td>\n",
       "      <td>0.5</td>\n",
       "      <td>NaN</td>\n",
       "    </tr>\n",
       "    <tr>\n",
       "      <th>17</th>\n",
       "      <td>1</td>\n",
       "      <td>bottom</td>\n",
       "      <td>up</td>\n",
       "      <td>0</td>\n",
       "      <td>0</td>\n",
       "      <td>300</td>\n",
       "      <td>1700</td>\n",
       "      <td>0.5</td>\n",
       "      <td>NaN</td>\n",
       "    </tr>\n",
       "    <tr>\n",
       "      <th>18</th>\n",
       "      <td>5</td>\n",
       "      <td>surface</td>\n",
       "      <td>down</td>\n",
       "      <td>0</td>\n",
       "      <td>0</td>\n",
       "      <td>300</td>\n",
       "      <td>1700</td>\n",
       "      <td>0.5</td>\n",
       "      <td>NaN</td>\n",
       "    </tr>\n",
       "    <tr>\n",
       "      <th>19</th>\n",
       "      <td>1</td>\n",
       "      <td>bottom</td>\n",
       "      <td>up</td>\n",
       "      <td>0</td>\n",
       "      <td>0</td>\n",
       "      <td>500</td>\n",
       "      <td>1700</td>\n",
       "      <td>0.5</td>\n",
       "      <td>NaN</td>\n",
       "    </tr>\n",
       "    <tr>\n",
       "      <th>20</th>\n",
       "      <td>5</td>\n",
       "      <td>surface</td>\n",
       "      <td>down</td>\n",
       "      <td>0</td>\n",
       "      <td>0</td>\n",
       "      <td>500</td>\n",
       "      <td>1700</td>\n",
       "      <td>0.5</td>\n",
       "      <td>NaN</td>\n",
       "    </tr>\n",
       "    <tr>\n",
       "      <th>21</th>\n",
       "      <td>-9</td>\n",
       "      <td>surface</td>\n",
       "      <td>up</td>\n",
       "      <td>2</td>\n",
       "      <td>0</td>\n",
       "      <td>500</td>\n",
       "      <td>1700</td>\n",
       "      <td>0.5</td>\n",
       "      <td>NaN</td>\n",
       "    </tr>\n",
       "    <tr>\n",
       "      <th>22</th>\n",
       "      <td>-9</td>\n",
       "      <td>surface</td>\n",
       "      <td>down</td>\n",
       "      <td>2</td>\n",
       "      <td>0</td>\n",
       "      <td>500</td>\n",
       "      <td>1700</td>\n",
       "      <td>0.5</td>\n",
       "      <td>NaN</td>\n",
       "    </tr>\n",
       "    <tr>\n",
       "      <th>23</th>\n",
       "      <td>-7</td>\n",
       "      <td>surface</td>\n",
       "      <td>up</td>\n",
       "      <td>2</td>\n",
       "      <td>0</td>\n",
       "      <td>500</td>\n",
       "      <td>1700</td>\n",
       "      <td>0.5</td>\n",
       "      <td>NaN</td>\n",
       "    </tr>\n",
       "    <tr>\n",
       "      <th>24</th>\n",
       "      <td>-7</td>\n",
       "      <td>surface</td>\n",
       "      <td>down</td>\n",
       "      <td>2</td>\n",
       "      <td>0</td>\n",
       "      <td>500</td>\n",
       "      <td>1700</td>\n",
       "      <td>0.5</td>\n",
       "      <td>NaN</td>\n",
       "    </tr>\n",
       "    <tr>\n",
       "      <th>25</th>\n",
       "      <td>-5</td>\n",
       "      <td>surface</td>\n",
       "      <td>up</td>\n",
       "      <td>2</td>\n",
       "      <td>0</td>\n",
       "      <td>500</td>\n",
       "      <td>1700</td>\n",
       "      <td>0.5</td>\n",
       "      <td>NaN</td>\n",
       "    </tr>\n",
       "    <tr>\n",
       "      <th>26</th>\n",
       "      <td>-3</td>\n",
       "      <td>surface</td>\n",
       "      <td>down</td>\n",
       "      <td>2</td>\n",
       "      <td>0</td>\n",
       "      <td>500</td>\n",
       "      <td>1700</td>\n",
       "      <td>0.5</td>\n",
       "      <td>NaN</td>\n",
       "    </tr>\n",
       "    <tr>\n",
       "      <th>27</th>\n",
       "      <td>-3</td>\n",
       "      <td>surface</td>\n",
       "      <td>up</td>\n",
       "      <td>3</td>\n",
       "      <td>0</td>\n",
       "      <td>900</td>\n",
       "      <td>1700</td>\n",
       "      <td>0.5</td>\n",
       "      <td>NaN</td>\n",
       "    </tr>\n",
       "    <tr>\n",
       "      <th>28</th>\n",
       "      <td>-5</td>\n",
       "      <td>surface</td>\n",
       "      <td>down</td>\n",
       "      <td>3</td>\n",
       "      <td>0</td>\n",
       "      <td>900</td>\n",
       "      <td>1700</td>\n",
       "      <td>0.5</td>\n",
       "      <td>NaN</td>\n",
       "    </tr>\n",
       "    <tr>\n",
       "      <th>29</th>\n",
       "      <td>-5</td>\n",
       "      <td>surface</td>\n",
       "      <td>up</td>\n",
       "      <td>0</td>\n",
       "      <td>3</td>\n",
       "      <td>900</td>\n",
       "      <td>1700</td>\n",
       "      <td>0.5</td>\n",
       "      <td>NaN</td>\n",
       "    </tr>\n",
       "    <tr>\n",
       "      <th>30</th>\n",
       "      <td>-5</td>\n",
       "      <td>surface</td>\n",
       "      <td>down</td>\n",
       "      <td>0</td>\n",
       "      <td>3</td>\n",
       "      <td>900</td>\n",
       "      <td>1700</td>\n",
       "      <td>0.5</td>\n",
       "      <td>NaN</td>\n",
       "    </tr>\n",
       "    <tr>\n",
       "      <th>31</th>\n",
       "      <td>-5</td>\n",
       "      <td>surface</td>\n",
       "      <td>up</td>\n",
       "      <td>-3</td>\n",
       "      <td>0</td>\n",
       "      <td>900</td>\n",
       "      <td>1700</td>\n",
       "      <td>0.5</td>\n",
       "      <td>NaN</td>\n",
       "    </tr>\n",
       "    <tr>\n",
       "      <th>32</th>\n",
       "      <td>-5</td>\n",
       "      <td>surface</td>\n",
       "      <td>down</td>\n",
       "      <td>-3</td>\n",
       "      <td>0</td>\n",
       "      <td>900</td>\n",
       "      <td>1700</td>\n",
       "      <td>0.5</td>\n",
       "      <td>NaN</td>\n",
       "    </tr>\n",
       "    <tr>\n",
       "      <th>33</th>\n",
       "      <td>-5</td>\n",
       "      <td>surface</td>\n",
       "      <td>up</td>\n",
       "      <td>0</td>\n",
       "      <td>-3</td>\n",
       "      <td>900</td>\n",
       "      <td>1700</td>\n",
       "      <td>0.5</td>\n",
       "      <td>NaN</td>\n",
       "    </tr>\n",
       "    <tr>\n",
       "      <th>34</th>\n",
       "      <td>-5</td>\n",
       "      <td>surface</td>\n",
       "      <td>down</td>\n",
       "      <td>0</td>\n",
       "      <td>-3</td>\n",
       "      <td>900</td>\n",
       "      <td>1700</td>\n",
       "      <td>0.5</td>\n",
       "      <td>NaN</td>\n",
       "    </tr>\n",
       "    <tr>\n",
       "      <th>35</th>\n",
       "      <td>-5</td>\n",
       "      <td>surface</td>\n",
       "      <td>up</td>\n",
       "      <td>0</td>\n",
       "      <td>0</td>\n",
       "      <td>900</td>\n",
       "      <td>1700</td>\n",
       "      <td>0.5</td>\n",
       "      <td>NaN</td>\n",
       "    </tr>\n",
       "    <tr>\n",
       "      <th>36</th>\n",
       "      <td>5</td>\n",
       "      <td>surface</td>\n",
       "      <td>down</td>\n",
       "      <td>0</td>\n",
       "      <td>0</td>\n",
       "      <td>900</td>\n",
       "      <td>1700</td>\n",
       "      <td>0.5</td>\n",
       "      <td>NaN</td>\n",
       "    </tr>\n",
       "  </tbody>\n",
       "</table>\n",
       "</div>"
      ],
      "text/plain": [
       "    Height H_relative_to Plunger_pos  dx  dy  min_vol_condition  \\\n",
       "0        0           top        down   0   0                  0   \n",
       "1        1        bottom          up   0   0                  0   \n",
       "2        1        bottom        down   0   0                  0   \n",
       "3        1        bottom          up   0   0                  0   \n",
       "4        1        bottom        down   0   0                  0   \n",
       "5        1        bottom          up   0   0                  0   \n",
       "6        1        bottom        down   0   0                  0   \n",
       "7        1        bottom          up   0   0                  0   \n",
       "8        5       surface        down   0   0                  0   \n",
       "9        1        bottom          up   0   0                  0   \n",
       "10       5       surface        down   0   0                  0   \n",
       "11       1        bottom          up   0   0                  0   \n",
       "12       5       surface        down   0   0                  0   \n",
       "13       1        bottom          up   0   0                300   \n",
       "14       5       surface        down   0   0                300   \n",
       "15       1        bottom          up   0   0                300   \n",
       "16       5       surface        down   0   0                300   \n",
       "17       1        bottom          up   0   0                300   \n",
       "18       5       surface        down   0   0                300   \n",
       "19       1        bottom          up   0   0                500   \n",
       "20       5       surface        down   0   0                500   \n",
       "21      -9       surface          up   2   0                500   \n",
       "22      -9       surface        down   2   0                500   \n",
       "23      -7       surface          up   2   0                500   \n",
       "24      -7       surface        down   2   0                500   \n",
       "25      -5       surface          up   2   0                500   \n",
       "26      -3       surface        down   2   0                500   \n",
       "27      -3       surface          up   3   0                900   \n",
       "28      -5       surface        down   3   0                900   \n",
       "29      -5       surface          up   0   3                900   \n",
       "30      -5       surface        down   0   3                900   \n",
       "31      -5       surface          up  -3   0                900   \n",
       "32      -5       surface        down  -3   0                900   \n",
       "33      -5       surface          up   0  -3                900   \n",
       "34      -5       surface        down   0  -3                900   \n",
       "35      -5       surface          up   0   0                900   \n",
       "36       5       surface        down   0   0                900   \n",
       "\n",
       "    max_vol_condition  delay                                     comment  \n",
       "0                1700    0.5              Initially lowering the plunger  \n",
       "1                 250    0.5                             mixing in place  \n",
       "2                 250    0.5                             mixing in place  \n",
       "3                 250    0.5                             mixing in place  \n",
       "4                 250    0.5                             mixing in place  \n",
       "5                 250    0.5                             mixing in place  \n",
       "6                 250    0.5                             mixing in place  \n",
       "7                1700    0.5  uptaking from bottom, releasing to the top  \n",
       "8                1700    0.5  uptaking from bottom, releasing to the top  \n",
       "9                1700    0.5  uptaking from bottom, releasing to the top  \n",
       "10               1700    0.5  uptaking from bottom, releasing to the top  \n",
       "11               1700    0.5  uptaking from bottom, releasing to the top  \n",
       "12               1700    0.5  uptaking from bottom, releasing to the top  \n",
       "13               1700    0.5                                         NaN  \n",
       "14               1700    0.5                                         NaN  \n",
       "15               1700    0.5                                         NaN  \n",
       "16               1700    0.5                                         NaN  \n",
       "17               1700    0.5                                         NaN  \n",
       "18               1700    0.5                                         NaN  \n",
       "19               1700    0.5                                         NaN  \n",
       "20               1700    0.5                                         NaN  \n",
       "21               1700    0.5                                         NaN  \n",
       "22               1700    0.5                                         NaN  \n",
       "23               1700    0.5                                         NaN  \n",
       "24               1700    0.5                                         NaN  \n",
       "25               1700    0.5                                         NaN  \n",
       "26               1700    0.5                                         NaN  \n",
       "27               1700    0.5                                         NaN  \n",
       "28               1700    0.5                                         NaN  \n",
       "29               1700    0.5                                         NaN  \n",
       "30               1700    0.5                                         NaN  \n",
       "31               1700    0.5                                         NaN  \n",
       "32               1700    0.5                                         NaN  \n",
       "33               1700    0.5                                         NaN  \n",
       "34               1700    0.5                                         NaN  \n",
       "35               1700    0.5                                         NaN  \n",
       "36               1700    0.5                                         NaN  "
      ]
     },
     "execution_count": 93,
     "metadata": {},
     "output_type": "execute_result"
    }
   ],
   "source": [
    "script"
   ]
  },
  {
   "cell_type": "code",
   "execution_count": 8,
   "metadata": {},
   "outputs": [],
   "source": [
    "def mixByScript(robot, sample, script, vol_uptake_fraction=0.8):\n",
    "    v_in = sample.getVolume()\n",
    "    v_max = sample.stype.getMaxVolume()\n",
    "    z_liquid = sample.calcAbsLiquidLevelFromVol(v_in, added_length=robot._calcExtraLength())\n",
    "    z_max = sample.calcAbsLiquidLevelFromVol(v_max, added_length=robot._calcExtraLength())\n",
    "    \n",
    "    number_of_steps = script.shape[0]\n",
    "    for step in range(number_of_steps):\n",
    "        \n",
    "        print (\"Executing step \", step)\n",
    "        \n",
    "        step_params = script.loc[step]\n",
    "        # Parameters\n",
    "        h = step_params.Height\n",
    "        h_relative_to = step_params.H_relative_to\n",
    "        plunger_position = step_params.Plunger_pos\n",
    "        dx = step_params.dx\n",
    "        dy = step_params.dy\n",
    "        condition_v_min = step_params.min_vol_condition\n",
    "        condition_v_max = step_params.max_vol_condition\n",
    "        d = step_params.delay\n",
    "        \n",
    "        # Do I need to skip this step entirely?\n",
    "        if v_in > condition_v_min and v_in < condition_v_max:\n",
    "            # perform step\n",
    "        \n",
    "            # Figuring out absolute Z of the operation. If necessary, will probe the tube bottom.\n",
    "            if h_relative_to == 'top':\n",
    "                z = z_max + h # Getting deeper into the tube compared to the tube top. Positive -> deeper\n",
    "            elif h_relative_to == 'bottom':\n",
    "                z_bottom = robot._getTubeZBottom(sample)\n",
    "                z = z_bottom - h # Above the absolute Z of the tube.\n",
    "            elif h_relative_to == 'surface':\n",
    "                z = z_liquid - h # Above the surface level\n",
    "            else:\n",
    "                print (\"Please provide valid H_relative_to value. Valid values are top, bottom, surface.\")\n",
    "            \n",
    "            # Identifying uptake volume\n",
    "            v_uptake = v_in * vol_uptake_fraction\n",
    "            if v_uptake > 200:\n",
    "                v_uptake = 200\n",
    "            \n",
    "            if plunger_position == 'up':\n",
    "                p = 0\n",
    "            elif plunger_position == 'down':\n",
    "                p = robot.calcPipettePositionFromVolume(v_uptake)\n",
    "            else:\n",
    "                print (\"Please provide valid Plunger_pos value. Valid values are up and down.\")\n",
    "        \n",
    "            # Moving to the position for the operation\n",
    "            robot.moveToSample(sample, z=z, z_hop=0)\n",
    "            robot.moveAxisDelta('X', dx)\n",
    "            robot.moveAxisDelta('Y', dy)\n",
    "        \n",
    "            # Performing pipette operation (actual mixing)\n",
    "            robot.pipetteMove(p)\n",
    "            time.sleep(d)\n",
    "            \n",
    "            # Moving back x and y:\n",
    "            robot.moveAxisDelta('X', -dx)\n",
    "            robot.moveAxisDelta('Y', -dy)\n",
    "            \n",
    "            # Now getting to the next step.\n",
    "            \n",
    "        \n",
    "        \n",
    "        #print (h, h_relative_to, plunger_position, dx, dy, v_min, v_max, d)\n",
    "    \n",
    "    #Purging at the end of the protocol\n",
    "    robot.moveToSample(sample, z=z_max, z_hop=0)\n",
    "    robot.pipetteMove(40)\n",
    "    time.sleep(d)\n",
    "    robot.touchWall(sample)\n",
    "    robot.pipetteMove(0)"
   ]
  },
  {
   "cell_type": "code",
   "execution_count": 53,
   "metadata": {},
   "outputs": [],
   "source": [
    "yellow = bl.createSample('eppendorf', 'yellow', ber.samples_rack, 1, 0, 600)"
   ]
  },
  {
   "cell_type": "code",
   "execution_count": 10,
   "metadata": {},
   "outputs": [],
   "source": [
    "ber.pickUpNextTip()"
   ]
  },
  {
   "cell_type": "code",
   "execution_count": 52,
   "metadata": {},
   "outputs": [],
   "source": [
    "ber.move(z=0)"
   ]
  },
  {
   "cell_type": "code",
   "execution_count": 126,
   "metadata": {},
   "outputs": [
    {
     "name": "stdout",
     "output_type": "stream",
     "text": [
      "Executing step  0\n",
      "Executing step  1\n",
      "Executing step  2\n",
      "Executing step  3\n",
      "Executing step  4\n",
      "Executing step  5\n",
      "Executing step  6\n",
      "Executing step  7\n",
      "Executing step  8\n",
      "Executing step  9\n",
      "Executing step  10\n",
      "Executing step  11\n",
      "Executing step  12\n",
      "Executing step  13\n",
      "Executing step  14\n",
      "Executing step  15\n",
      "Executing step  16\n",
      "Executing step  17\n",
      "Executing step  18\n",
      "Executing step  19\n",
      "Executing step  20\n",
      "Executing step  21\n",
      "Executing step  22\n",
      "Executing step  23\n",
      "Executing step  24\n",
      "Executing step  25\n",
      "Executing step  26\n",
      "Executing step  27\n",
      "Executing step  28\n",
      "Executing step  29\n",
      "Executing step  30\n",
      "Executing step  31\n",
      "Executing step  32\n",
      "Executing step  33\n",
      "Executing step  34\n",
      "Executing step  35\n",
      "Executing step  36\n"
     ]
    }
   ],
   "source": [
    "mixByScript(ber, yellow, script)"
   ]
  },
  {
   "cell_type": "code",
   "execution_count": 127,
   "metadata": {},
   "outputs": [],
   "source": [
    "ber.move(z=0)"
   ]
  },
  {
   "cell_type": "code",
   "execution_count": 66,
   "metadata": {},
   "outputs": [],
   "source": [
    "ber.moveMagnetsTowardsTube()"
   ]
  },
  {
   "cell_type": "code",
   "execution_count": 67,
   "metadata": {},
   "outputs": [],
   "source": [
    "ber.moveMagnetsAway()"
   ]
  },
  {
   "cell_type": "markdown",
   "metadata": {},
   "source": [
    "# Settings to be entered just once"
   ]
  },
  {
   "cell_type": "code",
   "execution_count": 5,
   "metadata": {},
   "outputs": [],
   "source": [
    "ber.setBeadsVolumeCoef(a=4.99325349e-01, b=-9.91043764e+00, c=2.57585836e+04)"
   ]
  },
  {
   "cell_type": "code",
   "execution_count": 6,
   "metadata": {},
   "outputs": [
    {
     "data": {
      "text/plain": [
       "(0.499325349, -9.91043764, 25758.5836)"
      ]
     },
     "execution_count": 6,
     "metadata": {},
     "output_type": "execute_result"
    }
   ],
   "source": [
    "ber.getBeadsVolumeCoef()"
   ]
  },
  {
   "cell_type": "code",
   "execution_count": 7,
   "metadata": {},
   "outputs": [],
   "source": [
    "test_type = bl.sample_type('eppendorf')"
   ]
  },
  {
   "cell_type": "code",
   "execution_count": 8,
   "metadata": {},
   "outputs": [],
   "source": [
    "test_sample = bl.sample('test_sample', test_type)"
   ]
  },
  {
   "cell_type": "code",
   "execution_count": 14,
   "metadata": {},
   "outputs": [],
   "source": [
    "test_sample.setVolume(50)"
   ]
  },
  {
   "cell_type": "code",
   "execution_count": 16,
   "metadata": {},
   "outputs": [
    {
     "data": {
      "text/plain": [
       "25.758674747999997"
      ]
     },
     "execution_count": 16,
     "metadata": {},
     "output_type": "execute_result"
    }
   ],
   "source": [
    "ber.calcBeadsVol(test_sample, 1000)"
   ]
  },
  {
   "cell_type": "code",
   "execution_count": 43,
   "metadata": {},
   "outputs": [],
   "source": [
    "ber.pipetteServoUp()"
   ]
  },
  {
   "cell_type": "code",
   "execution_count": 42,
   "metadata": {},
   "outputs": [],
   "source": [
    "ber.pipetteServoDown()"
   ]
  },
  {
   "cell_type": "code",
   "execution_count": 24,
   "metadata": {},
   "outputs": [
    {
     "data": {
      "text/plain": [
       "(75.5, 150.57, 168.3)"
      ]
     },
     "execution_count": 24,
     "metadata": {},
     "output_type": "execute_result"
    }
   ],
   "source": [
    "ber.calibrateRack(rack='tips')"
   ]
  },
  {
   "cell_type": "code",
   "execution_count": 5,
   "metadata": {},
   "outputs": [],
   "source": [
    "ber.move(z=180)"
   ]
  },
  {
   "cell_type": "code",
   "execution_count": 6,
   "metadata": {},
   "outputs": [],
   "source": [
    "ber.move(z=0)"
   ]
  },
  {
   "cell_type": "code",
   "execution_count": 111,
   "metadata": {},
   "outputs": [
    {
     "data": {
      "text/plain": [
       "'echo:  G21    ; Units in mm\\n\\necho:Filament settings: Disabled\\necho:  M200 D3.00\\necho:  M200 D0\\necho:Steps per unit:\\necho:  M92 X10.00 Y10.00 Z100.00 E500.00\\necho:Maximum feedrates (units/s):\\necho:  M203 X2000.00 Y2000.00 Z4000.00 E25.00\\necho:Maximum Acceleration (units/s2):\\necho:  M201 X10000 Y10000 Z100 E10000\\necho:Acceleration (units/s2): P<print_accel> R<retract_accel> T<travel_accel>\\necho:  M204 P250.00 R10000.00 T250.00\\necho:Advanced: S<min_feedrate> T<min_travel_feedrate> B<min_segment_time_us> X<max_xy_jerk> Z<max_z_jerk> E<max_e_jerk>\\necho:  M205 S0.00 T0.00 B20000 X2.00 Y2.00 Z1.00 E5.00\\necho:Home offset:\\necho:  M206 X0.00 Y0.00 Z0.00\\necho:PID settings:\\necho:  M301 P22.20 I1.08 D114.00\\necho:Z-Probe Offset (mm):\\necho:  M851 Z0.00\\nok\\n'"
      ]
     },
     "execution_count": 111,
     "metadata": {},
     "output_type": "execute_result"
    }
   ],
   "source": [
    "ber.writeAndWaitCartesian(\"M503\")"
   ]
  },
  {
   "cell_type": "code",
   "execution_count": 128,
   "metadata": {},
   "outputs": [
    {
     "data": {
      "text/plain": [
       "'ok\\n'"
      ]
     },
     "execution_count": 128,
     "metadata": {},
     "output_type": "execute_result"
    }
   ],
   "source": [
    "ber.writeAndWaitCartesian(\"M201 Z200\")"
   ]
  },
  {
   "cell_type": "code",
   "execution_count": null,
   "metadata": {},
   "outputs": [],
   "source": []
  }
 ],
 "metadata": {
  "kernelspec": {
   "display_name": "Python 3",
   "language": "python",
   "name": "python3"
  },
  "language_info": {
   "codemirror_mode": {
    "name": "ipython",
    "version": 3
   },
   "file_extension": ".py",
   "mimetype": "text/x-python",
   "name": "python",
   "nbconvert_exporter": "python",
   "pygments_lexer": "ipython3",
   "version": "3.7.4"
  }
 },
 "nbformat": 4,
 "nbformat_minor": 2
}
