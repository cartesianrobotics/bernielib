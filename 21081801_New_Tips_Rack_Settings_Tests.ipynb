{
 "cells": [
  {
   "cell_type": "code",
   "execution_count": 1,
   "metadata": {},
   "outputs": [],
   "source": [
    "import time\n",
    "import pandas as pd\n",
    "from datetime import datetime\n",
    "\n",
    "import bernielib as bl"
   ]
  },
  {
   "cell_type": "code",
   "execution_count": 2,
   "metadata": {},
   "outputs": [],
   "source": [
    "ber = bl.robot(tips_type='new')"
   ]
  },
  {
   "cell_type": "code",
   "execution_count": 9,
   "metadata": {},
   "outputs": [],
   "source": [
    "ber.home()"
   ]
  },
  {
   "cell_type": "code",
   "execution_count": 4,
   "metadata": {},
   "outputs": [],
   "source": [
    "#Calculating approximate centers using samples rack as a starter\n",
    "x_samples = 85.2\n",
    "y_samples = 104.8\n",
    "\n",
    "x_tips = x_samples - 18.48 + 0.5\n",
    "y_tips = y_samples - 27.0 - 1.5"
   ]
  },
  {
   "cell_type": "code",
   "execution_count": 5,
   "metadata": {},
   "outputs": [],
   "source": [
    "ber.tips_rack.setCenterXY(x=x_tips, y=y_tips)"
   ]
  },
  {
   "cell_type": "code",
   "execution_count": 7,
   "metadata": {},
   "outputs": [],
   "source": [
    "ber.tips_rack.setCalibrationStyle(style='outer')"
   ]
  },
  {
   "cell_type": "code",
   "execution_count": 10,
   "metadata": {},
   "outputs": [],
   "source": [
    "# x and y are the width and length of the rack at the place where the calibration will happen\n",
    "# z is the height measured between the calibration point and the bottom of the monolyth (when waste or tips are removed)\n",
    "ber.tips_rack.setRackSize(x=86.0, y=122.0, z=58.7+11.6)"
   ]
  },
  {
   "cell_type": "code",
   "execution_count": 25,
   "metadata": {},
   "outputs": [],
   "source": [
    "ber.move(x=x_tips-40, y=y_tips+20, z=114)"
   ]
  },
  {
   "cell_type": "code",
   "execution_count": 20,
   "metadata": {},
   "outputs": [],
   "source": [
    "ber.tips_rack.setCalibrationZ(134)"
   ]
  },
  {
   "cell_type": "code",
   "execution_count": 21,
   "metadata": {},
   "outputs": [],
   "source": [
    "ber.tips_rack.setWells(wells_x=8, wells_y=12,\n",
    "                       x_dist_center_to_well_00=31.115, y_dist_center_to_well_00=48.895,\n",
    "                       well_diam=6.2, dist_between_cols=8.89, dist_between_rows=8.89)"
   ]
  },
  {
   "cell_type": "code",
   "execution_count": 23,
   "metadata": {},
   "outputs": [],
   "source": [
    "ber.tips_rack.setCalibrationLiftZ(-20)"
   ]
  },
  {
   "cell_type": "code",
   "execution_count": 26,
   "metadata": {},
   "outputs": [],
   "source": [
    "ber.tips_rack.setXYCalibrationShift(20, 20)"
   ]
  },
  {
   "cell_type": "code",
   "execution_count": 27,
   "metadata": {},
   "outputs": [
    {
     "data": {
      "text/plain": [
       "(67.22, 76.3)"
      ]
     },
     "execution_count": 27,
     "metadata": {},
     "output_type": "execute_result"
    }
   ],
   "source": [
    "ber.tips_rack.getCenterXY()"
   ]
  },
  {
   "cell_type": "code",
   "execution_count": 28,
   "metadata": {},
   "outputs": [],
   "source": [
    "ber.move(x=67.22, y=76.3, z=114)"
   ]
  },
  {
   "cell_type": "code",
   "execution_count": 33,
   "metadata": {},
   "outputs": [],
   "source": [
    "ber.tips_rack.setZCalibrationXY(x=43, y=20)"
   ]
  },
  {
   "cell_type": "code",
   "execution_count": 32,
   "metadata": {},
   "outputs": [
    {
     "data": {
      "text/plain": [
       "(67.42, 76.6, 135.1)"
      ]
     },
     "execution_count": 32,
     "metadata": {},
     "output_type": "execute_result"
    }
   ],
   "source": [
    "ber.calibrateRack(rack='tips')"
   ]
  },
  {
   "cell_type": "code",
   "execution_count": 35,
   "metadata": {},
   "outputs": [],
   "source": [
    "ber.tips_rack.refill()"
   ]
  },
  {
   "cell_type": "code",
   "execution_count": 36,
   "metadata": {},
   "outputs": [],
   "source": [
    "ber.move(z=50)"
   ]
  },
  {
   "cell_type": "code",
   "execution_count": 37,
   "metadata": {},
   "outputs": [
    {
     "data": {
      "text/plain": [
       "(0, 0)"
      ]
     },
     "execution_count": 37,
     "metadata": {},
     "output_type": "execute_result"
    }
   ],
   "source": [
    "ber.pickUpNextTip()"
   ]
  },
  {
   "cell_type": "code",
   "execution_count": 38,
   "metadata": {},
   "outputs": [],
   "source": [
    "ber.dumpTipToWaste()"
   ]
  },
  {
   "cell_type": "code",
   "execution_count": 34,
   "metadata": {},
   "outputs": [
    {
     "data": {
      "text/plain": [
       "{'center_x': 67.42,\n",
       " 'center_y': 76.6,\n",
       " 'calibration_style': 'outer',\n",
       " 'x_well_to_calibrate': 0,\n",
       " 'y_well_to_calibrate': 0,\n",
       " 'max_x': 86.0,\n",
       " 'max_y': 122.0,\n",
       " 'max_z': 70.3,\n",
       " 'calibration_Z': 134,\n",
       " 'wells_x': 8,\n",
       " 'wells_y': 12,\n",
       " 'x_dist_center_to_well_00': 31.115,\n",
       " 'y_dist_center_to_well_00': 48.895,\n",
       " 'well_diam': 6.2,\n",
       " 'dist_between_cols': 8.89,\n",
       " 'dist_between_rows': 8.89,\n",
       " 'wells_alignment': 'rectangular_grid',\n",
       " 'calibration_lift_z': -20,\n",
       " 'y_shift_for_x': 20,\n",
       " 'x_shift_for_y': 20,\n",
       " 'x_coord_for_z_calibration': 43,\n",
       " 'y_coord_for_z_calibration': 20,\n",
       " 'detected_z': 135.1}"
      ]
     },
     "execution_count": 34,
     "metadata": {},
     "output_type": "execute_result"
    }
   ],
   "source": [
    "ber.tips_rack.data"
   ]
  },
  {
   "cell_type": "code",
   "execution_count": null,
   "metadata": {},
   "outputs": [],
   "source": []
  },
  {
   "cell_type": "code",
   "execution_count": null,
   "metadata": {},
   "outputs": [],
   "source": []
  }
 ],
 "metadata": {
  "kernelspec": {
   "display_name": "Python 3",
   "language": "python",
   "name": "python3"
  },
  "language_info": {
   "codemirror_mode": {
    "name": "ipython",
    "version": 3
   },
   "file_extension": ".py",
   "mimetype": "text/x-python",
   "name": "python",
   "nbconvert_exporter": "python",
   "pygments_lexer": "ipython3",
   "version": "3.7.4"
  },
  "toc": {
   "base_numbering": 1,
   "nav_menu": {},
   "number_sections": true,
   "sideBar": true,
   "skip_h1_title": false,
   "title_cell": "Table of Contents",
   "title_sidebar": "Contents",
   "toc_cell": false,
   "toc_position": {},
   "toc_section_display": true,
   "toc_window_display": false
  }
 },
 "nbformat": 4,
 "nbformat_minor": 2
}
