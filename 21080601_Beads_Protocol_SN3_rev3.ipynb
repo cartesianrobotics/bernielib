{
 "cells": [
  {
   "cell_type": "code",
   "execution_count": 1,
   "metadata": {},
   "outputs": [],
   "source": [
    "import csv"
   ]
  },
  {
   "cell_type": "code",
   "execution_count": 2,
   "metadata": {},
   "outputs": [
    {
     "data": {
      "text/plain": [
       "['COM3', 'COM4']"
      ]
     },
     "execution_count": 2,
     "metadata": {},
     "output_type": "execute_result"
    }
   ],
   "source": [
    "import time\n",
    "import pandas as pd\n",
    "from datetime import datetime\n",
    "\n",
    "import bernielib as bl\n",
    "\n",
    "bl.listSerialPorts()"
   ]
  },
  {
   "cell_type": "code",
   "execution_count": 3,
   "metadata": {},
   "outputs": [],
   "source": [
    "ber = bl.robot()"
   ]
  },
  {
   "cell_type": "code",
   "execution_count": 4,
   "metadata": {},
   "outputs": [],
   "source": [
    "ber.home()"
   ]
  },
  {
   "cell_type": "markdown",
   "metadata": {},
   "source": [
    "# Importing protocol from csv"
   ]
  },
  {
   "cell_type": "code",
   "execution_count": 5,
   "metadata": {},
   "outputs": [],
   "source": [
    "filename = './samplesheet.csv'"
   ]
  },
  {
   "cell_type": "code",
   "execution_count": 6,
   "metadata": {},
   "outputs": [],
   "source": [
    "with open(filename, mode='r') as csv_file:\n",
    "    csv_reader = csv.DictReader(csv_file)\n",
    "    content = list(csv_reader)"
   ]
  },
  {
   "cell_type": "code",
   "execution_count": 7,
   "metadata": {},
   "outputs": [
    {
     "data": {
      "text/plain": [
       "OrderedDict([('Parameters', 'Beads initial volume'),\n",
       "             ('Comments', 'uL. How much of the beads is present'),\n",
       "             ('0', '1000'),\n",
       "             ('1', ''),\n",
       "             ('2', ''),\n",
       "             ('3', ''),\n",
       "             ('4', ''),\n",
       "             ('5', ''),\n",
       "             ('6', ''),\n",
       "             ('7', ''),\n",
       "             ('8', ''),\n",
       "             ('9', ''),\n",
       "             ('10', ''),\n",
       "             ('11', ''),\n",
       "             ('12', '')])"
      ]
     },
     "execution_count": 7,
     "metadata": {},
     "output_type": "execute_result"
    }
   ],
   "source": [
    "content[3]"
   ]
  },
  {
   "cell_type": "markdown",
   "metadata": {},
   "source": [
    "#### Get row from a parameter"
   ]
  },
  {
   "cell_type": "code",
   "execution_count": 8,
   "metadata": {},
   "outputs": [],
   "source": [
    "def getRowWithParameter(content, desired_parameter):\n",
    "    for row in content:\n",
    "        current_parameter = row['Parameters']\n",
    "        if current_parameter == desired_parameter:\n",
    "            return row"
   ]
  },
  {
   "cell_type": "code",
   "execution_count": 9,
   "metadata": {},
   "outputs": [
    {
     "data": {
      "text/plain": [
       "'eppendorf'"
      ]
     },
     "execution_count": 9,
     "metadata": {},
     "output_type": "execute_result"
    }
   ],
   "source": [
    "getRowWithParameter(content, 'Sample tube type')['2']"
   ]
  },
  {
   "cell_type": "code",
   "execution_count": 10,
   "metadata": {},
   "outputs": [
    {
     "data": {
      "text/plain": [
       "'eppendorf'"
      ]
     },
     "execution_count": 10,
     "metadata": {},
     "output_type": "execute_result"
    }
   ],
   "source": [
    "getRowWithParameter(content, 'Beads tube type')['0']"
   ]
  },
  {
   "cell_type": "markdown",
   "metadata": {},
   "source": [
    "#### What positions contain samples?"
   ]
  },
  {
   "cell_type": "code",
   "execution_count": 11,
   "metadata": {},
   "outputs": [],
   "source": [
    "def positionsToPurify(content):\n",
    "    positions_list = []\n",
    "    row = getRowWithParameter(content, 'Initial sample volume')\n",
    "    for position in range(12):\n",
    "        if float(row[str(position)]) > 0:\n",
    "            positions_list.append(position)\n",
    "    return positions_list"
   ]
  },
  {
   "cell_type": "code",
   "execution_count": 12,
   "metadata": {},
   "outputs": [
    {
     "data": {
      "text/plain": [
       "[0, 1, 2]"
      ]
     },
     "execution_count": 12,
     "metadata": {},
     "output_type": "execute_result"
    }
   ],
   "source": [
    "positionsToPurify(content)"
   ]
  },
  {
   "cell_type": "markdown",
   "metadata": {},
   "source": [
    "#### Getting lists of all properties"
   ]
  },
  {
   "cell_type": "code",
   "execution_count": 13,
   "metadata": {},
   "outputs": [],
   "source": [
    "def sortProperties(settings):\n",
    "    \"\"\"\n",
    "    Will return 2 lists: one for protocol-wide properties, another one for sample-specific properties\n",
    "    \"\"\"\n",
    "    protocol_wide_parameter_list = []\n",
    "    sample_specific_parameter_list = []\n",
    "    for row in settings:\n",
    "        current_parameter = row['Parameters']\n",
    "        position_missing_value = False\n",
    "        # going through the values\n",
    "        for position in range(12):\n",
    "            value = row[str(position)]\n",
    "            if value == '' or value is None:\n",
    "                position_missing_value = True\n",
    "        if position_missing_value:\n",
    "            protocol_wide_parameter_list.append(current_parameter)\n",
    "        else:\n",
    "            sample_specific_parameter_list.append(current_parameter)\n",
    "\n",
    "    return protocol_wide_parameter_list, sample_specific_parameter_list"
   ]
  },
  {
   "cell_type": "code",
   "execution_count": 14,
   "metadata": {},
   "outputs": [],
   "source": [
    "properties_protocol, properties_sample = sortProperties(content)"
   ]
  },
  {
   "cell_type": "code",
   "execution_count": 15,
   "metadata": {},
   "outputs": [],
   "source": [
    "def returnProtocolParameter(settings, param):\n",
    "    row = getRowWithParameter(settings, param)\n",
    "    value = row['0']\n",
    "    try:\n",
    "        value = float(value)\n",
    "    except:\n",
    "        pass\n",
    "    return value"
   ]
  },
  {
   "cell_type": "code",
   "execution_count": 16,
   "metadata": {},
   "outputs": [],
   "source": [
    "def returnSampleParameter(settings, param, position):\n",
    "    row = getRowWithParameter(settings, param)\n",
    "    value = row[str(position)]\n",
    "    try:\n",
    "        value = float(value)\n",
    "    except:\n",
    "        pass\n",
    "    return value    "
   ]
  },
  {
   "cell_type": "code",
   "execution_count": 17,
   "metadata": {},
   "outputs": [
    {
     "data": {
      "text/plain": [
       "['Text line',\n",
       " 'Perform initial checkup',\n",
       " 'Tip box refilled',\n",
       " 'Beads initial volume',\n",
       " 'Beads tube type',\n",
       " 'Beads tube rack',\n",
       " 'Beads tube column',\n",
       " 'Beads tube well',\n",
       " 'Eluent tube type',\n",
       " 'Eluent tube rack',\n",
       " 'Eluent tube position',\n",
       " 'Eluent volume',\n",
       " 'Ethanol tube type',\n",
       " 'Ethanol tube rack',\n",
       " 'Ethanol tube position',\n",
       " 'Ethanol volume',\n",
       " 'Waste tube type',\n",
       " 'Waste tube rack',\n",
       " 'Waste tube position',\n",
       " 'Waste volume',\n",
       " 'DNA absorption time',\n",
       " 'Times to mix while absorbing',\n",
       " 'Beads pulling time after absorption',\n",
       " 'First stage ethanol wash time',\n",
       " 'Second stage ethanol wash time',\n",
       " 'Remove extra liquid with a fresh tip',\n",
       " 'Time to dry after ethanol wash',\n",
       " 'Elution time',\n",
       " 'Times to mix while eluting']"
      ]
     },
     "execution_count": 17,
     "metadata": {},
     "output_type": "execute_result"
    }
   ],
   "source": [
    "properties_protocol"
   ]
  },
  {
   "cell_type": "code",
   "execution_count": 18,
   "metadata": {},
   "outputs": [
    {
     "data": {
      "text/plain": [
       "5.0"
      ]
     },
     "execution_count": 18,
     "metadata": {},
     "output_type": "execute_result"
    }
   ],
   "source": [
    "returnProtocolParameter(content, 'DNA absorption time')"
   ]
  },
  {
   "cell_type": "code",
   "execution_count": 19,
   "metadata": {},
   "outputs": [
    {
     "data": {
      "text/plain": [
       "['Sample tube type',\n",
       " 'Initial sample volume',\n",
       " 'DNA size cutoff',\n",
       " 'Fraction',\n",
       " 'Beads volume',\n",
       " 'First stage ethanol wash volume',\n",
       " 'Second stage ethanol wash volume',\n",
       " 'Elution volume']"
      ]
     },
     "execution_count": 19,
     "metadata": {},
     "output_type": "execute_result"
    }
   ],
   "source": [
    "properties_sample"
   ]
  },
  {
   "cell_type": "code",
   "execution_count": 20,
   "metadata": {},
   "outputs": [
    {
     "data": {
      "text/plain": [
       "'eppendorf'"
      ]
     },
     "execution_count": 20,
     "metadata": {},
     "output_type": "execute_result"
    }
   ],
   "source": [
    "returnSampleParameter(content, 'Sample tube type', 2)"
   ]
  },
  {
   "cell_type": "code",
   "execution_count": 21,
   "metadata": {},
   "outputs": [
    {
     "data": {
      "text/plain": [
       "17.0"
      ]
     },
     "execution_count": 21,
     "metadata": {},
     "output_type": "execute_result"
    }
   ],
   "source": [
    "returnSampleParameter(content, 'Beads volume', 2)"
   ]
  },
  {
   "cell_type": "markdown",
   "metadata": {},
   "source": [
    "# Functions for an actual protocol"
   ]
  },
  {
   "cell_type": "markdown",
   "metadata": {},
   "source": [
    "## Initializing tubes and samples"
   ]
  },
  {
   "cell_type": "code",
   "execution_count": 22,
   "metadata": {},
   "outputs": [],
   "source": [
    "def initSamples(robot, settings):\n",
    "    initial_vol_list = []\n",
    "    # Getting list of positions at which samples are placed\n",
    "    samples_positions_list = positionsToPurify(settings)\n",
    "    # Obtaining initial sample volume from settings\n",
    "    for position in samples_positions_list:\n",
    "        volume = returnSampleParameter(settings, 'Initial sample volume', position)\n",
    "        initial_vol_list.append(volume)\n",
    "    # Initializing sample instances\n",
    "    samples_list = bl.createSamplesToPurifyList(robot, initial_vol_list)\n",
    "    return samples_list"
   ]
  },
  {
   "cell_type": "code",
   "execution_count": 38,
   "metadata": {},
   "outputs": [],
   "source": [
    "def initResultTubes(robot, settings):\n",
    "    # Getting list of positions at which samples are placed\n",
    "    samples_positions_list = positionsToPurify(settings)\n",
    "    N_samples = len(samples_positions_list) # Number of samples\n",
    "    # Initializing results tube instances\n",
    "    result_list = bl.createPurifiedSamplesList(robot, N_samples)\n",
    "    return result_list"
   ]
  },
  {
   "cell_type": "code",
   "execution_count": 24,
   "metadata": {},
   "outputs": [],
   "source": [
    "def initReagents(robot, settings):\n",
    "    \"\"\"\n",
    "    Return 4 instances of the reagent tubes: \n",
    "    for beads, waste, eluent, ethanol 80%; in this particular order.\n",
    "    The parameters for the tubes (such as volume and location) are also defined according to the sample sheet.\n",
    "    \"\"\"\n",
    "    \n",
    "    # Beads tube settings\n",
    "    beads_tube_type = returnProtocolParameter(settings, 'Beads tube type')\n",
    "    beads_rack_name = returnProtocolParameter(settings, 'Beads tube rack')\n",
    "    if beads_rack_name == 'samples':\n",
    "        beads_rack = robot.samples_rack\n",
    "    elif beads_rack_name == 'reagents':\n",
    "        beads_rack = robot.reagents_rack\n",
    "    else:\n",
    "        print (\"wrong Beads tube rack specified in the samplesheet file\")\n",
    "        return\n",
    "    beads_col = int(returnProtocolParameter(settings, 'Beads tube column'))\n",
    "    beads_row = int(returnProtocolParameter(settings, 'Beads tube well'))\n",
    "    V_avail_beads = returnProtocolParameter(settings, 'Beads initial volume')\n",
    "    \n",
    "    # Initializing beads tube\n",
    "    beads_tube = bl.createSample(beads_tube_type, 'beads', beads_rack, beads_col, beads_row, V_avail_beads)\n",
    "\n",
    "    \n",
    "    # -------------------\n",
    "    # Waste tube settings\n",
    "    waste_tube_type = returnProtocolParameter(settings, 'Waste tube type')\n",
    "    waste_rack_name = returnProtocolParameter(settings, 'Waste tube rack')\n",
    "    if waste_rack_name == 'reagents':\n",
    "        waste_rack = robot.reagents_rack\n",
    "    else:\n",
    "        print (\"wrong Waste tube rack specified in the samplesheet file\")\n",
    "        return\n",
    "    waste_col = 0\n",
    "    waste_row = int(returnProtocolParameter(settings, 'Waste tube position'))\n",
    "    V_waste = returnProtocolParameter(settings, 'Waste volume')\n",
    "    \n",
    "    # Initializing waste tube\n",
    "    waste_tube = bl.createSample(waste_tube_type, 'liquid_waste', waste_rack, waste_col, waste_row, V_waste)\n",
    "\n",
    "    \n",
    "    # -------------------\n",
    "    # Eluent tube settings\n",
    "    eluent_tube_type = returnProtocolParameter(settings, 'Eluent tube type')\n",
    "    eluent_rack_name = returnProtocolParameter(settings, 'Eluent tube rack')\n",
    "    if eluent_rack_name == 'reagents':\n",
    "        eluent_rack = robot.reagents_rack\n",
    "    else:\n",
    "        print (\"wrong Eluent tube rack specified in the samplesheet file\")\n",
    "        return\n",
    "    eluent_col = 0\n",
    "    eluent_row = int(returnProtocolParameter(settings, 'Eluent tube position'))\n",
    "    V_avail_eluent = returnProtocolParameter(settings, 'Eluent volume')\n",
    "    \n",
    "    # Initializing eluent tube\n",
    "    eluent_tube = bl.createSample(eluent_tube_type, 'eluent', eluent_rack, eluent_col, eluent_row, V_avail_eluent)\n",
    "\n",
    "    \n",
    "    # -------------------\n",
    "    # Ethanol tube settings\n",
    "    ethanol_tube_type = returnProtocolParameter(settings, 'Ethanol tube type')\n",
    "    ethanol_rack_name = returnProtocolParameter(settings, 'Ethanol tube rack')\n",
    "    if ethanol_rack_name == 'reagents':\n",
    "        ethanol_rack = robot.reagents_rack\n",
    "    else:\n",
    "        print (\"wrong Ethanol tube rack specified in the samplesheet file\")\n",
    "        return\n",
    "    ethanol_col = 0\n",
    "    ethanol_row = int(returnProtocolParameter(settings, 'Ethanol tube position'))\n",
    "    V_avail_ethanol = returnProtocolParameter(settings, 'Ethanol volume')    \n",
    "    \n",
    "    ethanol80_tube = bl.createSample(ethanol_tube_type, 'EtOH80pct', ethanol_rack, ethanol_col, ethanol_row, V_avail_ethanol)\n",
    "    \n",
    "    return beads_tube, waste_tube, eluent_tube, ethanol80_tube"
   ]
  },
  {
   "cell_type": "markdown",
   "metadata": {},
   "source": [
    "## Functions to calculate beads volume"
   ]
  },
  {
   "cell_type": "code",
   "execution_count": 25,
   "metadata": {},
   "outputs": [],
   "source": [
    "def getBeadsVolume(robot, settings, position):\n",
    "    # Importing all possible parameters\n",
    "    beads_volume = returnSampleParameter(settings, 'Beads volume', position)\n",
    "    beads_volume_fraction = returnSampleParameter(settings, 'Fraction', position)\n",
    "    dna_size_cutoff = returnSampleParameter(settings, 'DNA size cutoff', position)\n",
    "    init_sample_vol = returnSampleParameter(settings, 'Initial sample volume', position)\n",
    "    \n",
    "    # Deciding which one to use\n",
    "    if beads_volume > 0:\n",
    "        use_beads_volume = beads_volume\n",
    "    elif beads_volume <= 0 and beads_volume_fraction > 0:\n",
    "        # If the beads volumes are not explicitly provided, use the volume multiplier (fraction)\n",
    "        use_beads_volume = init_sample_vol * beads_volume_fraction\n",
    "    elif beads_volume <= 0 and beads_volume_fraction <= 0 and dna_size_cutoff > 0:\n",
    "        # Approximation using the beads manufacturer data\n",
    "        # Using if neither beads volume, nor beads volume multiplier are explicitly provided.\n",
    "        # Getting polynome coefficients\n",
    "        a, b, c = robot.getBeadsVolumeCoef()\n",
    "        # Calculating volume multiplier (fraction)\n",
    "        multiplier = a + b / dna_size_cutoff + c / dna_size_cutoff ** 2\n",
    "        use_beads_volume = init_sample_vol * multiplier\n",
    "    else:\n",
    "        print(\"No beads volume provided\")\n",
    "        use_beads_volume = 0\n",
    "    return use_beads_volume    "
   ]
  },
  {
   "cell_type": "code",
   "execution_count": 26,
   "metadata": {},
   "outputs": [],
   "source": [
    "def getBeadsVolumesForAllSamples(robot, settings, positions_list):\n",
    "    beads_vol_list = []\n",
    "    for position in positions_list:\n",
    "        v = getBeadsVolume(robot, settings, position)\n",
    "        beads_vol_list.append(v)\n",
    "    return beads_vol_list"
   ]
  },
  {
   "cell_type": "code",
   "execution_count": 27,
   "metadata": {},
   "outputs": [
    {
     "data": {
      "text/plain": [
       "[40.0, 30.0, 17.0]"
      ]
     },
     "execution_count": 27,
     "metadata": {},
     "output_type": "execute_result"
    }
   ],
   "source": [
    "getBeadsVolumesForAllSamples(ber, content, [0, 1, 2])"
   ]
  },
  {
   "cell_type": "markdown",
   "metadata": {},
   "source": [
    "## Functions to get ethanol wash volumes from settings"
   ]
  },
  {
   "cell_type": "code",
   "execution_count": 28,
   "metadata": {},
   "outputs": [],
   "source": [
    "def getWashVolume(settings, stage):\n",
    "    vol_list = []\n",
    "    samples_positions_list = positionsToPurify(settings)\n",
    "    if stage == 1:\n",
    "        parameter_name = 'First stage ethanol wash volume'\n",
    "    elif stage == 2:\n",
    "        parameter_name = 'Second stage ethanol wash volume'\n",
    "    else:\n",
    "        parameter_name = 'First stage ethanol wash volume'\n",
    "    for position in samples_positions_list:\n",
    "        volume = returnSampleParameter(settings, parameter_name, position)\n",
    "        vol_list.append(volume)\n",
    "    return vol_list"
   ]
  },
  {
   "cell_type": "markdown",
   "metadata": {},
   "source": [
    "## Functions to get eluent volume from settings"
   ]
  },
  {
   "cell_type": "code",
   "execution_count": 29,
   "metadata": {},
   "outputs": [],
   "source": [
    "def getEluentVolume(settings):\n",
    "    samples_positions_list = positionsToPurify(settings)\n",
    "    vol_list = []\n",
    "    for position in samples_positions_list:\n",
    "        volume = returnSampleParameter(settings, 'Elution volume', position)\n",
    "        vol_list.append(volume)\n",
    "    return vol_list"
   ]
  },
  {
   "cell_type": "code",
   "execution_count": 43,
   "metadata": {},
   "outputs": [],
   "source": [
    "def calcBeadsVolumeToAdd(robot, samples_list, cutoff_list):\n",
    "    v_beads_list = []\n",
    "    for sample, dna_size in zip(samples_list, cutoff_list):\n",
    "        v_beads = robot.calcBeadsVol(sample, dna_size)\n",
    "        v_beads_list.append(v_beads)\n",
    "    return v_beads_list\n",
    "\n",
    "def waitAfterTimestamp(timestamp, delay):\n",
    "    new_ts = time.time()\n",
    "    while (new_ts - timestamp) < delay:\n",
    "        time.sleep(1)\n",
    "        new_ts = time.time()\n",
    "\n",
    "def waitAndMixByScript(robot, sample, timestamp, delay, mix_script, tip_col, tip_row):\n",
    "    new_ts = time.time()\n",
    "    robot.pickUpNextTip()\n",
    "    robot.move(z=50)\n",
    "    while (new_ts - timestamp) < delay:\n",
    "        robot.mixByScript(sample, mix_script)\n",
    "        robot.move(z=50)\n",
    "        new_ts = time.time()\n",
    "    robot.dumpTipToPosition(tip_col, tip_row)\n",
    "\n",
    "def mixManySamples(robot, samples_list, timestamp, delay, mix_cycle_number, mix_script):\n",
    "    delay_between_mixes = delay / (mix_cycle_number + 1)\n",
    "    # Waiting before the first mix.\n",
    "    # Needed for the case when the mix cycle number = 0. In this case, \n",
    "    # no mixing will happen, just waiting.\n",
    "    new_ts = time.time()\n",
    "    time_spent_pipetting = new_ts - timestamp\n",
    "    wait_time_until_next_mix = delay_between_mixes - time_spent_pipetting\n",
    "    if wait_time_until_next_mix >= 0:\n",
    "        time.sleep(wait_time_until_next_mix)    \n",
    "    for cycle in range(int(mix_cycle_number)):\n",
    "        for sample in samples_list:\n",
    "            robot.pickUpNextTip()\n",
    "            robot.move(z=50)    \n",
    "            robot.mixByScript(sample, mix_script)\n",
    "            robot.move(z=50)\n",
    "            robot.dumpTipToWaste()\n",
    "            \n",
    "        timestamp = new_ts\n",
    "        new_ts = time.time()\n",
    "        time_spent_pipetting = new_ts - timestamp\n",
    "        wait_time_until_next_mix = delay_between_mixes - time_spent_pipetting\n",
    "        if wait_time_until_next_mix >= 0:\n",
    "            time.sleep(wait_time_until_next_mix)\n",
    "    \n",
    "    \n",
    "def addBeads(robot, sample, beads, v_beads, sample_mix_scenario, beads_mix_scenario, z_safe=50):\n",
    "    robot.move(z=z_safe)\n",
    "    #robot.pickUpNextTip()\n",
    "    #robot.move(z=z_safe)\n",
    "    # Mixing beads before experiment\n",
    "    #robot.mixByScript(beads, beads_mix_scenario)\n",
    "    # Transferring beads to sample\n",
    "    robot.transferLiquid(beads, sample, v_beads)\n",
    "    # Mixing sample with beads\n",
    "    robot.mixByScript(sample, sample_mix_scenario)\n",
    "    robot.move(z=z_safe)\n",
    "    #robot.dumpTipToWaste()\n",
    "    robot.move(z=z_safe)\n",
    "\n",
    "def addBeadsToAll(robot, samples_list, v_beads_list, beads, sample_mix_scenario, beads_mix_scenario, used_tip_fate='waste'):\n",
    "    robot.moveMagnetsAway(poweroff=True)\n",
    "    robot.pickUpNextTip()\n",
    "    robot.move(z=50)\n",
    "    robot.mixByScript(beads, beads_mix_scenario)\n",
    "    robot.move(z=50)\n",
    "    \n",
    "    for sample, v_beads in zip(samples_list, v_beads_list):\n",
    "        robot.transferLiquid(beads, sample, v_beads, touch_wall=False)\n",
    "    \n",
    "    counter = 0\n",
    "    for sample, v_beads in zip(samples_list, v_beads_list):\n",
    "        if counter != 0:\n",
    "            robot.move(z=50)\n",
    "            robot.pickUpNextTip()\n",
    "        \n",
    "        robot.move(z=50)\n",
    "        \n",
    "        robot.mixByScript(sample, sample_mix_scenario)\n",
    "            \n",
    "        if counter == 0:\n",
    "            timestamp = time.time()\n",
    "        counter += 1\n",
    "        \n",
    "        robot.move(z=50)\n",
    "        if used_tip_fate == 'waste':\n",
    "            robot.dumpTipToWaste()\n",
    "        elif used_tip_fate == 'back':\n",
    "            robot.returnTipBack()\n",
    "        else:\n",
    "            print(\"Wrong tip fate provided. Dumping the tip to waste.\")\n",
    "            robot.dumpTipToWaste()\n",
    "    \n",
    "    return timestamp\n",
    "\n",
    "def removeSupernatant(robot, sample, waste, z_safe=50, delay=0.5):\n",
    "    robot.move(z=z_safe)        # Move to the safe heigth\n",
    "    robot.pickUpNextTip()       # Picking up a tip\n",
    "    robot.move(z=z_safe)        # Move to the safe heigth\n",
    "    # Uptaking liquid\n",
    "    v = eluate_tube.getVolume() # Volume in the tube with the mix of the eluted DNA and beads\n",
    "    # Performing an actual liquid transfer:\n",
    "    robot.transferLiquid(source=sample, \n",
    "                         destination=waste, \n",
    "                         volume=v, \n",
    "                         dry_tube=True,\n",
    "                         safe_z=z_safe, \n",
    "                         delay=pipette_delay, \n",
    "                         source_tube_radius=source_tube_radius)\n",
    "    robot.move(z=z_safe)        # Moving up so the tip does not hit anything\n",
    "    robot.dumpTipToWaste()      # Discarding the tip\n",
    "    robot.move(z=z_safe)        # Moving up so the tip does not hit anything\n",
    "\n",
    "def removeSupernatantAllSamples(robot, samples_list, waste):\n",
    "    counter = 0\n",
    "    for sample in samples_list:\n",
    "        removeSupernatant(robot, sample, waste)\n",
    "        if counter == 0:\n",
    "            sample_dried_timestamp = time.time()\n",
    "        counter += 1\n",
    "    return sample_dried_timestamp\n",
    "\n",
    "def add80PctEthanol(robot, samples_list, ethanol, volume_list, z_safe=50):\n",
    "    robot.pickUpNextTip()\n",
    "    robot.move(z=z_safe)\n",
    "    \n",
    "    counter = 0\n",
    "    for sample, volume in zip(samples_list, volume_list):\n",
    "        robot.transferLiquid(ethanol, sample, volume, touch_wall=False)\n",
    "        if counter == 0:\n",
    "            ethanol_added_time = time.time()\n",
    "        counter += 1\n",
    "    \n",
    "    robot.move(z=z_safe)\n",
    "    robot.dumpTipToWaste()\n",
    "    \n",
    "    return ethanol_added_time\n",
    "\n",
    "def elutionMix(robot, sample, volume, delay=0.5):\n",
    "    z0 = robot._getTubeZBottom(sample)\n",
    "    z_top = sample.getSampleTopAbsZ(added_length=robot._calcExtraLength())\n",
    "    robot.movePipetteToVolume(0)\n",
    "    robot.movePipetteToVolume(volume+5)\n",
    "    robot.movePipetteToVolume(volume)\n",
    "    robot.move(z=z0-0.5)\n",
    "    robot.movePipetteToVolume(0)\n",
    "    time.sleep(delay)\n",
    "    # Washing steps, moving along the wall\n",
    "    # 1\n",
    "    z_curr = z_top + 24\n",
    "    #z_curr = sample.calcAbsLiquidLevelFromVol(500, added_length=robot._calcExtraLength())\n",
    "    robot.move(z=z_curr)\n",
    "    robot.moveAxisDelta('X', 3.0)\n",
    "    robot.movePipetteToVolume(volume/4.0)\n",
    "    time.sleep(delay/4.0)\n",
    "    # 2\n",
    "    z_curr = z_top + 28\n",
    "    #z_curr = sample.calcAbsLiquidLevelFromVol(300, added_length=robot._calcExtraLength())\n",
    "    robot.move(z=z_curr)\n",
    "    #robot.moveAxisDelta('X', -0.629)\n",
    "    robot.movePipetteToVolume(2 * (volume/4.0))\n",
    "    time.sleep(delay/4.0)\n",
    "    # 3\n",
    "    z_curr = z_top + 32\n",
    "    #z_curr = sample.calcAbsLiquidLevelFromVol(150, added_length=robot._calcExtraLength())\n",
    "    robot.move(z=z_curr)\n",
    "    robot.moveAxisDelta('X', -0.629)\n",
    "    robot.movePipetteToVolume(3 * (volume/4.0))\n",
    "    time.sleep(delay/4.0)\n",
    "    # 4\n",
    "    z_curr = z_top + 36\n",
    "    #z_curr = sample.calcAbsLiquidLevelFromVol(150, added_length=robot._calcExtraLength())\n",
    "    robot.move(z=z_curr)\n",
    "    robot.moveAxisDelta('X', -0.629)\n",
    "    robot.movePipetteToVolume(volume)\n",
    "    time.sleep(delay/4.0)\n",
    "    \n",
    "    x, y = sample.getCenterXY()\n",
    "    robot.move(x=x, y=y)\n",
    "    z_curr = sample.calcAbsLiquidLevelFromVol(volume+100, added_length=robot._calcExtraLength())\n",
    "    robot.move(z=z_curr)\n",
    "    \n",
    "    robot.movePipetteToVolume(volume+50)\n",
    "    time.sleep(delay)\n",
    "    robot.movePipetteToVolume(0)\n",
    "\n",
    "def elutionMixLrgVol(robot, sample, volume, delay=0.5):\n",
    "    z0 = robot._getTubeZBottom(sample)\n",
    "    z_top = sample.getSampleTopAbsZ(added_length=robot._calcExtraLength())\n",
    "    \n",
    "    # Uptaking\n",
    "    robot.movePipetteToVolume(0)\n",
    "    robot.movePipetteToVolume(volume+5)\n",
    "    robot.movePipetteToVolume(volume)\n",
    "    robot.move(z=z0-0.8)\n",
    "    robot.movePipetteToVolume(0)\n",
    "    time.sleep(delay)\n",
    "    \n",
    "    # Ejecting liquid\n",
    "    z_curr = sample.calcAbsLiquidLevelFromVol(1000, added_length=robot._calcExtraLength())\n",
    "    robot.move(z=z_curr)\n",
    "    robot.moveAxisDelta('X', 3.4)\n",
    "    robot.movePipetteToVolume(volume+50)\n",
    "    z_curr = sample.calcAbsLiquidLevelFromVol(500, added_length=robot._calcExtraLength())\n",
    "    robot.move(z=z_curr)\n",
    "    \n",
    "    # To back position\n",
    "    x, y = sample.getCenterXY()\n",
    "    robot.move(x=x, y=y)\n",
    "    \n",
    "    robot.movePipetteToVolume(0)\n",
    "\n",
    "#TODO: make safe_z a general property of the robot\n",
    "def elute(robot, sample, eluent, volume, mix_delay=0.5, mix_times=5, safe_z=50):\n",
    "    robot.moveMagnetsAway(poweroff=True)\n",
    "    robot.pickUpNextTip()\n",
    "    robot.move(z=safe_z)\n",
    "    robot.transferLiquid(eluent, sample, volume)\n",
    "    for i in range(mix_times):\n",
    "        elutionMixLrgVol(robot, sample, volume)\n",
    "        elutionMixLrgVol(robot, sample, volume)\n",
    "        elutionMix(robot, sample, volume)\n",
    "    elution_start_time = time.time()\n",
    "    elutionMix(robot, sample, volume)\n",
    "    elutionMix(robot, sample, volume)\n",
    "    \n",
    "    robot.move(z=safe_z)\n",
    "    #robot.returnTipBack()\n",
    "    robot.dumpTipToWaste()\n",
    "    sample.setVolume(volume)\n",
    "    return elution_start_time\n",
    "\n",
    "def eluteAllSamples(robot, samples_list, eluent, V_eluent_list, mix_delay=0.5, mix_times=4, safe_z=50):\n",
    "    counter = 0\n",
    "    for sample, V_eluent in zip(samples_list, V_eluent_list):\n",
    "        ts = elute(ber, sample, eluent, V_eluent, mix_delay=mix_delay, mix_times=mix_times, safe_z=safe_z)\n",
    "        print ()\n",
    "        if counter == 0:\n",
    "            elution_start_timestamp = ts\n",
    "        counter += 1\n",
    "    return elution_start_timestamp\n",
    "\n",
    "def separateEluate(robot, eluate_tube, result_tube, pipette_delay=0.5, source_tube_radius=2, safe_z=50):\n",
    "    robot.move(z=safe_z)        # Moving up so the tip does not hit anything\n",
    "    robot.pickUpNextTip()       # Getting a new tip\n",
    "    robot.move(z=safe_z)        # Moving up so the tip does not hit anything\n",
    "    # Uptaking liquid\n",
    "    v = eluate_tube.getVolume()      # Volume in the tube with the mix of the eluted DNA and beads\n",
    "    # Performing an actual liquid transfer:\n",
    "    robot.transferLiquid(source=eluate_tube, \n",
    "                         destination=result_tube, \n",
    "                         volume=v, \n",
    "                         dry_tube=True,\n",
    "                         safe_z=safe_z, \n",
    "                         delay=pipette_delay, \n",
    "                         source_tube_radius=source_tube_radius)\n",
    "    robot.move(z=safe_z)        # Moving up so the tip does not hit anything\n",
    "    robot.dumpTipToWaste()      # Discarding the tip\n",
    "    robot.move(z=safe_z)        # Moving up so the tip does not hit anything\n",
    "\n",
    "def separateEluateAllTubes(robot, eluate_list, results_list):\n",
    "    for sample, result in zip(eluate_list, results_list):\n",
    "        separateEluate(robot, sample, result)\n",
    "    \n",
    "    \n",
    "def oneStagePurification(robot, settings, cutoff_list, \n",
    "                         sample_mix_scenario, beads_mix_scenario,\n",
    "                         T_wash=30, T_dry=300, T_elute=600,\n",
    "                         V_wash=200, V_elute=30):\n",
    "    \n",
    "    print(\"Loading parameters from the sample sheet. Started \", datetime.now().strftime(\"%H:%M:%S\"))\n",
    "    samples_list = initSamples(robot, settings)\n",
    "    result_list = initResultTubes(robot, settings)\n",
    "    beads, waste, water, EtOH80pct = initReagents(robot, settings)\n",
    "    positions_list = positionsToPurify(settings)\n",
    "    v_beads_list = getBeadsVolumesForAllSamples(robot, settings, positions_list)\n",
    "    v_ethanol_1st_stage_list = getWashVolume(settings, 1)\n",
    "    v_ethanol_2nd_stage_list = getWashVolume(settings, 2)\n",
    "    v_eluent_list = getEluentVolume(settings)\n",
    "    DNA_absorb_mix_number = int(returnProtocolParameter(settings, 'Times to mix while absorbing'))\n",
    "    elution_mix_numbers = int(returnProtocolParameter(settings, 'Times to mix while eluting'))\n",
    "    # All times are provided in miuntes in sample sheet (for user's convenience),\n",
    "    # but the library uses seconds. Don't forget to multiply by 60.\n",
    "    T_absorb = returnProtocolParameter(settings, 'DNA absorption time') * 60.0\n",
    "    T_pull = returnProtocolParameter(settings, 'Beads pulling time after absorption') * 60.0\n",
    "    T_wash_1 = returnProtocolParameter(settings, 'First stage ethanol wash time') * 60.0\n",
    "    T_wash_2 = returnProtocolParameter(settings, 'Second stage ethanol wash time') * 60.0\n",
    "    T_dry = returnProtocolParameter(settings, 'Time to dry after ethanol wash') * 60.0\n",
    "    T_elute = returnProtocolParameter(settings, 'Elution time') * 60.0\n",
    "\n",
    "    print(\"Experiment started \", datetime.now().strftime(\"%H:%M:%S\"))    \n",
    "    # Adding beads\n",
    "    timestamp_beads_added = addBeadsToAll(robot, samples_list, v_beads_list, beads, \n",
    "                                          sample_mix_scenario, beads_mix_scenario, used_tip_fate='waste')\n",
    "    print(\"Beads added \", datetime.now().strftime(\"%H:%M:%S\"))\n",
    "    print(\"Waiting for DNA absorption\")\n",
    "    mixManySamples(robot, samples_list, timestamp_beads_added, T_absorb, DNA_absorb_mix_number, sample_mix_scenario)\n",
    "    print(\"DNA absorption finished \", datetime.now().strftime(\"%H:%M:%S\"))\n",
    "    # Removing supernatant\n",
    "    robot.moveMagnetsTowardsTube(poweroff=True)\n",
    "    time.sleep(T_pull)\n",
    "    print(\"Beads pulled to the side \", datetime.now().strftime(\"%H:%M:%S\"))\n",
    "    ts = removeSupernatantAllSamples(robot, samples_list, waste, how='fast')\n",
    "    print(\"Supernatant removed \", datetime.now().strftime(\"%H:%M:%S\"))\n",
    "    # Ethanol wash\n",
    "    # Wash 1\n",
    "    timestamp_ethanol_added = add80PctEthanol(robot, samples_list, EtOH80pct, v_ethanol_1st_stage_list)\n",
    "    print(\"Wash 1: ethanol added \", datetime.now().strftime(\"%H:%M:%S\"))\n",
    "    waitAfterTimestamp(timestamp_ethanol_added, T_wash_1)\n",
    "    print(\"Wash 1: ethanol incubation finished \", datetime.now().strftime(\"%H:%M:%S\"))\n",
    "    ts = removeSupernatantAllSamples(robot, samples_list, waste, how='fast')\n",
    "    print(\"Wash 1: ethanol removed \", datetime.now().strftime(\"%H:%M:%S\"))\n",
    "    # Wash 2\n",
    "    timestamp_ethanol_added = add80PctEthanol(robot, samples_list, EtOH80pct, v_ethanol_2nd_stage_list)\n",
    "    print(\"Wash 2: ethanol added \", datetime.now().strftime(\"%H:%M:%S\"))\n",
    "    waitAfterTimestamp(timestamp_ethanol_added, T_wash_2)\n",
    "    print(\"Wash 2: ethanol incubation finished \", datetime.now().strftime(\"%H:%M:%S\"))\n",
    "    timestamp_ethanol_removed = removeSupernatantAllSamples(robot, samples_list, waste, how='full')\n",
    "    print(\"Wash 2: ethanol removed \", datetime.now().strftime(\"%H:%M:%S\"))\n",
    "    # Drying ethanol\n",
    "    waitAfterTimestamp(timestamp_ethanol_removed, T_dry)\n",
    "    print(\"Ethanol drying finished \", datetime.now().strftime(\"%H:%M:%S\"))\n",
    "    \n",
    "    # Elution\n",
    "    # Adding water\n",
    "    elution_start_timestamp = eluteAllSamples(robot, samples_list, water, v_eluent_list, mix_delay=0.5, mix_times=6, safe_z=50)\n",
    "    print(\"Eluent added \", datetime.now().strftime(\"%H:%M:%S\"))\n",
    "    mixManySamples(robot, samples_list, elution_start_timestamp, T_elute, elution_mix_numbers, sample_mix_scenario)\n",
    "    print(\"Elution incubation finished \", datetime.now().strftime(\"%H:%M:%S\"))\n",
    "    \n",
    "    # Magnetic beads to the side of the tubes\n",
    "    ber.moveMagnetsTowardsTube()\n",
    "    time.sleep(T_pull)\n",
    "    print(\"Beads pulled to the side \", datetime.now().strftime(\"%H:%M:%S\"))\n",
    "    # Moving liquid to the resulting tubes\n",
    "    separateEluateAllTubes(robot, samples_list, result_list)\n",
    "    print(\"Eluate transferred to the new tube \", datetime.now().strftime(\"%H:%M:%S\"))\n",
    "    print(\"Experiment finished \", datetime.now().strftime(\"%H:%M:%S\"))"
   ]
  },
  {
   "cell_type": "code",
   "execution_count": 31,
   "metadata": {},
   "outputs": [],
   "source": [
    "mix_script = pd.read_csv('mixing_pattern_eppendorf.csv')"
   ]
  },
  {
   "cell_type": "markdown",
   "metadata": {},
   "source": [
    "#### Preparing fake samples for the experiments"
   ]
  },
  {
   "cell_type": "code",
   "execution_count": 33,
   "metadata": {},
   "outputs": [],
   "source": [
    "water = bl.createSample('25ml', 'water', ber.reagents_rack, 0, 0, 25000)\n",
    "sample1 = bl.createSample('eppendorf', 's1', ber.samples_rack, 1, 0, 30)\n",
    "sample2 = bl.createSample('eppendorf', 's2', ber.samples_rack, 1, 1, 30)\n",
    "sample3 = bl.createSample('eppendorf', 's3', ber.samples_rack, 1, 2, 30)"
   ]
  },
  {
   "cell_type": "code",
   "execution_count": 34,
   "metadata": {},
   "outputs": [],
   "source": [
    "ber.pickUpNextTip()\n",
    "ber.transferLiquid(water, sample1, 30)\n",
    "ber.transferLiquid(water, sample2, 30)\n",
    "ber.transferLiquid(water, sample3, 30)\n",
    "ber.move(z=50)\n",
    "ber.dumpTipToWaste()"
   ]
  },
  {
   "cell_type": "markdown",
   "metadata": {},
   "source": [
    "#### Testing protocol functions"
   ]
  },
  {
   "cell_type": "code",
   "execution_count": 35,
   "metadata": {},
   "outputs": [],
   "source": [
    "with open(filename, mode='r') as csv_file:\n",
    "    csv_reader = csv.DictReader(csv_file)\n",
    "    content = list(csv_reader)"
   ]
  },
  {
   "cell_type": "code",
   "execution_count": 36,
   "metadata": {},
   "outputs": [
    {
     "name": "stdout",
     "output_type": "stream",
     "text": [
      "Loading parameters from the sample sheet. Started  16:14:40\n",
      "Experiment started  16:14:40\n",
      "Beads added  16:17:31\n",
      "Waiting for DNA absorption\n",
      "DNA absorption finished  16:20:14\n",
      "Beads pulled to the side  16:21:46\n",
      "Supernatant removed  16:22:24\n",
      "Wash 1: ethanol added  16:22:49\n",
      "Wash 1: ethanol incubation finished  16:23:04\n",
      "Wash 1: ethanol removed  16:23:41\n",
      "Wash 2: ethanol added  16:24:07\n",
      "Wash 2: ethanol incubation finished  16:24:21\n",
      "Wash 2: ethanol removed  16:25:06\n",
      "Ethanol drying finished  16:28:36\n",
      "\n",
      "\n",
      "\n",
      "Eluent added  16:32:25\n",
      "Elution incubation finished  16:34:55\n",
      "Beads pulled to the side  16:36:27\n"
     ]
    },
    {
     "ename": "TypeError",
     "evalue": "zip argument #2 must support iteration",
     "output_type": "error",
     "traceback": [
      "\u001b[1;31m---------------------------------------------------------------------------\u001b[0m",
      "\u001b[1;31mTypeError\u001b[0m                                 Traceback (most recent call last)",
      "\u001b[1;32m<ipython-input-36-9af91ba5d0f4>\u001b[0m in \u001b[0;36m<module>\u001b[1;34m\u001b[0m\n\u001b[1;32m----> 1\u001b[1;33m \u001b[0moneStagePurification\u001b[0m\u001b[1;33m(\u001b[0m\u001b[0mber\u001b[0m\u001b[1;33m,\u001b[0m \u001b[0mcontent\u001b[0m\u001b[1;33m,\u001b[0m \u001b[0mcutoff_list\u001b[0m\u001b[1;33m=\u001b[0m\u001b[1;33m[\u001b[0m\u001b[1;36m150\u001b[0m\u001b[1;33m]\u001b[0m\u001b[1;33m,\u001b[0m \u001b[0msample_mix_scenario\u001b[0m\u001b[1;33m=\u001b[0m\u001b[0mmix_script\u001b[0m\u001b[1;33m,\u001b[0m \u001b[0mbeads_mix_scenario\u001b[0m\u001b[1;33m=\u001b[0m\u001b[0mmix_script\u001b[0m\u001b[1;33m)\u001b[0m\u001b[1;33m\u001b[0m\u001b[1;33m\u001b[0m\u001b[0m\n\u001b[0m",
      "\u001b[1;32m<ipython-input-30-7ac1dc339d85>\u001b[0m in \u001b[0;36moneStagePurification\u001b[1;34m(robot, settings, cutoff_list, sample_mix_scenario, beads_mix_scenario, T_wash, T_dry, T_elute, V_wash, V_elute)\u001b[0m\n\u001b[0;32m    392\u001b[0m     \u001b[0mprint\u001b[0m\u001b[1;33m(\u001b[0m\u001b[1;34m\"Beads pulled to the side \"\u001b[0m\u001b[1;33m,\u001b[0m \u001b[0mdatetime\u001b[0m\u001b[1;33m.\u001b[0m\u001b[0mnow\u001b[0m\u001b[1;33m(\u001b[0m\u001b[1;33m)\u001b[0m\u001b[1;33m.\u001b[0m\u001b[0mstrftime\u001b[0m\u001b[1;33m(\u001b[0m\u001b[1;34m\"%H:%M:%S\"\u001b[0m\u001b[1;33m)\u001b[0m\u001b[1;33m)\u001b[0m\u001b[1;33m\u001b[0m\u001b[1;33m\u001b[0m\u001b[0m\n\u001b[0;32m    393\u001b[0m     \u001b[1;31m# Moving liquid to the resulting tubes\u001b[0m\u001b[1;33m\u001b[0m\u001b[1;33m\u001b[0m\u001b[1;33m\u001b[0m\u001b[0m\n\u001b[1;32m--> 394\u001b[1;33m     \u001b[1;32mfor\u001b[0m \u001b[0msample\u001b[0m\u001b[1;33m,\u001b[0m \u001b[0mresult\u001b[0m \u001b[1;32min\u001b[0m \u001b[0mzip\u001b[0m\u001b[1;33m(\u001b[0m\u001b[0msamples_list\u001b[0m\u001b[1;33m,\u001b[0m \u001b[0mresult_list\u001b[0m\u001b[1;33m)\u001b[0m\u001b[1;33m:\u001b[0m\u001b[1;33m\u001b[0m\u001b[1;33m\u001b[0m\u001b[0m\n\u001b[0m\u001b[0;32m    395\u001b[0m         \u001b[0mseparateEluate\u001b[0m\u001b[1;33m(\u001b[0m\u001b[0mber\u001b[0m\u001b[1;33m,\u001b[0m \u001b[0msample\u001b[0m\u001b[1;33m,\u001b[0m \u001b[0mresult\u001b[0m\u001b[1;33m)\u001b[0m\u001b[1;33m\u001b[0m\u001b[1;33m\u001b[0m\u001b[0m\n\u001b[0;32m    396\u001b[0m     \u001b[0mprint\u001b[0m\u001b[1;33m(\u001b[0m\u001b[1;34m\"Eluate transferred to the new tube \"\u001b[0m\u001b[1;33m,\u001b[0m \u001b[0mdatetime\u001b[0m\u001b[1;33m.\u001b[0m\u001b[0mnow\u001b[0m\u001b[1;33m(\u001b[0m\u001b[1;33m)\u001b[0m\u001b[1;33m.\u001b[0m\u001b[0mstrftime\u001b[0m\u001b[1;33m(\u001b[0m\u001b[1;34m\"%H:%M:%S\"\u001b[0m\u001b[1;33m)\u001b[0m\u001b[1;33m)\u001b[0m\u001b[1;33m\u001b[0m\u001b[1;33m\u001b[0m\u001b[0m\n",
      "\u001b[1;31mTypeError\u001b[0m: zip argument #2 must support iteration"
     ]
    }
   ],
   "source": [
    "oneStagePurification(ber, content, cutoff_list=[150], sample_mix_scenario=mix_script, beads_mix_scenario=mix_script)"
   ]
  },
  {
   "cell_type": "code",
   "execution_count": 73,
   "metadata": {},
   "outputs": [
    {
     "data": {
      "text/plain": [
       "{'magnets_away_angle': 5.2,\n",
       " 'magnets_near_tube_angle': 11.2,\n",
       " 'stair_finding_step_list': [1, 0.2],\n",
       " 'stair_finding_z_increment': 0.1,\n",
       " 'stair_finding_z_retract_after_trigger': -1,\n",
       " 'stair_finding_z_max_travel': 3,\n",
       " 'stair_finding_z_load_threshold': 500,\n",
       " 'z_max': 180,\n",
       " 'x_max': 189,\n",
       " 'y_max': 322,\n",
       " 'added_tip_length': 41.6,\n",
       " 'volume_to_position_slope': -0.15859245180518214,\n",
       " 'volume_to_position_intercept': -0.958195131933648,\n",
       " 'pipetting_delay': 0.2,\n",
       " 'DNAsize_to_Vbeads': {'a': 0.499325349, 'b': -9.91043764, 'c': 25758.5836},\n",
       " 'tip_drop_servo_up_angle': 2.5,\n",
       " 'tip_drop_servo_down_angle': 7.3,\n",
       " 'speed_XY': 50000,\n",
       " 'speed_Z': 30000,\n",
       " 'speed_pipette': 2500,\n",
       " 'plunger_movement_when_dumping_tip': 35}"
      ]
     },
     "execution_count": 73,
     "metadata": {},
     "output_type": "execute_result"
    }
   ],
   "source": [
    "ber.data"
   ]
  },
  {
   "cell_type": "markdown",
   "metadata": {},
   "source": [
    "#### Testing separateEluate function"
   ]
  },
  {
   "cell_type": "code",
   "execution_count": 40,
   "metadata": {},
   "outputs": [],
   "source": [
    "samples_list = initSamples(ber, content)\n",
    "result_list = initResultTubes(ber, content)"
   ]
  },
  {
   "cell_type": "code",
   "execution_count": 41,
   "metadata": {},
   "outputs": [],
   "source": [
    "for sample, result in zip(samples_list, result_list):\n",
    "    separateEluate(ber, sample, result)"
   ]
  },
  {
   "cell_type": "markdown",
   "metadata": {},
   "source": [
    "#### Removing liquids from sample tubes (after a failed attempt)"
   ]
  },
  {
   "cell_type": "code",
   "execution_count": 44,
   "metadata": {},
   "outputs": [],
   "source": [
    "waste = bl.createSample('25ml', 'liquid_waste', ber.reagents_rack, 0, 1, 0)\n",
    "sample1 = bl.createSample('eppendorf', 's1', ber.samples_rack, 1, 0, 30)\n",
    "sample2 = bl.createSample('eppendorf', 's2', ber.samples_rack, 1, 1, 30)\n",
    "sample3 = bl.createSample('eppendorf', 's3', ber.samples_rack, 1, 2, 30)"
   ]
  },
  {
   "cell_type": "code",
   "execution_count": 36,
   "metadata": {},
   "outputs": [],
   "source": [
    "ber.pickUpNextTip()\n",
    "ber.transferLiquid(sample1, waste, 200)\n",
    "ber.transferLiquid(sample2, waste, 200)\n",
    "ber.transferLiquid(sample3, waste, 200)\n",
    "ber.move(z=50)\n",
    "ber.dumpTipToWaste()"
   ]
  },
  {
   "cell_type": "markdown",
   "metadata": {},
   "source": [
    "#### Refilling the tip rack"
   ]
  },
  {
   "cell_type": "code",
   "execution_count": 44,
   "metadata": {},
   "outputs": [],
   "source": [
    "ber.tips_rack.refill()"
   ]
  },
  {
   "cell_type": "code",
   "execution_count": 45,
   "metadata": {},
   "outputs": [
    {
     "data": {
      "text/plain": [
       "0"
      ]
     },
     "execution_count": 45,
     "metadata": {},
     "output_type": "execute_result"
    }
   ],
   "source": [
    "sample1._allowPlungerLagCompensation(100, 5)"
   ]
  },
  {
   "cell_type": "markdown",
   "metadata": {},
   "source": [
    "# Testing transferLiquid for elution"
   ]
  },
  {
   "cell_type": "code",
   "execution_count": 5,
   "metadata": {},
   "outputs": [],
   "source": [
    "water = bl.createSample('25ml', 'water', ber.reagents_rack, 0, 0, 25000)\n",
    "waste = bl.createSample('25ml', 'liquid_waste', ber.reagents_rack, 0, 1, 0)\n",
    "sample1 = bl.createSample('eppendorf', 's1', ber.samples_rack, 1, 0, 0)"
   ]
  },
  {
   "cell_type": "code",
   "execution_count": 9,
   "metadata": {},
   "outputs": [],
   "source": [
    "result1 = bl.createSample('eppendorf', 'r1', ber.samples_rack, 0, 0, 0)"
   ]
  },
  {
   "cell_type": "markdown",
   "metadata": {},
   "source": [
    "## Removing any remaining liquid"
   ]
  },
  {
   "cell_type": "code",
   "execution_count": 6,
   "metadata": {},
   "outputs": [
    {
     "ename": "AttributeError",
     "evalue": "'robot' object has no attribute 'dropTipToWaste'",
     "output_type": "error",
     "traceback": [
      "\u001b[1;31m---------------------------------------------------------------------------\u001b[0m",
      "\u001b[1;31mAttributeError\u001b[0m                            Traceback (most recent call last)",
      "\u001b[1;32m<ipython-input-6-9032d7b9f25b>\u001b[0m in \u001b[0;36m<module>\u001b[1;34m\u001b[0m\n\u001b[0;32m      4\u001b[0m \u001b[0mber\u001b[0m\u001b[1;33m.\u001b[0m\u001b[0mtransferLiquid\u001b[0m\u001b[1;33m(\u001b[0m\u001b[0msample1\u001b[0m\u001b[1;33m,\u001b[0m \u001b[0mwaste\u001b[0m\u001b[1;33m,\u001b[0m \u001b[1;36m199\u001b[0m\u001b[1;33m,\u001b[0m \u001b[0mdry_tube\u001b[0m\u001b[1;33m=\u001b[0m\u001b[1;32mTrue\u001b[0m\u001b[1;33m)\u001b[0m\u001b[1;33m\u001b[0m\u001b[1;33m\u001b[0m\u001b[0m\n\u001b[0;32m      5\u001b[0m \u001b[0mber\u001b[0m\u001b[1;33m.\u001b[0m\u001b[0mmove\u001b[0m\u001b[1;33m(\u001b[0m\u001b[0mz\u001b[0m\u001b[1;33m=\u001b[0m\u001b[1;36m50\u001b[0m\u001b[1;33m)\u001b[0m\u001b[1;33m\u001b[0m\u001b[1;33m\u001b[0m\u001b[0m\n\u001b[1;32m----> 6\u001b[1;33m \u001b[0mber\u001b[0m\u001b[1;33m.\u001b[0m\u001b[0mdropTipToWaste\u001b[0m\u001b[1;33m(\u001b[0m\u001b[1;33m)\u001b[0m\u001b[1;33m\u001b[0m\u001b[1;33m\u001b[0m\u001b[0m\n\u001b[0m\u001b[0;32m      7\u001b[0m \u001b[0mber\u001b[0m\u001b[1;33m.\u001b[0m\u001b[0mmove\u001b[0m\u001b[1;33m(\u001b[0m\u001b[0mz\u001b[0m\u001b[1;33m=\u001b[0m\u001b[1;36m50\u001b[0m\u001b[1;33m)\u001b[0m\u001b[1;33m\u001b[0m\u001b[1;33m\u001b[0m\u001b[0m\n",
      "\u001b[1;31mAttributeError\u001b[0m: 'robot' object has no attribute 'dropTipToWaste'"
     ]
    }
   ],
   "source": [
    "ber.move(z=50)\n",
    "ber.pickUpNextTip()\n",
    "ber.move(z=50)\n",
    "ber.transferLiquid(sample1, waste, 199, dry_tube=True)\n",
    "ber.move(z=50)\n",
    "ber.dumpTipToWaste()\n",
    "ber.move(z=50)"
   ]
  },
  {
   "cell_type": "code",
   "execution_count": 7,
   "metadata": {},
   "outputs": [],
   "source": [
    "ber.dumpTipToWaste()"
   ]
  },
  {
   "cell_type": "markdown",
   "metadata": {},
   "source": [
    "## Adding liquid to the tube (preparing for the test)"
   ]
  },
  {
   "cell_type": "code",
   "execution_count": 11,
   "metadata": {},
   "outputs": [],
   "source": [
    "ber.move(z=50)\n",
    "ber.pickUpNextTip()\n",
    "ber.move(z=50)\n",
    "ber.transferLiquid(water, sample1, 30)\n",
    "ber.move(z=50)\n",
    "ber.dumpTipToWaste()\n",
    "ber.move(z=50)"
   ]
  },
  {
   "cell_type": "markdown",
   "metadata": {},
   "source": [
    "## Testing!"
   ]
  },
  {
   "cell_type": "code",
   "execution_count": 12,
   "metadata": {},
   "outputs": [],
   "source": [
    "ber.move(z=50)\n",
    "ber.pickUpNextTip()\n",
    "ber.move(z=50)\n",
    "ber.transferLiquid(sample1, result1, 30, dry_tube=True)\n",
    "ber.move(z=50)\n",
    "ber.dumpTipToWaste()\n",
    "ber.move(z=50)"
   ]
  },
  {
   "cell_type": "markdown",
   "metadata": {},
   "source": [
    "## Adding and removing lots of liquid"
   ]
  },
  {
   "cell_type": "code",
   "execution_count": 13,
   "metadata": {},
   "outputs": [],
   "source": [
    "ber.move(z=50)\n",
    "ber.pickUpNextTip()\n",
    "ber.move(z=50)\n",
    "ber.transferLiquid(water, sample1, 530)\n",
    "ber.move(z=50)\n",
    "ber.dumpTipToWaste()\n",
    "ber.move(z=50)"
   ]
  },
  {
   "cell_type": "code",
   "execution_count": 14,
   "metadata": {},
   "outputs": [],
   "source": [
    "ber.move(z=50)\n",
    "ber.pickUpNextTip()\n",
    "ber.move(z=50)\n",
    "ber.transferLiquid(sample1, result1, 530, dry_tube=True)\n",
    "ber.move(z=50)\n",
    "ber.dumpTipToWaste()\n",
    "ber.move(z=50)"
   ]
  },
  {
   "cell_type": "markdown",
   "metadata": {},
   "source": [
    "# Testing purify_to_cutoff script"
   ]
  },
  {
   "cell_type": "code",
   "execution_count": 1,
   "metadata": {},
   "outputs": [],
   "source": [
    "import importlib\n",
    "import purify_one_cutoff as ponec\n",
    "import time"
   ]
  },
  {
   "cell_type": "code",
   "execution_count": 19,
   "metadata": {},
   "outputs": [],
   "source": [
    "ponec = importlib.reload(ponec)"
   ]
  },
  {
   "cell_type": "code",
   "execution_count": 12,
   "metadata": {},
   "outputs": [
    {
     "name": "stdout",
     "output_type": "stream",
     "text": [
      "Testing mixManySamples function.\n",
      "Test finished.\n",
      "Robot should have attempted to wait for some time, mix samples, then wait again.\n",
      "Did it happened? Enter y if yes, anything else if no: y\n",
      "mixManySamples success.\n"
     ]
    }
   ],
   "source": [
    "print(\"Testing mixManySamples function.\")\n",
    "# Preparing for the test\n",
    "settings = ponec.loadSettings('samplesheet.csv')\n",
    "ber = ponec.bl.robot()\n",
    "ber.home()\n",
    "samples_list = ponec.initSamples(ber, settings)\n",
    "for sample in samples_list:   # For the test, sample starts with zero volume\n",
    "    sample.setVolume(400)\n",
    "beads, waste, water, EtOH80pct = ponec.initReagents(ber, settings)\n",
    "# Adding the liquid\n",
    "#ber.pickUpNextTip()\n",
    "#ber.move(z=50)\n",
    "#for sample in samples_list:\n",
    "#    ber.transferLiquid(water, sample, 100)\n",
    "#ber.move(z=50)\n",
    "#ber.dumpTipToWaste()\n",
    "#ber.move(z=50)\n",
    "\n",
    "timestamp = time.time()\n",
    "\n",
    "# Performing an actual test\n",
    "ponec.mixManySamples(ber, samples_list, timestamp, settings)\n",
    "\n",
    "# Cleaning update\n",
    "ber.pickUpNextTip()\n",
    "ber.move(z=50)\n",
    "for sample in samples_list:\n",
    "    ber.transferLiquid(sample, waste, 400, dry_tube=True)\n",
    "ber.move(z=50)\n",
    "ber.dumpTipToWaste()\n",
    "ber.move(z=50)\n",
    "ber.close()\n",
    "\n",
    "print(\"Test finished.\")\n",
    "print(\"Robot should have attempted to wait for some time, mix samples, then wait again.\")\n",
    "val = input(\"Did it happened? Enter y if yes, anything else if no: \")\n",
    "if val == 'y':\n",
    "    print(\"mixManySamples success.\")\n",
    "else:\n",
    "    print(\"mixManySamples failed.\")\n",
    "    sys.exit(\"Test failed. Terminating.\")\n",
    "    \n"
   ]
  },
  {
   "cell_type": "code",
   "execution_count": 6,
   "metadata": {},
   "outputs": [],
   "source": [
    "ber.close()"
   ]
  },
  {
   "cell_type": "code",
   "execution_count": 3,
   "metadata": {},
   "outputs": [],
   "source": [
    "ponec = importlib.reload(ponec)"
   ]
  },
  {
   "cell_type": "code",
   "execution_count": null,
   "metadata": {},
   "outputs": [],
   "source": []
  },
  {
   "cell_type": "code",
   "execution_count": 2,
   "metadata": {},
   "outputs": [
    {
     "name": "stdout",
     "output_type": "stream",
     "text": [
      "Testing addBeadsToAll function\n",
      "Sample at position 0 will receive 40.0 uL of magnetic beads.\n",
      "Sample at position 1 will receive 30.0 uL of magnetic beads.\n",
      "Sample at position 2 will receive 17.0 uL of magnetic beads.\n",
      "Test finished.\n",
      "Robot should have mixed the beads tube, transfer beads to the samples, mix each sample.\n",
      "Did it happened? Enter y if yes, anything else if no: y\n",
      "addBeadsToAll success.\n"
     ]
    }
   ],
   "source": [
    "print(\"Testing addBeadsToAll function\")\n",
    "# Preparing for the test\n",
    "settings = ponec.loadSettings('samplesheet.csv')\n",
    "ber = ponec.bl.robot()\n",
    "ber.home()\n",
    "samples_list = ponec.initSamples(ber, settings)\n",
    "for sample in samples_list:   # For the test, sample starts with zero volume\n",
    "    sample.setVolume(0)\n",
    "beads, waste, water, EtOH80pct = ponec.initReagents(ber, settings)\n",
    "positions_list = ponec.positionsToPurify(settings)\n",
    "v_beads_list = ponec.getBeadsVolumesForAllSamples(ber, settings, positions_list)\n",
    "\n",
    "# Adding the initial liquid\n",
    "ber.pickUpNextTip()\n",
    "ber.move(z=50)\n",
    "for sample in samples_list:\n",
    "    ber.transferLiquid(water, sample, 30)\n",
    "ber.move(z=50)\n",
    "ber.dumpTipToWaste()\n",
    "ber.move(z=50)\n",
    "\n",
    "# Performing an actual test\n",
    "ponec.addBeadsToAll(ber, samples_list, v_beads_list, beads)\n",
    "\n",
    "# Cleaning update\n",
    "ber.move(z=50)\n",
    "ber.pickUpNextTip()\n",
    "ber.move(z=50)\n",
    "for sample in samples_list:\n",
    "    v = sample.getVolume()\n",
    "    ber.transferLiquid(sample, waste, v, dry_tube=True)\n",
    "ber.move(z=50)\n",
    "ber.dumpTipToWaste()\n",
    "ber.move(z=50)\n",
    "ber.close()\n",
    "\n",
    "print(\"Test finished.\")\n",
    "print(\"Robot should have mixed the beads tube, transfer beads to the samples, mix each sample.\")\n",
    "val = input(\"Did it happened? Enter y if yes, anything else if no: \")\n",
    "if val == 'y':\n",
    "    print(\"addBeadsToAll success.\")\n",
    "else:\n",
    "    print(\"addBeadsToAll failed.\")\n",
    "    sys.exit(\"Test failed. Terminating.\")"
   ]
  },
  {
   "cell_type": "code",
   "execution_count": 17,
   "metadata": {},
   "outputs": [
    {
     "name": "stdout",
     "output_type": "stream",
     "text": [
      "Testing ethanol wash functions\n",
      "Test finished.\n",
      "Robot should have transferred ethanol to all tubes, then remove all ethanol.\n",
      "Did it happened? Enter y if yes, anything else if no: y\n",
      "Ethanol wash success.\n"
     ]
    }
   ],
   "source": [
    "print(\"Testing ethanol wash functions\")\n",
    "# Preparing for the test\n",
    "settings = ponec.loadSettings('samplesheet.csv')\n",
    "ber = ponec.bl.robot()\n",
    "ber.home()\n",
    "samples_list = ponec.initSamples(ber, settings)\n",
    "for sample in samples_list:   # For the test, sample starts with zero volume\n",
    "    sample.setVolume(0)\n",
    "beads, waste, water, EtOH80pct = ponec.initReagents(ber, settings)\n",
    "positions_list = ponec.positionsToPurify(settings)\n",
    "v_ethanol_list = ponec.getWashVolume(settings, 1)\n",
    "\n",
    "# Performing an actual test\n",
    "# Adding ethanol\n",
    "ponec.add80PctEthanol(ber, samples_list, EtOH80pct, v_ethanol_list)\n",
    "# Removing supernatant\n",
    "ponec.removeSupernatantAllSamples(ber, samples_list, waste)\n",
    "\n",
    "# Cleaning\n",
    "ber.close()\n",
    "\n",
    "print(\"Test finished.\")\n",
    "print(\"Robot should have transferred ethanol to all tubes, then remove all ethanol.\")\n",
    "val = input(\"Did it happened? Enter y if yes, anything else if no: \")\n",
    "if val == 'y':\n",
    "    print(\"Ethanol wash success.\")\n",
    "else:\n",
    "    print(\"Ethanol wash failed.\")\n",
    "    sys.exit(\"Test failed. Terminating.\")"
   ]
  },
  {
   "cell_type": "code",
   "execution_count": 5,
   "metadata": {},
   "outputs": [],
   "source": [
    "ber.close()"
   ]
  },
  {
   "cell_type": "code",
   "execution_count": 11,
   "metadata": {},
   "outputs": [
    {
     "data": {
      "text/plain": [
       "{'z_above_racks_dict': {'samples': 11.5},\n",
       " 'inner_diameter': 9.15,\n",
       " 'depth_to_vol_dict': {'0': 38.45,\n",
       "  '100': 32,\n",
       "  '200': 28,\n",
       "  '300': 26,\n",
       "  '400': 24,\n",
       "  '500': 22,\n",
       "  '700': 18,\n",
       "  '1000': 13,\n",
       "  '1500': 5.8,\n",
       "  '1700': 3},\n",
       " 'extra_immersion_volume': 200,\n",
       " 'close_to_bottom_volume': 50,\n",
       " 'low_vol_uptake_single_step': 0.5,\n",
       " 'low_vol_uptake_number_of_steps': 3,\n",
       " 'low_vol_uptake_delay_between_steps': 1,\n",
       " 'mix_script_file_path': 'mixing_pattern_eppendorf.csv'}"
      ]
     },
     "execution_count": 11,
     "metadata": {},
     "output_type": "execute_result"
    }
   ],
   "source": [
    "samples_list[0].stype.data"
   ]
  },
  {
   "cell_type": "code",
   "execution_count": 6,
   "metadata": {},
   "outputs": [],
   "source": [
    "ber.powerStepperOff('A') # to prevent unnecessary heating"
   ]
  },
  {
   "cell_type": "code",
   "execution_count": 6,
   "metadata": {},
   "outputs": [
    {
     "name": "stdout",
     "output_type": "stream",
     "text": [
      "Testing elute functions\n",
      "\n",
      "\n",
      "\n",
      "Test finished.\n",
      "Robot should have put a small volume of a liquid, thoroughly mix, then pipette everything out.\n",
      "Did it happened? Enter y if yes, anything else if no: y\n",
      "Elution success.\n"
     ]
    }
   ],
   "source": [
    "print(\"Testing elute functions\")\n",
    "# Preparing for the test\n",
    "settings = ponec.loadSettings('samplesheet.csv')\n",
    "ber = ponec.bl.robot()\n",
    "ber.home()\n",
    "samples_list = ponec.initSamples(ber, settings)\n",
    "result_list = ponec.initResultTubes(ber, settings)\n",
    "\n",
    "for sample in samples_list:   # For the test, sample starts with zero volume\n",
    "    sample.setVolume(0)\n",
    "beads, waste, water, EtOH80pct = ponec.initReagents(ber, settings)\n",
    "positions_list = ponec.positionsToPurify(settings)\n",
    "v_water_list = ponec.getEluentVolume(settings)\n",
    "\n",
    "# Performing an actual test\n",
    "ponec.eluteAllSamples(ber, samples_list, water, v_water_list, settings)\n",
    "ponec.separateEluateAllTubes(ber, samples_list, result_list)\n",
    "\n",
    "ber.powerStepperOff('A') # to prevent unnecessary heating\n",
    "\n",
    "ber.close()\n",
    "\n",
    "print(\"Test finished.\")\n",
    "print(\"Robot should have put a small volume of a liquid, thoroughly mix, then pipette everything out.\")\n",
    "val = input(\"Did it happened? Enter y if yes, anything else if no: \")\n",
    "if val == 'y':\n",
    "    print(\"Elution success.\")\n",
    "else:\n",
    "    print(\"Elution failed.\")\n",
    "    sys.exit(\"Test failed. Terminating.\")"
   ]
  },
  {
   "cell_type": "markdown",
   "metadata": {},
   "source": [
    "# Testing entire 1-step purification"
   ]
  },
  {
   "cell_type": "code",
   "execution_count": 1,
   "metadata": {},
   "outputs": [],
   "source": [
    "import importlib\n",
    "import purify_one_cutoff as ponec\n",
    "import time"
   ]
  },
  {
   "cell_type": "code",
   "execution_count": 2,
   "metadata": {},
   "outputs": [],
   "source": [
    "ponec = importlib.reload(ponec)"
   ]
  },
  {
   "cell_type": "code",
   "execution_count": 3,
   "metadata": {},
   "outputs": [
    {
     "name": "stdout",
     "output_type": "stream",
     "text": [
      "Testing entire 1-step purification function\n",
      "Sample at position 0 will receive 40.0 uL of magnetic beads.\n",
      "Sample at position 1 will receive 30.0 uL of magnetic beads.\n",
      "Sample at position 2 will receive 17.0 uL of magnetic beads.\n",
      "This is the one-stage magnetic beads purification.\n",
      "It will remove any DNA and other molecules of low molecular weight.\n",
      "I will purify 3 samples\n",
      "I will use the following magnetic beads volumes to purify: \n",
      "[40.0, 30.0, 17.0]\n",
      "I will elute the resulting DNA with eluent of the following volumes: \n",
      "[30.0, 30.0, 30.0]\n",
      "\n",
      "Purification started  15:45:48\n",
      "\n",
      "Adding magnetic beads. Started  15:45:48\n",
      "Beads added  15:48:28\n",
      "Now waiting for DNA absorption.\n",
      "DNA absorption finished  15:51:12\n",
      "Now pulling the beads towards the tube side\n",
      "Pulling time is 1.5 minutes\n",
      "Started  15:51:12\n",
      "Beads are now on the side of the tube.\n",
      "Removing supernatant. Started  15:52:43\n",
      "Supernatant removed from all tubes at  15:53:39\n",
      "Now starting ethanol washes.\n",
      "Adding 80% ethanol. Started  15:53:39\n",
      "Wash 1: ethanol added  15:54:03\n",
      "Wash 1: ethanol incubation finished  15:54:18\n",
      "Wash 1: ethanol removed  15:55:51\n",
      "Wash 2: ethanol added  15:56:16\n",
      "Wash 2: ethanol incubation finished  15:56:31\n",
      "Wash 2: ethanol removed  15:58:04\n",
      "Now drying the tubes from the remaining ethanol.\n",
      "Time to dry:  240.0\n",
      "Drying started:  15:58:04\n",
      "Ethanol drying finished  16:01:02\n",
      "Starting elution. Started  16:01:02\n",
      "\n",
      "\n",
      "\n",
      "Eluent added  16:03:47\n",
      "Now mixing the samples. Started at  16:03:47\n",
      "Elution incubation finished  16:06:17\n",
      "Now pulling the beads towards the tube side\n",
      "Pulling time is 1.5 minutes\n",
      "Started  16:06:17\n",
      "Beads pulled to the side  16:07:49\n",
      "Now moving the eluate to the results tubes. Started  16:07:49\n",
      "Eluate transferred to the new tube  16:08:45\n",
      "Purification finished  16:08:45\n",
      "Test finished.\n"
     ]
    }
   ],
   "source": [
    "print(\"Testing entire 1-step purification function\")\n",
    "settings = ponec.loadSettings('samplesheet.csv')\n",
    "ber = ponec.bl.robot()\n",
    "ber.home()\n",
    "\n",
    "# initializing samples, so I can fill them with initial liquid\n",
    "samples_list = ponec.initSamples(ber, settings)\n",
    "for sample in samples_list:   # For the test, sample starts with zero volume\n",
    "    sample.setVolume(0)\n",
    "beads, waste, water, EtOH80pct = ponec.initReagents(ber, settings)\n",
    "positions_list = ponec.positionsToPurify(settings)\n",
    "\n",
    "# Refilling the tips\n",
    "#ber.tips_rack.refill()\n",
    "\n",
    "# Adding the initial liquid\n",
    "ber.pickUpNextTip()\n",
    "ber.move(z=50)\n",
    "for sample in samples_list:\n",
    "    ber.transferLiquid(water, sample, 30)\n",
    "ber.move(z=50)\n",
    "ber.dumpTipToWaste()\n",
    "ber.move(z=50)\n",
    "\n",
    "# Performing actual test\n",
    "ponec.purify_one_cutoff(ber, settings)\n",
    "\n",
    "print(\"Test finished.\")"
   ]
  },
  {
   "cell_type": "code",
   "execution_count": 4,
   "metadata": {},
   "outputs": [],
   "source": [
    "ber.close()"
   ]
  },
  {
   "cell_type": "markdown",
   "metadata": {},
   "source": [
    "# Testing two-step purification"
   ]
  },
  {
   "cell_type": "code",
   "execution_count": 1,
   "metadata": {},
   "outputs": [],
   "source": [
    "import importlib\n",
    "import purify_one_cutoff as ponec\n",
    "import time"
   ]
  },
  {
   "cell_type": "code",
   "execution_count": 2,
   "metadata": {},
   "outputs": [],
   "source": [
    "ponec = importlib.reload(ponec)"
   ]
  },
  {
   "cell_type": "code",
   "execution_count": 3,
   "metadata": {},
   "outputs": [
    {
     "name": "stdout",
     "output_type": "stream",
     "text": [
      "Testing entire 2-step purification function\n",
      "Sample at position 0 will receive 15.69954088270588 uL of magnetic beads at first stage.\n",
      "Sample at position 1 will receive 15.957134089733332 uL of magnetic beads at first stage.\n",
      "Sample at position 2 will receive 16.630787221333332 uL of magnetic beads at first stage.\n",
      "Sample at position 0 will receive 40.0 uL of magnetic beads at the second stage.\n",
      "Sample at position 1 will receive 30.0 uL of magnetic beads at the second stage.\n",
      "Sample at position 2 will receive 17.0 uL of magnetic beads at the second stage.\n",
      "This is the two-stages magnetic beads purification.\n",
      "It will remove any DNA and other molecules of too low and too high molecular weight.\n",
      "I will purify 3 samples\n",
      "I will use the following magnetic beads volumes for short DNA cutoff: \n",
      "[15.69954088270588, 15.957134089733332, 16.630787221333332]\n",
      "I will use the following magnetic beads volumes for long DNA cutoff: \n",
      "[40.0, 30.0, 17.0]\n",
      "I will elute the resulting DNA with eluent of the following volumes: \n",
      "[30.0, 30.0, 30.0]\n",
      "\n",
      "Purification started  18:22:58\n",
      "\n",
      "Adding magnetic beads. Started  18:22:58\n",
      "Beads added  18:25:38\n",
      "Now waiting for DNA absorption.\n",
      "DNA absorption finished  18:28:20\n",
      "Now pulling the beads towards the tube side\n",
      "Pulling time is 1.5 minutes\n",
      "Started  18:28:20\n",
      "Adding magnetic beads. Started  18:30:50\n",
      "Beads added  18:33:33\n",
      "Now waiting for DNA absorption.\n",
      "DNA absorption finished  18:36:17\n",
      "Now pulling the beads towards the tube side\n",
      "Pulling time is 1.5 minutes\n",
      "Started  18:36:17\n",
      "Beads are now on the side of the tube.\n",
      "Removing supernatant. Started  18:37:49\n",
      "Supernatant removed from all tubes at  18:38:46\n",
      "Now starting ethanol washes.\n",
      "Adding 80% ethanol. Started  18:38:46\n",
      "Wash 1: ethanol added  18:39:09\n",
      "Wash 1: ethanol incubation finished  18:39:25\n",
      "Wash 1: ethanol removed  18:41:00\n",
      "Wash 2: ethanol added  18:41:23\n",
      "Wash 2: ethanol incubation finished  18:41:38\n",
      "Wash 2: ethanol removed  18:43:11\n",
      "Now drying the tubes from the remaining ethanol.\n",
      "Time to dry:  240.0\n",
      "Drying started:  18:43:11\n",
      "Ethanol drying finished  18:46:10\n",
      "Starting elution. Started  18:46:10\n",
      "\n",
      "\n",
      "\n",
      "Eluent added  18:48:55\n",
      "Now mixing the samples. Started at  18:48:55\n",
      "Elution incubation finished  18:51:25\n",
      "Now pulling the beads towards the tube side\n",
      "Pulling time is 1.5 minutes\n",
      "Started  18:51:25\n",
      "Beads pulled to the side  18:52:57\n",
      "Now moving the eluate to the results tubes. Started  18:52:57\n",
      "Eluate transferred to the new tube  18:53:54\n",
      "Purification finished  18:53:54\n",
      "Test finished.\n"
     ]
    }
   ],
   "source": [
    "print(\"Testing entire 2-step purification function\")\n",
    "settings = ponec.loadSettings('samplesheet_2stages.csv')\n",
    "ber = ponec.bl.robot()\n",
    "ber.home()\n",
    "\n",
    "# initializing samples, so I can fill them with initial liquid\n",
    "samples_list = ponec.initSamples(ber, settings)\n",
    "for sample in samples_list:   # For the test, sample starts with zero volume\n",
    "    sample.setVolume(0)\n",
    "beads, waste, water, EtOH80pct = ponec.initReagents(ber, settings)\n",
    "positions_list = ponec.positionsToPurify(settings)\n",
    "\n",
    "# Refilling the tips\n",
    "#ber.tips_rack.refill()\n",
    "\n",
    "# Adding the initial liquid\n",
    "ber.pickUpNextTip()\n",
    "ber.move(z=50)\n",
    "for sample in samples_list:\n",
    "    ber.transferLiquid(water, sample, 30)\n",
    "ber.move(z=50)\n",
    "ber.dumpTipToWaste()\n",
    "ber.move(z=50)\n",
    "\n",
    "# Performing actual test\n",
    "ponec.purifyTwoCutoffs(ber, settings)\n",
    "\n",
    "print(\"Test finished.\")"
   ]
  },
  {
   "cell_type": "code",
   "execution_count": 4,
   "metadata": {},
   "outputs": [],
   "source": [
    "ber.powerStepperOff('A') # to prevent unnecessary heating\n",
    "\n",
    "ber.close()"
   ]
  },
  {
   "cell_type": "code",
   "execution_count": 9,
   "metadata": {},
   "outputs": [
    {
     "data": {
      "text/plain": [
       "{'magnets_away_angle': 5.2,\n",
       " 'magnets_near_tube_angle': 11.2,\n",
       " 'stair_finding_step_list': [1, 0.2],\n",
       " 'stair_finding_z_increment': 0.1,\n",
       " 'stair_finding_z_retract_after_trigger': -1,\n",
       " 'stair_finding_z_max_travel': 3,\n",
       " 'stair_finding_z_load_threshold': 500,\n",
       " 'z_max': 180,\n",
       " 'x_max': 189,\n",
       " 'y_max': 322,\n",
       " 'added_tip_length': 41.6,\n",
       " 'volume_to_position_slope': 0.12353871734335235,\n",
       " 'volume_to_position_intercept': 0.34573859874557084,\n",
       " 'pipetting_delay': 0.2,\n",
       " 'DNAsize_to_Vbeads': {'a': 0.499325349, 'b': -9.91043764, 'c': 25758.5836},\n",
       " 'tip_drop_servo_up_angle': 2.5,\n",
       " 'tip_drop_servo_down_angle': 7.3,\n",
       " 'speed_XY': 50000,\n",
       " 'speed_Z': 30000,\n",
       " 'speed_pipette': 2500,\n",
       " 'plunger_movement_when_dumping_tip': 35,\n",
       " 'maximum_plunger_movement_coordinate': 35,\n",
       " 'liquid_uptake_low_volume_bottom_offset': 0.2,\n",
       " 'position_to_volume_slope': 8.07539335665879,\n",
       " 'position_to_volume_intercept': -2.55498251749027}"
      ]
     },
     "execution_count": 9,
     "metadata": {},
     "output_type": "execute_result"
    }
   ],
   "source": [
    "ber.data"
   ]
  },
  {
   "cell_type": "code",
   "execution_count": 10,
   "metadata": {},
   "outputs": [],
   "source": [
    "ber.pipetteServoDown()"
   ]
  },
  {
   "cell_type": "code",
   "execution_count": 16,
   "metadata": {},
   "outputs": [],
   "source": [
    "ber.pipetteMove(20)"
   ]
  },
  {
   "cell_type": "code",
   "execution_count": 5,
   "metadata": {},
   "outputs": [],
   "source": [
    "ber.dumpTip()"
   ]
  },
  {
   "cell_type": "code",
   "execution_count": 6,
   "metadata": {},
   "outputs": [
    {
     "data": {
      "text/plain": [
       "(3, 7)"
      ]
     },
     "execution_count": 6,
     "metadata": {},
     "output_type": "execute_result"
    }
   ],
   "source": [
    "ber.pickUpNextTip()"
   ]
  },
  {
   "cell_type": "code",
   "execution_count": 7,
   "metadata": {},
   "outputs": [],
   "source": [
    "ber.move(z=50)"
   ]
  },
  {
   "cell_type": "code",
   "execution_count": 8,
   "metadata": {},
   "outputs": [],
   "source": [
    "ber.dumpTipToWaste()"
   ]
  },
  {
   "cell_type": "code",
   "execution_count": null,
   "metadata": {},
   "outputs": [],
   "source": []
  }
 ],
 "metadata": {
  "kernelspec": {
   "display_name": "Python 3",
   "language": "python",
   "name": "python3"
  },
  "language_info": {
   "codemirror_mode": {
    "name": "ipython",
    "version": 3
   },
   "file_extension": ".py",
   "mimetype": "text/x-python",
   "name": "python",
   "nbconvert_exporter": "python",
   "pygments_lexer": "ipython3",
   "version": "3.7.4"
  },
  "toc": {
   "base_numbering": 1,
   "nav_menu": {
    "height": "139px",
    "width": "290px"
   },
   "number_sections": true,
   "sideBar": true,
   "skip_h1_title": false,
   "title_cell": "Table of Contents",
   "title_sidebar": "Contents",
   "toc_cell": false,
   "toc_position": {},
   "toc_section_display": true,
   "toc_window_display": true
  }
 },
 "nbformat": 4,
 "nbformat_minor": 2
}
