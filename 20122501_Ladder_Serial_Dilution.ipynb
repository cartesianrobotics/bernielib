{
 "cells": [
  {
   "cell_type": "code",
   "execution_count": 2,
   "metadata": {},
   "outputs": [
    {
     "data": {
      "text/plain": [
       "['COM7', 'COM18', 'COM20']"
      ]
     },
     "execution_count": 2,
     "metadata": {},
     "output_type": "execute_result"
    }
   ],
   "source": [
    "import time\n",
    "import pandas as pd\n",
    "from datetime import datetime\n",
    "import threading\n",
    "\n",
    "import bernielib as bl\n",
    "\n",
    "bl.listSerialPorts()"
   ]
  },
  {
   "cell_type": "code",
   "execution_count": 3,
   "metadata": {},
   "outputs": [],
   "source": [
    "ber = bl.robot(cartesian_port_name='COM18', pipette_port_name='COM7', misc_port_name='COM20')"
   ]
  },
  {
   "cell_type": "code",
   "execution_count": 4,
   "metadata": {},
   "outputs": [],
   "source": [
    "ber.robotHome()\n",
    "ber.pipetteHome()"
   ]
  },
  {
   "cell_type": "markdown",
   "metadata": {},
   "source": [
    "# Serially dilute ladder"
   ]
  },
  {
   "cell_type": "code",
   "execution_count": 7,
   "metadata": {},
   "outputs": [],
   "source": [
    "dna_init = bl.createSample('eppendorf', 'dna_init', ber.samples_rack, 1, 0, 180)\n",
    "dna_1 = bl.createSample('eppendorf', 'dna_1', ber.samples_rack, 1, 1, 0)\n",
    "dna_2 = bl.createSample('eppendorf', 'dna_2', ber.samples_rack, 1, 2, 0)\n",
    "dna_3 = bl.createSample('eppendorf', 'dna_3', ber.samples_rack, 1, 3, 0)\n",
    "dna_4 = bl.createSample('eppendorf', 'dna_4', ber.samples_rack, 1, 4, 0)\n",
    "dna_5 = bl.createSample('eppendorf', 'dna_5', ber.samples_rack, 1, 5, 0)\n",
    "dna_6 = bl.createSample('eppendorf', 'dna_6', ber.samples_rack, 1, 6, 0)\n",
    "water = bl.createSample('50ml', 'water', ber.reagents_rack, 1, 1, 45000)"
   ]
  },
  {
   "cell_type": "code",
   "execution_count": 8,
   "metadata": {},
   "outputs": [],
   "source": [
    "script = pd.read_csv('mixing_pattern_eppendorf.csv')"
   ]
  },
  {
   "cell_type": "code",
   "execution_count": 9,
   "metadata": {},
   "outputs": [],
   "source": [
    "ber.pickUpNextTip()\n",
    "ber.move(z=50)"
   ]
  },
  {
   "cell_type": "code",
   "execution_count": 10,
   "metadata": {},
   "outputs": [],
   "source": [
    "ber.transferLiquid(water, dna_1, 80)\n",
    "ber.transferLiquid(water, dna_2, 80)\n",
    "ber.transferLiquid(water, dna_3, 80)\n",
    "ber.transferLiquid(water, dna_4, 80)\n",
    "ber.transferLiquid(water, dna_5, 80)\n",
    "ber.transferLiquid(water, dna_6, 80)"
   ]
  },
  {
   "cell_type": "code",
   "execution_count": 11,
   "metadata": {},
   "outputs": [],
   "source": [
    "ber.transferLiquid(dna_init, dna_1, 20, v_immerse_dispense=1600)\n",
    "ber.mixByScript(dna_1, script)\n",
    "ber.move(z=50)\n",
    "\n",
    "ber.transferLiquid(dna_1, dna_2, 20, v_immerse_dispense=1600)\n",
    "ber.mixByScript(dna_2, script)\n",
    "ber.move(z=50)\n",
    "\n",
    "ber.transferLiquid(dna_2, dna_3, 20, v_immerse_dispense=1600)\n",
    "ber.mixByScript(dna_3, script)\n",
    "ber.move(z=50)\n",
    "\n",
    "ber.transferLiquid(dna_3, dna_4, 20, v_immerse_dispense=1600)\n",
    "ber.mixByScript(dna_4, script)\n",
    "ber.move(z=50)\n",
    "\n",
    "ber.transferLiquid(dna_4, dna_5, 20, v_immerse_dispense=1600)\n",
    "ber.mixByScript(dna_5, script)\n",
    "ber.move(z=50)\n",
    "\n",
    "ber.transferLiquid(dna_5, dna_6, 20, v_immerse_dispense=1600)\n",
    "ber.mixByScript(dna_6, script)\n",
    "ber.move(z=50)"
   ]
  },
  {
   "cell_type": "code",
   "execution_count": 12,
   "metadata": {},
   "outputs": [],
   "source": [
    "ber.dumpTipToWaste()"
   ]
  },
  {
   "cell_type": "markdown",
   "metadata": {},
   "source": [
    "# Calculating concentrations"
   ]
  },
  {
   "cell_type": "markdown",
   "metadata": {},
   "source": [
    "Initial stock:\n",
    "V_water = 190 uL\n",
    "V_DNA500 = 10 uL\n",
    "C_DNA500 = 500 ng/uL\n",
    "C_init = C_DNA500 * V_DNA500 / V_init = "
   ]
  },
  {
   "cell_type": "code",
   "execution_count": 2,
   "metadata": {},
   "outputs": [
    {
     "data": {
      "text/plain": [
       "25.0"
      ]
     },
     "execution_count": 2,
     "metadata": {},
     "output_type": "execute_result"
    }
   ],
   "source": [
    "500 * 10 / 200"
   ]
  },
  {
   "cell_type": "markdown",
   "metadata": {},
   "source": [
    "ng/uL"
   ]
  },
  {
   "cell_type": "markdown",
   "metadata": {},
   "source": [
    "1st dilution:\n",
    "\n",
    "C_1 = C_init * V_init / V_1"
   ]
  },
  {
   "cell_type": "code",
   "execution_count": 3,
   "metadata": {},
   "outputs": [
    {
     "data": {
      "text/plain": [
       "5.0"
      ]
     },
     "execution_count": 3,
     "metadata": {},
     "output_type": "execute_result"
    }
   ],
   "source": [
    "25 * 20 / 100"
   ]
  },
  {
   "cell_type": "markdown",
   "metadata": {},
   "source": [
    "Major overscale; 11500 RFU max"
   ]
  },
  {
   "cell_type": "markdown",
   "metadata": {},
   "source": [
    "2nd dilution:"
   ]
  },
  {
   "cell_type": "code",
   "execution_count": 5,
   "metadata": {},
   "outputs": [
    {
     "data": {
      "text/plain": [
       "1.0"
      ]
     },
     "execution_count": 5,
     "metadata": {},
     "output_type": "execute_result"
    }
   ],
   "source": [
    "5 * 20 / 100"
   ]
  },
  {
   "cell_type": "markdown",
   "metadata": {},
   "source": [
    "Normal or minor overscale, 7000 RFU max"
   ]
  },
  {
   "cell_type": "markdown",
   "metadata": {},
   "source": [
    "3rd dilution:"
   ]
  },
  {
   "cell_type": "code",
   "execution_count": 6,
   "metadata": {},
   "outputs": [
    {
     "data": {
      "text/plain": [
       "0.2"
      ]
     },
     "execution_count": 6,
     "metadata": {},
     "output_type": "execute_result"
    }
   ],
   "source": [
    "1 * 20 / 100"
   ]
  },
  {
   "cell_type": "markdown",
   "metadata": {},
   "source": [
    "Good, 2750 RFU max.\n",
    "\n",
    "I will use this concentration (0.2 ng/uL) for further testing"
   ]
  },
  {
   "cell_type": "markdown",
   "metadata": {},
   "source": [
    "4th dilution:"
   ]
  },
  {
   "cell_type": "code",
   "execution_count": 7,
   "metadata": {},
   "outputs": [
    {
     "data": {
      "text/plain": [
       "0.04"
      ]
     },
     "execution_count": 7,
     "metadata": {},
     "output_type": "execute_result"
    }
   ],
   "source": [
    "0.2 * 20 / 100"
   ]
  },
  {
   "cell_type": "markdown",
   "metadata": {},
   "source": [
    "Good, 160 RFU max. Signal is as strong as bioanalyzer markers"
   ]
  },
  {
   "cell_type": "markdown",
   "metadata": {},
   "source": [
    "5th dilution:"
   ]
  },
  {
   "cell_type": "code",
   "execution_count": 8,
   "metadata": {},
   "outputs": [
    {
     "data": {
      "text/plain": [
       "0.008"
      ]
     },
     "execution_count": 8,
     "metadata": {},
     "output_type": "execute_result"
    }
   ],
   "source": [
    "0.04 * 20 / 100"
   ]
  },
  {
   "cell_type": "markdown",
   "metadata": {},
   "source": [
    "Undetectable"
   ]
  },
  {
   "cell_type": "markdown",
   "metadata": {},
   "source": [
    "6th dilution:"
   ]
  },
  {
   "cell_type": "code",
   "execution_count": 9,
   "metadata": {},
   "outputs": [
    {
     "data": {
      "text/plain": [
       "0.0016"
      ]
     },
     "execution_count": 9,
     "metadata": {},
     "output_type": "execute_result"
    }
   ],
   "source": [
    "0.008 * 20 / 100"
   ]
  },
  {
   "cell_type": "markdown",
   "metadata": {},
   "source": [
    "Undetectable"
   ]
  },
  {
   "cell_type": "code",
   "execution_count": null,
   "metadata": {},
   "outputs": [],
   "source": []
  }
 ],
 "metadata": {
  "kernelspec": {
   "display_name": "Python 3",
   "language": "python",
   "name": "python3"
  },
  "language_info": {
   "codemirror_mode": {
    "name": "ipython",
    "version": 3
   },
   "file_extension": ".py",
   "mimetype": "text/x-python",
   "name": "python",
   "nbconvert_exporter": "python",
   "pygments_lexer": "ipython3",
   "version": "3.7.4"
  }
 },
 "nbformat": 4,
 "nbformat_minor": 2
}
